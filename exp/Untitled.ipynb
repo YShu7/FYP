{
 "cells": [
  {
   "cell_type": "code",
   "execution_count": 1,
   "metadata": {},
   "outputs": [],
   "source": [
    "import sqlite3\n",
    "import pandas as pd\n",
    "import collections\n",
    "import networkx as nx\n",
    "import json"
   ]
  },
  {
   "cell_type": "code",
   "execution_count": 2,
   "metadata": {},
   "outputs": [],
   "source": [
    "cnx = sqlite3.connect('../corona-sniffer/backend/data/database_3000.db')\n",
    "df_agents = pd.read_sql_query(\"SELECT * FROM agents\", cnx)\n",
    "df_walker_contacts = pd.read_sql_query(\"SELECT * FROM walkers INNER JOIN contacts\", cnx)"
   ]
  },
  {
   "cell_type": "code",
   "execution_count": 3,
   "metadata": {},
   "outputs": [],
   "source": [
    "def trans_to_list(df_walker_contacts):\n",
    "    real_ids = set(df_walker_contacts['real_id'].tolist())\n",
    "    agent_id_tracks = []\n",
    "    for real_id in real_ids:\n",
    "        agent_id_track = df_walker_contacts.loc[df_walker_contacts['real_id'] == real_id].sort_values('time')['agent_id'].tolist()\n",
    "        agent_id_tracks.append(agent_id_track)\n",
    "    return agent_id_tracks"
   ]
  },
  {
   "cell_type": "code",
   "execution_count": 4,
   "metadata": {},
   "outputs": [],
   "source": [
    "def get_agent_next_prob(agent_id_tracks, df_agents):\n",
    "    aa_counts = collections.defaultdict(lambda: collections.Counter())\n",
    "    agent_counts = collections.Counter()\n",
    "    agents = set(df_agents['id'].tolist())\n",
    "\n",
    "    for track in agent_id_tracks:\n",
    "        pre_agent = track[0]\n",
    "        agent_counts[pre_agent] += 1\n",
    "        \n",
    "        for agent in track[1:]:\n",
    "            aa_counts[pre_agent][agent] += 1\n",
    "            agent_counts[agent] += 1\n",
    "            pre_agent = agent\n",
    "\n",
    "#     V = sum(agent_counts.values())\n",
    "#     for prev_agent in agents:\n",
    "#         T = len(aa_counts[prev_agent].keys())\n",
    "#         Z = V - T\n",
    "#         agent_counts[prev_agent] += T\n",
    "#         for agent in agents:\n",
    "#             if agent not in aa_counts[prev_agent]:\n",
    "#                 aa_counts[prev_agent][agent] = T / Z\n",
    "\n",
    "    file = open('model.txt', 'w')\n",
    "    file.write(json.dumps({\n",
    "        'aa_counts': aa_counts,\n",
    "        'agent_counts': agent_counts\n",
    "    }, indent=2, sort_keys=True))\n",
    "    file.close()\n",
    "    \n",
    "    return aa_counts, agent_counts"
   ]
  },
  {
   "cell_type": "code",
   "execution_count": 5,
   "metadata": {},
   "outputs": [],
   "source": [
    "agent_id_tracks = trans_to_list(df_walker_contacts)"
   ]
  },
  {
   "cell_type": "code",
   "execution_count": 6,
   "metadata": {},
   "outputs": [],
   "source": [
    "aa_counts, agent_counts = get_agent_next_prob(agent_id_tracks, df_agents)"
   ]
  },
  {
   "cell_type": "code",
   "execution_count": 8,
   "metadata": {},
   "outputs": [],
   "source": [
    "cnx = sqlite3.connect('../corona-sniffer/backend/data/database_3000_test.db')\n",
    "\n",
    "df_walks2 = pd.read_sql_query(\"SELECT * FROM walks JOIN walkers ON walkers.id = walks.walker_id\", cnx)\n",
    "df_walkers2 = pd.read_sql_query(\"SELECT * FROM walkers\", cnx)\n",
    "df_contacts2 = pd.read_sql_query(\"SELECT * FROM contacts\", cnx)\n",
    "df_agents2 = pd.read_sql_query(\"SELECT * FROM agents\", cnx)\n"
   ]
  },
  {
   "cell_type": "code",
   "execution_count": 14,
   "metadata": {},
   "outputs": [],
   "source": [
    "def algo(df_contacts, aa_counts, agent_counts):\n",
    "    df_contacts = df_contacts.sort_values('time')\n",
    "    N = len(set(df_contacts['agent_id'].tolist()))\n",
    "\n",
    "    prev_time, prev_agent = None, None\n",
    "    visited = set()\n",
    "    groups = []\n",
    "    \n",
    "    for i, row in df_contacts.iterrows():\n",
    "        prev_agent = row['agent_id']\n",
    "        x, y = json.loads(row['json'])['agentPos']['x'], json.loads(row['json'])['agentPos']['y']\n",
    "        walker_id = row['walker_id']\n",
    "        if row['walker_id'] in visited:\n",
    "            continue\n",
    "            \n",
    "        def getDist(col):\n",
    "            return pd.Series(\n",
    "                [(float(json.loads(c)['agentPos']['x']) - x) ** 2 + \n",
    "                 (float(json.loads(c)['agentPos']['x']) - y) ** 2 for c in col])\n",
    "\n",
    "        df_considered = df_contacts.loc[(df_contacts['walker_id'] != walker_id) & df_contacts['time'] == row['time']]\n",
    "\n",
    "        N = 3 #df_considered.shape[0]\n",
    "        prob = [[None] * (N+1) for _ in range(N+1)]\n",
    "        bp = [[None] * (N+1) for _ in range(N+1)]\n",
    "\n",
    "        for t in range(1, N+1):\n",
    "            s = 0\n",
    "            for _, row in df_considered.iterrows():\n",
    "                time, tag, walker_id = row['time'], row['agent_id'], row['walker_id']\n",
    "                curr_max = -float('inf')\n",
    "                curr_max_idx = 0\n",
    "                \n",
    "                prev_s = 0\n",
    "                for _, prev_row in df_contacts.loc[(df_contacts['walker_id'] != walker_id) & df_contacts['time'] == row['time'] + 60].iterrows():\n",
    "                    prev_time, prev_tag, prev_walker_id = row['time'], row['agent_id'], row['walker_id']\n",
    "                    if int(time) - int(prev_time) > 120:\n",
    "                        continue\n",
    "                    if prev_tag == tag:\n",
    "                        curr_max = 1\n",
    "                        curr_max_idx = prev_s\n",
    "                        break\n",
    "                    tmp = (prob[t - 1][prev_s] if prob[t - 1][prev_s] else 0) \\\n",
    "                        * ((aa_counts[prev_tag][tag] / agent_counts[prev_tag]) if agent_counts[prev_tag] != 0 else 1e-10)\n",
    "                    if tmp > curr_max:\n",
    "                        curr_max = tmp\n",
    "                        curr_max_idx = prev_s\n",
    "                    prev_s += 1\n",
    "                prob[t][s] = curr_max\n",
    "                bp[t][s] = curr_max_idx\n",
    "                s += 1\n",
    "\n",
    "        prev_bp = curr_max_idx\n",
    "        group = set()\n",
    "        for i, bp in enumerate(reversed(bp)):\n",
    "            idx = N - i - 1\n",
    "#             print(prev_bp)\n",
    "            group.add(df_considered.iloc[prev_bp]['walker_id'])\n",
    "            visited.add(df_considered.iloc[prev_bp]['walker_id'])\n",
    "            prev_bp = bp[prev_bp]\n",
    "        groups.append(group)\n",
    "#         print(groups)\n",
    "        # agent_max_prob = max(prob[prev_agent].items(), key=operator.itemgetter(1))[0]\n",
    "        # prev_time, prev_agent = row['time'], row['agent_id']\n",
    "\n",
    "    return groups"
   ]
  },
  {
   "cell_type": "code",
   "execution_count": 15,
   "metadata": {},
   "outputs": [],
   "source": [
    "def df_algo(df_contacts, aa_counts, agent_counts):\n",
    "    df_contacts = df_contacts.sort_values('time')\n",
    "    N = len(set(df_contacts['agent_id'].tolist()))\n",
    "\n",
    "    prev_time, prev_agent = None, None\n",
    "    visited = set()\n",
    "    groups = []\n",
    "    \n",
    "    for i, row in df_contacts.iloc[:10].iterrows():\n",
    "        prev_agent = row['agent_id']\n",
    "        x, y = json.loads(row['json'])['agentPos']['x'], json.loads(row['json'])['agentPos']['y']\n",
    "        if row['walker_id'] in visited:\n",
    "            continue\n",
    "            \n",
    "        def getDist(col):\n",
    "            return pd.Series(\n",
    "                [(float(json.loads(c)['agentPos']['x']) - x) ** 2 + \n",
    "                 (float(json.loads(c)['agentPos']['x']) - y) ** 2 for c in col])\n",
    "\n",
    "        N = 10 # df_considered.shape[0]\n",
    "        prob = [[None] * (N+1) for _ in range(N+1)]\n",
    "        bp = [[None] * (N+1) for _ in range(N+1)]\n",
    "\n",
    "        prev_time, prev_tag, walker_id = row['time'], row['agent_id'], row['walker_id']\n",
    "        for t in range(1, N+1):\n",
    "#             df_considered = df_contacts.iloc[(t+1) * 10:].sort_values(by='json', key=getDist)[:10]\n",
    "            df_considered = df_contacts.loc[(df_contacts['walker_id'] != walker_id) & df_contacts['time'] == row['time']]\n",
    "\n",
    "            s = 0\n",
    "            prev_s = 0\n",
    "            for _, row in df_considered.iterrows():\n",
    "                time, tag, walker_id = row['time'], row['agent_id'], row['walker_id']\n",
    "                curr_max = -float('inf')\n",
    "                curr_max_idx = 0\n",
    "                \n",
    "                if prev_tag == tag:\n",
    "                    curr_max = 1\n",
    "                    curr_max_idx = prev_s\n",
    "                    break\n",
    "                tmp = (prob[t - 1][prev_s] if prob[t - 1][prev_s] else 0) \\\n",
    "                    * ((aa_counts[prev_tag][tag] / agent_counts[prev_tag]) if agent_counts[prev_tag] != 0 else 1e-10)\n",
    "                if tmp > curr_max:\n",
    "                    curr_max = tmp\n",
    "                    curr_max_idx = prev_s\n",
    "                prev_s += 1\n",
    "                prob[t][s] = curr_max\n",
    "                bp[t][s] = curr_max_idx\n",
    "                s += 1\n",
    "\n",
    "        prev_bp = curr_max_idx\n",
    "        group = set()\n",
    "        for i, bp in enumerate(reversed(bp)):\n",
    "            idx = N - i - 1\n",
    "#             print(prev_bp)\n",
    "            group.add(df_considered.iloc[prev_bp]['walker_id'])\n",
    "            visited.add(df_considered.iloc[prev_bp]['walker_id'])\n",
    "            prev_bp = bp[prev_bp]\n",
    "        groups.append(group)\n",
    "#         print(groups)\n",
    "        # agent_max_prob = max(prob[prev_agent].items(), key=operator.itemgetter(1))[0]\n",
    "        # prev_time, prev_agent = row['time'], row['agent_id']\n",
    "\n",
    "    return groups"
   ]
  },
  {
   "cell_type": "code",
   "execution_count": 16,
   "metadata": {},
   "outputs": [
    {
     "name": "stderr",
     "output_type": "stream",
     "text": [
      "/Library/Frameworks/Python.framework/Versions/3.7/lib/python3.7/site-packages/pandas/core/computation/expressions.py:68: FutureWarning: elementwise comparison failed; returning scalar instead, but in the future will perform elementwise comparison\n",
      "  return op(a, b)\n"
     ]
    },
    {
     "ename": "UnboundLocalError",
     "evalue": "local variable 'curr_max_idx' referenced before assignment",
     "output_type": "error",
     "traceback": [
      "\u001b[0;31m---------------------------------------------------------------------------\u001b[0m",
      "\u001b[0;31mUnboundLocalError\u001b[0m                         Traceback (most recent call last)",
      "\u001b[0;32m<ipython-input-16-71e423ebbf50>\u001b[0m in \u001b[0;36m<module>\u001b[0;34m\u001b[0m\n\u001b[0;32m----> 1\u001b[0;31m \u001b[0mgroups\u001b[0m \u001b[0;34m=\u001b[0m \u001b[0malgo\u001b[0m\u001b[0;34m(\u001b[0m\u001b[0mdf_contacts2\u001b[0m\u001b[0;34m,\u001b[0m \u001b[0maa_counts\u001b[0m\u001b[0;34m,\u001b[0m \u001b[0magent_counts\u001b[0m\u001b[0;34m)\u001b[0m\u001b[0;34m\u001b[0m\u001b[0m\n\u001b[0m",
      "\u001b[0;32m<ipython-input-14-bd73f21d4255>\u001b[0m in \u001b[0;36malgo\u001b[0;34m(df_contacts, aa_counts, agent_counts)\u001b[0m\n\u001b[1;32m     51\u001b[0m                 \u001b[0ms\u001b[0m \u001b[0;34m+=\u001b[0m \u001b[0;36m1\u001b[0m\u001b[0;34m\u001b[0m\u001b[0m\n\u001b[1;32m     52\u001b[0m \u001b[0;34m\u001b[0m\u001b[0m\n\u001b[0;32m---> 53\u001b[0;31m         \u001b[0mprev_bp\u001b[0m \u001b[0;34m=\u001b[0m \u001b[0mcurr_max_idx\u001b[0m\u001b[0;34m\u001b[0m\u001b[0m\n\u001b[0m\u001b[1;32m     54\u001b[0m         \u001b[0mgroup\u001b[0m \u001b[0;34m=\u001b[0m \u001b[0mset\u001b[0m\u001b[0;34m(\u001b[0m\u001b[0;34m)\u001b[0m\u001b[0;34m\u001b[0m\u001b[0m\n\u001b[1;32m     55\u001b[0m         \u001b[0;32mfor\u001b[0m \u001b[0mi\u001b[0m\u001b[0;34m,\u001b[0m \u001b[0mbp\u001b[0m \u001b[0;32min\u001b[0m \u001b[0menumerate\u001b[0m\u001b[0;34m(\u001b[0m\u001b[0mreversed\u001b[0m\u001b[0;34m(\u001b[0m\u001b[0mbp\u001b[0m\u001b[0;34m)\u001b[0m\u001b[0;34m)\u001b[0m\u001b[0;34m:\u001b[0m\u001b[0;34m\u001b[0m\u001b[0m\n",
      "\u001b[0;31mUnboundLocalError\u001b[0m: local variable 'curr_max_idx' referenced before assignment"
     ]
    }
   ],
   "source": [
    "groups = algo(df_contacts2, aa_counts, agent_counts)"
   ]
  },
  {
   "cell_type": "code",
   "execution_count": 103,
   "metadata": {},
   "outputs": [
    {
     "data": {
      "text/plain": [
       "[{'3566e29b6eb932217994'},\n",
       " {'2d11dcbeb5b27c552f59'},\n",
       " {'aa0a6997d5025aa5c718'},\n",
       " {'5841fb441de4fb9a0751'},\n",
       " {'3566e29b6eb932217994'},\n",
       " {'e17735259a24861f9a96'},\n",
       " {'7671ae501cd1b8efb7ce'},\n",
       " {'f7a7c53fcfb1bed5b604'},\n",
       " {'ba9958bf70055161b376'},\n",
       " {'5841fb441de4fb9a0751'}]"
      ]
     },
     "execution_count": 103,
     "metadata": {},
     "output_type": "execute_result"
    }
   ],
   "source": [
    "groups"
   ]
  },
  {
   "cell_type": "code",
   "execution_count": 104,
   "metadata": {},
   "outputs": [],
   "source": [
    "walker_id_to_real_dict = {}\n",
    "walker_id_graph = nx.Graph([(i, j) for group in groups for i, j in zip(list(group)[:-1], list(group)[1:])])\n",
    "walker_id_cc = sorted(nx.connected_components(walker_id_graph), key=len, reverse=True)"
   ]
  },
  {
   "cell_type": "code",
   "execution_count": 105,
   "metadata": {},
   "outputs": [
    {
     "data": {
      "text/plain": [
       "[]"
      ]
     },
     "execution_count": 105,
     "metadata": {},
     "output_type": "execute_result"
    }
   ],
   "source": [
    "walker_id_cc"
   ]
  },
  {
   "cell_type": "code",
   "execution_count": 98,
   "metadata": {},
   "outputs": [],
   "source": [
    "df_walks_connected = pd.DataFrame(df_walks2)\n",
    "for i, component in enumerate(groups):\n",
    "    new_id = i\n",
    "    for c in component:\n",
    "        df_walks_connected = df_walks_connected.replace(c, new_id)"
   ]
  },
  {
   "cell_type": "code",
   "execution_count": 99,
   "metadata": {},
   "outputs": [],
   "source": [
    "real_ids = set(df_walks_connected['real_id'].tolist())\n",
    "correct, total, tried = 0, 0, 0\n",
    "for real_id in real_ids:\n",
    "    id_list = df_walks_connected.loc[df_walks_connected['real_id'] == real_id].sort_values('time')['walker_id'].tolist()\n",
    "    old_id_list = df_walks2.loc[df_walks2['real_id'] == real_id].sort_values('time')['walker_id'].tolist()\n",
    "\n",
    "    tried += sum([0 if id == old_id else 1 for (id, old_id) in zip(id_list, old_id_list)])\n",
    "    \n",
    "    dic = collections.Counter(id_list)\n",
    "    correct += max(dic.values())\n",
    "    total += len(id_list)"
   ]
  },
  {
   "cell_type": "code",
   "execution_count": 100,
   "metadata": {},
   "outputs": [
    {
     "name": "stdout",
     "output_type": "stream",
     "text": [
      "correct/tried: 47/140 33.57142857142857%\n",
      "correct/total: 47/275 17.09090909090909%\n",
      "baseline: 20/275 7.2727272727272725%\n"
     ]
    }
   ],
   "source": [
    "cnx.execute('DROP TABLE IF EXISTS walks_attached')\n",
    "df_walks_connected.to_sql('walks_attached', con=cnx)\n",
    "\n",
    "print('correct/tried: {}/{} {}%'.format(correct, tried, correct/tried*100))\n",
    "print('correct/total: {}/{} {}%'.format(correct, total, correct/total*100))\n",
    "print('baseline: {}/{} {}%'.format(len(real_ids) * 2, total, len(real_ids) * 2 / total * 100))"
   ]
  },
  {
   "cell_type": "code",
   "execution_count": null,
   "metadata": {},
   "outputs": [],
   "source": []
  },
  {
   "cell_type": "code",
   "execution_count": null,
   "metadata": {},
   "outputs": [],
   "source": []
  }
 ],
 "metadata": {
  "kernelspec": {
   "display_name": "Python 3",
   "language": "python",
   "name": "python3"
  },
  "language_info": {
   "codemirror_mode": {
    "name": "ipython",
    "version": 3
   },
   "file_extension": ".py",
   "mimetype": "text/x-python",
   "name": "python",
   "nbconvert_exporter": "python",
   "pygments_lexer": "ipython3",
   "version": "3.7.0"
  }
 },
 "nbformat": 4,
 "nbformat_minor": 4
}
