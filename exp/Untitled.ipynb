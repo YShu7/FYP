{
 "cells": [
  {
   "cell_type": "code",
   "execution_count": 2,
   "metadata": {},
   "outputs": [],
   "source": [
    "import sqlite3\n",
    "import pandas as pd\n",
    "import collections\n",
    "import networkx as nx\n",
    "import json"
   ]
  },
  {
   "cell_type": "code",
   "execution_count": 3,
   "metadata": {},
   "outputs": [],
   "source": [
    "cnx = sqlite3.connect('../corona-sniffer/backend/data/database_3000.db')\n",
    "df_agents = pd.read_sql_query(\"SELECT * FROM agents\", cnx)\n",
    "df_walker_contacts = pd.read_sql_query(\"SELECT * FROM walkers INNER JOIN contacts\", cnx)"
   ]
  },
  {
   "cell_type": "code",
   "execution_count": 4,
   "metadata": {},
   "outputs": [
    {
     "data": {
      "text/html": [
       "<div>\n",
       "<style scoped>\n",
       "    .dataframe tbody tr th:only-of-type {\n",
       "        vertical-align: middle;\n",
       "    }\n",
       "\n",
       "    .dataframe tbody tr th {\n",
       "        vertical-align: top;\n",
       "    }\n",
       "\n",
       "    .dataframe thead th {\n",
       "        text-align: right;\n",
       "    }\n",
       "</style>\n",
       "<table border=\"1\" class=\"dataframe\">\n",
       "  <thead>\n",
       "    <tr style=\"text-align: right;\">\n",
       "      <th></th>\n",
       "      <th>id</th>\n",
       "      <th>id_time</th>\n",
       "      <th>real_id</th>\n",
       "      <th>resolved</th>\n",
       "      <th>rolling_id</th>\n",
       "      <th>agent_id</th>\n",
       "      <th>walker_id</th>\n",
       "      <th>time</th>\n",
       "      <th>json</th>\n",
       "      <th>resolved_id</th>\n",
       "    </tr>\n",
       "  </thead>\n",
       "  <tbody>\n",
       "    <tr>\n",
       "      <th>0</th>\n",
       "      <td>nQmnhAlBZSbDgBsUAdDo</td>\n",
       "      <td>1212991838</td>\n",
       "      <td>enyenewl</td>\n",
       "      <td>0</td>\n",
       "      <td>JEAzHolhlebWQxEvqxoy</td>\n",
       "      <td>4EVEN135</td>\n",
       "      <td>nQmnhAlBZSbDgBsUAdDo</td>\n",
       "      <td>1212991838</td>\n",
       "      <td>{\"distance\":494.90523545398224,\"agentPos\":{\"x\"...</td>\n",
       "      <td>None</td>\n",
       "    </tr>\n",
       "    <tr>\n",
       "      <th>1</th>\n",
       "      <td>nQmnhAlBZSbDgBsUAdDo</td>\n",
       "      <td>1212991838</td>\n",
       "      <td>enyenewl</td>\n",
       "      <td>0</td>\n",
       "      <td>JEAzHolhlebWQxEvqxoy</td>\n",
       "      <td>4EVEN136</td>\n",
       "      <td>nQmnhAlBZSbDgBsUAdDo</td>\n",
       "      <td>1212991838</td>\n",
       "      <td>{\"distance\":386.84399463059526,\"agentPos\":{\"x\"...</td>\n",
       "      <td>None</td>\n",
       "    </tr>\n",
       "    <tr>\n",
       "      <th>2</th>\n",
       "      <td>nQmnhAlBZSbDgBsUAdDo</td>\n",
       "      <td>1212991838</td>\n",
       "      <td>enyenewl</td>\n",
       "      <td>0</td>\n",
       "      <td>JEAzHolhlebWQxEvqxoy</td>\n",
       "      <td>5EVEN165</td>\n",
       "      <td>nQmnhAlBZSbDgBsUAdDo</td>\n",
       "      <td>1212991838</td>\n",
       "      <td>{\"distance\":388.9176605514922,\"agentPos\":{\"x\":...</td>\n",
       "      <td>None</td>\n",
       "    </tr>\n",
       "    <tr>\n",
       "      <th>3</th>\n",
       "      <td>nQmnhAlBZSbDgBsUAdDo</td>\n",
       "      <td>1212991838</td>\n",
       "      <td>enyenewl</td>\n",
       "      <td>0</td>\n",
       "      <td>JEAzHolhlebWQxEvqxoy</td>\n",
       "      <td>5EVEN166</td>\n",
       "      <td>nQmnhAlBZSbDgBsUAdDo</td>\n",
       "      <td>1212991838</td>\n",
       "      <td>{\"distance\":236.58831499218246,\"agentPos\":{\"x\"...</td>\n",
       "      <td>None</td>\n",
       "    </tr>\n",
       "    <tr>\n",
       "      <th>4</th>\n",
       "      <td>nQmnhAlBZSbDgBsUAdDo</td>\n",
       "      <td>1212991838</td>\n",
       "      <td>enyenewl</td>\n",
       "      <td>0</td>\n",
       "      <td>RaNcQLyAzbSwyrgEsyYA</td>\n",
       "      <td>3EVEN105</td>\n",
       "      <td>nQmnhAlBZSbDgBsUAdDo</td>\n",
       "      <td>1212991671</td>\n",
       "      <td>{\"distance\":265.8734230195701,\"agentPos\":{\"x\":...</td>\n",
       "      <td>None</td>\n",
       "    </tr>\n",
       "  </tbody>\n",
       "</table>\n",
       "</div>"
      ],
      "text/plain": [
       "                     id     id_time   real_id  resolved            rolling_id  \\\n",
       "0  nQmnhAlBZSbDgBsUAdDo  1212991838  enyenewl         0  JEAzHolhlebWQxEvqxoy   \n",
       "1  nQmnhAlBZSbDgBsUAdDo  1212991838  enyenewl         0  JEAzHolhlebWQxEvqxoy   \n",
       "2  nQmnhAlBZSbDgBsUAdDo  1212991838  enyenewl         0  JEAzHolhlebWQxEvqxoy   \n",
       "3  nQmnhAlBZSbDgBsUAdDo  1212991838  enyenewl         0  JEAzHolhlebWQxEvqxoy   \n",
       "4  nQmnhAlBZSbDgBsUAdDo  1212991838  enyenewl         0  RaNcQLyAzbSwyrgEsyYA   \n",
       "\n",
       "   agent_id             walker_id        time  \\\n",
       "0  4EVEN135  nQmnhAlBZSbDgBsUAdDo  1212991838   \n",
       "1  4EVEN136  nQmnhAlBZSbDgBsUAdDo  1212991838   \n",
       "2  5EVEN165  nQmnhAlBZSbDgBsUAdDo  1212991838   \n",
       "3  5EVEN166  nQmnhAlBZSbDgBsUAdDo  1212991838   \n",
       "4  3EVEN105  nQmnhAlBZSbDgBsUAdDo  1212991671   \n",
       "\n",
       "                                                json resolved_id  \n",
       "0  {\"distance\":494.90523545398224,\"agentPos\":{\"x\"...        None  \n",
       "1  {\"distance\":386.84399463059526,\"agentPos\":{\"x\"...        None  \n",
       "2  {\"distance\":388.9176605514922,\"agentPos\":{\"x\":...        None  \n",
       "3  {\"distance\":236.58831499218246,\"agentPos\":{\"x\"...        None  \n",
       "4  {\"distance\":265.8734230195701,\"agentPos\":{\"x\":...        None  "
      ]
     },
     "execution_count": 4,
     "metadata": {},
     "output_type": "execute_result"
    }
   ],
   "source": [
    "df_walker_contacts.head()"
   ]
  },
  {
   "cell_type": "code",
   "execution_count": null,
   "metadata": {
    "pycharm": {
     "name": "#%%\n"
    }
   },
   "outputs": [],
   "source": [
    "data[\"time_idx\"] = data[\"date\"].dt.year * 12 + data[\"date\"].dt.monthdata[\"time_idx\"] -= data[\"time_idx\"].min()"
   ]
  }
 ],
 "metadata": {
  "kernelspec": {
   "display_name": "Python 3",
   "language": "python",
   "name": "python3"
  },
  "language_info": {
   "codemirror_mode": {
    "name": "ipython",
    "version": 3
   },
   "file_extension": ".py",
   "mimetype": "text/x-python",
   "name": "python",
   "nbconvert_exporter": "python",
   "pygments_lexer": "ipython3",
   "version": "3.7.0"
  },
  "pycharm": {
   "stem_cell": {
    "cell_type": "raw",
    "source": [],
    "metadata": {
     "collapsed": false
    }
   }
  }
 },
 "nbformat": 4,
 "nbformat_minor": 4
}