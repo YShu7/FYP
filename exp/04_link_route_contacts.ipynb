{
 "cells": [
  {
   "cell_type": "markdown",
   "metadata": {},
   "source": [
    "1. devices put in a 20*20 grid area\n",
    "2. devices collect (device_id, walker_id, time, distance between walker and device) info\n",
    "    - walker_id is updated every alternative time interval"
   ]
  },
  {
   "cell_type": "code",
   "execution_count": 1,
   "metadata": {},
   "outputs": [],
   "source": [
    "%load_ext autoreload\n",
    "%autoreload 2\n",
    "import sqlite3\n",
    "import pandas as pd\n",
    "import collections\n",
    "import networkx as nx\n",
    "utils = __import__('04.utils', fromlist=['object'])"
   ]
  },
  {
   "cell_type": "code",
   "execution_count": 2,
   "metadata": {},
   "outputs": [],
   "source": [
    "cnx = sqlite3.connect('../corona-sniffer/backend/data/database_3000.db')\n",
    "\n",
    "df_walks = pd.read_sql_query(\"SELECT * FROM walks\", cnx)\n",
    "df_walkers = pd.read_sql_query(\"SELECT * FROM walkers\", cnx)\n",
    "df_contacts = pd.read_sql_query(\"SELECT * FROM contacts\", cnx)"
   ]
  },
  {
   "cell_type": "code",
   "execution_count": 3,
   "metadata": {},
   "outputs": [
    {
     "data": {
      "text/html": [
       "<div>\n",
       "<style scoped>\n",
       "    .dataframe tbody tr th:only-of-type {\n",
       "        vertical-align: middle;\n",
       "    }\n",
       "\n",
       "    .dataframe tbody tr th {\n",
       "        vertical-align: top;\n",
       "    }\n",
       "\n",
       "    .dataframe thead th {\n",
       "        text-align: right;\n",
       "    }\n",
       "</style>\n",
       "<table border=\"1\" class=\"dataframe\">\n",
       "  <thead>\n",
       "    <tr style=\"text-align: right;\">\n",
       "      <th></th>\n",
       "      <th>rolling_id</th>\n",
       "      <th>agent_id</th>\n",
       "      <th>walker_id</th>\n",
       "      <th>time</th>\n",
       "      <th>json</th>\n",
       "      <th>resolved_id</th>\n",
       "    </tr>\n",
       "  </thead>\n",
       "  <tbody>\n",
       "    <tr>\n",
       "      <th>0</th>\n",
       "      <td>81228a81594df2e2fc46</td>\n",
       "      <td>0cb6755f710700140b8e*x-30*y-390</td>\n",
       "      <td>86c7d2ad3d4158cfc115</td>\n",
       "      <td>0</td>\n",
       "      <td>{\"distance\":1.9871228057338732,\"agentPos\":{\"x\"...</td>\n",
       "      <td>None</td>\n",
       "    </tr>\n",
       "    <tr>\n",
       "      <th>1</th>\n",
       "      <td>81228a81594df2e2fc46</td>\n",
       "      <td>43e17e257f102e7c5227*x-44.081632653061206*y-39...</td>\n",
       "      <td>86c7d2ad3d4158cfc115</td>\n",
       "      <td>0</td>\n",
       "      <td>{\"distance\":14.216784641469633,\"agentPos\":{\"x\"...</td>\n",
       "      <td>None</td>\n",
       "    </tr>\n",
       "    <tr>\n",
       "      <th>2</th>\n",
       "      <td>81228a81594df2e2fc46</td>\n",
       "      <td>c4a74875ab2ae7deab2e*x-30*y-420</td>\n",
       "      <td>86c7d2ad3d4158cfc115</td>\n",
       "      <td>0</td>\n",
       "      <td>{\"distance\":28.161787703261563,\"agentPos\":{\"x\"...</td>\n",
       "      <td>None</td>\n",
       "    </tr>\n",
       "    <tr>\n",
       "      <th>3</th>\n",
       "      <td>81228a81594df2e2fc46</td>\n",
       "      <td>086f080c46c32653d3b4*x-14.693877551020364*y-39...</td>\n",
       "      <td>86c7d2ad3d4158cfc115</td>\n",
       "      <td>0</td>\n",
       "      <td>{\"distance\":16.765382255724372,\"agentPos\":{\"x\"...</td>\n",
       "      <td>None</td>\n",
       "    </tr>\n",
       "    <tr>\n",
       "      <th>4</th>\n",
       "      <td>81228a81594df2e2fc46</td>\n",
       "      <td>a791163eb39d2c6aa6d4*x-14.693877551020364*y-36...</td>\n",
       "      <td>86c7d2ad3d4158cfc115</td>\n",
       "      <td>0</td>\n",
       "      <td>{\"distance\":29.28281059665801,\"agentPos\":{\"x\":...</td>\n",
       "      <td>None</td>\n",
       "    </tr>\n",
       "  </tbody>\n",
       "</table>\n",
       "</div>"
      ],
      "text/plain": [
       "             rolling_id                                           agent_id  \\\n",
       "0  81228a81594df2e2fc46                    0cb6755f710700140b8e*x-30*y-390   \n",
       "1  81228a81594df2e2fc46  43e17e257f102e7c5227*x-44.081632653061206*y-39...   \n",
       "2  81228a81594df2e2fc46                    c4a74875ab2ae7deab2e*x-30*y-420   \n",
       "3  81228a81594df2e2fc46  086f080c46c32653d3b4*x-14.693877551020364*y-39...   \n",
       "4  81228a81594df2e2fc46  a791163eb39d2c6aa6d4*x-14.693877551020364*y-36...   \n",
       "\n",
       "              walker_id time  \\\n",
       "0  86c7d2ad3d4158cfc115    0   \n",
       "1  86c7d2ad3d4158cfc115    0   \n",
       "2  86c7d2ad3d4158cfc115    0   \n",
       "3  86c7d2ad3d4158cfc115    0   \n",
       "4  86c7d2ad3d4158cfc115    0   \n",
       "\n",
       "                                                json resolved_id  \n",
       "0  {\"distance\":1.9871228057338732,\"agentPos\":{\"x\"...        None  \n",
       "1  {\"distance\":14.216784641469633,\"agentPos\":{\"x\"...        None  \n",
       "2  {\"distance\":28.161787703261563,\"agentPos\":{\"x\"...        None  \n",
       "3  {\"distance\":16.765382255724372,\"agentPos\":{\"x\"...        None  \n",
       "4  {\"distance\":29.28281059665801,\"agentPos\":{\"x\":...        None  "
      ]
     },
     "execution_count": 3,
     "metadata": {},
     "output_type": "execute_result"
    }
   ],
   "source": [
    "df_contacts.head()"
   ]
  },
  {
   "cell_type": "code",
   "execution_count": 4,
   "metadata": {},
   "outputs": [
    {
     "ename": "ZeroDivisionError",
     "evalue": "float division by zero",
     "output_type": "error",
     "traceback": [
      "\u001b[0;31m---------------------------------------------------------------------------\u001b[0m",
      "\u001b[0;31mZeroDivisionError\u001b[0m                         Traceback (most recent call last)",
      "\u001b[0;32m<ipython-input-4-beec12a99728>\u001b[0m in \u001b[0;36m<module>\u001b[0;34m\u001b[0m\n\u001b[1;32m      3\u001b[0m \u001b[0;34m\u001b[0m\u001b[0m\n\u001b[1;32m      4\u001b[0m \u001b[0;32mfor\u001b[0m \u001b[0mwalker_id\u001b[0m \u001b[0;32min\u001b[0m \u001b[0mwalker_ids\u001b[0m\u001b[0;34m:\u001b[0m\u001b[0;34m\u001b[0m\u001b[0m\n\u001b[0;32m----> 5\u001b[0;31m     \u001b[0mv\u001b[0m \u001b[0;34m=\u001b[0m \u001b[0mutils\u001b[0m\u001b[0;34m.\u001b[0m\u001b[0mget_velocity_of_walker_id\u001b[0m\u001b[0;34m(\u001b[0m\u001b[0mwalker_id\u001b[0m\u001b[0;34m,\u001b[0m \u001b[0mdf_contacts\u001b[0m\u001b[0;34m)\u001b[0m\u001b[0;34m\u001b[0m\u001b[0m\n\u001b[0m\u001b[1;32m      6\u001b[0m     \u001b[0;32mif\u001b[0m \u001b[0mv\u001b[0m \u001b[0;34m==\u001b[0m \u001b[0;34m{\u001b[0m\u001b[0;34m}\u001b[0m\u001b[0;34m:\u001b[0m\u001b[0;34m\u001b[0m\u001b[0m\n\u001b[1;32m      7\u001b[0m         \u001b[0;32mcontinue\u001b[0m\u001b[0;34m\u001b[0m\u001b[0m\n",
      "\u001b[0;32m~/Downloads/FYP/exp/04/utils.py\u001b[0m in \u001b[0;36mget_velocity_of_walker_id\u001b[0;34m(walker_id, df_contacts)\u001b[0m\n\u001b[1;32m     26\u001b[0m         \u001b[0mcurr_time\u001b[0m\u001b[0;34m,\u001b[0m \u001b[0mcurr_json\u001b[0m \u001b[0;34m=\u001b[0m \u001b[0mint\u001b[0m\u001b[0;34m(\u001b[0m\u001b[0mrow2\u001b[0m\u001b[0;34m[\u001b[0m\u001b[0;34m'time'\u001b[0m\u001b[0;34m]\u001b[0m\u001b[0;34m)\u001b[0m\u001b[0;34m,\u001b[0m \u001b[0mjson\u001b[0m\u001b[0;34m.\u001b[0m\u001b[0mloads\u001b[0m\u001b[0;34m(\u001b[0m\u001b[0mrow2\u001b[0m\u001b[0;34m[\u001b[0m\u001b[0;34m'json'\u001b[0m\u001b[0;34m]\u001b[0m\u001b[0;34m)\u001b[0m\u001b[0;34m\u001b[0m\u001b[0m\n\u001b[1;32m     27\u001b[0m         \u001b[0mdistance\u001b[0m \u001b[0;34m=\u001b[0m \u001b[0mget_distance\u001b[0m\u001b[0;34m(\u001b[0m\u001b[0mpre_json\u001b[0m\u001b[0;34m[\u001b[0m\u001b[0;34m'agentPos'\u001b[0m\u001b[0;34m]\u001b[0m\u001b[0;34m,\u001b[0m \u001b[0mcurr_json\u001b[0m\u001b[0;34m[\u001b[0m\u001b[0;34m'agentPos'\u001b[0m\u001b[0;34m]\u001b[0m\u001b[0;34m)\u001b[0m\u001b[0;34m\u001b[0m\u001b[0m\n\u001b[0;32m---> 28\u001b[0;31m         velocity[pre_time] = {'x': distance['x'] / (curr_time - pre_time),\n\u001b[0m\u001b[1;32m     29\u001b[0m                               'y': distance['y'] / (curr_time - pre_time)}\n\u001b[1;32m     30\u001b[0m \u001b[0;34m\u001b[0m\u001b[0m\n",
      "\u001b[0;31mZeroDivisionError\u001b[0m: float division by zero"
     ]
    }
   ],
   "source": [
    "walker_ids = df_walkers['id'].tolist()\n",
    "walker_vs = {}\n",
    "\n",
    "for walker_id in walker_ids:\n",
    "    v = utils.get_velocity_of_walker_id(walker_id, df_contacts)\n",
    "    if v == {}:\n",
    "        continue\n",
    "    walker_vs[walker_id] = v"
   ]
  },
  {
   "cell_type": "markdown",
   "metadata": {},
   "source": [
    "### Statistical"
   ]
  },
  {
   "cell_type": "code",
   "execution_count": 90,
   "metadata": {},
   "outputs": [],
   "source": [
    "cnx = sqlite3.connect('../corona-sniffer/backend/data/database_3000.db')\n",
    "\n",
    "df_walks = pd.read_sql_query(\"SELECT * FROM walks JOIN walkers ON walkers.id = walks.walker_id\", cnx)\n",
    "df_walkers = pd.read_sql_query(\"SELECT * FROM walkers\", cnx)\n",
    "df_contacts = pd.read_sql_query(\"SELECT * FROM contacts\", cnx)\n",
    "df_agents = pd.read_sql_query(\"SELECT * FROM agents\", cnx)"
   ]
  },
  {
   "cell_type": "code",
   "execution_count": 91,
   "metadata": {},
   "outputs": [],
   "source": [
    "id_to_pos, pos_to_id = utils.get_position(df_agents)"
   ]
  },
  {
   "cell_type": "code",
   "execution_count": 98,
   "metadata": {},
   "outputs": [],
   "source": [
    "prob_agent_id = utils.get_agent_next_prob(df_walkers, df_contacts)"
   ]
  },
  {
   "cell_type": "code",
   "execution_count": 99,
   "metadata": {},
   "outputs": [],
   "source": [
    "prob_pos = utils.map_prob_to_pos(prob_agent_id, id_to_pos)"
   ]
  },
  {
   "cell_type": "code",
   "execution_count": 100,
   "metadata": {},
   "outputs": [],
   "source": [
    "cnx = sqlite3.connect('../corona-sniffer/backend/data/database_3000_test.db')\n",
    "\n",
    "df_walks = pd.read_sql_query(\"SELECT * FROM walks JOIN walkers ON walkers.id = walks.walker_id\", cnx)\n",
    "df_walkers = pd.read_sql_query(\"SELECT * FROM walkers\", cnx)\n",
    "df_contacts = pd.read_sql_query(\"SELECT * FROM contacts\", cnx)\n",
    "df_agents = pd.read_sql_query(\"SELECT * FROM agents\", cnx)"
   ]
  },
  {
   "cell_type": "code",
   "execution_count": 101,
   "metadata": {},
   "outputs": [],
   "source": [
    "\"\"\"\n",
    "Get counter of agent_id Key -> agent_id Values\n",
    "\"\"\"\n",
    "id_to_pos, pos_to_id = utils.get_position(df_agents)\n",
    "prob_agent_id = utils.map_prob_to_agent_id(prob_pos, pos_to_id)"
   ]
  },
  {
   "cell_type": "code",
   "execution_count": 102,
   "metadata": {},
   "outputs": [
    {
     "name": "stdout",
     "output_type": "stream",
     "text": [
      "Counter({1: 718, 2: 22, 3: 4, 5: 1, 7: 1, 4: 1})\n"
     ]
    }
   ],
   "source": [
    "\"\"\"\n",
    "# agent_id -> next_agent_id\n",
    "sparse data\n",
    "\"\"\"\n",
    "print(collections.Counter([i for dic in prob_agent_id.values() for _, i in dic.items()]))"
   ]
  },
  {
   "cell_type": "code",
   "execution_count": 103,
   "metadata": {},
   "outputs": [],
   "source": [
    "\"\"\"\n",
    "Map agent id to its most possible next agent.\n",
    "\"\"\"\n",
    "link_list = {}\n",
    "for _, row in df_contacts.iterrows():\n",
    "    agent_id = row['agent_id']\n",
    "    if agent_id in prob_agent_id and prob_agent_id[agent_id]:\n",
    "        link_list[agent_id] = max(prob_agent_id[agent_id].items(), key=lambda x: x[1])[0]"
   ]
  },
  {
   "cell_type": "code",
   "execution_count": 104,
   "metadata": {},
   "outputs": [],
   "source": [
    "real_id_to_agent_dict = collections.defaultdict(set)\n",
    "idx = 0\n",
    "for k, v in link_list.items():\n",
    "    real_id_to_agent_dict[idx].add(k)\n",
    "    real_id_to_agent_dict[idx].add(v)\n",
    "    link_list[k] = None\n",
    "    while v in link_list and link_list[v]:\n",
    "        k = v\n",
    "        v = link_list[k]\n",
    "        real_id_to_agent_dict[idx].add(k)\n",
    "        real_id_to_agent_dict[idx].add(v)\n",
    "        link_list[k] = None"
   ]
  },
  {
   "cell_type": "code",
   "execution_count": 105,
   "metadata": {},
   "outputs": [],
   "source": [
    "agent_id_to_real_dict = {}\n",
    "for k, v in real_id_to_agent_dict.items():\n",
    "    for id in v:\n",
    "        agent_id_to_real_dict[id] = k"
   ]
  },
  {
   "cell_type": "code",
   "execution_count": 106,
   "metadata": {},
   "outputs": [],
   "source": [
    "walker_id_link_list = {}\n",
    "for _, row in df_walks_connected.iterrows():\n",
    "    walker_id = row['walker_id']\n",
    "    df = df_contacts.loc[df_contacts['walker_id'] == walker_id].sort_values('time')\n",
    "    for _, row2 in df.iterrows():\n",
    "        agent_id, time = row2['agent_id'], row2['time']\n",
    "        \n",
    "        if agent_id not in prob_agent_id:\n",
    "            continue\n",
    "        next_agent_id = prob_agent_id[agent_id]\n",
    "        for next_id in next_agent_id:\n",
    "            next_walker_id = df_contacts.loc[(df_contacts['agent_id'] == next_id) & \n",
    "                                        (df_contacts['time'] > time)]['walker_id'].tolist()\n",
    "            if len(next_walker_id) > 0:\n",
    "                walker_id_link_list[walker_id] = next_walker_id[0]"
   ]
  },
  {
   "cell_type": "code",
   "execution_count": 107,
   "metadata": {},
   "outputs": [],
   "source": [
    "walker_id_to_real_dict = {}\n",
    "walker_id_graph = nx.Graph([(i, j) for i, j in walker_id_link_list.items() if i and j])\n",
    "walker_id_cc = sorted(nx.connected_components(walker_id_graph), key=len, reverse=True)"
   ]
  },
  {
   "cell_type": "code",
   "execution_count": 108,
   "metadata": {},
   "outputs": [],
   "source": [
    "df_walks_connected = pd.DataFrame(df_walks)\n",
    "for i, component in enumerate(walker_id_cc):\n",
    "    new_id = i\n",
    "    for c in component:\n",
    "        df_walks_connected = df_walks_connected.replace(c, new_id)"
   ]
  },
  {
   "cell_type": "code",
   "execution_count": 109,
   "metadata": {},
   "outputs": [],
   "source": [
    "cnx.execute('DROP TABLE IF EXISTS walks_attached')\n",
    "df_walks_connected.to_sql('walks_attached', con=cnx)"
   ]
  },
  {
   "cell_type": "code",
   "execution_count": 110,
   "metadata": {},
   "outputs": [
    {
     "data": {
      "text/html": [
       "<div>\n",
       "<style scoped>\n",
       "    .dataframe tbody tr th:only-of-type {\n",
       "        vertical-align: middle;\n",
       "    }\n",
       "\n",
       "    .dataframe tbody tr th {\n",
       "        vertical-align: top;\n",
       "    }\n",
       "\n",
       "    .dataframe thead th {\n",
       "        text-align: right;\n",
       "    }\n",
       "</style>\n",
       "<table border=\"1\" class=\"dataframe\">\n",
       "  <thead>\n",
       "    <tr style=\"text-align: right;\">\n",
       "      <th></th>\n",
       "      <th>rolling_id</th>\n",
       "      <th>agent_id</th>\n",
       "      <th>walker_id</th>\n",
       "      <th>time</th>\n",
       "      <th>json</th>\n",
       "      <th>resolved_id</th>\n",
       "    </tr>\n",
       "  </thead>\n",
       "  <tbody>\n",
       "    <tr>\n",
       "      <th>0</th>\n",
       "      <td>628af9e30467a114bc72</td>\n",
       "      <td>3119edf86d793dbf50c7*x-690*y-420</td>\n",
       "      <td>73b9d4f85d4e4b748bbb</td>\n",
       "      <td>0</td>\n",
       "      <td>{\"distance\":9.87161040351828,\"agentPos\":{\"x\":-...</td>\n",
       "      <td>None</td>\n",
       "    </tr>\n",
       "    <tr>\n",
       "      <th>1</th>\n",
       "      <td>628af9e30467a114bc72</td>\n",
       "      <td>112bc3f9c9c1e31058c6*x-690.6122448979592*y-396...</td>\n",
       "      <td>73b9d4f85d4e4b748bbb</td>\n",
       "      <td>0</td>\n",
       "      <td>{\"distance\":14.740671669024156,\"agentPos\":{\"x\"...</td>\n",
       "      <td>None</td>\n",
       "    </tr>\n",
       "    <tr>\n",
       "      <th>2</th>\n",
       "      <td>628af9e30467a114bc72</td>\n",
       "      <td>b8c10634fa2779dd1f2c*x-661.2244897959183*y-426...</td>\n",
       "      <td>73b9d4f85d4e4b748bbb</td>\n",
       "      <td>0</td>\n",
       "      <td>{\"distance\":29.387681136542046,\"agentPos\":{\"x\"...</td>\n",
       "      <td>None</td>\n",
       "    </tr>\n",
       "    <tr>\n",
       "      <th>3</th>\n",
       "      <td>628af9e30467a114bc72</td>\n",
       "      <td>519b4bc29baa099fd524*x-661.2244897959183*y-396...</td>\n",
       "      <td>73b9d4f85d4e4b748bbb</td>\n",
       "      <td>0</td>\n",
       "      <td>{\"distance\":28.791108006711948,\"agentPos\":{\"x\"...</td>\n",
       "      <td>None</td>\n",
       "    </tr>\n",
       "    <tr>\n",
       "      <th>4</th>\n",
       "      <td>a34d6ad77f1345c7fa57</td>\n",
       "      <td>24d983e3d313e5bfe6a4*x-690*y-450</td>\n",
       "      <td>73b9d4f85d4e4b748bbb</td>\n",
       "      <td>1</td>\n",
       "      <td>{\"distance\":25.129946815840036,\"agentPos\":{\"x\"...</td>\n",
       "      <td>None</td>\n",
       "    </tr>\n",
       "    <tr>\n",
       "      <th>...</th>\n",
       "      <td>...</td>\n",
       "      <td>...</td>\n",
       "      <td>...</td>\n",
       "      <td>...</td>\n",
       "      <td>...</td>\n",
       "      <td>...</td>\n",
       "    </tr>\n",
       "    <tr>\n",
       "      <th>7303</th>\n",
       "      <td>453152cfa6874b544289</td>\n",
       "      <td>cff29d55017bb4b3425b*x720*y308.57142857142867</td>\n",
       "      <td>e4e9953fc7ffe9f012a5</td>\n",
       "      <td>3</td>\n",
       "      <td>{\"distance\":25.773307334378753,\"agentPos\":{\"x\"...</td>\n",
       "      <td>None</td>\n",
       "    </tr>\n",
       "    <tr>\n",
       "      <th>7304</th>\n",
       "      <td>56f5a48b4d96a8d6c471</td>\n",
       "      <td>73080cf37c8e3d5a191c*x750*y270</td>\n",
       "      <td>6d2c83d16e04bd9b9112</td>\n",
       "      <td>4</td>\n",
       "      <td>{\"distance\":23.634425855755424,\"agentPos\":{\"x\"...</td>\n",
       "      <td>None</td>\n",
       "    </tr>\n",
       "    <tr>\n",
       "      <th>7305</th>\n",
       "      <td>6265743ebeb60060669c</td>\n",
       "      <td>be6272f5f5e3a58494cd*x249.79591836734699*y-602...</td>\n",
       "      <td>a30225e63fe3eb6852df</td>\n",
       "      <td>58</td>\n",
       "      <td>{\"distance\":14.849080826258705,\"agentPos\":{\"x\"...</td>\n",
       "      <td>None</td>\n",
       "    </tr>\n",
       "    <tr>\n",
       "      <th>7306</th>\n",
       "      <td>1cced8dcf77d186c53f3</td>\n",
       "      <td>2a345928856c02059fd3*x360*y150</td>\n",
       "      <td>23602e6a4c9b4f9272bf</td>\n",
       "      <td>32</td>\n",
       "      <td>{\"distance\":12.72825441579665,\"agentPos\":{\"x\":...</td>\n",
       "      <td>None</td>\n",
       "    </tr>\n",
       "    <tr>\n",
       "      <th>7307</th>\n",
       "      <td>3f484456a4ab78e4e1c5</td>\n",
       "      <td>83b1bdfc85cdf72de37c*x-360*y150</td>\n",
       "      <td>c33ff80359ab1b396755</td>\n",
       "      <td>26</td>\n",
       "      <td>{\"distance\":7.361008026378394,\"agentPos\":{\"x\":...</td>\n",
       "      <td>None</td>\n",
       "    </tr>\n",
       "  </tbody>\n",
       "</table>\n",
       "<p>7308 rows × 6 columns</p>\n",
       "</div>"
      ],
      "text/plain": [
       "                rolling_id                                           agent_id  \\\n",
       "0     628af9e30467a114bc72                   3119edf86d793dbf50c7*x-690*y-420   \n",
       "1     628af9e30467a114bc72  112bc3f9c9c1e31058c6*x-690.6122448979592*y-396...   \n",
       "2     628af9e30467a114bc72  b8c10634fa2779dd1f2c*x-661.2244897959183*y-426...   \n",
       "3     628af9e30467a114bc72  519b4bc29baa099fd524*x-661.2244897959183*y-396...   \n",
       "4     a34d6ad77f1345c7fa57                   24d983e3d313e5bfe6a4*x-690*y-450   \n",
       "...                    ...                                                ...   \n",
       "7303  453152cfa6874b544289      cff29d55017bb4b3425b*x720*y308.57142857142867   \n",
       "7304  56f5a48b4d96a8d6c471                     73080cf37c8e3d5a191c*x750*y270   \n",
       "7305  6265743ebeb60060669c  be6272f5f5e3a58494cd*x249.79591836734699*y-602...   \n",
       "7306  1cced8dcf77d186c53f3                     2a345928856c02059fd3*x360*y150   \n",
       "7307  3f484456a4ab78e4e1c5                    83b1bdfc85cdf72de37c*x-360*y150   \n",
       "\n",
       "                 walker_id time  \\\n",
       "0     73b9d4f85d4e4b748bbb    0   \n",
       "1     73b9d4f85d4e4b748bbb    0   \n",
       "2     73b9d4f85d4e4b748bbb    0   \n",
       "3     73b9d4f85d4e4b748bbb    0   \n",
       "4     73b9d4f85d4e4b748bbb    1   \n",
       "...                    ...  ...   \n",
       "7303  e4e9953fc7ffe9f012a5    3   \n",
       "7304  6d2c83d16e04bd9b9112    4   \n",
       "7305  a30225e63fe3eb6852df   58   \n",
       "7306  23602e6a4c9b4f9272bf   32   \n",
       "7307  c33ff80359ab1b396755   26   \n",
       "\n",
       "                                                   json resolved_id  \n",
       "0     {\"distance\":9.87161040351828,\"agentPos\":{\"x\":-...        None  \n",
       "1     {\"distance\":14.740671669024156,\"agentPos\":{\"x\"...        None  \n",
       "2     {\"distance\":29.387681136542046,\"agentPos\":{\"x\"...        None  \n",
       "3     {\"distance\":28.791108006711948,\"agentPos\":{\"x\"...        None  \n",
       "4     {\"distance\":25.129946815840036,\"agentPos\":{\"x\"...        None  \n",
       "...                                                 ...         ...  \n",
       "7303  {\"distance\":25.773307334378753,\"agentPos\":{\"x\"...        None  \n",
       "7304  {\"distance\":23.634425855755424,\"agentPos\":{\"x\"...        None  \n",
       "7305  {\"distance\":14.849080826258705,\"agentPos\":{\"x\"...        None  \n",
       "7306  {\"distance\":12.72825441579665,\"agentPos\":{\"x\":...        None  \n",
       "7307  {\"distance\":7.361008026378394,\"agentPos\":{\"x\":...        None  \n",
       "\n",
       "[7308 rows x 6 columns]"
      ]
     },
     "execution_count": 110,
     "metadata": {},
     "output_type": "execute_result"
    }
   ],
   "source": [
    "df_contacts"
   ]
  },
  {
   "cell_type": "code",
   "execution_count": null,
   "metadata": {},
   "outputs": [],
   "source": []
  }
 ],
 "metadata": {
  "kernelspec": {
   "display_name": "Python 3",
   "language": "python",
   "name": "python3"
  },
  "language_info": {
   "codemirror_mode": {
    "name": "ipython",
    "version": 3
   },
   "file_extension": ".py",
   "mimetype": "text/x-python",
   "name": "python",
   "nbconvert_exporter": "python",
   "pygments_lexer": "ipython3",
   "version": "3.7.0"
  }
 },
 "nbformat": 4,
 "nbformat_minor": 4
}
