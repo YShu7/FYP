{
 "cells": [
  {
   "cell_type": "markdown",
   "metadata": {},
   "source": [
    "1. real dataset\n",
    "1. link the path\n",
    "    1. analytical \n",
    "    1. statistical\n",
    "    - measure the accuracy\n",
    "    - marriage matching algorithm \n",
    "what you want to maximize"
   ]
  },
  {
   "cell_type": "markdown",
   "metadata": {},
   "source": [
    "### Analytical"
   ]
  },
  {
   "cell_type": "code",
   "execution_count": 1,
   "metadata": {},
   "outputs": [],
   "source": [
    "import sqlite3\n",
    "import pandas as pd\n",
    "import math\n",
    "import networkx as nx\n",
    "import json\n",
    "import numpy as np\n",
    "from multiprocessing import Pool\n",
    "def unpack(row):\n",
    "    return row['walker_id'], row['time'], float(row['x']), float(row['y'])"
   ]
  },
  {
   "cell_type": "code",
   "execution_count": 2,
   "metadata": {},
   "outputs": [],
   "source": [
    "cnx = sqlite3.connect('../corona-sniffer/backend/data/database_3000.db')\n",
    "\n",
    "df_walks = pd.read_sql_query(\"SELECT * FROM walks\", cnx)\n",
    "df_walkers = pd.read_sql_query(\"SELECT * FROM walkers\", cnx)\n",
    "df_v = pd.read_sql_query(\"SELECT * FROM velocitys\", cnx)"
   ]
  },
  {
   "cell_type": "code",
   "execution_count": 3,
   "metadata": {},
   "outputs": [],
   "source": [
    "ids = df_v['walker_id'].tolist()"
   ]
  },
  {
   "cell_type": "code",
   "execution_count": 4,
   "metadata": {},
   "outputs": [
    {
     "data": {
      "text/html": [
       "<div>\n",
       "<style scoped>\n",
       "    .dataframe tbody tr th:only-of-type {\n",
       "        vertical-align: middle;\n",
       "    }\n",
       "\n",
       "    .dataframe tbody tr th {\n",
       "        vertical-align: top;\n",
       "    }\n",
       "\n",
       "    .dataframe thead th {\n",
       "        text-align: right;\n",
       "    }\n",
       "</style>\n",
       "<table border=\"1\" class=\"dataframe\">\n",
       "  <thead>\n",
       "    <tr style=\"text-align: right;\">\n",
       "      <th></th>\n",
       "      <th>walker_id</th>\n",
       "      <th>time</th>\n",
       "      <th>x_json</th>\n",
       "      <th>y_json</th>\n",
       "      <th>ratio</th>\n",
       "    </tr>\n",
       "  </thead>\n",
       "  <tbody>\n",
       "    <tr>\n",
       "      <th>0</th>\n",
       "      <td>774f6377b5</td>\n",
       "      <td>0</td>\n",
       "      <td>{\"mean\":11.878909087200725,\"dev\":3,\"v\":15.9110...</td>\n",
       "      <td>{\"mean\":30.86683282944279,\"dev\":3,\"v\":31.75124...</td>\n",
       "      <td>0.97</td>\n",
       "    </tr>\n",
       "    <tr>\n",
       "      <th>1</th>\n",
       "      <td>fa3cd5a96f</td>\n",
       "      <td>2</td>\n",
       "      <td>{\"mean\":14.589745907757557,\"dev\":3,\"v\":14.2403...</td>\n",
       "      <td>{\"mean\":29.005541277848653,\"dev\":3,\"v\":30.8072...</td>\n",
       "      <td>0.97</td>\n",
       "    </tr>\n",
       "    <tr>\n",
       "      <th>2</th>\n",
       "      <td>b8fb2f2cdb</td>\n",
       "      <td>5</td>\n",
       "      <td>{\"mean\":16.799026624679943,\"dev\":3,\"v\":18.7525...</td>\n",
       "      <td>{\"mean\":29.480759844067144,\"dev\":3,\"v\":33.9879...</td>\n",
       "      <td>0.97</td>\n",
       "    </tr>\n",
       "    <tr>\n",
       "      <th>3</th>\n",
       "      <td>8e2ad4c380</td>\n",
       "      <td>6</td>\n",
       "      <td>{\"mean\":18.75254138338596,\"dev\":3,\"v\":16.60640...</td>\n",
       "      <td>{\"mean\":33.98795510979555,\"dev\":3,\"v\":31.65725...</td>\n",
       "      <td>0.97</td>\n",
       "    </tr>\n",
       "    <tr>\n",
       "      <th>4</th>\n",
       "      <td>8e2ad4c380</td>\n",
       "      <td>7</td>\n",
       "      <td>{\"mean\":16.606406428772626,\"dev\":3,\"v\":13.3611...</td>\n",
       "      <td>{\"mean\":31.657252568144827,\"dev\":3,\"v\":28.1651...</td>\n",
       "      <td>0.97</td>\n",
       "    </tr>\n",
       "  </tbody>\n",
       "</table>\n",
       "</div>"
      ],
      "text/plain": [
       "    walker_id time                                             x_json  \\\n",
       "0  774f6377b5    0  {\"mean\":11.878909087200725,\"dev\":3,\"v\":15.9110...   \n",
       "1  fa3cd5a96f    2  {\"mean\":14.589745907757557,\"dev\":3,\"v\":14.2403...   \n",
       "2  b8fb2f2cdb    5  {\"mean\":16.799026624679943,\"dev\":3,\"v\":18.7525...   \n",
       "3  8e2ad4c380    6  {\"mean\":18.75254138338596,\"dev\":3,\"v\":16.60640...   \n",
       "4  8e2ad4c380    7  {\"mean\":16.606406428772626,\"dev\":3,\"v\":13.3611...   \n",
       "\n",
       "                                              y_json  ratio  \n",
       "0  {\"mean\":30.86683282944279,\"dev\":3,\"v\":31.75124...   0.97  \n",
       "1  {\"mean\":29.005541277848653,\"dev\":3,\"v\":30.8072...   0.97  \n",
       "2  {\"mean\":29.480759844067144,\"dev\":3,\"v\":33.9879...   0.97  \n",
       "3  {\"mean\":33.98795510979555,\"dev\":3,\"v\":31.65725...   0.97  \n",
       "4  {\"mean\":31.657252568144827,\"dev\":3,\"v\":28.1651...   0.97  "
      ]
     },
     "execution_count": 4,
     "metadata": {},
     "output_type": "execute_result"
    }
   ],
   "source": [
    "df_v.head()"
   ]
  },
  {
   "cell_type": "code",
   "execution_count": 11,
   "metadata": {},
   "outputs": [],
   "source": [
    "def get_probability(x, mean, sd):\n",
    "    x = x\n",
    "    var = float(sd)**2\n",
    "    denom = (2*math.pi*var)**.5\n",
    "    num = math.exp(-(float(x)-float(mean))**2/(2*var))\n",
    "    return num/denom"
   ]
  },
  {
   "cell_type": "code",
   "execution_count": 6,
   "metadata": {},
   "outputs": [],
   "source": [
    "def find(row):\n",
    "    walker_id, time, x, y = row\n",
    "\n",
    "    v_row = df_v.loc[(df_v['walker_id'] == walker_id) & (df_v['time'] == time)].iloc[0]\n",
    "\n",
    "    x_json, y_json, ratio = json.loads(v_row['x_json']), json.loads(v_row['y_json']), v_row['ratio']\n",
    "\n",
    "    vx = (x - x_prev) / 10 / ratio\n",
    "    vy = (y - y_prev) / 10 / ratio\n",
    "    p = get_probability(vx, x_json['mean'], x_json['dev']) * get_probability(vy, y_json['mean'], y_json['dev'])\n",
    "\n",
    "    return (p, walker_id)"
   ]
  },
  {
   "cell_type": "code",
   "execution_count": 22,
   "metadata": {},
   "outputs": [],
   "source": [
    "matching = {}\n",
    "i = -1\n",
    "\n",
    "while True:\n",
    "    i += 1\n",
    "    prev = df_walks.loc[df_walks['time'] == str(i)]\n",
    "    curr = df_walks.loc[df_walks['time'] == str(i+1)]\n",
    "    if prev.shape[0] == 0:\n",
    "        break\n",
    "    for _, row_prev in prev.iterrows():\n",
    "        walker_id_prev, time_prev, x_prev, y_prev = unpack(row_prev)\n",
    "        \n",
    "        rows = []\n",
    "        for _, row in curr.iterrows():\n",
    "            walker_id, time, x, y = unpack(row)\n",
    "            rows.append([walker_id, time, x, y])\n",
    "\n",
    "        pool = Pool(processes=10)\n",
    "        max_p, next_id = 0, None\n",
    "        results = pool.imap_unordered(find, rows)\n",
    "        pool.close()\n",
    "        \n",
    "        for p, walker_id in results:\n",
    "#             print(p, walker_id)\n",
    "            if p > max_p:\n",
    "                max_p, next_id = p, walker_id\n",
    "#         for _, row in curr.iterrows():\n",
    "#             walker_id, time, x, y = unpack(row)\n",
    "\n",
    "#             v_row = df_v.loc[(df_v['walker_id'] == walker_id) & (df_v['time'] == time)].iloc[0]\n",
    "            \n",
    "#             x_json, y_json, ratio = json.loads(v_row['x_json']), json.loads(v_row['y_json']), v_row['ratio']\n",
    "\n",
    "#             vx = (x - x_prev) / 10 / ratio\n",
    "#             vy = (y - y_prev) / 10 / ratio\n",
    "#             p = get_probability(vx, x_json['mean'], x_json['dev']) * get_probability(vy, y_json['mean'], y_json['dev'])\n",
    "            \n",
    "#             if p > max_p:\n",
    "#                 max_p, next_id = p, walker_id\n",
    "\n",
    "        matching[walker_id_prev] = next_id\n"
   ]
  },
  {
   "cell_type": "code",
   "execution_count": 23,
   "metadata": {},
   "outputs": [],
   "source": [
    "graph = nx.Graph([(i, j) for i, j in matching.items() if i and j])\n",
    "connected_components = sorted(nx.connected_components(graph), key=len, reverse=True)"
   ]
  },
  {
   "cell_type": "code",
   "execution_count": 25,
   "metadata": {},
   "outputs": [],
   "source": [
    "df_walks_connected = pd.DataFrame(df_walks)\n",
    "for i, component in enumerate(connected_components):\n",
    "    new_id = i\n",
    "    for c in component:\n",
    "        df_walks_connected = df_walks_connected.replace(c, new_id)"
   ]
  },
  {
   "cell_type": "code",
   "execution_count": 26,
   "metadata": {},
   "outputs": [],
   "source": [
    "cnx.execute('DROP TABLE IF EXISTS walks_attached')\n",
    "df_walks_connected.to_sql('walks_attached', con=cnx)"
   ]
  },
  {
   "cell_type": "markdown",
   "metadata": {},
   "source": [
    "### Statistical"
   ]
  },
  {
   "cell_type": "code",
   "execution_count": 2,
   "metadata": {},
   "outputs": [],
   "source": [
    "cnx = sqlite3.connect('../corona-sniffer/backend/data/database_30000.db')\n",
    "\n",
    "df_walks = pd.read_sql_query(\"SELECT * FROM walks JOIN walkers ON walkers.id = walks.walker_id\", cnx)\n",
    "df_walkers = pd.read_sql_query(\"SELECT * FROM walkers\", cnx)\n",
    "df_v = pd.read_sql_query(\"SELECT * FROM velocitys\", cnx)"
   ]
  },
  {
   "cell_type": "code",
   "execution_count": 3,
   "metadata": {},
   "outputs": [
    {
     "data": {
      "text/html": [
       "<div>\n",
       "<style scoped>\n",
       "    .dataframe tbody tr th:only-of-type {\n",
       "        vertical-align: middle;\n",
       "    }\n",
       "\n",
       "    .dataframe tbody tr th {\n",
       "        vertical-align: top;\n",
       "    }\n",
       "\n",
       "    .dataframe thead th {\n",
       "        text-align: right;\n",
       "    }\n",
       "</style>\n",
       "<table border=\"1\" class=\"dataframe\">\n",
       "  <thead>\n",
       "    <tr style=\"text-align: right;\">\n",
       "      <th></th>\n",
       "      <th>walker_id</th>\n",
       "      <th>time</th>\n",
       "      <th>x</th>\n",
       "      <th>y</th>\n",
       "      <th>json</th>\n",
       "      <th>id</th>\n",
       "      <th>real_id</th>\n",
       "      <th>resolved</th>\n",
       "    </tr>\n",
       "  </thead>\n",
       "  <tbody>\n",
       "    <tr>\n",
       "      <th>0</th>\n",
       "      <td>6c941deb58</td>\n",
       "      <td>0</td>\n",
       "      <td>361.274388646454</td>\n",
       "      <td>93.7774943499492</td>\n",
       "      <td>{\"resolved\":false,\"location\":{\"latitude\":60.16...</td>\n",
       "      <td>6c941deb58</td>\n",
       "      <td>0</td>\n",
       "      <td>0</td>\n",
       "    </tr>\n",
       "    <tr>\n",
       "      <th>1</th>\n",
       "      <td>6c941deb58</td>\n",
       "      <td>1</td>\n",
       "      <td>671.463623372485</td>\n",
       "      <td>179.370863352698</td>\n",
       "      <td>{\"resolved\":false,\"location\":{\"latitude\":60.16...</td>\n",
       "      <td>6c941deb58</td>\n",
       "      <td>0</td>\n",
       "      <td>0</td>\n",
       "    </tr>\n",
       "    <tr>\n",
       "      <th>2</th>\n",
       "      <td>6c4f36901d</td>\n",
       "      <td>5</td>\n",
       "      <td>1805.66148473744</td>\n",
       "      <td>550.615488790935</td>\n",
       "      <td>{\"resolved\":false,\"location\":{\"latitude\":60.16...</td>\n",
       "      <td>6c4f36901d</td>\n",
       "      <td>0</td>\n",
       "      <td>0</td>\n",
       "    </tr>\n",
       "    <tr>\n",
       "      <th>3</th>\n",
       "      <td>4fcb6a8f8d</td>\n",
       "      <td>3</td>\n",
       "      <td>1249.32907878941</td>\n",
       "      <td>355.013187814622</td>\n",
       "      <td>{\"resolved\":false,\"location\":{\"latitude\":60.16...</td>\n",
       "      <td>4fcb6a8f8d</td>\n",
       "      <td>0</td>\n",
       "      <td>0</td>\n",
       "    </tr>\n",
       "    <tr>\n",
       "      <th>4</th>\n",
       "      <td>e56fa980de</td>\n",
       "      <td>7</td>\n",
       "      <td>2447.0202419566</td>\n",
       "      <td>738.863496964905</td>\n",
       "      <td>{\"resolved\":false,\"location\":{\"latitude\":60.16...</td>\n",
       "      <td>e56fa980de</td>\n",
       "      <td>0</td>\n",
       "      <td>0</td>\n",
       "    </tr>\n",
       "  </tbody>\n",
       "</table>\n",
       "</div>"
      ],
      "text/plain": [
       "    walker_id time                 x                 y  \\\n",
       "0  6c941deb58    0  361.274388646454  93.7774943499492   \n",
       "1  6c941deb58    1  671.463623372485  179.370863352698   \n",
       "2  6c4f36901d    5  1805.66148473744  550.615488790935   \n",
       "3  4fcb6a8f8d    3  1249.32907878941  355.013187814622   \n",
       "4  e56fa980de    7   2447.0202419566  738.863496964905   \n",
       "\n",
       "                                                json          id  real_id  \\\n",
       "0  {\"resolved\":false,\"location\":{\"latitude\":60.16...  6c941deb58        0   \n",
       "1  {\"resolved\":false,\"location\":{\"latitude\":60.16...  6c941deb58        0   \n",
       "2  {\"resolved\":false,\"location\":{\"latitude\":60.16...  6c4f36901d        0   \n",
       "3  {\"resolved\":false,\"location\":{\"latitude\":60.16...  4fcb6a8f8d        0   \n",
       "4  {\"resolved\":false,\"location\":{\"latitude\":60.16...  e56fa980de        0   \n",
       "\n",
       "   resolved  \n",
       "0         0  \n",
       "1         0  \n",
       "2         0  \n",
       "3         0  \n",
       "4         0  "
      ]
     },
     "execution_count": 3,
     "metadata": {},
     "output_type": "execute_result"
    }
   ],
   "source": [
    "df_walks.head()"
   ]
  },
  {
   "cell_type": "code",
   "execution_count": 4,
   "metadata": {},
   "outputs": [],
   "source": [
    "ids = df_v['walker_id'].tolist()\n",
    "real_ids = set(df_walks['real_id'].tolist())"
   ]
  },
  {
   "cell_type": "code",
   "execution_count": 5,
   "metadata": {},
   "outputs": [],
   "source": [
    "n_total_x, n_total_y = 0, 0\n",
    "v_dic_x = {}\n",
    "v_dic_y = {}\n",
    "for real_id in real_ids:\n",
    "    walk = df_walks.loc[df_walks['real_id'] == real_id]\n",
    "\n",
    "    for time in range(walk.shape[0]-1):\n",
    "        prev = walk.loc[walk['time'] == str(time)]\n",
    "        curr = walk.loc[walk['time'] == str(time + 1)]\n",
    "        \n",
    "        vx = round(float(curr['x']) - float(prev['x']), 0)\n",
    "        vy = round(float(curr['y']) - float(prev['y']), 0)\n",
    "\n",
    "        if vx in v_dic_x:\n",
    "            v_dic_x[vx] += 1\n",
    "        else:\n",
    "            v_dic_x[vx] = 1\n",
    "        n_total_x += 1\n",
    "        \n",
    "        if vy in v_dic_y:\n",
    "            v_dic_y[vy] += 1\n",
    "        else:\n",
    "            v_dic_y[vy] = 1\n",
    "        n_total_y += 1"
   ]
  },
  {
   "cell_type": "code",
   "execution_count": 6,
   "metadata": {},
   "outputs": [],
   "source": [
    "for k, v in v_dic_x.items():\n",
    "    v_dic_x[k] = (v + 1) / (n_total_x + len(v_dic_x.keys()))\n",
    "for k, v in v_dic_y.items():\n",
    "    v_dic_y[k] = (v + 1) / (n_total_y + len(v_dic_y.keys()))"
   ]
  },
  {
   "cell_type": "code",
   "execution_count": 7,
   "metadata": {},
   "outputs": [
    {
     "name": "stdout",
     "output_type": "stream",
     "text": [
      "30770 30818\n"
     ]
    }
   ],
   "source": [
    "print((n_total_x + len(v_dic_x.keys())), (n_total_y + len(v_dic_y.keys())))"
   ]
  },
  {
   "cell_type": "code",
   "execution_count": 8,
   "metadata": {},
   "outputs": [],
   "source": [
    "cnx = sqlite3.connect('../corona-sniffer/backend/data/database_3000.db')\n",
    "\n",
    "df_walks = pd.read_sql_query(\"SELECT * FROM walks\", cnx)\n",
    "df_walkers = pd.read_sql_query(\"SELECT * FROM walkers\", cnx)\n",
    "df_v = pd.read_sql_query(\"SELECT * FROM velocitys\", cnx)"
   ]
  },
  {
   "cell_type": "code",
   "execution_count": 9,
   "metadata": {},
   "outputs": [],
   "source": [
    "def find(row):\n",
    "    walker_id, time, x, y = row\n",
    "\n",
    "    v_row = df_v.loc[(df_v['walker_id'] == walker_id) & (df_v['time'] == time)].iloc[0]\n",
    "\n",
    "    x_json, y_json, ratio = json.loads(v_row['x_json']), json.loads(v_row['y_json']), v_row['ratio']\n",
    "\n",
    "    vx = round(x - x_prev, 0)\n",
    "    vy = round(y - y_prev, 0)\n",
    "    if vx in v_dic_x:\n",
    "        px = v_dic_x[v]\n",
    "    else:\n",
    "        px = 1 / (n_total_x + len(v_dic_x.keys()))\n",
    "    if vy in v_dic_y:\n",
    "        py = v_dic_y[v]\n",
    "    else:\n",
    "        py = 1 / (n_total_y + len(v_dic_y.keys()))\n",
    "    return (px * py, walker_id, (x - x_prev, y - y_prev))\n",
    "\n",
    "#         dis = float('inf')\n",
    "#         key = None\n",
    "#         for k, val in v_dic.items():\n",
    "#             new_dis = ((k[0] - v[0]) ** 2 + (k[1] - v[1]) ** 2)\n",
    "#             if dis > new_dis:\n",
    "#                 dis = new_dis\n",
    "#                 key = k\n",
    "#         p = v_dic[key]"
   ]
  },
  {
   "cell_type": "code",
   "execution_count": 10,
   "metadata": {},
   "outputs": [],
   "source": [
    "matching = {}\n",
    "for i in range(100):\n",
    "    prev = df_walks.loc[df_walks['time'] == str(i)]\n",
    "    curr = df_walks.loc[df_walks['time'] == str(i+1)]\n",
    "    \n",
    "    for _, row_prev in prev.iterrows():\n",
    "        walker_id_prev, time_prev, x_prev, y_prev = unpack(row_prev)\n",
    "        visited = set()\n",
    "        \n",
    "        rows = []\n",
    "        for _, row in curr.iterrows():\n",
    "            walker_id, time, x, y = unpack(row)\n",
    "            rows.append([walker_id, time, x, y])\n",
    "\n",
    "        pool = Pool(processes=10)\n",
    "        max_p, next_id = 0, []\n",
    "        results = pool.imap_unordered(find, rows)\n",
    "        pool.close()\n",
    "        \n",
    "        \n",
    "        for p, walker_id, (vx, vy) in results:\n",
    "            if p > max_p:\n",
    "                max_p, next_id = p, [(walker_id, vx, vy)]\n",
    "            elif p == max_p:\n",
    "                max_p = p\n",
    "                next_id.append((walker_id, vx, vy))\n",
    "        \n",
    "        list.sort(next_id, key=lambda x: np.linalg.norm([x[1]-x_prev, x[2]-y_prev]))\n",
    "        for (id, _, _) in next_id:\n",
    "            if id not in visited:\n",
    "                visited.add(id)\n",
    "                matching[walker_id_prev] = id\n",
    "                break\n"
   ]
  },
  {
   "cell_type": "code",
   "execution_count": 11,
   "metadata": {},
   "outputs": [],
   "source": [
    "graph = nx.Graph([(i, j) for i, j in matching.items() if i and j])\n",
    "connected_components = sorted(nx.connected_components(graph), key=len, reverse=True)"
   ]
  },
  {
   "cell_type": "code",
   "execution_count": 12,
   "metadata": {},
   "outputs": [],
   "source": [
    "real_ids = df_walkers[\"real_id\"].tolist()\n",
    "id_match = {real_id: set() for real_id in real_ids}\n",
    "for real_id in real_ids:\n",
    "    [id_match[real_id].add(id) for id in df_walkers.loc[df_walkers[\"real_id\"] == real_id]['id'].tolist()]"
   ]
  },
  {
   "cell_type": "code",
   "execution_count": 14,
   "metadata": {},
   "outputs": [],
   "source": [
    "df_walks_connected = pd.DataFrame(df_walks)\n",
    "df_walks_connected['old_id'] = [None] * df_walks_connected.shape[0]"
   ]
  },
  {
   "cell_type": "code",
   "execution_count": 15,
   "metadata": {},
   "outputs": [],
   "source": [
    "for i, component in enumerate(connected_components):\n",
    "    new_id = i\n",
    "    time_set = set()\n",
    "    for c in component:\n",
    "        rows = df_walks_connected.loc[df_walks_connected['walker_id'] == c]\n",
    "        \n",
    "        cyclic = False\n",
    "        for time in rows['time'].tolist():\n",
    "            if time in time_set:\n",
    "                cyclic = True\n",
    "                break\n",
    "            else:\n",
    "                time_set.add(time)\n",
    "        if cyclic:\n",
    "            continue\n",
    "        else:\n",
    "            tmp = c\n",
    "            df_walks_connected = df_walks_connected.replace(c, new_id)\n",
    "            rows['old_id'] = c"
   ]
  },
  {
   "cell_type": "code",
   "execution_count": 65,
   "metadata": {},
   "outputs": [],
   "source": [
    "cnx.execute('DROP TABLE IF EXISTS walks_attached')\n",
    "df_walks_connected.to_sql('walks_attached', con=cnx)"
   ]
  },
  {
   "cell_type": "code",
   "execution_count": 66,
   "metadata": {},
   "outputs": [
    {
     "data": {
      "text/html": [
       "<div>\n",
       "<style scoped>\n",
       "    .dataframe tbody tr th:only-of-type {\n",
       "        vertical-align: middle;\n",
       "    }\n",
       "\n",
       "    .dataframe tbody tr th {\n",
       "        vertical-align: top;\n",
       "    }\n",
       "\n",
       "    .dataframe thead th {\n",
       "        text-align: right;\n",
       "    }\n",
       "</style>\n",
       "<table border=\"1\" class=\"dataframe\">\n",
       "  <thead>\n",
       "    <tr style=\"text-align: right;\">\n",
       "      <th></th>\n",
       "      <th>walker_id</th>\n",
       "      <th>time</th>\n",
       "      <th>x</th>\n",
       "      <th>y</th>\n",
       "      <th>json</th>\n",
       "    </tr>\n",
       "  </thead>\n",
       "  <tbody>\n",
       "    <tr>\n",
       "      <th>396</th>\n",
       "      <td>2</td>\n",
       "      <td>2</td>\n",
       "      <td>-2678.11577056954</td>\n",
       "      <td>-1780.7346603135</td>\n",
       "      <td>{\"resolved\":false,\"location\":{\"latitude\":60.14...</td>\n",
       "    </tr>\n",
       "    <tr>\n",
       "      <th>397</th>\n",
       "      <td>2</td>\n",
       "      <td>3</td>\n",
       "      <td>-2616.47114827375</td>\n",
       "      <td>-1898.91182449137</td>\n",
       "      <td>{\"resolved\":false,\"location\":{\"latitude\":60.14...</td>\n",
       "    </tr>\n",
       "    <tr>\n",
       "      <th>398</th>\n",
       "      <td>2</td>\n",
       "      <td>4</td>\n",
       "      <td>-2504.21295019204</td>\n",
       "      <td>-1972.28830260992</td>\n",
       "      <td>{\"resolved\":false,\"location\":{\"latitude\":60.14...</td>\n",
       "    </tr>\n",
       "    <tr>\n",
       "      <th>399</th>\n",
       "      <td>2</td>\n",
       "      <td>5</td>\n",
       "      <td>-2384.52318790835</td>\n",
       "      <td>-2020.353699141</td>\n",
       "      <td>{\"resolved\":false,\"location\":{\"latitude\":60.14...</td>\n",
       "    </tr>\n",
       "    <tr>\n",
       "      <th>504</th>\n",
       "      <td>2</td>\n",
       "      <td>10</td>\n",
       "      <td>-2584.56766911641</td>\n",
       "      <td>-2440.35364111122</td>\n",
       "      <td>{\"resolved\":false,\"location\":{\"latitude\":60.14...</td>\n",
       "    </tr>\n",
       "    <tr>\n",
       "      <th>...</th>\n",
       "      <td>...</td>\n",
       "      <td>...</td>\n",
       "      <td>...</td>\n",
       "      <td>...</td>\n",
       "      <td>...</td>\n",
       "    </tr>\n",
       "    <tr>\n",
       "      <th>1365</th>\n",
       "      <td>2</td>\n",
       "      <td>76</td>\n",
       "      <td>-11388.1469979293</td>\n",
       "      <td>-11026.3472681642</td>\n",
       "      <td>{\"resolved\":false,\"location\":{\"latitude\":60.06...</td>\n",
       "    </tr>\n",
       "    <tr>\n",
       "      <th>1700</th>\n",
       "      <td>2</td>\n",
       "      <td>6</td>\n",
       "      <td>-1764.96432377177</td>\n",
       "      <td>-1610.75748665389</td>\n",
       "      <td>{\"resolved\":false,\"location\":{\"latitude\":60.14...</td>\n",
       "    </tr>\n",
       "    <tr>\n",
       "      <th>1701</th>\n",
       "      <td>2</td>\n",
       "      <td>7</td>\n",
       "      <td>-1900.37161552083</td>\n",
       "      <td>-1653.28283855725</td>\n",
       "      <td>{\"resolved\":false,\"location\":{\"latitude\":60.14...</td>\n",
       "    </tr>\n",
       "    <tr>\n",
       "      <th>2094</th>\n",
       "      <td>2</td>\n",
       "      <td>0</td>\n",
       "      <td>-1708.79250721564</td>\n",
       "      <td>-1734.06592542844</td>\n",
       "      <td>{\"resolved\":false,\"location\":{\"latitude\":60.14...</td>\n",
       "    </tr>\n",
       "    <tr>\n",
       "      <th>2095</th>\n",
       "      <td>2</td>\n",
       "      <td>1</td>\n",
       "      <td>-2163.69272375566</td>\n",
       "      <td>-2107.68850464671</td>\n",
       "      <td>{\"resolved\":false,\"location\":{\"latitude\":60.14...</td>\n",
       "    </tr>\n",
       "  </tbody>\n",
       "</table>\n",
       "<p>100 rows × 5 columns</p>\n",
       "</div>"
      ],
      "text/plain": [
       "     walker_id time                  x                  y  \\\n",
       "396          2    2  -2678.11577056954   -1780.7346603135   \n",
       "397          2    3  -2616.47114827375  -1898.91182449137   \n",
       "398          2    4  -2504.21295019204  -1972.28830260992   \n",
       "399          2    5  -2384.52318790835    -2020.353699141   \n",
       "504          2   10  -2584.56766911641  -2440.35364111122   \n",
       "...        ...  ...                ...                ...   \n",
       "1365         2   76  -11388.1469979293  -11026.3472681642   \n",
       "1700         2    6  -1764.96432377177  -1610.75748665389   \n",
       "1701         2    7  -1900.37161552083  -1653.28283855725   \n",
       "2094         2    0  -1708.79250721564  -1734.06592542844   \n",
       "2095         2    1  -2163.69272375566  -2107.68850464671   \n",
       "\n",
       "                                                   json  \n",
       "396   {\"resolved\":false,\"location\":{\"latitude\":60.14...  \n",
       "397   {\"resolved\":false,\"location\":{\"latitude\":60.14...  \n",
       "398   {\"resolved\":false,\"location\":{\"latitude\":60.14...  \n",
       "399   {\"resolved\":false,\"location\":{\"latitude\":60.14...  \n",
       "504   {\"resolved\":false,\"location\":{\"latitude\":60.14...  \n",
       "...                                                 ...  \n",
       "1365  {\"resolved\":false,\"location\":{\"latitude\":60.06...  \n",
       "1700  {\"resolved\":false,\"location\":{\"latitude\":60.14...  \n",
       "1701  {\"resolved\":false,\"location\":{\"latitude\":60.14...  \n",
       "2094  {\"resolved\":false,\"location\":{\"latitude\":60.14...  \n",
       "2095  {\"resolved\":false,\"location\":{\"latitude\":60.14...  \n",
       "\n",
       "[100 rows x 5 columns]"
      ]
     },
     "execution_count": 66,
     "metadata": {},
     "output_type": "execute_result"
    }
   ],
   "source": [
    "df_walks_connected.loc[df_walks_connected['walker_id'] == 2]"
   ]
  },
  {
   "cell_type": "code",
   "execution_count": 68,
   "metadata": {},
   "outputs": [
    {
     "data": {
      "text/plain": [
       "182"
      ]
     },
     "execution_count": 68,
     "metadata": {},
     "output_type": "execute_result"
    }
   ],
   "source": [
    "len(set(df_walks_connected['walker_id'].tolist()))"
   ]
  },
  {
   "cell_type": "code",
   "execution_count": null,
   "metadata": {},
   "outputs": [],
   "source": []
  }
 ],
 "metadata": {
  "kernelspec": {
   "display_name": "Python 3",
   "language": "python",
   "name": "python3"
  },
  "language_info": {
   "codemirror_mode": {
    "name": "ipython",
    "version": 3
   },
   "file_extension": ".py",
   "mimetype": "text/x-python",
   "name": "python",
   "nbconvert_exporter": "python",
   "pygments_lexer": "ipython3",
   "version": "3.7.0"
  }
 },
 "nbformat": 4,
 "nbformat_minor": 4
}
