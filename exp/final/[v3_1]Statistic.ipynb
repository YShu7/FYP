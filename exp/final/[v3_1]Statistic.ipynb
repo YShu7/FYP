{
  "nbformat": 4,
  "nbformat_minor": 0,
  "metadata": {
    "kernelspec": {
      "display_name": "Python 3",
      "language": "python",
      "name": "python3"
    },
    "language_info": {
      "codemirror_mode": {
        "name": "ipython",
        "version": 3
      },
      "file_extension": ".py",
      "mimetype": "text/x-python",
      "name": "python",
      "nbconvert_exporter": "python",
      "pygments_lexer": "ipython3",
      "version": "3.7.0"
    },
    "colab": {
      "name": "[v3.1]Statistic.ipynb",
      "provenance": [],
      "collapsed_sections": [
        "tEc1KRLnMkNr"
      ],
      "toc_visible": true,
      "include_colab_link": true
    }
  },
  "cells": [
    {
      "cell_type": "markdown",
      "metadata": {
        "id": "view-in-github",
        "colab_type": "text"
      },
      "source": [
        "<a href=\"https://colab.research.google.com/github/YShu7/FYP/blob/master/exp/final/%5Bv3_1%5DStatistic.ipynb\" target=\"_parent\"><img src=\"https://colab.research.google.com/assets/colab-badge.svg\" alt=\"Open In Colab\"/></a>"
      ]
    },
    {
      "cell_type": "markdown",
      "metadata": {
        "id": "3lupqZH1SjJK"
      },
      "source": [
        "# Setting Up"
      ]
    },
    {
      "cell_type": "code",
      "metadata": {
        "colab": {
          "base_uri": "https://localhost:8080/"
        },
        "id": "ZEqlgomeMkNV",
        "outputId": "e7cd4ccc-9682-4d71-c29a-49fdcde992e7"
      },
      "source": [
        "%load_ext autoreload\n",
        "%autoreload 2\n",
        "import sqlite3\n",
        "import operator\n",
        "import pandas as pd\n",
        "import collections\n",
        "import networkx as nx\n",
        "import json\n",
        "import math\n",
        "import numpy as np\n",
        "from multiprocessing import Pool\n",
        "from scipy.optimize import linear_sum_assignment\n",
        "import time\n",
        "import utils\n",
        "\n",
        "import torch\n",
        "import torch.nn as nn\n",
        "import torch.nn.functional as F\n",
        "import torch.optim as optim\n",
        "from torch.optim.lr_scheduler import StepLR\n",
        "from torch.autograd import Variable\n",
        "from torch.utils.data import Dataset, DataLoader\n",
        "import numpy as np\n",
        "\n",
        "from google.colab import drive\n",
        "drive.mount('/content/drive')\n",
        "\n",
        "torch.manual_seed(1)\n",
        "torch.set_deterministic(True)\n",
        "device = torch.device(\"cuda\" if torch.cuda.is_available() else \"cpu\")"
      ],
      "execution_count": null,
      "outputs": [
        {
          "output_type": "stream",
          "text": [
            "Drive already mounted at /content/drive; to attempt to forcibly remount, call drive.mount(\"/content/drive\", force_remount=True).\n"
          ],
          "name": "stdout"
        }
      ]
    },
    {
      "cell_type": "code",
      "metadata": {
        "id": "JJ8-UQtBSiRu"
      },
      "source": [
        "INTERVAL = 60\n",
        "TIME_PERIOD = 1\n",
        "SCALE_METERS = 15000\n",
        "scaleMeters = SCALE_METERS * 0.2\n",
        "SIGMA_V = scaleMeters / 100\n",
        "IMPOSSIBLE = 1e-10\n",
        "MINUTE = 10\n",
        "UPDATE_TIME = MINUTE * INTERVAL\n",
        "\n",
        "N, M = 30, 91\n",
        "PATH = '/content/drive/MyDrive/FYP'\n",
        "TRAIN_DB = 'database_100+_train_2.db'\n",
        "TEST_DB = 'database_100-_test_2.db'\n",
        "MODEL_PATH = 'e700_unzip (1).pkl'\n",
        "\n",
        "EMBEDDING_DIM = 32\n",
        "HIDDEN_DIM = 128\n",
        "INPUT_DIM = 10"
      ],
      "execution_count": null,
      "outputs": []
    },
    {
      "cell_type": "markdown",
      "metadata": {
        "id": "kBezaNgOc8pw"
      },
      "source": [
        "# Train"
      ]
    },
    {
      "cell_type": "code",
      "metadata": {
        "id": "IxgUPMHRMkNd"
      },
      "source": [
        "cnx = sqlite3.connect(f'{PATH}/{TRAIN_DB}')\n",
        "\n",
        "df_walks = pd.read_sql_query(\"SELECT * FROM walks JOIN walkers ON walkers.id = walks.walker_id\", cnx)\n",
        "df_walkers = pd.read_sql_query(\"SELECT * FROM walkers\", cnx)\n",
        "df_agents = pd.read_sql_query(\"SELECT * FROM agents\", cnx)\n",
        "df_contacts_tmp = pd.read_sql_query(\"SELECT * FROM contacts JOIN walkers ON walkers.id = contacts.walker_id\", cnx)\n",
        "idx = df_contacts_tmp.groupby(['walker_id', 'time'])['distance'].transform(min) == df_contacts_tmp['distance']\n",
        "df_contacts = df_contacts_tmp[idx]"
      ],
      "execution_count": null,
      "outputs": []
    },
    {
      "cell_type": "code",
      "metadata": {
        "id": "cOTGxp0yMkNe"
      },
      "source": [
        "id_to_pos, pos_to_id = utils.get_position(df_agents)"
      ],
      "execution_count": null,
      "outputs": []
    },
    {
      "cell_type": "code",
      "metadata": {
        "id": "98Mu7ya7MkNe",
        "colab": {
          "base_uri": "https://localhost:8080/"
        },
        "outputId": "1a58e298-807f-4884-f9e0-7a7db7303453"
      },
      "source": [
        "print(df_contacts_tmp.shape[0], df_contacts.shape[0])"
      ],
      "execution_count": null,
      "outputs": [
        {
          "output_type": "stream",
          "text": [
            "144450 84028\n"
          ],
          "name": "stdout"
        }
      ]
    },
    {
      "cell_type": "code",
      "metadata": {
        "id": "Pwa1_3zjMkNi"
      },
      "source": [
        "prob_agent_id, prob_dir, prob_move = utils.get_agent_next_prob(df_walkers, df_contacts, df_agents['id'].tolist())"
      ],
      "execution_count": null,
      "outputs": []
    },
    {
      "cell_type": "code",
      "metadata": {
        "id": "SBpUk1FtcEy1"
      },
      "source": [
        "prob_pos = utils.map_prob_to_pos(prob_agent_id, id_to_pos)"
      ],
      "execution_count": null,
      "outputs": []
    },
    {
      "cell_type": "code",
      "metadata": {
        "id": "nj1nTL2qMkNj",
        "colab": {
          "base_uri": "https://localhost:8080/"
        },
        "outputId": "b0e1e102-9869-43a3-ee1b-c5366fef8e82"
      },
      "source": [
        "len(set(df_contacts['walker_id']))"
      ],
      "execution_count": null,
      "outputs": [
        {
          "output_type": "execute_result",
          "data": {
            "text/plain": [
              "9016"
            ]
          },
          "metadata": {
            "tags": []
          },
          "execution_count": 8
        }
      ]
    },
    {
      "cell_type": "code",
      "metadata": {
        "id": "6Y11Aol9MkNj"
      },
      "source": [
        "DEBUG = False\n",
        "\"\"\"\n",
        "Map agent id to its most possible next agent.\n",
        "\"\"\"\n",
        "link_list = {}\n",
        "visited_walker_ids = set()\n",
        "\n",
        "def train(walker_id1):\n",
        "    posX, posY, negX, negY = [], [], [], []\n",
        "    walk1 = df_contacts.loc[df_contacts['walker_id'] == walker_id1]\n",
        "\n",
        "    time1, time2 = utils.get_last_2_time(walk1, walker_id1)\n",
        "    if not time1 or not time2:\n",
        "        return #continue\n",
        "    \n",
        "    start_time = time.time()\n",
        "    # in case there're multiple agents tracking the walker\n",
        "    last_rows = walk1.loc[(walk1['time'] == time1)]\n",
        "    pre_rows = walk1.loc[(walk1['time'] == time2)]\n",
        "    if last_rows.shape[0] == 0 or pre_rows.shape[0] == 0:\n",
        "        return #continue\n",
        "        \n",
        "    if DEBUG: print('walker_id1: {}, # last_rows: {}, # pre_rows: {}'.format(walker_id1, last_rows.shape, pre_rows.shape))\n",
        "        \n",
        "    # among all the tracked records, consider mean velocity as real velocity\n",
        "    vx, vy = utils.get_mean_v(last_rows, pre_rows)\n",
        "    avg_dis = math.sqrt(vx ** 2 + vy ** 2)\n",
        "    if DEBUG: print('velocity: ', time.time() - start_time)\n",
        "    \n",
        "    start_time = time.time()\n",
        "    # get candidate points by time\n",
        "    candidates = df_contacts.loc[(df_contacts[\"time\"] == int(time1) + INTERVAL) & \n",
        "                                 (df_contacts['walker_id'] != walker_id1)]\n",
        "\n",
        "    if DEBUG: print(f'{candidates.shape}: ', time.time() - start_time)\n",
        "    \n",
        "    if candidates.shape[0] == 0:\n",
        "        return #continue\n",
        "    \n",
        "    candidate_agent_probs = {}\n",
        "    for _, row1 in last_rows.iterrows():\n",
        "        start_time = time.time()\n",
        "        \n",
        "        agent_id1, time1 = row1['agent_id'], row1['time']\n",
        "        json1 = json.loads(row1['json'])['agentPos']\n",
        "    \n",
        "        for _, row2 in candidates.iterrows():\n",
        "            res = ''\n",
        "            agent_id2, walker_id2, time2 = row2['agent_id'], row2['walker_id'], row2['time']\n",
        "            json2 = json.loads(row2['json'])['agentPos']\n",
        "            \n",
        "            isPos, thisX = True, []\n",
        "           \n",
        "            walk2 = df_contacts.loc[df_contacts['walker_id'] == walker_id2]\n",
        "            if walk1.iloc[0]['real_id'] == walk2.iloc[0]['real_id']:\n",
        "                isPos = True\n",
        "            else:\n",
        "                isPos = False\n",
        "            \n",
        "            prob = utils.get_prob(df_contacts, prob_agent_id, agent_id1, agent_id2, walker_id2, \n",
        "                                  json1, json2, prob_dir, vx, vy, prob_move, int(row2['time']) - int(row1['time']))\n",
        "                  \n",
        "            if isPos:\n",
        "                posX.append(prob)\n",
        "                posY.append(1)\n",
        "            else:\n",
        "                negX.append(prob)\n",
        "                negY.append(0)\n",
        "            \n",
        "        if DEBUG: print(f'candidates', time.time() - start_time)\n",
        "    \n",
        "    return posX, posY, negX, negY\n",
        "#     if i % 100 == 99: print(f'{i+1}th/{len(walker_ids)} iter: {time.time() - start_time}')"
      ],
      "execution_count": null,
      "outputs": []
    },
    {
      "cell_type": "code",
      "metadata": {
        "id": "Fw4TW6C5MkNk",
        "colab": {
          "base_uri": "https://localhost:8080/"
        },
        "outputId": "827c3a32-aa16-42e7-c08f-58b7ebe032a8"
      },
      "source": [
        "p = Pool(20)\n",
        "walker_ids = list(set(df_contacts['walker_id'].tolist()))\n",
        "print(len(walker_ids))"
      ],
      "execution_count": null,
      "outputs": [
        {
          "output_type": "stream",
          "text": [
            "9016\n"
          ],
          "name": "stdout"
        }
      ]
    },
    {
      "cell_type": "code",
      "metadata": {
        "id": "iau2dzVxMkNm",
        "colab": {
          "base_uri": "https://localhost:8080/"
        },
        "outputId": "022187b2-1b35-4cd7-d215-66492c88cd12"
      },
      "source": [
        "from os.path import isfile\n",
        "\n",
        "X_PATH = f'{PATH}/X_2.npy'\n",
        "Y_PATH = f'{PATH}/Y_2.npy'\n",
        "if isfile(X_PATH) and isfile(Y_PATH):\n",
        "  npX = np.load(X_PATH)\n",
        "  npY = np.load(Y_PATH)\n",
        "else:\n",
        "  posX, posY, negX, negY = [], [], [], []\n",
        "\n",
        "  start_idx = 0\n",
        "  while True:\n",
        "    start_time = time.time()\n",
        "    results = p.map(train, list(walker_ids)[start_idx:start_idx+1000])\n",
        "    start_idx += 1000\n",
        "    if not results:\n",
        "      break\n",
        "    for tmp in results:\n",
        "      if tmp is None:\n",
        "          continue\n",
        "      tposX, tposY, tnegX, tnegY = tmp\n",
        "      posX += tposX\n",
        "      posY += tposY\n",
        "      negX += tnegX\n",
        "      negY += tnegY\n",
        "    print(f'[{start_idx}, {start_idx+1000}]:{time.time() - start_time}')\n",
        "    print(len(posX), len(posY), len(negX), len(negY))\n",
        "  # choices = np.random.choice(np.array(posY).shape[0], np.array(negY).shape[0], replace=False)\n",
        "  # choices = np.random.choice(np.array(negY).shape[0], np.array(posY).shape[0], replace=False)\n",
        "\n",
        "  # npX = np.append(np.array(negX), np.take(np.array(posX), choices, 0), axis=0)\n",
        "  # npY = np.append(np.array(negY), np.take(np.array(posY), choices, 0))\n",
        "\n",
        "  # npX = np.append(np.array(posX), np.take(np.array(negX), choices, 0), axis=0)\n",
        "  # npY = np.append(np.array(posY), np.take(np.array(negY), choices, 0))\n",
        "\n",
        "  npX = np.append(np.array(posX), np.array(negX), axis=0)\n",
        "  npY = np.append(np.array(posY), np.array(negY))\n",
        "\n",
        "  with open(X_PATH, 'wb') as f:\n",
        "    np.save(f, npX)\n",
        "  with open(Y_PATH, 'wb') as f:\n",
        "    np.save(f, npY)"
      ],
      "execution_count": null,
      "outputs": [
        {
          "output_type": "stream",
          "text": [
            "[1000, 2000]:260.13180208206177\n",
            "919 919 7010 7010\n",
            "[2000, 3000]:251.9616858959198\n",
            "1821 1821 14080 14080\n",
            "[3000, 4000]:249.48232126235962\n",
            "2718 2718 21152 21152\n",
            "[4000, 5000]:255.04579186439514\n",
            "3653 3653 28296 28296\n",
            "[5000, 6000]:248.18135952949524\n",
            "4577 4577 35269 35269\n",
            "[6000, 7000]:254.1941728591919\n",
            "5499 5499 42423 42423\n",
            "[7000, 8000]:252.80972599983215\n",
            "6437 6437 49499 49499\n",
            "[8000, 9000]:251.56948947906494\n",
            "7364 7364 56580 56580\n",
            "[9000, 10000]:245.94977807998657\n",
            "8274 8274 63486 63486\n",
            "[10000, 11000]:4.994048357009888\n",
            "8291 8291 63626 63626\n"
          ],
          "name": "stdout"
        }
      ]
    },
    {
      "cell_type": "code",
      "metadata": {
        "id": "-s-qWSGoMkNn",
        "colab": {
          "base_uri": "https://localhost:8080/"
        },
        "outputId": "22df07ad-29b4-4652-9192-32659c71920c"
      },
      "source": [
        "from sklearn.datasets import load_iris\n",
        "from sklearn.linear_model import LogisticRegression\n",
        "clf = LogisticRegression(random_state=0, max_iter=500).fit(npX, npY)\n",
        "clf.predict(npX[:2, :])\n",
        "clf.predict_proba(npX[:2, :])\n",
        "clf.score(npX, npY)"
      ],
      "execution_count": null,
      "outputs": [
        {
          "output_type": "execute_result",
          "data": {
            "text/plain": [
              "0.8847143234562065"
            ]
          },
          "metadata": {
            "tags": []
          },
          "execution_count": 12
        }
      ]
    },
    {
      "cell_type": "markdown",
      "metadata": {
        "id": "xTzEveaLc5KG"
      },
      "source": [
        "# Define Model"
      ]
    },
    {
      "cell_type": "code",
      "metadata": {
        "id": "T6HbKMFlShYw"
      },
      "source": [
        "DEBUG = False\n",
        "\n",
        "agent_to_ix = {}\n",
        "for _, row in df_agents.iterrows():\n",
        "  x, y = row['id'].split('EVEN')\n",
        "  agent_to_ix[row['id']] = [int(x)/N, (int(y)%M)/M]"
      ],
      "execution_count": null,
      "outputs": []
    },
    {
      "cell_type": "markdown",
      "metadata": {
        "id": "przZ0twiMkNn"
      },
      "source": [
        "## Predicating"
      ]
    },
    {
      "cell_type": "code",
      "metadata": {
        "id": "01r2Z7DhMkNo"
      },
      "source": [
        "cnx = sqlite3.connect(f'{PATH}/{TEST_DB}')\n",
        "\n",
        "df_walks = pd.read_sql_query(\"SELECT * FROM walks JOIN walkers ON walkers.id = walks.walker_id\", cnx)\n",
        "df_walkers = pd.read_sql_query(\"SELECT * FROM walkers\", cnx)\n",
        "df_agents = pd.read_sql_query(\"SELECT * FROM agents\", cnx)\n",
        "df_contacts_tmp = pd.read_sql_query(\"SELECT * FROM contacts JOIN walkers ON walkers.id = contacts.walker_id\", cnx)\n",
        "idx = df_contacts_tmp.groupby(['walker_id', 'time'])['distance'].transform(min) == df_contacts_tmp['distance']\n",
        "df_contacts = df_contacts_tmp[idx]"
      ],
      "execution_count": null,
      "outputs": []
    },
    {
      "cell_type": "code",
      "metadata": {
        "id": "kKLy9nNDMkNo"
      },
      "source": [
        "\"\"\"\n",
        "Get counter of agent_id Key -> agent_id Values\n",
        "\"\"\"\n",
        "id_to_pos, pos_to_id = utils.get_position(df_agents)\n",
        "prob_agent_id = utils.map_prob_to_agent_id(prob_pos, pos_to_id)"
      ],
      "execution_count": null,
      "outputs": []
    },
    {
      "cell_type": "markdown",
      "metadata": {
        "id": "xlSJWjA_SsWJ"
      },
      "source": [
        "## Time based"
      ]
    },
    {
      "cell_type": "code",
      "metadata": {
        "id": "yzGM5TkojjE4"
      },
      "source": [
        "# walker_ids = set(df_contacts['walker_id'].tolist())\n",
        "# id_to_time = {}\n",
        "# id_to_agent = {}\n",
        "# start_time_to_id = collections.defaultdict(list)\n",
        "# for walker_id in walker_ids:\n",
        "#     candidates = df_contacts.loc[df_contacts['walker_id'] == walker_id].sort_values('time')\n",
        "#     min_time, max_time = candidates.iloc[0]['time'], candidates.iloc[-1]['time']\n",
        "#     id_to_time[walker_id] = (int(min_time), int(max_time))\n",
        "#     id_to_agent[walker_id] = (candidates.iloc[0]['agent_id'], candidates.iloc[-1]['agent_id'])\n",
        "#     start_time_to_id[int(min_time)].append(walker_id)"
      ],
      "execution_count": null,
      "outputs": []
    },
    {
      "cell_type": "code",
      "metadata": {
        "id": "J0bRKQ6oMkNo"
      },
      "source": [
        "# walker_ids = set(df_contacts['walker_id'].tolist())\n",
        "# link_list = {}\n",
        "# for walker_id in walker_ids:\n",
        "#     last_time = id_to_time[walker_id][1]\n",
        "#     candidates = start_time_to_id[last_time + INTERVAL]\n",
        "\n",
        "#     if len(candidates) == 1:\n",
        "#         x0, y0 = id_to_agent[walker_id][1].split('EVEN')\n",
        "#         x1, y1 = id_to_agent[candidates[0]][0].split('EVEN')\n",
        "#         if abs(int(x0) - int(x1)) <= 1 and abs(int(y0)%30 - int(y1)%30) <= 1:\n",
        "#             link_list[walker_id] = candidates[0]\n",
        "# print(len(walker_ids))\n",
        "# print(link_list)"
      ],
      "execution_count": null,
      "outputs": []
    },
    {
      "cell_type": "code",
      "metadata": {
        "id": "2y1xbEF6MkNp"
      },
      "source": [
        "# # \"\"\"\n",
        "# # Connect each linked path into a single path\n",
        "# # \"\"\"\n",
        "# graph = nx.Graph([(i, j) for i, j in link_list.items() if i and j])\n",
        "# connected_components = sorted(nx.connected_components(graph), key=len, reverse=True)\n",
        "# print(len(connected_components))\n",
        "\n",
        "# tried = 0\n",
        "# for i, component in enumerate(connected_components):\n",
        "#     component = list(component)\n",
        "#     # print(component)\n",
        "#     new_id = component[0]\n",
        "#     time_set = set()\n",
        "#     for c in component[1:]:\n",
        "#         # rows = df_contacts.loc[df_contacts['walker_id'] == c]\n",
        "            \n",
        "#         # tried += df_contacts.loc[df_contacts['walker_id'] == c].shape[0]\n",
        "#         df_contacts = df_contacts.replace({'walker_id': {c: new_id}})\n",
        "#         df_walks = df_walks.replace({'walker_id': {c: new_id}})"
      ],
      "execution_count": null,
      "outputs": []
    },
    {
      "cell_type": "markdown",
      "metadata": {
        "id": "pXxkEXFxSxLW"
      },
      "source": [
        "## Model helper"
      ]
    },
    {
      "cell_type": "code",
      "metadata": {
        "id": "29u-I0X8MkNp"
      },
      "source": [
        "def compute_proba(df_contacts, walker_id1, walk, candidates, prob_agent_id, prob_dir, prob_move, clf=None):\n",
        "    candidate_agent_probs = {}\n",
        "\n",
        "    time1, time2 = utils.get_last_2_time(walk, walker_id1)\n",
        "    if not time1 or not time2:\n",
        "        return candidate_agent_probs\n",
        "    last_rows = walk.loc[(walk['time'] == time1)]\n",
        "    pre_rows = walk.loc[(walk['time'] == time2)]\n",
        "    if last_rows.shape[0] == 0 or pre_rows.shape[0] == 0:\n",
        "        return candidate_agent_probs\n",
        "\n",
        "    # among all the tracked records, consider mean velocity as real velocity\n",
        "    vx, vy = utils.get_mean_v(last_rows, pre_rows)\n",
        "    avg_dis = math.sqrt(vx ** 2 + vy ** 2)\n",
        "    \n",
        "    for _, row1 in last_rows.iterrows():\n",
        "        agent_id1, time1 = row1['agent_id'], row1['time']\n",
        "        json1 = json.loads(row1['json'])['agentPos']\n",
        "\n",
        "        for _, row2 in candidates.iterrows():\n",
        "            agent_id2, wid2 = row2['agent_id'], row2['walker_id']\n",
        "            json2 = json.loads(row2['json'])['agentPos']\n",
        "\n",
        "            prob = utils.get_prob(df_contacts, prob_agent_id, agent_id1, agent_id2, wid2, \n",
        "                                  json1, json2, prob_dir, vx, vy, prob_move, int(row2['time']) - int(row1['time']))\n",
        "            # a walker's probability to be the next step is the average probability\n",
        "            weight = json.loads(row2['json'])['distance']\n",
        "            prob_y = clf.predict_proba(np.array([prob])[:1, :])[0][1]\n",
        "\n",
        "            if wid2 in candidate_agent_probs:\n",
        "                # print(prob_y, candidate_agent_probs[wid2])\n",
        "                candidate_agent_probs[wid2] = prob_y\n",
        "            else:\n",
        "                candidate_agent_probs[wid2] = prob_y\n",
        "\n",
        "    sum_prob = sum(candidate_agent_probs.values())\n",
        "    for k, v in candidate_agent_probs.items():\n",
        "      candidate_agent_probs[k] = candidate_agent_probs[k] / sum_prob\n",
        "            \n",
        "    return candidate_agent_probs"
      ],
      "execution_count": null,
      "outputs": []
    },
    {
      "cell_type": "code",
      "metadata": {
        "id": "cHnLTuUAAYzq"
      },
      "source": [
        "# No. of real_ids are not known"
      ],
      "execution_count": null,
      "outputs": []
    },
    {
      "cell_type": "code",
      "metadata": {
        "id": "Cda3OtrFRsm9"
      },
      "source": [
        "walker_ids, sorted_walker_ids = set(), []\n",
        "for _, row in df_contacts.sort_values('time').iterrows():\n",
        "  if row['walker_id'] in walker_ids:\n",
        "    continue\n",
        "  sorted_walker_ids.append(row['walker_id'])\n",
        "  walker_ids.add(row['walker_id'])\n",
        "id_to_time = {}\n",
        "id_to_agent = {}\n",
        "id_to_length = {}\n",
        "start_time_to_id = collections.defaultdict(list)\n",
        "end_time_to_id = collections.defaultdict(list)\n",
        "for walker_id in walker_ids:\n",
        "  candidates = df_contacts.loc[df_contacts['walker_id'] == walker_id].sort_values('time')\n",
        "  min_time, max_time = candidates.iloc[0]['time'], candidates.iloc[-1]['time']\n",
        "\n",
        "  id_to_time[walker_id] = (int(min_time), int(max_time))\n",
        "  id_to_agent[walker_id] = (candidates.iloc[0]['agent_id'], candidates.iloc[-1]['agent_id'])\n",
        "  id_to_length[walker_id] = int((max_time - min_time) / INTERVAL)\n",
        "  start_time_to_id[int(min_time)].append(walker_id)\n",
        "  end_time_to_id[int(max_time)].append(walker_id)"
      ],
      "execution_count": null,
      "outputs": []
    },
    {
      "cell_type": "markdown",
      "metadata": {
        "id": "Jin0wV6W8Nua"
      },
      "source": [
        "### Method 1"
      ]
    },
    {
      "cell_type": "code",
      "metadata": {
        "scrolled": false,
        "id": "GsBZ6yUsMkNq"
      },
      "source": [
        "# from scipy.optimize import linear_sum_assignment\n",
        "# import math\n",
        "\n",
        "# link_list = {}\n",
        "# DEBUG = False\n",
        "# no_candidates = 0\n",
        "# \"\"\"\n",
        "# Map agent id to its most possible next agent.\n",
        "# \"\"\"\n",
        "# walker_ids = set(df_contacts['walker_id'].tolist())\n",
        "# visited_walker_ids = set()\n",
        "# for i, walker_id1 in enumerate(walker_ids):\n",
        "#     if walker_id1 in visited_walker_ids:\n",
        "#         continue\n",
        "#     if i % 500 == 499:\n",
        "#         print(f'{i+1}...')\n",
        "#     walk = df_contacts.loc[df_contacts['walker_id'] == walker_id1].sort_values('time')\n",
        " \n",
        "#     time = walk.iloc[-1]['time']\n",
        "#     # get candidate points by time\n",
        "\n",
        "#     candidate_ids = start_time_to_id[time + INTERVAL]\n",
        "#     candidates = df_contacts.loc[(df_contacts['walker_id'].isin(candidate_ids)) & (df_contacts['time'] == (time + INTERVAL))]\n",
        " \n",
        "#     if candidates.shape[0] == 0:\n",
        "#         candidate_ids = start_time_to_id[time + 2 * INTERVAL]\n",
        "#         for id in end_time_to_id[time + INTERVAL]:\n",
        "#           if id != walker_id and id in candidate_ids:\n",
        "#             candidate_ids.remove(id)\n",
        "#         candidates = df_contacts.loc[(df_contacts['walker_id'].isin(candidate_ids)) & (df_contacts['time'] == (time + 2 * INTERVAL))]\n",
        "\n",
        "#         if candidates.shape[0] == 0:\n",
        "#           candidate_ids = start_time_to_id[time + 3 * INTERVAL]\n",
        "#           for id in end_time_to_id[time + 2 * INTERVAL]:\n",
        "#             if id != walker_id and id in candidate_ids:\n",
        "#               candidate_ids.remove(id)\n",
        "#           candidates = df_contacts.loc[(df_contacts['walker_id'].isin(candidate_ids)) & (df_contacts['time'] == (time + 3 * INTERVAL))]\n",
        "\n",
        "#         if candidates.shape[0] == 0:\n",
        "#             no_candidates += 1\n",
        "#             continue\n",
        " \n",
        "#     # if candidates.shape[0] == 1:\n",
        "#     #     # print('1 candidates')\n",
        "#     #     link_list[walker_id] = candidates.iloc[-1]['walker_id']\n",
        "#     #     visited_walker_ids.add(walker_id)\n",
        "#     #     continue\n",
        "        \n",
        "#     raw_batch_walker_ids = set(df_contacts.loc[df_contacts['time'] == time]['walker_id'])\n",
        "#     batch_walker_ids_prob = {}\n",
        "#     for walker_id2 in raw_batch_walker_ids:\n",
        "#         walk2 = df_contacts.loc[df_contacts['walker_id'] == walker_id2].sort_values('time').iloc[-10:]\n",
        "#         if int(walk2.iloc[-1]['time']) == time and walker_id2 not in visited_walker_ids:\n",
        "#             batch_walker_ids_prob[walker_id2] = compute_proba(df_contacts, walker_id2, walk2, candidates, prob_agent_id, prob_dir, prob_move, clf)\n",
        " \n",
        "#     # print(batch_walker_ids_prob)\n",
        "#     walker_id_to_index, walker_index_to_id = {}, []\n",
        "#     candidate_id_to_index, candidate_index_to_id = {}, []\n",
        " \n",
        "#     for k, values in batch_walker_ids_prob.items():\n",
        "#         walker_id_to_index[k] = len(walker_id_to_index)\n",
        "#         walker_index_to_id.append(k)\n",
        "#         for c, v in values.items():\n",
        "#             if c not in candidate_id_to_index:\n",
        "#                 candidate_id_to_index[c] = len(candidate_id_to_index)\n",
        "#                 candidate_index_to_id.append(c)\n",
        "#     matrix = [[1e-32] * len(candidate_id_to_index) for _ in range(len(walker_id_to_index))]\n",
        "    \n",
        "#     for k, values in batch_walker_ids_prob.items():\n",
        "#         for c, v in values.items():\n",
        "#             matrix[walker_id_to_index[k]][candidate_id_to_index[c]] = -math.log(v)\n",
        "                \n",
        "#     # print(matrix)\n",
        "#     row_ind, col_ind = linear_sum_assignment(matrix)\n",
        "#     # print(matrix)\n",
        "#     for row_idx, col_idx in zip(row_ind, col_ind):\n",
        "#         if matrix[row_idx][col_idx] >= -math.log(1e-32):\n",
        "#             continue\n",
        "#         link_list[walker_index_to_id[row_idx]] = candidate_index_to_id[col_idx]\n",
        "#         visited_walker_ids.add(walker_index_to_id[row_idx])"
      ],
      "execution_count": null,
      "outputs": []
    },
    {
      "cell_type": "markdown",
      "metadata": {
        "id": "RPEATvtH8Q7b"
      },
      "source": [
        "### Method 2"
      ]
    },
    {
      "cell_type": "code",
      "metadata": {
        "colab": {
          "base_uri": "https://localhost:8080/"
        },
        "id": "uy9eokjV6jUN",
        "outputId": "261fa329-d63a-4498-d570-b906c18c1197"
      },
      "source": [
        "from scipy.optimize import linear_sum_assignment\n",
        "import math\n",
        "\n",
        "link_list, reversed_link_list = {}, {}\n",
        "DEBUG = False\n",
        "no_candidates = 0\n",
        "\"\"\"\n",
        "Map agent id to its most possible next agent.\n",
        "\"\"\"\n",
        "walker_ids = set(df_contacts['walker_id'].tolist())\n",
        "visited_walker_ids = set()\n",
        "for i, (time, raw_batch_walker_ids) in enumerate(end_time_to_id.items()):\n",
        "    if len(raw_batch_walker_ids) == 0:\n",
        "        no_candidates += 1\n",
        "        continue\n",
        "    if i % 500 == 499:\n",
        "        print(f'{i+1}...')\n",
        "\n",
        "    candidate_ids = start_time_to_id[time + INTERVAL]\n",
        "    next_times = [time + INTERVAL]\n",
        "    candidates = df_contacts.loc[(df_contacts['walker_id'].isin(candidate_ids)) & (df_contacts['time'].isin(next_times))]\n",
        "\n",
        "    if len(candidate_ids) < len(raw_batch_walker_ids):\n",
        "        candidate_ids += start_time_to_id[time + 2 * INTERVAL]\n",
        "        next_times.append(time + 2 * INTERVAL)\n",
        "        # for id in end_time_to_id[time + INTERVAL]:\n",
        "          # if id != walker_id and id in candidate_ids:\n",
        "            # candidate_ids.remove(id)\n",
        "        candidates = df_contacts.loc[(df_contacts['walker_id'].isin(candidate_ids)) & (df_contacts['time'].isin(next_times))]\n",
        "\n",
        "        if len(candidate_ids) < len(raw_batch_walker_ids):\n",
        "          candidate_ids += start_time_to_id[time + 3 * INTERVAL]\n",
        "          next_times.append(time + 3 * INTERVAL)\n",
        "          # for id in end_time_to_id[time + 2 * INTERVAL]:\n",
        "            # if id != walker_id and id in candidate_ids:\n",
        "              # candidate_ids.remove(id)\n",
        "          candidates = df_contacts.loc[(df_contacts['walker_id'].isin(candidate_ids)) & (df_contacts['time'].isin(next_times))]\n",
        "\n",
        "        if candidates.shape[0] == 0:\n",
        "            no_candidates += 1\n",
        "            continue\n",
        "\n",
        " \n",
        "    # if candidates.shape[0] == 1:\n",
        "    #     # print('1 candidates')\n",
        "    #     link_list[walker_id] = candidates.iloc[-1]['walker_id']\n",
        "    #     visited_walker_ids.add(walker_id)\n",
        "    #     continue\n",
        "        \n",
        "    batch_walker_ids_prob = {}\n",
        "    for walker_id2 in raw_batch_walker_ids:\n",
        "        walk2 = df_contacts.loc[df_contacts['walker_id'] == walker_id2].sort_values('time')\n",
        "        tmp = walker_id2\n",
        "        if int(walk2.iloc[-1]['time']) == time and walker_id2 not in visited_walker_ids:\n",
        "            walker_id2s = [walker_id2]\n",
        "            while walker_id2 in reversed_link_list:\n",
        "                walker_id2 = reversed_link_list[walker_id2]\n",
        "                walker_id2s.append(walker_id2)\n",
        "            walk2 = df_contacts.loc[df_contacts['walker_id'].isin(walker_id2s)].sort_values('time')\n",
        "            if walk2.iloc[-1]['walker_id'] != tmp:\n",
        "              print(\"ERROR!\")\n",
        "            batch_walker_ids_prob[walk2.iloc[-1]['walker_id']] = compute_proba(df_contacts, walk2.iloc[-1]['walker_id'], walk2, candidates, prob_agent_id, prob_dir, prob_move, clf)\n",
        " \n",
        "    # print(batch_walker_ids_prob)\n",
        "    walker_id_to_index, walker_index_to_id = {}, []\n",
        "    candidate_id_to_index, candidate_index_to_id = {}, []\n",
        " \n",
        "    for k, values in batch_walker_ids_prob.items():\n",
        "        walker_id_to_index[k] = len(walker_id_to_index)\n",
        "        walker_index_to_id.append(k)\n",
        "        for c, v in values.items():\n",
        "            if c not in candidate_id_to_index:\n",
        "                candidate_id_to_index[c] = len(candidate_id_to_index)\n",
        "                candidate_index_to_id.append(c)\n",
        "    matrix = [[1e-32] * len(candidate_id_to_index) for _ in range(len(walker_id_to_index))]\n",
        "    \n",
        "    for k, values in batch_walker_ids_prob.items():\n",
        "        for c, v in values.items():\n",
        "            matrix[walker_id_to_index[k]][candidate_id_to_index[c]] = -math.log(v)\n",
        "                \n",
        "    # print(matrix)\n",
        "    row_ind, col_ind = linear_sum_assignment(matrix)\n",
        "    # print(matrix)\n",
        "    for row_idx, col_idx in zip(row_ind, col_ind):\n",
        "        if matrix[row_idx][col_idx] >= -math.log(1e-32):\n",
        "            continue\n",
        "        link_list[walker_index_to_id[row_idx]] = candidate_index_to_id[col_idx]\n",
        "        reversed_link_list[candidate_index_to_id[col_idx]] = walker_index_to_id[row_idx]\n",
        "        visited_walker_ids.add(walker_index_to_id[row_idx])"
      ],
      "execution_count": null,
      "outputs": [
        {
          "output_type": "stream",
          "text": [
            "500...\n",
            "1000...\n",
            "1500...\n"
          ],
          "name": "stdout"
        }
      ]
    },
    {
      "cell_type": "code",
      "metadata": {
        "colab": {
          "base_uri": "https://localhost:8080/"
        },
        "id": "6bCRCOqBqts1",
        "outputId": "17ce6bab-291d-4c98-a74c-baafe2f8ea39"
      },
      "source": [
        "no_candidates"
      ],
      "execution_count": null,
      "outputs": [
        {
          "output_type": "execute_result",
          "data": {
            "text/plain": [
              "95"
            ]
          },
          "metadata": {
            "tags": []
          },
          "execution_count": 24
        }
      ]
    },
    {
      "cell_type": "code",
      "metadata": {
        "id": "T0HY52swMkNq",
        "colab": {
          "base_uri": "https://localhost:8080/"
        },
        "outputId": "044b8475-d7d2-4964-ae11-a7552d82da67"
      },
      "source": [
        "\"\"\"\n",
        "Connect each linked path into a single path\n",
        "\"\"\"\n",
        "graph = nx.Graph([(i, j) for i, j in link_list.items() if i and j])\n",
        "connected_components = sorted(nx.connected_components(graph), key=len, reverse=True)\n",
        "print(len(connected_components))\n",
        "print(connected_components)\n",
        "\n",
        "tried = 0\n",
        "df_walks_connected = pd.DataFrame(df_walks)\n",
        "for i, component in enumerate(connected_components):\n",
        "    new_id = i\n",
        "    time_set = set()\n",
        "    for c in component:\n",
        "        df_walks_connected = df_walks_connected.replace({'walker_id': {c: str(new_id) + 'res'}})\n",
        "        "
      ],
      "execution_count": null,
      "outputs": [
        {
          "output_type": "stream",
          "text": [
            "123\n",
            "[{'YAHgWLwoUHeeDiaxNDWs', 'HYOwIHXBDIeSXyAyMAui', 'FggtkukJjwFDkQZtNMXi', 'LRQMEUgXyKaLWWgrVumc', 'mrlgWdiUdKKSEdbKctDk', 'jKjezWKFjPCkFcSuRpEf', 'HrzoOlxpOXcrQSWnCqzY', 'CoTWCSDqMXnqUtQwBbQf', 'TjEdfKuefGTiLLAikbVV', 'TGaHQThGDhwcNaceWRZX', 'VquZrFTUpTCKquTOMNfW', 'fuSHWRAWkZYoAHuxgwHK', 'IUohCXLfwZvEuOnnGMoX', 'UqwYmmOQuSPkPfPJrSAp', 'wCoEOycPXLDCgjewwhAi', 'GjjfPiDqtFpRZAoMUSxb', 'CLByFQwWLLaTBeSRudQm', 'wXPNHFDBGLRHRQJutRoP', 'NdUYfCeJgugsbcmeKkoZ', 'hJxHuEfKxLWmPGzaWdbE', 'gWMPyLFASXRfXjmeFYQl', 'CKdAitQkpRqPRiBnstss', 'tinxXebozbuqUNaUNYRM', 'dfeQarlNZDcKiuIEgbLM', 'eIyXcWzzmcxocqIAclcy', 'SFoIiPahMRoWZvwfPOnE', 'fSESYdgtMdRAZFzvEZQj', 'SdzmCauJDDqNKusaFCbn', 'kGdEtTHFtLszKYiFstzU', 'IigqkgTJxuqjzsvUEIfz', 'OIuvjbQJwJPAVFUoxlFz', 'MxsGvZiDxkKEnAsTzngH', 'bbPxCqIMBjNvpvfoEDzV', 'aHYHSNwbHwOrOwAdUlMH', 'ilJijjwLlKkIIGRmesuY', 'AzSQEVybySQIVmcuxRkS', 'QzCBcICYCOfszhCLQcTn', 'xRvUttPOxfDivHDLyaPf', 'jdkayJldGMlXmgtVXAAf', 'dNwuGKKCrXlMQzfQsLXF', 'lRFROFJzpEhYoZsZvjyK', 'yiASGireWGqOiFTDXnEC', 'KLeNFpbMvFTcywfcyEYM', 'XedgpEYsthJRnyPoEtVG', 'wYOpujTCnsBlYvArKnre', 'orezdvDgyrkagrisAZtX', 'oDlsedbnBrtonfpILrNd', 'wBpdfKOumKQsKUwbJNyD', 'FvwyOkwlDmUJVAeNGeqF', 'DqKwAXGyHXJDtZHahtEs', 'RyegHOCzDreaQHAvNavy', 'MtrXAPWRYhgozTouZwCp', 'fFzMrsvXCtwZijARlJrh', 'UHKXRUhElBUvuwLdmrEd', 'NQGCImAwisXFRiwNIhDT', 'UxSNXzPJHPTjEuwtoDyn', 'CxHNCMfAsRqjUCXquqPy', 'DswsjLNCsRIEETBnXWFT', 'oPHLkKFwbkyweRsQaWuL', 'RCFnpmyPBbtFUgmBNyIp'}, {'tygLqZwmDHvQxFaoqSuL', 'TZkSoMYgtSoFIpJtZygi', 'vGTrqeBFRsYxiFZaEaRX', 'kFhJCFVzImqzkImHqQUW', 'PSiRskzBXyWhzIIIooVS', 'RMzJYBbtamuJVbgYzdUN', 'enZuWNrZzRiSphCIZINy', 'MMPpiRdwVmTPSpmofuxg', 'vkPlIQmWjgDhrBcVPIPG', 'qheHvWxLZseovZIDCsHz', 'KoMEplWASXIJfcQajHts', 'nzKqMbdNxGiwCaMRgHgJ', 'bdmECEJRVvlDSJkZGHeW', 'JtziLBxujtiZpkvsSmwi', 'VMaryVquALMtDsCdcxln', 'HpKnjHOAEIIYgtxFEgsF', 'ZZwCrPpBdvOrWkcktyTz', 'MjYUAlpiGxXWmxbvNvZm', 'lVWnuIVaGiybdouGIngf', 'CvnzhsVtrSKftvmwMEMP', 'VwXGOyJNnctPUyngoCWZ', 'yysRfGMWJqjSnLqXHVEU', 'HbFnDptWOnCgdQfldtQZ', 'iuMHxESsMMGamTLQacaY', 'mcVliQFEXCNZvVRfuASC', 'TkzKTXUfgKqskAjhYnuX', 'VHDmWeyQTzuUJrtFbYyJ', 'iNSIZlBRBDpLggKxBQZP', 'fdpwrmMSyFkQExhUcbBO', 'FEshgVDTdHwUAlceJDhj', 'WrHMvHhcYrfrbgxTdLQc', 'NVGFASxsygxFVGBnlsdH', 'xcTDUDkkdMjvZCTZWbUs', 'lTxWyIkNfGweNkCKpKlp', 'EwWxzuHQMWoTjTOjoMRg', 'yImwIkudJdWaFwuyQUPb', 'vZuGLtPdUKUSiHOIxFEC', 'cZXOWhhijAJMvnsKFjKV', 'IomcVNUuIHwwtHvrxIxQ', 'tHCRlpNPceTNzVhbxQIa', 'XthMTedOaXOrmNkIMCWI', 'lVKZkDAhQjsJkBqacbOU', 'ckzOzLCmdIzibwNrgiZp', 'WJrDSEJEaBOGEeVPUgrc', 'dnZYMmXDCPyowBXsoVdA'}, {'UMgvVTzeKxDzQgBXWxgS', 'dwavjVKDtqqMKKbLwmXv', 'dopjfwUwInpMhIyhJEnC', 'UuIyTOMktyKbXAeHZTNG', 'sfirbhExGDLxEktNriGI', 'NVlSmUCrAHVUvjqJgOeP', 'QXugPYdiwSKwExIXKsYV', 'hmPfyYYaxtOagzQsXTdb', 'xVIPykUCdtiKmcZQFkXb', 'XUQGmmjEVWxAkihKcGIW', 'tCiJWyEEEFHmqafxxCVy', 'OBrfPYwIbJEQyTZuBHCF', 'IsBcIyCeSyqPjMdVXnhG', 'sDjmSfZHNCQBifWfJQYN', 'mCoaFjNZNwnOyQJMyZxo', 'ZUBNPrsfhhfcahsNkPZE', 'TCwQpSQDYuNLGfWgEXnC', 'AXIcFOPeCfZVwdkLWGqt', 'fEBekuriCOsCbIcIwcte', 'DnAMkMpkLbtdMCIyrcGU', 'AkkOIBxRMVVAmJTequfR', 'icKjVtUnJslWNUDlozKg', 'DQTuZXiinCSfhZRhnUPH', 'nizlCYWbpvSRYwneWdEn', 'XzWupuUzupAkJxHcyHtS', 'AVCGzIoMxKUNtyvRejJh', 'mUWZQNvssbWgNCVGPFwI', 'KdSBLbIAXjulLEgQyrLc', 'vuhRKguwAGJfsZaQzRwy', 'UMemitxjUdinyUGTkRaq', 'OqjxUblOoEWPSXhTXenN', 'XerRSLqLSblbIwqSihhR', 'gFHEsJpbuNGzQuKPteKY', 'mCPqwURCLXbQnamhfRgX', 'sKsDnThxHDWEDbQWRKgc', 'wYMPTAnYYbHekxCtpuQo', 'wfXovUDShOkTgCzeQbVk', 'VsQegwUFwvtOZUvbQNAI', 'OVHZSSPTkmjREtvQhxCf', 'QgsojwbRsmEmtcFzwbvw', 'EKGjJLYnyQXcVEsHGART', 'wIENhcJrtONYeZtlScvP', 'SpFQWIBHMaInTCtWjRPv', 'jThSlqSzrzYAAdHytMWC'}, {'WPAPHEYhvdWPWvgvoxBq', 'suBKTYANuuaiCeKEIPkC', 'PuhayTFMtEksPdxaZPNB', 'ckUNYSSqdZmXUHQWVxwv', 'EyrfBOzFTHAhIgGjAqEQ', 'XSTqfODRDfUhTRsQbnCw', 'mLysfunEzjXbHjQPYmrG', 'VFUtrwonZJUHqPSCUMhJ', 'TgQPbTDUHWyraqqXnbVq', 'gnygLhzLYTvLrMmkwFxe', 'XlencnDnVYfCOkjvPjrB', 'zWUwZjaAQEPKRTpMrUSr', 'CEmZylfacKkSlvnBjapq', 'LbNGnnfPBzofAsBNwPYH', 'hTVzAwWnHJbMCzLDwKaT', 'mSWpbWDNENGnhMEJBtrL', 'vEGUeHZtKUfzvwpFoPkD', 'kJKOEysDkRqJSImMxJGn', 'nyLqbNnJlIkdzdkFWxSt', 'BdEBdTMpjPufGHBiBTFY', 'gngWhVcdBRefSoHzgiuy', 'LDXQpeZzvexqPmnRtssR', 'FutVXHcNQMrvCujRJYfV', 'jtHKBvwZgrkvkwQYJQzF', 'icuztTVYmeNEkmUdMCRR', 'czcFIipPniGYfdldiZhT', 'sVoRWYwSSemNEPlABVjj', 'oLdfKloleBJAMjEuAWKc', 'GHfvhcfXiUhYhfIaYbxX', 'mjNKSzWPHWkSKKHknNql', 'qKtYRiznwfKGOrEVDwIR', 'nYgVxTBNrHZwFsxsDegy', 'suTOQDLhOwgDtxhEfJAd', 'HkHlJxmmdEPGUbOlTlIY', 'arNVhycGSRlEyDFrGOIY', 'aVIovwYroqMFXbihpcaI', 'DzHaexjjtQkqlFlkZGls', 'SOrKFSjZNerjzJJfLzms', 'ZSefQfMrTWPTJuPdKood', 'UfKsueqjAZwTLWZbqNhQ', 'jqPdVedsqaaaPzzeirOP'}, {'KbkCnjDkOTbRaeoXNfHG', 'MjtHuqFsRmOhTcFGYPqz', 'fGXJXSoekeOGtmonRAGn', 'RkuyZYkKwrZdtZiikfmn', 'rGYjVTMuDWkxVpCFdSQF', 'LdnOwihvAllgmlIHpMlT', 'OjcCJSwTHZtrbrCmzfoQ', 'lWxSlQNpjDVfwjDfydCD', 'XBOOzqvfVofMbqkOugKm', 'PuEueaGpAZoFmVKLaUlM', 'CtbLJyVwJkrJSNSvhwwP', 'jwEPAtKkbPSkKYNZwAGG', 'kiyjKmXNJKoarVfwomQc', 'kVyupsPsaDuGAkpmjRtG', 'TipLIcvEvwzVLSQuzMNV', 'WKteKGmzSUbwsrWaqROj', 'LtWVTJdnYvtGiiBtYKjC', 'SGxUgJcGfSqxODuRrOlU', 'mBkuDVYPRQTqTqWBMQjN', 'FawhZphxTElPGoIpRIJM', 'hCfEUZwQNDmKtRmoKHRw', 'ucRKuJsOsCmbrSKmMYOe', 'rHBjKbjSEabgJvdrZRTL', 'XRzWXMTbdtBzXaSXKnIc', 'CVzokDApPDqQLsFawSxd', 'nZfjmSEFFgRIMsnKMFQu', 'hQKSUiLCHeGuwefiDSXo', 'UGoEEFtYQsPFNwliwKdZ', 'NMDVFauOyNiDzCMpgxIk', 'RNewZXhbkLrsnetUKXIC', 'DOfdSDnPvszKPUbxmQWq', 'MrtExYVJrTcLXoDrIaoI', 'JvNfTgGQVADmouzIITAn', 'HeVFcxziwETvECSGlzrh', 'mkBwvNjQbZxdlsquzvXf', 'pVGmADLPZqraMrwDfMwr', 'IBQarCsbZhJDbtMSrApm', 'YiodBqfiZeKRHrvduDuU', 'dojlzDYLWiBcaEdqePbE', 'TohtrDyMLPmnPsmQztFQ'}, {'acvdUNuKuSNqcakETPXR', 'qccCpkYVsqjEnQiOQlye', 'cgTvcOIJUSkcGnNnLjfp', 'XjykuzHgrYMKLAXymOZa', 'DrrVhtHNPuSrtvfVgnxx', 'NttHjfJuqZuoDXLQaKqS', 'EfcLbvVkjjYLsBDbIDou', 'VabhnYLWmBlPSTGYPfKy', 'MHgUflnDWdcghcOPtizn', 'iYuiisOBHBAdFuRZsjOM', 'DClZpLBSfLbSmaPEqqDo', 'NmPFTiHohnVtrBaXdsOi', 'pLhpDmdwgZYWYmZIpNzV', 'ySEcqhBmyrvyeYEDVYHb', 'HXSYWYPihXIOGEEUpBoO', 'wMkeUuEJggBsgVLZKqDN', 'jauTElXXpTkQqIYxjvbt', 'tqtlArPJlimBPuZQEVVx', 'apwDIOyeIUiujCOwHtuY', 'tbnMtFMcsCSTiVtnXyuU', 'jfiiSLHTIYvHRQJelGGD', 'uKuWvMxNnJUguVietwHV', 'hSfIHpblHPftPCinkSSH', 'ksmmBMtllOZIZDrxeZem', 'XKbNhjRpNsQSqHFmyPFU', 'UoPPPcGpKVlExgBtUABr', 'boiElecXJAnIvlzosPuO', 'tlAnaxRxFWMbXJllXerz', 'YkSnupbUhKsdeILIVCKS', 'QcGWZsCPIQMBFXVnHhJG', 'JkiPVMLqZwrTBpdnduYM', 'YGDnRpEBZcHolQSBhtGZ', 'OOGBZGXKlhuAFbZMYUJq', 'OyNjaGokSqSSkJFeodfv', 'IMyMiIwgWSWFuqdfcRKj', 'gXGFeazEuyKOrdFibsvC', 'FFpXCEUNuYnDDXTsansi', 'PTghgDMEkshCJZuIirMX', 'zkVlQUsKqEDoayBtbVXu', 'afXcmxIalHUtCkJWfwyA'}, {'WmeSbcTwIbLZnrhLgovo', 'fzencDQhBIknAOafbuzE', 'RQIrAUJAfHAkUvlMvsRj', 'QFwNppQtKHwHdIEquxah', 'dNqwtEaKBosYQhveuDxs', 'DxpsFUJGFjaDcopFrTAc', 'RtkCFPnLQjKTCyvATnTT', 'lHVUQEQSBnyeZcPfSxZD', 'aRVBcqubUCYnbYYNoqxJ', 'oKzTioLWZesDHmXHfXnk', 'JKqIJBRWSwwwNXdhLKuQ', 'BKmXvDAgSELtPXNbnqPj', 'OiUHCFqefXFqGqbWvBVw', 'nLijByQJkOaqdKwPRxsH', 'pgTrdtXweDTPelOCAErB', 'bBhYLTHoLSZaEePhpWyo', 'YxyMtFRwuZuINccjWTiV', 'tCOPWkcFVzbOvpFWQsHy', 'LPotJQPWfGLpCoVRLLkp', 'LyuETBdagVTyFEPqkSNs', 'komwHUGYiuhVsPExwDZu', 'QOFYhALnqmtQFtLSmkHn', 'EtUaJNlosVNYiLNBqZOS', 'sOjKlYcweahjxwhzyDwF', 'gWpmNFkzaVwweyAIyGZi', 'GRfApyHhdvyhsapyJIbC', 'gnJAGqrHPfTkyFlfeqgs', 'kYQDkZptjCzBmLmkXshk', 'egoFhBZSgOLirNPRPxGh', 'GuXoFcDnKWyeRcaMiMpO', 'nLtYWQOPUYEBeOqAeTIf', 'LVifJGlgoUnTDxUTFHtT', 'NnxTdwOaTKjQRZgfgsiI', 'gtJhalYFnDxBGUvrfcXt', 'ZWzHeYcwUJNKTRkteryn', 'HbnlkGSRmFtrZIvBUgJK', 'XQSDJeehFjNhJtuDUHce', 'FiNeTUXvfbUQKYveXFPZ', 'qkVBMMmalvxbGAliiRfn', 'MpOwGYeEQPAWADiOkBuG'}, {'ifUDMmJXWxcyswwPfGeo', 'tlAOaPAqpCBkAaSjGlYk', 'EvcnCFMmHTeedCnrKEMq', 'QLIHrMAtGcWiQToGBVkO', 'IMsBatssQtWwMndoOaxM', 'SCzTytWbQhbIaFfeCOjv', 'rvJJirViFnrOdltxXHyz', 'rzkfRDMZVjODaywulmkZ', 'PgvvNdZYMKLBcUXWpwis', 'tcdeHUqddcqPLhuzexPx', 'TVWHIVgSdlPEiKDXGWRv', 'mlyIEagCcvVFFqYCgqGe', 'XoWzlLvGmkwLfeROcvry', 'RsChVmOcewTPyyzpHBUx', 'rkeVDdVeqFCGXiSSuceR', 'wOLTrGdytnpthlkqMDHo', 'SInoNpzasTOiUDaXJylo', 'xdRGFDVajzpZdRZuEDIX', 'FhLqrOKVYJzuKfisRRWG', 'CjrqhrNZwttcXloXNtVS', 'JZcwSSRfLNyLNiALqRoH', 'UFXAFBAmIJWPwkpGUuWg', 'ZLRJrNGBFzEDiUbambyP', 'uHcCHBloXmHMBgAtrHRU', 'fOpcCQYRlFztJuiFtmeT', 'YsTfyCfPsDKIjCfovQBB', 'FtWQlAuAtmjLlMYUnibM', 'EPZfpgLVIPshBAWQIsZX', 'cUtlWAMfEfjKVFlowpsI', 'DJwwOsaIMTZnZAjXFRLU', 'UEhokErqcjuaOzxFSNvL', 'kPIFtOPlCebyafTkbtsU', 'vcODPrszgvYnInLDLyhK', 'SMObwALshlWudSUDFcpv', 'JfSqlduqhYJxPogqMaMm', 'idyJlvYsaerLgKwMMizC', 'SaCYLbIlJmGUzIRgodmL', 'jmlnycLmViMzQjfbpUdW', 'aPOGsADXvwHtNxaXDRfE'}, {'HhuByphfohXNBoRhzppE', 'yYUzChUTQYzUGNmWIMuc', 'DTneWkrssmBuKZWjyoCE', 'tgOhRTtGdKfuwuKlDFZa', 'SlHDvZfCLjMktPvqQhwF', 'iReGtETOBDzOUpPEyUwa', 'tYVmlzRyMtFFvvLfaVOr', 'iYbOequOqjcdimEwRzwP', 'ahpAaLSZAQliYqoKEkgo', 'camPkPAiTUpZqUCuGTuw', 'GtSeNneFAenoGilXcbkZ', 'vkyVvJedndeCZjTRqoXM', 'txXVhGxSsjwOunIqMmkZ', 'OTPAbxTssiXRBgDTJugz', 'LxylMjSTwEyvXOvPLtfV', 'mdErAmbKgWHzXASOkYTZ', 'QbtGoQLzJmorSTMxSggw', 'iKUQHlCuBrvUHxVFTquU', 'GbqYQXBqdSgDqeFHqjbB', 'ykKkdWvnAtgxgLLbbJKZ', 'yvccZSNXjRtUhBMyCerV', 'hesibrmTtFYEjmsIWBoK', 'WMxboiUnYlriliEWdogl', 'xTuBQDyDFDbQrhAzpFFy', 'mzeLGlBRjrFBJxMkZKmr', 'VpNuMHHoNnGDwiyiFPnr', 'RplcaUBwUpeVfrJvNOSU', 'fvMgmSZGrHVpffjwKxOO', 'wGPKCBHZxNiDmvMIyIAE', 'uQftGfOUBJiPnAumIFRi', 'dNSGJBiyHLtyGDrtpbwT', 'GYGVpLIpkesgQbiODjtt', 'oGsDywVZGIoYXrLvIamO', 'sSNkJLPvStifhiLMCXwo', 'FQnzXKUmJVtPByvyCYrA', 'FBSqwoEMlLeEzgnJRWAR', 'RiMaZuuPriTswIeUEEHw', 'ieZuInCIkkxOFKdMUIGK'}, {'ZQVtfsGNGRIHNuWjARev', 'nHtsMtmDzSYHmUjakJaF', 'xVyEGBCYSJtIyFzjuaqE', 'OZQFRafPExDrpkBRHXfY', 'CwVdtuRsKAhicYtIjyVV', 'PLINjhPIOjVEIEvupRUb', 'ydVEEMCCQiRXRALDpfgh', 'ydMSUXUjYGBFGxnmqfJt', 'LRUnNWVmkYmsHZbMPrbM', 'XEkytZEkrZjGZOkAksbE', 'POfsVIvsZfBJVnsIAnkV', 'wEDHWJsLSDnoTgflmmnr', 'ttmRpiTKLfDeEoevziEq', 'cnFsuvmyhztZDoYbPJSK', 'qbQLsTdCnGozNfwPBBBW', 'twcpkEGuRxCZQseuuetH', 'oooFEgZxiiRSDzXOHZxF', 'MRAbajdiJTUtcfodiccf', 'cSgGTpwnPDFrBYCxPnoO', 'LvfEUIZAFjGGAgehVTuV', 'WtavnXZWdkWASsGviBLx', 'lSAAIcHVmJteiKDdXgXL', 'iWMKZLBdrcIxavbsADxi', 'lmorltQgfdHVXNuexLkc', 'kDlcfrJuWYoyIpErNuDM', 'ZjyFasyBTaAlKftBggcF', 'lmrDEAiSDGkJaJgZNPpU', 'fPFwwbWXmOncMGuNZiLt', 'gCgPmryGQkuiaDTGOkDh', 'dXBHsMMbADohSJjtyDbK', 'ZHJuIWXAEIekkHDhuCtM', 'fyceCZIZhnpMEDlcsktO', 'jwkTpkvBRlMsVHFQICoO', 'PaLHoEsmVQmBEcEGQxzg', 'gkiZbfXTsPGLISgQGyKp', 'NAPKTmChcpnPXdkKCZIk'}, {'keZGtjLbVmhUhvyxErNh', 'wuJyktBMwhUuOqNnJQFG', 'HyuWBJmMqKJVDbCwdxkC', 'xefnzSgYfjQWGsBepHeK', 'LIgzoFqJAMHazzLJoOpO', 'DgdpZUGlSzWVUfyTlwEX', 'dzdtMtotxOjsNJswsMye', 'DzzVNczPURESlLMoXTVl', 'PdnErCTfiLFRfyVBEexT', 'yQhjXTlHlVdLOHsKGFKr', 'BnyNOKCbKmwRJWVcxLQM', 'CHFPAbCDujYtUGdPpzPx', 'KtsWzwgCqUgOpUCCmErT', 'GsDBblZpntqOIjrofOOS', 'YgQwMwwccxFGcOJmfIsm', 'clqiwfxeQfdqdsZcTwhz', 'ydSdOzeyTlOiBwHCzmZi', 'zLXNAgpnCdIZeauWFrqZ', 'xReMCVfnDZdGCitklrvJ', 'eCHMuAsqVwNgqnWPqzTf', 'kTpDINsYmWFKLgUmAaKj', 'RDiYkQhGdQgIWMiHFxKg', 'XRNDSChTvxFmedEHibBQ', 'iNIeJgYWjMYvrnHLSVBw', 'FvzgcQKXItMTEjFlNmFQ', 'uOOKopIDkLOrgSNnAoib', 'zpCTnPBEJaARPYsLRfzq', 'OrvWWhxGPDMFizNpZmEG', 'mjHtOjLNPrhHbwgdGuzH', 'trJjXnIbDYdjXNZWJyPm', 'HAtlsPkqeUdylUNDJILO', 'XGxWoxuMBzBfQZpanHvS', 'dNpHrOtNTEXnLaDpydYh', 'pZkRuFNXZkuoyYPdsNGH'}, {'igEeucPRsBTjCHoymwqf', 'FoArovMxezYNFzrHbqEm', 'JHhrNRDejFSwxevPwzPz', 'gQlGaoYxnBfZpmAvVndW', 'jxdxcPekiZahnFgouIqc', 'XJRVRrannTVlukbXPmeJ', 'lUhqwjUkTaiiGCRDcMaT', 'uajupuCRKQPQoOfcxEVX', 'tECZMunUsfcjzlSCuCSh', 'tLcNVJjoBrziLvSEUemY', 'urJQnONvLceIMQcIKFzJ', 'ZhbLXGcecuthhsLYSUzt', 'xybHkgAqCvVNOZISKFoV', 'djISFzFYZIKVGeUzGOjT', 'vRFaYTbucdwdVoTSYsar', 'lqkKDOqrObKGwUXxFwSD', 'wRKitFeyzbrDOANSGQew', 'HwrzuDiRlbeNIgoroSLJ', 'BMlrDUcPWsfjtYeHJrel', 'aoRgWYVRLljzBDpNgEQA', 'XAeTBKiLjwXslaXOpxRX', 'uvexGsxkakpVYdKWQWSL', 'KmhbPMWeNCVrPIxzBfau', 'gkMApJbTavNBElXxWLnk', 'KrKSZItWTmLahPrdMkam', 'HMxTgUbzcpCpBADusnIl', 'sDMvLWKtyYvfxRldcDim', 'eJegjHfVYCuHYHvPnGwi', 'ZRtMdHapeDxquNjwyjlS', 'oLHDfzUBpQpzrWiaeNLu', 'CTqsOXabXQDsvWvupYeY', 'OzvqbyOCpERBgvBuSFal', 'XQLxRyxUEdAWJuiDGXEY'}, {'owAnkbYUETwOFJbRgPsS', 'WaLAdRBqGsfRiAxUHttv', 'RyGpKYUfZdmYtpBqYflV', 'UoVXmpOpoyjxfkXngFju', 'IiLWDxBoGviTjRiDsDXh', 'tOPPADQPZhKeMLsjdJiq', 'dKZswfByxFThxywyWWje', 'aDzLYvOoSsIRDyubqyAO', 'emqfSPjackNslJzGwTZR', 'rPgRtzbtIsEksbbyYPcR', 'xdKiantINKwOWDCEsATR', 'dfvQQLGOoCRqtTIebBtX', 'gDWJYfFmHYPxHkqXbGxi', 'LSIamfyZWMzcfaaNlzbm', 'dHwJNyuTfqugMbMLgzzz', 'FjoKeOUDDpLOhZcAuryj', 'DCrCfuEdOxqFXvlSmwvt', 'pmFyHNrbbcpbwtGLeiRL', 'WmbokfhpQOIVeotitkrE', 'wbXHmWtBaITEPDTJGRpt', 'TiMZErfNhsjIhXerkOfI', 'UbarSZqtXVpHVcnhqKnk', 'QCCUaYRhZJFLObCYclkn', 'fxaEZnpcGlfhjZsFFqrX', 'HenUXprOBpbkVdyzkFAv', 'teiGAlKMvUrZqGriBjza', 'hUJySYXmUrzwbyZkRpPD', 'hdFqfpVfKirsNuFCZOvr'}, {'LTyEqWrERzTicjukGRfr', 'yfYPXaLPjNCaVYdImwDR', 'rqytTEzrCYtoAtmIqCGy', 'TOTQkrgHkmmSUAGbIDZI', 'asLprNqnNZGuGTryDYDp', 'DYOcvqDoKOywHBOMwtQc', 'WaYLrqiVxeVRhFAEMXhn', 'pDRwBoaqAQPOJuhISYmp', 'KzPiSsDuSHNHdEmXHSJo', 'CVcTwepQkzdDsXhcOwmU', 'zLlsFZvWUMDRDOBxFpsI', 'rRpxVylywHVtjvQDjErf', 'QgRHwmbRseqGmlUBhUxK', 'GWUgLjLYyUAMUuGmLGBh', 'nUOYebOXPHAYdkvXTKtU', 'uZhtFXxAmSfPOXLavgVZ', 'GISyUWEfELlliothtpBq', 'nkCKLRfgvdtqDoKvzyfH', 'aNXJRwasOmpHtNcUHPYS', 'WqyUgaukZLjkjMqFFbQi', 'kBqNbIUeIsVrlXgaSVYf', 'SFwKINYcpTRAWALwQEhV', 'qLPVURXFWnYyMGrSNwyN', 'ctEnnvnHOiaLZGbihsHc', 'pYuvsNOJRbFuCTLkwcJs', 'GxmbdnqAzipRqIAKXrhR', 'RJHqXPynZwqUIwwgjjgu', 'uZJGkfsjpGMkjIeogaIF'}, {'eCOhSNsvUfNfWqYedSNN', 'YDEYuPjKIsNydBhwMJuc', 'AJoXpPvfdfFCWFnMBlOF', 'WfwzChpQnqDSBjjpbWxh', 'NYhrhjjhaTBzChspmwbd', 'wMqtzVuXaTzppMHljMgr', 'MKjNlaVynFSzdcnZyXhT', 'xEzPTGoaUkMefUzsvSUP', 'gfuVJTuIbxeuzBoZVqmi', 'JztTHPwTkmNxDpXstflI', 'wCvCZmCKpDTvBmrbFyEy', 'BXtzRTKHmIfjSZSufZIo', 'PyuHMeZVhXcPcDWtcLOc', 'seAKqvCxhUhzCAMpYXyo', 'JVjjRWieUrXnIBvlKwcb', 'NUGPLuYUKWGRqOHHgPIr', 'wnkaGBhXvZEtVeKIBdkS', 'jMEVeslrsJIVQYxEWkXT', 'UEsnxLgPdybilsrksiiI', 'dNHNdVIrwOIintPknOsy', 'WTnrEDtSTUzsROqkfdeF', 'xhcAORJWNJpYoBZcYPQO', 'loCOUHnhHDkiHyOenyQY', 'ydwZLRFbfpPjggiBJpbX', 'aSXPaykrnREdheMKUhcO', 'wLUICeenBBrPWLYsopEW', 'iwFVuBGvGkhXExFiyksU', 'KbNBdhPsnKOfMrTLSHuW'}, {'mvaarrVrtEdisgTLOnAj', 'QVwdgxHMNoMiKwzMxSnm', 'cLnUYNffFLAiUyNYxvfx', 'OyFBWjDCIVYYmlqYQyhb', 'VTTbjAvicqOsCFKLNlOM', 'ximUYxayrGwWtKabVaKE', 'qssPIVEWbQgWwUIkhUMz', 'aPsbxHJXEmHZzViFtZTk', 'NccZKDpxPALZZYmTFHPk', 'BvnfbmMvwDrSaDNOvhXj', 'tHUYUQGhoJUfiBaZlHPB', 'QFfmzGXeldKNIMjmfyMQ', 'kxRUTZMEvhVBwnisNvAc', 'oLHTaIaziaxTczatbPzy', 'tBgjoEvtLeOdrQQYMQCV', 'qAEWkWmDcyXkwsNpjbmF', 'jVseiqqYkbUaXKQJFoqN', 'rvTZeVFNGwdWSeRjEDvi', 'TloHRVXXThnCraskDoNl', 'koLSGaGnRSDLWFWYNLHk', 'aFziNvdoufBETKMTMVHf', 'dkzpRHDLquyexpThHZVr', 'DIjbSasuXPUUOmVpoXOm', 'xSHRoTaKfjbiYzDRVyUe', 'FWFOXukcJQAQMMmZuFgs', 'SztpqUvHfwAbhvJbVEZO', 'LQaaCwnXtqvLNwpZFJgF'}, {'RzbsDIbxelRRxrdIZniI', 'KVwvbaQIvmMGhRCKyPoH', 'usvAVqTxplvUmSOHaRnB', 'jvrgTmhWnglSrcQuotSF', 'AzIOUrHSmEYbOIQfcTmV', 'iIgMTzaCadbxtCNKNSci', 'pvRiLkkBJlBJZcLjwBiU', 'eLFZUkBenVUmqKhmwTCv', 'ymrVwCCZOqdbdmpiESOS', 'WwKDjhZvqjpVAzkAZDKI', 'wHTbZXILruUNuHjTVSFf', 'cdkvVmufeuQfHWwXdxVE', 'RwDoKyRjhjjcPEsIbpWj', 'zEJkhJUIwCnSmceEsPAv', 'wFRbHumWtVtmDsxmsZwU', 'azSMMlLfKNUGereJuLdC', 'vZsfROtMvLNAlwVbYzHm', 'hnYPvKELaQBqNQetDEpD', 'fiPWfFKpoJWlnTHuZzBT', 'MGCnxRJNObxeEOUHDmnr', 'dORJAgRyCsDsCuzDcjTb', 'gTLzgiaHtyzgEqSasFhe', 'zdOCilheClNmtegawgxa', 'hnHtvWKYStVPaDoLDDtr', 'NQbGWdTwSNtGAlwdMIMa', 'dJQvNSDSVNkrPFYNTPKm', 'PqTDPmOmyMDhaRUVFDtc'}, {'mEtPuQhJlghkpVguTjoZ', 'yJhvOGMcFCxbjYNMvHes', 'gvmnGyIxXEiilLjsQiAb', 'MpTwjqEolNCiIYOVGIaq', 'BsnOLDeERciSgQYvGAVI', 'mDBJZlLAZliNlXkLImOz', 'kmNAwuMOMjyMnSfcMhEA', 'VbkyvBJrjcDpxWGmgVOH', 'jpbpkJIIGsThmumUbuip', 'eHMEcUmkTTOlVDHnEUfP', 'EuEymOOwUtiWRdiSaVVV', 'vRhswqRlLqQLxrqZCsIF', 'KliZJpreqixCpUaLlvtZ', 'kfRQKdGDvqsinXwIsZRt', 'qoQdVfpWtIDvHgcHXKVd', 'tePBNfPljvQXrsTXiSzn', 'vCVAUwfBMFaRVLqLInkV', 'cyaFOAqaFgkgAiBHpgll', 'irDGUzQFknvgyiqGMCes', 'OFfmaEMUZueogILPfHJV', 'WtYrFuUsvJIXiIKcMrpI', 'yWZHvgPuJxNCQOIjpmLz', 'FmKyAuoVlGsQTqhaNSyd', 'hxXJpFvvRWWmeFyNNTYF', 'xHbORSQYWQXQUkFZwiHE', 'xxHqtAskRRzVUgqMRour'}, {'btLqaWltRNWkkoaraUQR', 'RqqdYDFGkiaqqfVrWRAf', 'HXBCDRPUwPQTRWlBWUtW', 'anzONkSAAYdwfBdNLkpi', 'brltLThnNmyoGroenQBH', 'IivCxDyvAQolxLrrWYtp', 'wBapJabYoRIxQgXWaRcr', 'tUBWSkqYDuJKdPtnbgSB', 'FtFDPdfoKzogFcYvwwVR', 'oPbXaHSOufPcNwSWzcUr', 'ofSVMYSVzSNrChPFYYIS', 'lEldmgOyaSpLLOEtCSVh', 'SFlspZMgzxMrgYCtfHWd', 'MQEjeDriPvRLTerLIFGC', 'dojbgQFJJKqUnXFnkOqa', 'rOktAbVrrGEuCJlzrTag', 'inyyuYLDDXIxbwMDbjCD', 'FtMRLVxFTzCyUHAFCiir', 'AlgcfHdyHigvsrkbzwXE', 'zdvhDlwYLffKzYoQkFMl', 'GzzzvzOHAyTURiiUjmKX', 'nFkayOjmszfCtTMHtHHR', 'SWDiBUKLaIFZVMyGXuuX'}, {'amtEivqDyAVYHTflYlRj', 'OJrmqwVKdPaarWqrZmrY', 'WZQMUIfpGJOuUmIurbsJ', 'GIWONrnrOVbXJhzcQcaa', 'jbajgxZFhqdObOnEiHai', 'khFVBYCKMNwYPHGlrKxy', 'AwYKakCrhnqDSOgrtYvr', 'tEBSCHzjMDJozCAdMMcL', 'JSgsNMtqWWyzhBzwmOQG', 'FyKwrWqaOGnFMUYMiZnS', 'toqEZBVstWVWzHzQtmiI', 'mAMvLfaQZwNeKAlXnZcs', 'evIzRLHIRJSneCVNkrkv', 'GnlokABwjOmrIiNnrNQE', 'BoEshVnJSbhXqnawlCcB', 'vzbcbuSMUeQNhfCTIjHT', 'phEYwjWOsjpEkzcfAhyV', 'ojhQRNPHVREVmjUqQuAE', 'fwZXLTCXUsbYUutPkmfA', 'mvLgMOooywUIcXMgfOuU', 'oYdsfbeTLjPnxqflBXse', 'aurfactfmfIXCITpiNMs', 'YWlMDTlCmCikZkAGgXMq'}, {'FaqAoojpjrOjOhzexbpY', 'lidvobMqfnidLGEAAiRM', 'EnWkvxUxLHYMwwqDvOIY', 'ikYvoFRSjfqOAbZNRQwV', 'FXSteYDxLmBwIEZDCpXg', 'UdiLHPQzJxRqLxYDsMBG', 'remSpBDiFoCimnramHqu', 'QKPFsrcLTizmEvdgaQLJ', 'wdzOdLbUbIQSWUSvHluD', 'kSUIglGToyAOFWjRTnSw', 'inikDaVaUPokdSYShCml', 'ZkZhjutXYLSapSkFAIXi', 'RhNEMIWgSKoWPNsrPEps', 'VnkWBzLGGoiSQXFhVHdh', 'MUdkSFqqwjzfiHjrQVxl', 'kGlNNlpxPqsPNMphyijw', 'pTGbhmrWADJhhSgvaQoo', 'nYAYVSZgwVtfySYorjHF', 'dLPqpCrjgNCtmddpNxWS', 'GvbwoiMGahBHKHRQFWFk', 'BObufPsusIhIEwLbnxrR', 'OUeglstgBDqQVWSuDxXp', 'ZEwesdSTzHRXKettHJzP'}, {'bxpZScRskGoDUVqVvAXH', 'rJMjRqJlrcZdZGMApasd', 'UmKgIzvggaMnLwoqIKkh', 'EHIBUpdOlNSRdwsgkeTq', 'OVpudfrqXWqoopaOjrBE', 'FtIboHgRrTxEhPbyEduT', 'FyCtafqopugFwSbgBfgT', 'QOSDgcnDrPLeksfGhKpz', 'ywcYdCetXfBHMjMUdnWH', 'HtjxpEoWdtLuayfBspHa', 'UoSGkZovlunDTGVTibXw', 'jrJJcgpjdFGHtuZmPISp', 'iAeRotjGgiFdksPPUfbJ', 'PXrPcYrDcsRXfByWxRdX', 'dsSWrBqkzMapPtXGqtHq', 'EOZSckGLPGviAkNBdLLg', 'lfCDJQttnlvsRzKZhzkO', 'YBdtQqphaDIuWMVSagnO', 'ziDbbssihThHYMibiiov', 'jRMGOKRXRnfHRHmTAAEH', 'ruPQmOvWotlGtEKKOOyB', 'CuDEGkkFRlLFqFzSScdR'}, {'WNSgFzKdHBrNbAUMIQgk', 'lMQEEbftxilsiDYEvvvV', 'xrsrIyggkaUzEVpdwrVF', 'QKulaSixMnaZHZxazsNn', 'ZQiIsMtUZNdADvYQKrIr', 'mlsHxxumckVxXspLhjzd', 'NGIGDRsVtHTcJRDqNuBO', 'FksXtcvVUqobhZkTiCsB', 'vtelxkOnZVTaihhmmCYY', 'VZpLcBGMhNlohVowaQOz', 'EoazkBynsexgaiNnmUrS', 'kvYPffmYmQjXOAjbMocn', 'oFoIrTcGoADzpPfAdsQR', 'xDgoiCGtOLFuHffHMnNa', 'DPbOofHUKdfOlbZzteyg', 'BqrVhIALXgCZGbxrkpSk', 'RggbVMAsJiCmqPEbaNBW', 'KljfHfOPwDuZfPRQjzaG', 'TolpCDanDjmuqhwyiKch', 'FAKOKXfNofedRcrIvyyA', 'eIjDmgRNCmclUNCXOpab', 'WcKpxbehtegQEnKaJNKL'}, {'lurYotewuqEFXGYeHpJe', 'gQAbbLhfhybcVZODoJTs', 'uXMfRVLrYLleQFEgeFKu', 'UoMybBWBGccSQKiAqMbi', 'yDBerwFhyjofVZvptWrO', 'glULLSJkwokebanSxOyR', 'MwgIUUeCuPZdWhnHeiZK', 'XazwazFiJOFoGLFSHkoj', 'AAhduABXrwoyjHvGWGtV', 'SXaSgVrsHgLPJwqVOpLi', 'UMVQcUXXoYWrSkRnJLYn', 'vKPYIoNscvnTkktFKoOK', 'LQAuOGeVjJBcsAPkjqeM', 'RRyaAAsiIZTuVArjcrxm', 'NwzjtdPyfakxZEXtqqpM', 'kxrhkaircEJvcUMpuObV', 'HJdwlCknmIKlsfUPEZvr', 'UQAcjhkKnQcdtCxtYTNH', 'WpZSKOqeVaqnUyJGPMRt', 'KGpaVdgucgBiKApdjJpN', 'hzcfYgArGSiZlnwkiwkM', 'KzsGBfekaqTYCEmbInsh'}, {'oQpurVQdLixnUmAbcnfn', 'jtmUpbbPCkPvklgEqNEz', 'oMLfiyWumEEiMJgXGDXV', 'ZdTavzFJdvGCUrTUIbrw', 'lArSYktVkFxGyhxXzqtD', 'XpmPqMlbivsHAyDSQQph', 'HQVTWrpNfViVBrUPzPvd', 'jmOvQuQkctmUPomvcmki', 'cSwpXftJGPnOiagZRCNP', 'dosPBKYJcxSQgViRoqpq', 'jeDGQlLicvFEUWjZoIiQ', 'uuIYLMlfHsXPcpaSOUNK', 'hyGSvUtHHmAqDXRdEeJj', 'MyQUprVyQkWOvWBcEApC', 'hMaIjkiJNijpKbSAzMHR', 'KJzCaDJObiJQHYMzuYuC', 'XSWjNaDDQURgTbDGJLRj', 'ixOjKoYldaAaybyXbgPc', 'LpAKTsRgyElrlJCeaBiF', 'zlPOQlShMTGLIKNJBCfn', 'VteveiUJNbgwVYBYOjmm', 'NqGbdnNminDiKeBORpvH'}, {'WpfCBYmPolWWozgRUWhu', 'KhJnhBQRTcLnJilQgHIt', 'JhMRjdViffIeNoxImAXV', 'qSVWZuxVrMJjHGXkxjvh', 'DWHNkwigfJlAwmIUPWyJ', 'lwlVdgegBmBtTApzxpGJ', 'EWqlmxAcWGNWqLlIguLF', 'sppqTIIjZKSufMUmztHQ', 'zYwJcDPDNjHnSdAdZkxX', 'AucDHqdFbQTEyvReabht', 'vgJowgHUvLxsTNYkFkZc', 'inRXpjFAkmVeqgsFrxhf', 'JsXaQJwcqIRUGEDqmQTk', 'gMzXYoOPQrKQXXNabJFz', 'aWzpxugsUNphnqixDsGV', 'FSvxYYheVULdCkPLIEzj', 'WoWEgSrEosxcqfdnpvma', 'CavvqRzJmTyhhRUwpcbQ', 'xrYjWJjcrtEMChBqcfIt', 'OghZGtnVfHaqJpsXvpfp', 'MatWvszbAbzcIbdhwvZl', 'fYWOMLYiDpDCaGiyvstr'}, {'GLshGOsnzOmDwXPaPeKJ', 'RHIHjRSZsoZTZXxSmTZN', 'FydAZSXEHHQAfPVnRmFr', 'MpQgECJdNdJUzkeHPyrf', 'JqXMaxhxsNRlxztQNnZj', 'fUAXFxiXlYOpSsWXZSrO', 'gRzyltDguDDiMoWARzzB', 'IvtudabUzQYNBnwYrBWi', 'ebpSqHwDgghhwdrGqMoD', 'ZlzRImiUJHXhFQofUkLe', 'FtoZWyJjQkPqNvOkVkYh', 'TTToobYpiLpJsnIwxMAv', 'iqHOiYtotmmbNAGisKVk', 'MuGNxXGKytwQRucnSBqV', 'ooslLnJytTqSWQxMnKPp', 'TeLTXIOQISCPzVHyxFZn', 'tNPuLqNouGnqJmwGDxgt', 'uqyPZhEYmuRKdGftjsXl', 'MVzegfvWNeStoZBfHYrb', 'DcadBlyFFEhYTwNMdnXG', 'GJWEqTiuRXVvUyYBxyAt', 'WulVpjTmpGcAueMCNivJ'}, {'iDLlkytmVRfeBYjRLEhl', 'HtTymjJoLaePZhOvDGpi', 'EAfajLbWiFOxDssPedxa', 'VeOhbuSZQgQaxYgaJCnz', 'luYzIDbXRulcQfrcHAxf', 'qtnWaoZWHkyfBSWTWOcI', 'BRdibWXuirxqpKjeYHuj', 'FcFvZdRsgriWlpGbPspY', 'gJDPtfbchIwAQAMtBvRk', 'ywucEAaqcoffDDExScud', 'FLzUWuhIvjtWKNYSJCjw', 'DrLJUesuubDVGJLmVaPs', 'BWJeocymHdtaysHSGUye', 'SRxlymFYgOaukyKOgYua', 'oxyRHnVDjhXGowXeXdDr', 'tOHONVipBWlKZfLmAPzw', 'KKufOjeoprAPMGfmiAcT', 'lyuXsfWKUWuaLVMrTkcG', 'fQLYgeCNFRfOlwGkspuv', 'qWnWkmKlOAXRHBacJyxo', 'AySypHGCXzWPBgwkDEuj', 'IcZVipwuBfmdvrRLLtlP'}, {'rlDKJqVhXzAqGbTgRyVY', 'AgSeasGZFFSOgIxHqQVf', 'VgqfEToUhSAOsiUYwqbQ', 'HJBWwpPodWFInkzPmBuy', 'hCbbBAqiDUKZDBHbRpYo', 'FBOpeUmkazFoAbdSGpXy', 'XHsPXEdqvhaVMUpDhCAm', 'lWhFkhopxOlxrfqsWHMV', 'ELTilVDterVbXOsjHiHO', 'aecnNcbMGYYCGXdSbXfE', 'DrmWGBhfizgRskJhpjgm', 'yWqSJAPETUvfnKlCrGnH', 'UfbYyiupbbmMnVstSnXw', 'dKCKhmcvyIWQKJxKTqUu', 'rpvwJDUvqwnbIMtlRlFG', 'ollroajPxPLxFXExCGGX', 'FlSbtYVTxDoTFgEaTKVo', 'WEqemqRXRAPaHUDQdgKH', 'GmflIRjvTImIZExeMRgX', 'nJyUNCvtEXRztjJYeAdN', 'xPLaxnsEgFZqmqniIkEe', 'DoOVKQZecshQkByrpjBx'}, {'QpClbxNTZmGeXLGDEWHS', 'DMCnSTptzTIIcpesYFES', 'UUdsUFlcGRQEFmYQtxVO', 'FdiFsrZphCkrUHiDYJAo', 'MJjSXeNocrHMSHpGToPs', 'vdMPxxGDQotXpChviDBT', 'joxVxLBswHdelhaAggYm', 'fQXSrOYFjtpIAKjxCrSj', 'fqfFKmxzYgHTCPTZdJuh', 'aUwURfzDITHfPklPFTWv', 'kmjpdMzMpCOjvlxCRezs', 'boYmlwXrHtbTyRwodoNS', 'orwRdCfvYZJLEWvdSGyO', 'FttCNPSaJgvdPyTblVgo', 'DdeDZGZUiuAJCXYeptwq', 'rJcFqNIQfXNUFMvSDwSF', 'krotlvWGjDNOSNoEultK', 'iOYUeLMMbuFzKrePLOKZ', 'NUPeyelLBBSVyHsUMDGX', 'cxVuDmqNXSJONngbPWMn', 'QohFdREMSHHEDtwNfXnK'}, {'mbRYnVYbTWFiCTMnXoaH', 'GjSNAvYvQtAhekPyaRdA', 'mEyYxJvyatDPALcBlwrR', 'SWuZpOUGXJnyeUvOFVui', 'rPsvvsfosxZLfljKUZen', 'LXxoYKiZKRbqrvkRJvTB', 'HYkzHpyGfYQBLTnZkaOW', 'KfOgwzdwReOcrBMWSttN', 'kdiqDasBzWtonidIktsh', 'jxItuXXLRnQFnPARefyb', 'hExWigSNkscBpioWmqKY', 'vPYIRBZCOQmtAWmSmKzc', 'PhoiXMjrPmNiYZTbVDvH', 'wiYoVsAFOlYWBCstfdum', 'bnhiXwPSoRGXGJSfHRUV', 'aaNIWFcUolwxqSyVJxbQ', 'skbwAuLmdigmwtriuGZq', 'tRXAJGvKFbkmjHRgwxSN', 'IRgvYagTlhAqpskoOJuk', 'fQEhIRphvCfdUkUaHqzv', 'mmggBStPHfAwDMoDxTLk'}, {'lyiuLIEiDljPNSsClyCc', 'dQJKXUTqIJPVBkYFlQlb', 'vtNrbjnnAqUKQSgoKsZk', 'aszIQaRGOhaeJiMIAdWx', 'ZZRjUOyJWtjLgvxzQFeV', 'DMITSpILElIRWZAXsmyZ', 'tjxWPtKUuOcNKbziTrLx', 'zvoybnGjWrZYDbmAqLtw', 'XHvqKNEpxTXviTnzgiSv', 'VJOfOQGvZeHjZhUTdvyE', 'MHHcTaudgnRSZCpHIBtI', 'SapdpcYWLtrzLqXSdmmM', 'BITUZWEsKxAQBuOgWpxB', 'isoZzxkUoglXQXvDpKGe', 'MUefnaFitzeHjyomYrIj', 'TvQzNzYtXxJCnSesLynT', 'pkpNodSmJYEjSmXlqQHR', 'LScrBwFFuUSLgJHZCotB', 'SLwVNPdAMEmrxHDfazJt', 'nIuHXYrTeyXvyIonndbe', 'DMlnhqaiQlffzXqUuJDG'}, {'sXYWShSYdFZWVTReuFKq', 'UvDHzRdnKilLJZIeNdXK', 'MRFntOvWuxZuiLyiskcu', 'vQjifQwMazhSoVUTggDC', 'ICdPVfcIoBslLAydSzWv', 'BTSXDOpqtCTuiOjceqOi', 'oiTsKJLaLmCxYATHCJOw', 'DfdlRybTDLSIMtYEqsnh', 'GyEYAzzcnBoIXfZbPkKH', 'OlHdMugFXdGYTrRMSrMt', 'OqVGLlXfdNeiZvhZzYEa', 'gwNIlFrqtRaYnIZyDYcB', 'bJLSjvblUCGFrAKbCcFI', 'JVsZctQYKwVamScyQwYa', 'hcBuDPawZFOwjYArJOqu', 'cJDMVpNkcMgjREOjXoEs', 'bJgZYOBpmbDmTYmzHksJ', 'IUtTxxRWMxWpJrsNPkSh', 'JhZmolBDcjYzTArUbUHK', 'rYtOVdvYRioWQEhHwdmJ', 'nnjUacFUArYlffrgzvMu'}, {'qvTsgJLyRdyruCGTpCTJ', 'tzJkOnKtPBHlvXIufdGW', 'QcuLtvVVowUpRMVuxvjY', 'wEzVsoYfTjMHhgNXoOvQ', 'QYvpelzBBQjzwOxhADne', 'GMSYRKQOEyTkArwVgqhP', 'JtofFrYPuMTBIFzrjNQb', 'wIiueFaoeCQsYJhYLBWz', 'YVUdUepkajtBpnChxkWe', 'JphaoVPWHtQDWfcrMuuY', 'lUyVdBDqUVLzdKjvXivg', 'swWbFwYfZZAVadEBxMXt', 'dAXoRtYJWdzQGsUzmKjs', 'nXZnuMaYswSLNghhPUdM', 'jyYmcHFamZqQjYUhUJfl', 'gpmcHMSJxPwNvHmDaNWv', 'wfTcrPaDEnLDisWtzrMQ', 'cNIezaofMDkDGuLGAqAs', 'cqOYRFDkmCIEkRbarmpQ', 'EfRndqEWcOLHsueHdGmr', 'gxrWChhHXsjVQADRjmfK'}, {'dXJWdevqScCEAdUaZcBj', 'diQtrRATLovnuWNJTQQl', 'pbwiKJHfrMNGspEyFweZ', 'lxNhgdpqBQUTavCBrpmI', 'GMLUwkQqXANukWsbWsUp', 'QlIJOtWrtRnwzhBQZGnE', 'GPuwpZrFdhHLDbLNCBKa', 'oDMknWmoNmYMWfVErYyN', 'lZgGUrXAWNhHKypyneMs', 'tGWqyUoaBbspRQBTfbIK', 'jcWaZLrUsbmUuEpHJrAP', 'eZdbnacIFKMMzOyXfWQq', 'gZlZVEowWgUUxIkWmguD', 'USwxOKoHLGEUVwSRrLxw', 'LsHCoaCioLJMMkoFTlsM', 'DWCqNCwTVCrJcXORhtBb', 'WVzAgbPBWcFaDctgeqsI', 'jgEPKbcpvfCdWPRVuTiH', 'YUGFoSKhnlcbfnzfqehh', 'qOqoqhUSfueaQZAWxUgw', 'WDlGrCQyEzaPAPLjluQs'}, {'BCsYEtPWVpwJgPxfELsV', 'zhZqgjgbyVgaXGXBFCvR', 'vDEoOsNxMOzSxvnEMKTW', 'AjbQRhmQPrVYUJRCkbkb', 'wUMghKdFPOmlOUqDoSal', 'acjPTRPRNOgDsshXQBYq', 'DgbrQeDhOqlivDRLPhuf', 'hUSqPKDzsNLKSRAzTFnD', 'IuVBpvjAlEOoXAeahSKp', 'XsuirXCRJsrYaoAWUzEv', 'mzIhvOQiqrvkTOCtpqfz', 'ukodLDITIXNgrxuNtMKv', 'lAWPJgCZjWwYTlYCPWat', 'rKUHoQNrUEOMMiUDergE', 'sOHtlhuRVnDkjpadSBxh', 'gPdvRoccKhcFoaOBvknX', 'LMKrFDnwNGDkZXoIYqOd', 'vFuyQkzxzJNvKWNLNlWP', 'SfnFdwnaKuIrMFSLzZKE', 'WtulThDJWvpzaKZOzWHp', 'CWYwXapeLjDzPLQkluUO'}, {'cvZttmNBFOUDkDXsJEvK', 'YuOEmHxHcGgdDzArBiyN', 'wGJcDisIbXfztRcCHzFH', 'pWNPtUakAXEilKVQXPNU', 'WkFXTJDoWTBkIybeqwkc', 'NNLgFLLSEjrItLKppCtP', 'zmBMdnNPwWsUonRSOBlO', 'MsWksZAwQnpZEWoftRvx', 'EbBNUvlOYgohquzdSyKQ', 'wvacYObntPqraTnsSOts', 'HxJKNOjmquAfdRgbqAKr', 'JdNqrbuMqlEapaoHmlmX', 'UPPjiltXrJvDAgFHMZbK', 'MertCeZZWhCxeLhMDmdb', 'yKsAHrygHbKdsernqFlr', 'gYlzCywartLNaOqppDsK', 'cGOONHkBClUbJIyYuTkU', 'ZXXZaJBCxNvOmblkPigG', 'lUbJjMhCMRASRgvNbJQq', 'dqGECZOertejymrEjiKb', 'XSqOenvjKBbstnBnrpTz'}, {'VjBHyZckWIFWQwYJDgWZ', 'ywcbPuPsOQmLMaMPZRay', 'mSmQjsxxUqExZkKKBdsg', 'vyDDgCzmzzdzfYwoQAwR', 'wQuSzYXPjiKoNdTFxaCs', 'nUoOZstxszBlCNuaTvbq', 'lJmcnerygyNMObbcqFej', 'PAhCSwUBzYNrjYQiopaM', 'hIcROuRxBnanXDhsdCwj', 'BsqdjugaAhDsRVSlrEdj', 'zmCFbVECCffUVIuKWMfn', 'vKtAsUvrCYkkOqWpOyQM', 'kGAtfKatqdxOyuRFWGAL', 'XKiJNQuwyepzmvXrKIGU', 'KVxrBjXBkkNnvELAdpuh', 'tcDNflGxrbhtobiCHTmU', 'BRCGJVcEQOPoMLcYfIZm', 'roFWABfthtSgIODCLhuN', 'XunIltxBUSUEVZWkBuXh', 'lMHeubwUqMYxsSbqnoij', 'PrWAceZrUaMXvuEYVKQX'}, {'rbkFztEzYEyyaNNSzzSF', 'fSEAlBDbkKSoQuHHWobJ', 'oZmjwJqfCXvSzxbTDScO', 'CvmAQriaBDeCoxAonrey', 'YNxrTZLzoZBmuPJLYXmF', 'OrpqvkvniDXuVBTMdyoO', 'hxmGliIUaRyLPWRtVqIb', 'hAezPJJophOjMDPamjrW', 'ynEbWYcOQDjVNpTwbSfp', 'VNKuRzrzRjFQIVUDrHOX', 'xAGfCafDIxGcUQADKoEr', 'dwYWfUvwBakiGFKOYEZb', 'MxZxWmrNZGFJsNJHPvCu', 'KFEnguVQhcaFauShOSVa', 'kxySXlAgsMGiAAiQYtay', 'XuejGsCcEEjqkgJwxryr', 'mlnvlrMmqNRNcchViznS', 'AjDPcKueMIpSwgAubTQu', 'FLlVOpvagboyQiNubghv', 'LoBUzVCoyXOAiQnJuPLS', 'SHEsjPRzrWpQgKheppMz'}, {'VgAOzkzhDVraYOrtAlgX', 'DhTwpJrljhnPeQpNtLTZ', 'KICueOVvDFPZGMRgZOLE', 'IOWEUNZLdHoLmaPFxnPB', 'FLMrsyMOifXDZZvwYAtT', 'TkNXxETFfWONhxMafCOM', 'wIXpfbXNwQZeJUuDdmfi', 'TOpvXDtzROtQnlByjoyK', 'qdzYkHIubAyxJxIaSNmg', 'WTLgUxPLdbVUXcdLsbiL', 'sheRYmRXSKouwAcynMVr', 'lRxACIbNMqKYXDicMeNO', 'thCIcKTiTMhoFKYkCear', 'NKTLcjXcJNmCNFARjtDA', 'LHuzErjQWNvlWpTehiCh', 'lQOsyINtCWiulNVfImiq', 'wPdTEUAAztesdRCFjQJJ', 'GsQcMpmaFVgpgtKkXvQv', 'hNfmTTFCQaTvbSbHBhqS', 'gyFDwKgGNkDVbNONAnmb', 'OwnzVJEFUiXDTpQqNDDs'}, {'nTaMnTxKzGUSLdZurwgf', 'huxHoUnwPVwUAlibBSue', 'ZNZWrBiDiCcNNggNFqAv', 'AvTwPcQOwcfkCAVsYdyz', 'EhMCvJNmExXTTDkFGiGY', 'HSdsFDKWYYAfmDIyrCOh', 'mBBLYeyMCzZyPXZWHFUX', 'iKOOUVhtZgMjXQvNPRyh', 'fDOdBLzhUQVyUvqQjJcC', 'QZOcTyjefcGlLVlLyQiv', 'xZHKtiAOUGbjjHXgGUep', 'TuMLSAeRLvibkQcbvAmC', 'wsClghcHqBQgsjvwTQzZ', 'qcuIJVklhZTeHxqmQGRF', 'nQYlTYIMCGFMDCCCyEGr', 'KoqBxHiBvyhOFygqvYXT', 'TGvvbvDuXHDQdGgbEOoR', 'vRSGarrLtXRyJEenapkC', 'QDNpfKSVjQbMxRDFiTOm', 'RykRhXHuDDGKRCVLBcvI', 'dxjuOUFmYBUoxLsNCiVB'}, {'rOGDeeZJEVaIIFjfibFT', 'laQTdiAWQQDmtUSoXVbh', 'fwydSENHTAoXwxiWYHZa', 'pPXXPbyFBIQgbQvlicGy', 'siRCNrrfIhcciCXLUKoE', 'cEGefvtbyDnkDWGNtTQQ', 'LfWmeMuzRajZTjYNYKmA', 'iDjxIlqcGriiXRugsYJn', 'PRrRgScIswbQmYXIjAWT', 'YdwccINLFYdpTzBKZTHC', 'vNRkLzIfcIHWdTHMMrFk', 'AbUDPwceoQqyFNSZYGST', 'lJUXypEbnRsrbjTQJYNj', 'IZmdIebBdezZaOjFAaJd', 'WCeLviRENPqFilRVsqSy', 'TFRkzntNsDEIrZirQWQb', 'pGTCbFlMzMbkFMIIgbiW', 'thnOEKRmgrFWoZFirCpJ', 'ifWRKZjRnWOJFZZakeec', 'zHiEdMafQemfAbvKQvWx'}, {'jDGcwCnkTGeJoUAjgGaa', 'bmKJkFvCpozwcqyQnivh', 'hEgYmgnYoDTKcvGsKRyx', 'PfXUAmPLeafgtjrvCzab', 'CzIQGJvuvYEhqKOknsXZ', 'RkbgWLIswDdbWMvSjpmj', 'pRyUwuctoVpnAbsEyatq', 'whPgIHxMmffZQEEABNQK', 'uomJEaUZkvZogyzESMhv', 'fnhfTXHhiwTmUfDmHexF', 'TqnZfCSjYQHXxFPbrQTo', 'CzSHspSvcHUIeOqHCjEZ', 'gnRwWngKuXhhERnGyOWq', 'oeJIpjXpAFgOHiLGkJqP', 'GgXYbbjbpdduJouPIeso', 'LTSEPmwNNjpqrsTHIylp', 'AXxtEbpDBpuQCbHiZOKm', 'GQKvCHJwfYJdNhdUUYAb', 'ZlDvFjRXyEQrodNEjhsK', 'JWbxQODmkTvIpiXInHwu'}, {'HLSmScwJXHzdbkxzppbK', 'ThRWMHtrRJqCzsiIYiXU', 'vUvkIldpCOhYzfKDACtt', 'qyADSQvDYENrHxjWjCkg', 'YtFsEFnWnXStXYrFyeMI', 'JLVAhBVtnDRbWeXgKoIQ', 'YdnnmMcEmfJTzkISGNaF', 'EDpdvvrCSSvzIiLSmtGg', 'awVXeMNHRDghfJwzHKyM', 'oJODzlGMpCYUUdvUzoIb', 'cuClQIsLcNMvXKtmvgSu', 'qmKIcwBAizGtnfuldpvD', 'BxZVdKintuagyPyKagLg', 'LDsEbDPLhamkvpjpKMPF', 'KQzphLSTNskNAITInLcN', 'kYPWTPKYuFyqhLEOTDnJ', 'zAGkaUpIoqvNPlkLJoVN', 'eWmLUAyyucJnhVSAizul', 'sRPTppOjRBvCBsvZnYzZ', 'ALPIpcQngnipqVxIObzc'}, {'UANgpQyenrnXKVdayOCv', 'hdDFhBGLFLUhJFAxNLdG', 'rNCWHCcXMtFtNxRNzOzZ', 'ooeMOPgNcJguSydyoJdV', 'smxvujNDPSfOzQIrOgXM', 'OKOMeavrRSDJHMxXzfyC', 'ypOiLGRslljOZVoWVMcB', 'HxKcMDaYesWYBPwpDhGs', 'GeGHoGaALJKmzHWVbqwt', 'XagoIJsvSIyjeuSSfWQB', 'miJoXlaHBEexNhiVsWzk', 'GvYzBshdjGjefDOoVKQx', 'siLrTeVLTMwxXkgGCvSI', 'qCXOrqLvUmlHQwRSPESU', 'hqlivoLSPwdIDDzjjPuc', 'pgSpZoTrgHzuGvkvWTJW', 'CGatwrJSTEAYYWyRGnPD', 'pfoaYHBWQZJEThBBawzm', 'YQvSHhtmnKLsNQrUIQka', 'WtJNRkfobxVJoKBgMmhE'}, {'laIjXDECgKecMUGvWcil', 'QgduBnBHOuNksEsOYeXD', 'bKvycgTWpLYJWXXRDYXa', 'FLNMEeYmZHvtzpJcCoyB', 'VzqONjUJtGgDeiCbGprN', 'uMMHKUYIvsVaWcpkTKbR', 'TMKLsOpnGJgvcqVUkwha', 'okZqtVmsipoSBdHfuoNr', 'xKJWaalQSUhBUIRBAtem', 'XFdKtEjbJABqCFUsnKyn', 'GvabJHPPBqzeJRQINmUx', 'dDQMfLbSsEwGwGkVIdIL', 'fhNgXfnctNPhUmtGYdwz', 'mogRrGYaUkAyFIpdCgDS', 'LfUaQkBMEoSJlTVeaHGV', 'tguprlQMenQrEAROQkge', 'dEMPKAqFbhRzzvprMzwM', 'fUVrNssWTBkSTJzaKBXN', 'dduKuHNLzbvozymAcTnQ', 'bDeHvLISZQRhEuzISjQk'}, {'ILGdkfKyKxGbBIMSBrCk', 'JDdayIFtSTyumiVDBSiR', 'prCeXKtICPKzFKOltYLa', 'ahtvgbZEjefyBLLKcvAv', 'qFpDhvsAoxuwOFXScWNx', 'xvWDuIEPCRdMjWwuIELI', 'GQwfupAUVxVUVVzzwpOC', 'RqzQpWqrbwNNfSWSWYtv', 'LzQRLIrUUyGmlfVpeBrO', 'JtcpExrAbJRaYxJzcAeS', 'TnutQqwoHQBgNzFyharQ', 'SEVFIrUAogPCtGXblRiQ', 'upbPQzJZOFkXHjexHfan', 'pznXSnjkSBrgUrGzHHMY', 'BtBjMqiWRNsNgYreOaLc', 'velxkxFSaqGTwQNakTWO', 'WbGdBhfgSGALKuREqdfm', 'MJIpQQPtPFeFHqBuVTgT', 'PYBIuZvvhlXstdvNMoTp', 'MXevhNFlVSGjTargonJh'}, {'oizFloxWzNViZfsVkzEY', 'eBLCREhGwTcYAGzEuser', 'QaeVXEkhymQtAbhMQNih', 'rOhkgIMoiPxOGBodEorG', 'PIxKzfFvapEvjhUrMTHi', 'nrIUCdlvGsfJOVVbMZhz', 'OPtmcMAxkuMkdxLNSPRv', 'ToTkrZbgCTWTYPCVTbBz', 'HDLKZdXHUytCZpavNJlE', 'YCIEABYQzTirZDYmzyWQ', 'lBlCuIBqMxWWPcinKacy', 'bRrDJbMWjZWwSMKwvKGV', 'JUXWgfpJUIilFJdEWbtw', 'HZcmCwgtCqAJxSWYNkxS', 'thLNjsIRSazNandESJsN', 'pAjsfvKKxGcMNHsWCwHo', 'ZtGYqxXkYqiiuAHoopYk', 'pmVFqsEEOIXWkuVtbGKC', 'RelqeGUjCkJGMmMadPej', 'nnpChxTMXaeSkAJHlyPj'}, {'ZSTRPxiJXbwVWFdAFTDI', 'zWXIIBvZwURecpHExWMo', 'UCktxZyEtSGBKSnZchcJ', 'CMDbNVRBrfygBATsYqbO', 'voBjEyeFExjIknDPMXLx', 'boQoAbGAVnrNtkSTgPvX', 'ecbdNqoUJAVcZNpMNZQJ', 'poGGONrmIjMtOegULDvW', 'upuFGwXpGBcTxrpqmBGY', 'XkKxMlvwzGZwWtixQGYS', 'ovKjaVedEStuINUedovv', 'DKSfaxoTqPuUWpSlhQwl', 'hCmBFHhgHMpoBfbmgGed', 'yRguxkXkIDOWJzYKxtrg', 'ocFWGoYTMhNaXevkdVev', 'GJKJRHvibPjKZfllkQiR', 'juElwVBmiXJdNjTEBoWy', 'OCsxMnqRdzWoNZVqPqtw', 'ZvixDfqYuoIZDwPxuUoX', 'RezXBisIPUombhTRoAfg'}, {'PIVlrNSkKTCoBOjUzGsa', 'pQhjwvChVFmGokydnsvd', 'uLlZZpefyoZZbuyCYBYb', 'oryJDtOBIiKKbbXDhqlT', 'txbvGKQDTFYuCRXBbysY', 'PEmcWPjTusrVzmNUGfRl', 'aQgEcKQFdysWAYJNrgtg', 'eqnJfecuiyJkAlDbWpNi', 'zPDUVgQgxwvECQyvEZfs', 'QHOtNsrcjvGoDPBrOViO', 'PwJUCzPPcRQVkofAQbsO', 'hYOaLCVtAZvpLoNNCpdl', 'nTJZxPvfhrhxhdbZXudU', 'aTITRpWUqQDjmodwVNTn', 'XAGQQlOTpnvXeXlpQjxg', 'FdaNjxSsrZFpYcmTtXVH', 'ETTlNQiXJWAYFKeCPEvJ', 'cbdIOQepXdlntzTrcYrF', 'AFWxCTIDlIUePSOZNJkb', 'DzgIRvoOkHUfKjUoMUbj'}, {'gikYcCIHzFBfryRhQyOU', 'KCmmDIfVfoIQGqhkZQEb', 'pUBuZSvkpUAVhWRwswJe', 'uRrXDtHVPjmmWNqwCuQa', 'kuEezbJqFTGZgKdBIpxc', 'czXthAmnHsnmTwOfdyZn', 'HuDMCuedgsnKmDKoJgrh', 'ijTxLXvYxNZpPkMhelkz', 'ogrIPawDWagCyWlJqsBj', 'lFHDVdVSdiuztQNoxrmb', 'ZLewfbIRpzMQsIOpAEtl', 'wngKJmrLynlfzZHUgkUv', 'jfcMuZOeDjzntwCfbJHV', 'fgawDyfEiTbFTCPGfMkx', 'oLZWLJXHKOIAbYkUPXUg', 'ImnVUKyikevYKwJNIjPT', 'lLfXrHPQefeUooMrdrqf', 'NweySCjtfPdwdTUnjygt', 'LnOpwVDEquuSCrnvSaew', 'ofbAuhPxFqEctSSiBurC'}, {'sGajONqxEAHthUMYgZoT', 'GGkhOfsdxdSamQdfpYJZ', 'gcdENmDRsDrnYrtVHrOL', 'SWoiaoHbOxZGBBXCYuJh', 'MgcYDCFrOKtXrcKhXgrK', 'fbUjmaQdNlsJnHKiNXwN', 'TsQqYaYUnWucdjYaprZE', 'pjwDKFMVWoTEalfJSNrK', 'YOnjEtERhJezlXyAXoKf', 'ayorIsRftPELTZpNLehN', 'ROsaptWhQoRDIdtuUXmy', 'TBcNNaMLqtEldhmARgcG', 'BmpPoTncfMVlzKnCZzMi', 'NiPdJZQkaFNeJABUZHEn', 'VEZNfPJXSsNyJSDdeBMD', 'bqlAmIwITfaGBTjAzBdA', 'ffAgxgOWWEJahsFkfAQw', 'ixvKzTQGuSJJTfBloZkV', 'NpHckJZzNyKsRJtZJsxB', 'tquNqrOBgByPLGXNGDHO'}, {'QqoachDaXJLfBDAxMnAe', 'SfaFzybalVdhSSjqInjv', 'avRWwSgUljEMzWzJTAaH', 'hKFLtBlMCERcCBWEYkjE', 'GDMUKoXaNAywqgQAIFiG', 'NuZfKErGtaoKZgykfUtO', 'NDqTPkXFotxltQwrWkhJ', 'ewHrxRqSPkJJrbKZejHC', 'LlXrJHCbBKUnTFfgXdeb', 'DggvtsIuYKZDCqdyhkVt', 'yGxFRlphQjqKksLkUXRz', 'yUDUsLhmNKHwTVMQWynV', 'XAXFczuErSiGqtMaiHLH', 'BLbZbMTnXUwsnQNMyFCQ', 'joXrzjFXZtrSHwyEvhJH', 'fbCafwgSVbONmjlEdfRe', 'FMDttyPRuHpJKfDCwNQl', 'hUnaAHUqaeskLAlxakdk', 'JDcqMoHBKZsoRzLdqwRl', 'RNlXUnJqxEnOJcTXkjQQ'}, {'YkHXuOxqmJrgRyaWIYRl', 'giFwKpSyJoaxjSUCZlIT', 'ezXiSSixUISFdaqODLml', 'TJUlJyyfQfFavdMLVyjm', 'bmnOALhImMRoIDDkcxEM', 'CUoJvxfNzaGSnQXeCoDX', 'nTLMOLyBKpSZQpPWDFWG', 'YnzVUZpBBdSXVxjGUlPT', 'dSkIMhxkaARCUUfOOXpU', 'ooMOJiivFzskhBHazFKJ', 'CwCXGVPiQNHfAmYEZuMV', 'ihPmYjDoXQUCfAEEClKF', 'HIatXDBJjOpqOWDnXYDk', 'OChAjmiIikDWTFaiMCtq', 'TCxQmikOUbMrOSacWyKT', 'xkDLxpXAAhTCyFUlRorX', 'ivfvhwqHwUHAxmQtxMUP', 'JVzujkzUFpOTUMUTrYZA', 'mbshfxlEDDFJaiOUsFmz', 'tZCdSWzFhIvufEyUcipB'}, {'DnwNJsDaKeGhKJauAfRs', 'ZptpRiCRKlpnpMCfXhay', 'xcQFKlHDUDPPCNjgzmjO', 'mkvbLJeTBfwEJRdcOvil', 'xSxrffdcjCnxlxSCdNAp', 'HgSjeMEkujILWtqHdiiq', 'lJfVbMgqAluGJECvsfxV', 'ylgfgHDmJJZhVvYtQJaB', 'UlDMTMinwlICNIhmJsZt', 'CTlMOimImERarYGRwIqS', 'sIsIVTJHebVAaVIqUpNK', 'FbgUdJyurpLfWGwGbwGM', 'eMeqgncIIqwIkGNpIzME', 'ZCagciMRiSkmnIyHmONi', 'TEXafuMYyRSLQCpWTFhW', 'kJBgFOhFVSezGTOQgwFf', 'TPifmPaXIdiTEGLeFKXY', 'PndqTPflhEvqasarrdOW', 'wWMpbcIeOQCRvxQJZGLk', 'yfevbfyKAsaeagTpQcmO'}, {'yLKoQfWzVDIutxviuyFv', 'MOJWOmZQsfKptDZYKoMd', 'XaqimivtMqnOlWZMsDah', 'YarzZhNtfnuccBKmJmNf', 'GtCBTtQikMFwzAmElUMj', 'zLfGCCUibJsKqoMUudiE', 'DopSusIbGqTdfiVMkCDa', 'pXNoEFNWQEkMcnmDWYMQ', 'qUdIlfEClguGltJSUNby', 'kpxiqvrAiLTNNjezByqs', 'riqrFzFgOemmwLxpfueT', 'lxhMySSyksvPeVfhZmHk', 'DbSxjXXBBcBMCqQgBQhQ', 'yRnSMUlAnusabPrIwONc', 'MPqHAtbCQerkhxfzCjSI', 'khDGCILmaWPvpArTHOXd', 'SouBghXZiXPikMqeqfzP', 'lPRdqdixJSHdBaXxoUDh', 'OgoqXWzjlwJZRrUCIKrS', 'ZPCaDjfUUufhDemoPhcV'}, {'xQViyobfFjrRkqmxUhSy', 'TPRXIUeCrlygUPlPeaSI', 'ErjBtdONWMJuqwliAyvf', 'jBuwMhdEimUdGAGpEGYy', 'vPgRvbUaokQyLKfVbvre', 'aCIIiklkrEewLBdgzzPn', 'xQkbqSUNjlcqaSLwUPhi', 'sZqYjBZJYSTlpyrujFqb', 'JCuZUKNSpLjDrzYHUyYJ', 'HFDZzpRiSmtriskibjqj', 'irBODJgXRlLpifLEmWGL', 'esuvPuMLsGkQyIEBLyav', 'yAXeDqJDDLMjhnYXQUQu', 'TmGPXwYJMZnVUzHuIkfF', 'PwZPIXPaqsRurJYEFflt', 'EFbaFIbHKaLrgRDiIyQz', 'DTYwyaEUQtUriVCehSYl', 'SqOvrCrAOYiNQIfdjjnT', 'VnGevzggeqrHyzKVcpit', 'VuqrDNJUbbrqZYXCYoUa'}, {'AmKGaOSIXOXwgMlvSgzL', 'PDvAWbUknwKCMkuCSELs', 'SJAzNqvhILEDaERbMIWP', 'hRBgDDYQtGlAkfMtjLMi', 'XPLIaqAbiBJdTHjjcQhG', 'lIxTSGhbbxmCRWbcDuPB', 'lJGjGixFwJjyvOtNnxNg', 'KtZDsKEEPKdwGCHLhBRT', 'VTbpLirhoxoDuYMUvrEo', 'BFxbwMMTOPStTHyIYTnM', 'RkizWPzWIzfVATIYuHDP', 'fZAXAgTBEClTbcSbUHqT', 'FxgIhYuUbpDmUIYqPhcP', 'TwAWRGCLFLKZPXxJcWsD', 'tyTlOWHVlIALQHuzzgkI', 'saATlQKGAyFyqRajeIOv', 'GpmXQZTsPfyleHjqmGjQ', 'plfNZEwWFruFaXIMyRaZ', 'XkCekXkMSnMDumgGWZFB', 'EapIfnDmBGJRpLKUjsVv'}, {'lskfrHyEGthUtBVaBsNa', 'hEOrTACTsxakbWvIpotr', 'NtyfctLiQLvwHXhMGHEK', 'laZouGDqxHMHlmhPVGAj', 'DSFZEjoqLJdgFxDgAcsk', 'doLZitkdOpjDptiZhIBI', 'ORqhtYrdFgxMRSDzBiTp', 'AWSShWkOtRcizuwuLmCf', 'GOGacoQkArvQsZAnqLjN', 'SxsZUlVOjRHsKZsZKKEQ', 'kaXDTOsxwRnIkWLxEEMs', 'WTPJMbhjXuNQUJoCoPaj', 'bzZJzmkeQGNMOeioPYvp', 'VjRYNSjLBLUDMeKMVbJT', 'akXkyvHgmfhDvtisTENx', 'hZhVIINVZunYUxKPKYqq', 'PWtIFTJVIUBDMuZwOWkX', 'KHaEjvwJwpZPiyTqeMbs', 'cYizHjMqWOyYAbDBlvAR', 'AoxsUtiSqkFyXQEZFseX'}, {'xoqaEGeGGkPJPlwMtYyA', 'yALPeatxKOWPFntPjmix', 'spvqYPkJnGwfnqTPLEYi', 'CPUOnWlkPjtrNccTCRnb', 'pHyAdydMVfyQUjLCGaGT', 'HJSmfcLzvXMBEMwNUshP', 'CqLbgRFMKaaciRIxJAhl', 'xRQqdZdQKTQuqgBoXhux', 'QjoHLqnWWobDQkoTdyli', 'emvicdPfeaGlNvphcuzH', 'CoDxYIMkGNtXdHFbvpWv', 'RkhoHrHKjmxqUWOPCJla', 'IruMnblYLpqeVKIJeqxX', 'yUoXRRKubHXzJzqqwGhe', 'WvoqOjbFItESoJyvxgdo', 'ciGnhLXNQVaaqFlhxGEB', 'AgoGAJAwbGwvgfMjgsRE', 'FWehIWgZzApPceSxKYEK', 'avSUNBlDnpNRVXtReKJU'}, {'DtMoTQVyptGOSuOWiaZB', 'KpCtXskxKKNxVbZrpfgY', 'XJZmZuOGOpLHdQPoITNr', 'dkvYGMlyumjrkNBuRPcu', 'bjZdMkkJpBSqkAaylORU', 'KbuiCgSoTHkbgzlTEgvu', 'qFNYtRYQkJlGsMwEAWbM', 'cxWDtujlSaxMTkQNbfYw', 'pArxvHbfJEEGiCVMFbei', 'lOKzckRQxsWggXkjsOmH', 'aMwLzUaydDuigWcQZMBg', 'SDtqsSbndnDNFqGLNPxd', 'ZiGoGxjBclkGsAqqpGEq', 'msvleGRRUhZYKmFfrCdS', 'PLhmwnfMbXtgKlgNWYqC', 'JbGvfdPcCmrvqfXjVGTp', 'REeoIHzaDVWxVSZBcOcg', 'yzdiDQcnLnCuytQNfPRp', 'UPhwljqiEkECOUGxXUvF'}, {'EtHNbMsAxzSoKipgkCnw', 'tPzOVcWiEUeDFzlOfKol', 'XXQFEqFbVDHkVekBGvPF', 'tiyYvqkWJTWCAJstBBKe', 'oVOBdWTUBcRQGuGfaUzR', 'YnalRzjTWswPDxgQnNWB', 'oSEwQvuXtXMAHibtoOdV', 'BkPzlcJnvoJvfJWHbQSL', 'BZGRkBpuBGpLJkJgNvKw', 'QUaaqEbYMlTwNtAywrbE', 'NpoNBSmYHiwhxOvrfZfd', 'cqfhxpifujohHYWnsMOh', 'kcwBQsjQaAwefqPHpIwB', 'JWQAqZxOZjLFAhVLPjAz', 'IbSLfzKKyVBmZnREjsmg', 'cPYOdXselkakAyLUFUmt', 'mRcSnzwGOOGjPCuIzKCs', 'TUWsiWBICpFZKUJqxTiU', 'ZTEGGvwweeHsvyhjoRkI'}, {'WYqNChGosEPJdIntBcFS', 'yeMNFriAWNhLISJNDcyO', 'kQoypwXTTJfqNuHqwkMT', 'cRTJnLWNfOJoSrZHSbfa', 'JVhMVCWeNjRsMeYNdyUP', 'IuncJGKkMkSWKDZlNsFe', 'SdnBuSpsntMOqODDXXcx', 'SKrDHbpGkeMesqcfiWvU', 'XyqYjMZoFIISkHpzJGHI', 'jBvwKLaCtOthsvcnPaIH', 'ODvSJNkdlkiSOLDEJVGl', 'QoUFGIWMdHOCviNJXMFr', 'nOituYTbrkkqPdGCYnKZ', 'CKGNpyPSrKjHrENucDHs', 'uXnIDuvFiYPMAsxSCuNG', 'DUvCoCyrqjbNsOaIjiav', 'VjlbKZOvkFWjqjjETvnQ', 'TOETNhzwoUFqQRVtObfb', 'xUjGgVDrxeqigLJRbDPO'}, {'HGjakZZnWgJHrlPETcIX', 'oeXKrdrHuGkWhWVVqFAQ', 'TUBLgwZSOGEVKzPANadB', 'oxerYgSIQzMkTykFViYl', 'WpkPfSmIuDBVVCQKpJtS', 'qdxpUxvhFLszjijksdRT', 'OraAZbazKxAHxubtuKpk', 'tqDsudjezacoWRwGyxEf', 'iVFfQSqolWbwXuPNurFg', 'ThhEbLQKJZbkGxtTPRtU', 'xRjBNxfzUfsEJvnAHEGE', 'fRPJJKmzZytPnQlBIgAB', 'BkemSdrREmoLdjrsFXDC', 'ObpVDsjOgfVFqmknWUXi', 'adMXmvlHWUXmQJFbYhVT', 'mCzjUURfHCkGFpscnbRZ', 'pQqKwfnAONYkynRxHGfS', 'NfYuEbWaonZhaRroNTlX', 'jQmIxBnJChbqvPOMNQwc'}, {'oliHvvoADAfIEoQXRCsf', 'gzAvGDhSqqGVMPZeexaD', 'tCOBrxpoIZZRZrCnhzwT', 'yWFhhnummgDsvxMAGYtJ', 'KSrEkgNkHibUJjQGXQAL', 'GQRtaZFlJAVrITfUzPnX', 'KOFcuMpOMNouFwOGfKrj', 'lWKvNxgYKzJpzGbuLcSX', 'ZqiQBxmGygYqnXoukmuO', 'YshhXbBubQkUFDuqzfaZ', 'zgATFOtmOrTemtJFbcyY', 'jBdBNCuGdiyCLlYWRxMd', 'uNwCjTeqwtDsNJSmQzLY', 'jcwqCfrGeKepngSPuNna', 'OfiFcWMdEuFpZItdPByE', 'qjUaHgcOCCFaHkbaygpF', 'dTEFWYpsunxliNNDfdoZ', 'exhztXORTSxTJeQoeykw', 'rvsQgvCgURSEICVCmbVX'}, {'vCAOIUwAxpluqYEciZmM', 'kUFPTeXoFishMPsETDaZ', 'dcKVDjCvKIbDmDIbJgAW', 'MQeFdILHMLeKgxUHWesu', 'aeblrhElLwhXxtuImSjl', 'QHCWtsthDFMZIaFNWhCQ', 'sSwXLQjBWMuuifhcZpWt', 'NSDvzdDBqCRslVjJcEIK', 'GJzpngGkNnegIdlHbufr', 'NanpXUdhzwhTKBfKhVgd', 'sKqZvlyIzBAruCRMbsnt', 'yriIaycuhENVLWNprCPM', 'qpiEFPRhXSONASzBaCNq', 'OKGKSLfoGFBMaEqJwIaZ', 'ebDzWLPXlDouMiGcpYGN', 'yrFzbSsPjrrhuwtSSDFG', 'uCtdeBfewVZEPcIkdSvb', 'fMEyMBxGVssliSREYkvN', 'POiqonayUghedEIyLpjO'}, {'FuIdxItBwbdZLQGwjDim', 'lqPkZWdoJCbhiHTknGZJ', 'fOwAkozzuOrxfVHSDIXy', 'ssCjNVOILtiRNSasgetT', 'qbqlQeLSrzBxbYeEQeAj', 'HKAaTPeUbYvDVGCawxgy', 'RAqEBVsJeZepdSHaYCcG', 'eniqfJAbjFSdRPjKZkqK', 'KFGBuxmIeptXzLXTVOHx', 'qzRdZPdmDYMkhreeeJaJ', 'mZyfOzVslJyPJOrpIQSd', 'BbPypfvCUpiJcDDszwPG', 'AJvYOMCyGvnnpBlcQCce', 'YeafVMdQPKMwJArLfJgI', 'MFBzQKxMFvcWCjomzYoq', 'BaGHAznyMWlXXtcdMpMa', 'mxiuctbRkJnOUedLmfon', 'yxStyndArmPwfEbZrGvq'}, {'kaPuVmOtkDuutrsMtGVi', 'HUSczMgOsBAFMkUIWYgG', 'cRrnLDDUwRJmNKUrHuOV', 'sCXtMHNEzBODCJYCyGnE', 'iMLnaAFSwCIjuYKmDqFw', 'qtJbgUjUysiRsyfcABAZ', 'ocRYDBcmhZwxmYmeNMjk', 'vzatjIYQHgOYglgETMjk', 'GfCvTHuubwaHxBeHpwID', 'osKMupcrKMxCsfhEzlPE', 'TuETRbddBRCXFdVNGfoh', 'YnUVCaGhPYhhseeIyTXx', 'GZSXAUiqdFDHSjvVZMjw', 'qYBjMxYGAioHhHfMNeSt', 'PaxGBRZtJleTvAslgbXD', 'RdUBRVHTXcMxuAJMLaQV', 'WMrlHjAgaEgcFStrqMov', 'HuPgevTcjpOUYQnfjJFg'}, {'JldxXleylEMEIApmnfrl', 'JVfnjQyNLXLDgmTdnAco', 'RmjrQyQBFYoqJFIGvqRJ', 'cyKAQVlOmrlTkEoylJYk', 'CpDdKSUnFtWVWvIuPaof', 'rsrAmTLReTrHvffWNgWX', 'EjolUcphlVKWAyOnOptb', 'EVJKXJJuvLCtHddmFoOf', 'rCmFoRVhYJwJQfQZVgLE', 'lUfuSMlWNSkkCtGPgJRV', 'IaSrXfsVfJwixWGsSzCE', 'gqYfkExouUaIhkZTrhPy', 'kVjtQOzYTowLSkgImCSv', 'lTIfLmxbgJOGRsqMjvOt', 'KzcsPnrgvbqoYvkpUzAU', 'ogQDtqPZMdlKrySXFiql', 'qKjUTHLDwPtKnbawLfsI'}, {'gCzvFtuWOkSKWdEOjJSE', 'aPQlSqwTZxryEbGiOEKr', 'JQyXcmxLcCbDaKHrBsbo', 'dwVTwfcMzGyalCAAKNvE', 'iYHwGGAlQWpmsBOLCChm', 'DVhIsBeqJVsxnmEKqYcY', 'rJDrlFBZgHGFHQNMPBet', 'lbNYcPvwEyUcaiJJfmim', 'nLqbuTxVsOfUvyrRjofN', 'nYUPpUSjFXFKUibkxFcf', 'YwGZGWVCFRMjbrqjaool', 'aWbjegIESbCPPKfisENG', 'THqFxavIdjyxOGoefEEU', 'jgGlwAPFhfPINUnxpivb', 'oLocOvXFBSlkkCLEBuli', 'wiQwSksxDLtVTITKuOzz', 'wyjBGBmSEQtsOsQflPcf'}, {'qXEwoOTBoZjIpKQpYdwU', 'NHnkSBSaZJKjboCECWzv', 'qyGYiobckHcHTLuhWtXv', 'EtrrCFIWDqoMDmLevzAW', 'KqVxiIbibSXkTxYzzCxF', 'EVEHNqQAEpMacXmuxICZ', 'NbPzRrFNlgXKctelOBwV', 'vHKuNGqSrUlBfPXVbpAQ', 'RbgzIOdztdsylmubtdnU', 'pucpWjijCzOXvqpuDSAH', 'rtonfkIrNIoXCIBXMLud', 'ALzuBSdYPnZNuvMdmdfM', 'jBBEhfufkdSSSBamOAch', 'FdrmmuMALswsFSuiyzBV', 'rRTHiAeMDZPxfMyTKONd', 'WbPRSUGimXBVVxHjhCoX', 'ciWkIBlAFaSAwljGzmCi'}, {'ymtZudDEAWMkYBjkUMZM', 'wUWRhfhKHTNMmGmQDBeS', 'sziPayfIwqPUcUVynMpM', 'vlnCMiWbhZOrbQzKVlOG', 'OVKNFZRdRkAjgIeZotUD', 'qWFAnZtViRYFxKPMcrEb', 'AOSGGxWEldoRSSqGtIqU', 'lqXWjeaLItLJgofGzTKZ', 'ioXfFTuDGsqEabCCrjNi', 'SmXOhjsGQeazYdEhvGDH', 'BGrFuksCRAcPyPMnHMKF', 'HoLjhhcagSeIGBPiFaqE', 'GJQVoKaUtrXSfFEaqEfv', 'aHgxLNUcqVZwXrVvVePA', 'yhkFPUenwtcbLZSRawOm', 'YcFRmPtBgMKsHVsrfiNi', 'nzNhxexVoAwUqRICWpFh'}, {'DseyuozHiUeDfWSBdUpd', 'JIYVOICLydqlNpYheTvH', 'HPVJPbWqBAwtavViUlAy', 'mfAKbVSrQqyYmROcCZfS', 'FvbQApUpAkdmwuOnoztE', 'CLqYdVHzabrIGCLmxiBj', 'nHxZtwhEQzTmtpRfgCHY', 'JjPeBFEHsUwjKdMKoNbN', 'VkmjCMBjpTQXtiIeZoTD', 'PLFVuhPUziRXUbAIBBfP', 'aEDcnvRJAQnBfFnEKxwn', 'sKILQQcuQyFDguMqKmpN', 'DROlQFWfgccViruEwgeO', 'OhIsAkNfqmxWYWMzUKeE', 'TriHxGNKSZgbNTZQXDng', 'wKjpPOyOuFGvGDvmBPao'}, {'herMiLAhnDcfjWMIzkaV', 'YMwsYpUaWbILphiqkYKF', 'HEHMuGCQtVceafBMwyzj', 'lGcyzdOznmNnrCxJUyoR', 'yZmCUDNaswTdVYZIQuKE', 'tNxWXBzuMECwfFOCQcWp', 'GvojgWUzdqaKXiajoAoz', 'DfVFsxUKwSuhyNoWcVBk', 'NGliaIwwAHTGtzVoIgVj', 'gLdpEwJMLmQPhAWhYfXp', 'fWIKEsfJkcfNDCAEigil', 'hHvpciULcCXXJdodnJSP', 'ryheasuwtZDVYSWXoGyo', 'KFonChLEgpxTMQCismUm', 'PaNHXgylUCSwKEQjeNmu', 'zfMYIUujkDxaFQDWXYMq'}, {'OsbByveoXsvZgHbQpZUW', 'CldOpStLpFMTTUIdkFCG', 'uTssGNhNpurugWydvvxc', 'SIRdmPlShLNAZTWeACTM', 'EXiVAXfPVOhmNvmujeOa', 'JqvXZTwpcTupZybtdiGd', 'PZXBVSliWZHBelWAxgGQ', 'dhplKadRRErfNPSuaOML', 'YxIiwrpiPXzHniKkrVaQ', 'YkQgQTAuXZQyDKybnDoj', 'pWLohZyOZFnFmLYvgLsu', 'IijCueIsizgubslYptKq', 'FlzEzlcCJoBhnUonaqBE', 'miSuTRymiQYURXPpDghU', 'pkNnlwuPCWCvszFVnPFT', 'hgqBftyeUmISKsLGPYsq'}, {'nxnhuJjcXhrJavuOsyws', 'tvALGpmiGXqPIgLPahHh', 'GgDDFHjMIDrscvzuSsyQ', 'gWBOcAkvsjxUzQMCEGUe', 'YtjPYpOgvzLksEQQDiXp', 'SpxUbRBkqQXSFQlpuuPN', 'QoxHjHnkGpITHOHAMiaJ', 'xHvblrjbtHFIxMUHecGA', 'GQlIPtOFGVgKXDTBWBpj', 'xKQmjYMjvvLZmbTClKVJ', 'AhYWXzkdsvfigyEGZmwS', 'wdcWCOBQdCeUkwXhRuMq', 'ofssPoyMvjkrWJpcEvRa', 'ZesjFtykgZKeTgEZsXZj', 'vlTCYzPbkEXBHOakwqjE'}, {'kclfToNjfHMuODXjMyWW', 'SpeLvJPsNEFdjKFwmnqr', 'GisDuedUiWNrzNDhKWWj', 'dSHgYIxzcVxDlxwgvZTN', 'tNjEOGBQAByOrxywIVTB', 'aoNVQSdQIXYsWGZUxISs', 'ozWkZihKUrEyMqgdARvP', 'ZINWuVcSIXXexXwmTXyu', 'ZOYpTskELZaqAYOonJcT', 'yHhuGWLEiTEJIbrggPVW', 'cMrHzKduzLBkKKAZEXkf', 'ewSizmpKjXedTVhWUNDc', 'bsqIGkQvlPzpDwcefNVa', 'RIkxLphVNnGwDCGMfnop', 'qOvcKBaFFulaBtTEtNZI'}, {'kIpzOoLXrCddCDKaqupc', 'NiCykglHTeJGteaIALNN', 'EtBivcHYsDVxonVReQFk', 'bQlPgznkRadjjaluCLFM', 'AMncUhfKRfLwAVjDTHYm', 'ktXLZWegQCAvAWwwbrBJ', 'BqRwIUrtHPEYLLESwqfc', 'lIrGCEDzUSVSHIGxMqme', 'pOXCLXtQinkzVcxroMbO', 'eCcMqoWWEFrpSYnEPtVY', 'vkitCDnBvxmnIwunuEBe', 'AiOlpAfmCCFrytepIXqp', 'cLJKkapnWGRnLSWxgZhy', 'RAeLGRkzejKaZsmsgHnZ'}, {'WKffuyGaOFnfQWSMOiMV', 'eKCNuWewEsojRcMqJJKA', 'CDChjnsHcBXcQyUEElwA', 'cGnpeUxxPqJOlFUJRwEz', 'WJOZLUUQaxHzEGQtjSbL', 'VHsCjOizTGTHNArxIOuN', 'LSBBwSBzUAGYsOQThjxh', 'LdQUcUfxJOtOFKjcQntL', 'CcOGetolJXZPtJSbDdLb', 'FszsyvXBvbYDSYZVZHnQ', 'DnlRgVoRDOskLHVmDzSb', 'uyzwwpMLZfeeGtRNNWLp', 'vfzdgxzglEoMhocEbVyI'}, {'WwfjrPRndEBQRnsmsyhD', 'wESMxmWArtyBrCPdTTlC', 'xMbdqHJAqfATLzoALcZK', 'zEkdGWPxkyNxYSqYQtaY', 'HmKaEmqYauMruqANttlq', 'OwuSdGgiPkXhgklVwCbi', 'KSRDwdAdCIxGzqzoyrZE', 'nFDCKAMHpeaNvkUurcIY', 'yolntOmjehZPBiWedUMN', 'FqRjHVcAcxCQprXKRdjN', 'dPaYsWeOwYgUrjsKsSfM', 'tsPFRYpPopXGzMeYAiGb', 'lXDQLPXCuBKYfvfldDfN'}, {'mrmNMvieiOIebfGxdolG', 'dnkiHPAIVyuxoRuZkcey', 'ngCsyGcEMhMkQQwuQTjU', 'sGFeiOyZORsienyITzTe', 'WoxOdQvMYtIktJARgqcP', 'wFVnDPBnPGtnUVZVIjhO', 'dedYwqgZOjUnnshOjVoP', 'VDMPizGUyuvsJqwWsrAF', 'NdOIZfqVdbwdmlfpkEIL', 'KGahZIvZDvPsZIfyxqiB', 'VxEyiFZpBfIqPdDmoGPd', 'VYIuyiVejzPHYtcXJyZE'}, {'PWwlemZiNizJVPuOLDwk', 'RRWLKxAOcCCsSVYsJTnc', 'iuLGQFWoLHeAfxoXlnob', 'zRIdhScZluTSuTnLrYpS', 'WPBsaftdVofHoKdKhYvx', 'xhZCVoYwfefXZiwcnpkv', 'OzmXPjOmgPddfKLBFCsZ', 'cvwDqZyWCZDCRlJnagtc', 'UuZMmBAVJUXRdtBjOYDJ', 'hblULaFUZvGCMrNeKGNP', 'kLLpZEMkEiVzGAwpxSWf'}, {'hwpckCLKdqGgtpopjyVz', 'rpKEWfTyzMJaMAUgvXbJ', 'KhEZbUcyInkmLeevjFsa', 'EKSZAxBVlROWNoRpEtto', 'cMfgQzFUUAwaynAqPtdG', 'EGFghnsyVkaqKFFBFLhk', 'cluqAATHgyrcfGJliBJt', 'yOJkHvyoHIaHtZqEYizr', 'UxJlEZqarHoCrjDGJuDz', 'rMIDarXnmuxJyFoPHISn'}, {'DsrMiOwrcHnQlvNxCZvl', 'JUuzcwRzSMtfMzclEink', 'BKnlzCQZdxJgorZjtMXv', 'NmCjSKnhrneJzvWHpokT', 'wqCdOqVYuvfEUlrVTXkD', 'tPFPlEVHHwwazixjfjNr', 'ViotrkxNHPIYDyPRwwnt', 'iyOhEgZbAKvyXcrXGeEi', 'qiMjtBiTQJdWqdtEqURx'}, {'KxpUZEKjNPyTKsnqGjIT', 'upbhhhrPXhYIdKmnKXPd', 'IPthTrRKVTbGsroBEdrZ', 'ISSGOdiXJpziclMEYbss', 'oWbZkGeAqLMSBLFkOEHc', 'CElBUDSnXEMWgDfTbBtz', 'lvVMdhZjrPYdtoTIurbd', 'iCldesEZSGzVolywJbIN', 'vjbqoCFMVyAxIKueeGHW'}, {'WgiUNdWiFkSAajXGaMpR', 'PdMkQiHCEwoIxpnsZQfo', 'bwFrGTSjZjayWbmZUEro', 'pNGmTBCrjFcufxfopIoN', 'dDirpwCevrFHdVKWoZPF', 'BUKYGvsLFLHqClOBejtc', 'eYpupdDOoegOZSdCpwQK', 'xIZhBwIYPbIeaArHaGDU', 'oEbrTCKKqopNXFKoBEFP'}, {'MTtqmojRZmJGZBhVikZl', 'pWjqVoLgTEDawtHxZoLF', 'RmCLRFSeSnjLokbpXtDV', 'HPChQJCtEyIphSKYyXHH', 'wufwhjJyIyTYWRiPJteL', 'XaBDAbyZhUrfZFFOaiJx', 'EhQXUqDgWLpTjHRyhQsV', 'LIGCpxsbVapzMomLCEWY', 'bvJvVnQKWMLPELxSSTZw'}, {'oYaVxJKunQfVcNyiaFuQ', 'HyKxdxhrydqYikUvRpVO', 'rcHCcNAitqLXkawwJFWE', 'iYHzzDKhFUpZdLscUhwE', 'JUzFvmruWENdwbBejijv', 'rCiViiJxZimEruMjWGmD', 'UvlUQyjleGOveGOVwjCj', 'opHoGwtACPahpOYRBlGS'}, {'mOOefkjkARaVJtHwEolZ', 'qyvOAdrciPJroHNhCfKq', 'VwGsAeuraggyMFfFipfH', 'hZpQMzrvSFooRbMKGOTE', 'VTbMYbOKldUMssTCfEAW', 'odyFklizRNuPyujsGmVY', 'iRjwKmGcaDrSXQMFUvsK'}, {'bxFdKCsTXqqxaHbJiPok', 'SJjkbhgXKWVBIWEWCBlO', 'nNJElvsCvSnfmpfIAPEp', 'GezvmBEDZKJYhOXKXTDh', 'sFnGDGGbCZXPjXnAzWIT', 'ydimBegtbELklwWvzVPV', 'JyrxSGOkIiIYaiCsWrew'}, {'tsMlEXyYVHIkFiEmgrAw', 'ECzTZbFeZTsAJcKtnRZw', 'SYUzaKEyjofgpyBdasHz', 'NinfjakRfRXllYFECjlk', 'aOHKArVcQZspKEFaQGzm', 'IzRYtSkKauLTZSOmYmKr', 'TDLfhTIUiiUdXZIhQlZZ'}, {'wJKoPwaOirWYKJnDJYkw', 'AAwceDKAjDkjGDpgFcfl', 'uKDEMzQSlPtpFRKSxSdN', 'bZFjfHfeYwyQOjfeWuEn', 'rETkLnGqJLfMqYWEChTc', 'MpBNkqmGVDPrMuXYHlZL'}, {'pdLGVwwavdzEhQjUCXdR', 'NFSPjcChhjsUMigpRjGn', 'VZZirjRqLffgBfsMEkBL', 'xMniCOFspUMgLVrXWSdT', 'HfUrIhwzfPIDLwsVoWRI', 'NoIoZIjmIiLddbEiiklo'}, {'zTAbopWRXKLXAOdAHAwM', 'IVsxypkrzgsSWRlDnAzB', 'mjRGyqvtvgRbJOnRjHUI', 'AueuIPxvJZBbuyICYSve', 'kZSSkRTwBNOQnaTsHMKa'}, {'WiFGPJYrpKwqtQYLkYfp', 'QlCZPpPTEHgPmTRLznEo', 'dssqMNmkdLCWGkcUWXJG', 'heIepyHfrmjWhcpZZJdP'}, {'xntEenjIXdoaCeOZVbSB', 'MAUeaouPrawwoiaQrmpD', 'ZZhVGDugMofUdUstFTTn', 'rPUoFTTWtlmXvjQnGRpS'}, {'bksMwHrmjCqeuRdQJoKr', 'lUPiiIQYHjcxNthdJyeC', 'rmOONjKDNOkspDwLWpIG', 'tgmTSptNItVHZHCluJNL'}, {'FMObxfOYOnxomDvdLqsH', 'HDInTLXHJACmkDBufZCQ', 'RKoasNCggaderNQePIrT', 'uqVWNYQIGhKGvEixbAiR'}, {'wmEjBMrrXpPpqIbYTWZt', 'eRQLhACyNVwFoBNywmOr', 'JyzlKONGBqkpsaDkmfhT', 'SeYOvvGMPpLdkMrXhzHP'}, {'KtNXbuvuMCIZxOIWRfsv', 'xsFxUTlNnIsyEzmYjPcp', 'tMcwcmqAtGEWjQZNJAYm', 'DrwkmECKTOnkWPYcHSsi'}, {'QMKMWGQBvhUywLQwrBiU', 'AbJxtrXevrHfGkuqPqSf', 'oDAAMTZvnhxlcilePvOM', 'nOeBCLqZTjVcPdyvkQiR'}, {'aQIefGckaJEUxQHwFHKC', 'dYgNZZsQRqQudzNDEdVv', 'ZsllnAXmdYPQuibyWpyW'}, {'TFOrIFsYMSnAvdTzKTGx', 'stFUVfQQgJwUjETmoMTz', 'pYamDoBbgAsksMsouKXY'}, {'sLnGCKiKkILfLQnjbHzQ', 'WImLMVEpqrBFLsRukbIP', 'pAzTmtympLHlzoESLhuG'}, {'SvFmbQubjBLbfxTcbvbF', 'MynrbmIEbzlLEZfasGGm'}, {'DxUHJTNzHvVyUcocoukw', 'HOypzSouILAFfHVNmUCQ'}, {'njMinZLhTwOkhVBRVZDg', 'GsuTipOAMqaPdddscEDk'}, {'YQtLmOXCwKzDbmFVyqqF', 'lnJqISetXpZkSsMHLvVE'}, {'QIFUsskQClDWpwiJfzpJ', 'VADdfzOEvslIEFPpXNYN'}, {'tMciBEqCGdjnGYuWNlsd', 'qFujFsYCjIfQHqXwyCmq'}, {'JkImOzSuboauUOssNJuv', 'xMQzQpPCFFCiiTEetbeU'}, {'RllwdfcWimiHcpZiwJhp', 'PbOKQBdnCnrwrbMrYzFz'}, {'ZvJFJpiYkkkDwIusNVqw', 'AzDxDwbhAaCxjgpBrtHg'}, {'PLuXtciEFZiubPbTqgGL', 'fFbhFgNEsOsrrfMqGazA'}, {'TKZxDpoORjGhjzEvDEiC', 'PKzeIGPptBXCiMoBPbQm'}, {'fvxcPMgNzkGpuyciicXm', 'POBfloYjeMhEEGIyhPww'}, {'GLvogaejxmPOWemurhfq', 'IEVpNpqShbwKGGEUELjF'}, {'lIDRghjzoNpTJkSZuGNV', 'IQRainbyPDFaGgNWIJnE'}, {'HCyMfqnhyrQsqKpKolHe', 'EAmAvNDJiEvukyCUXeub'}, {'gBzVUymxIuvYKaaiQivz', 'iigRebtQyYVxaOqOinch'}, {'CQwNzzmAJxbZXIaRAzBH', 'ZdPHFBDUOZDcldJUHyor'}, {'wXSHHhJUGYaMrbgMUtUj', 'xOvZNEpDctSyzrMjFdCa'}, {'pWWccsIYTfBMFSktphPT', 'mYPAwQRllTpdFTpqDQDQ'}]\n"
          ],
          "name": "stdout"
        }
      ]
    },
    {
      "cell_type": "markdown",
      "metadata": {
        "id": "N2HXrBC_S3S_"
      },
      "source": [
        "# Measurement"
      ]
    },
    {
      "cell_type": "code",
      "metadata": {
        "id": "TwR4OjSCMkNq",
        "colab": {
          "base_uri": "https://localhost:8080/"
        },
        "outputId": "d1b17c31-c5cd-4bb9-fb19-0c159ae92fda"
      },
      "source": [
        "\"\"\"\n",
        "Precision: How much percentage of the grouped ids are really from one group\n",
        "\"\"\"\n",
        "\n",
        "DEBUG = True\n",
        "walker_ids = list(set(df_walks_connected['walker_id'].tolist()))\n",
        "real_ids = list(set(df_walks_connected['real_id'].tolist()))\n",
        "\n",
        "matrix = [[0] * len(real_ids) for _ in range(len(walker_ids))]\n",
        "\n",
        "if DEBUG: print(len(walker_ids))\n",
        "    \n",
        "for i, walker_id in enumerate(walker_ids):\n",
        "    id_list = df_walks_connected.loc[df_walks_connected['walker_id'] == walker_id]['real_id'].tolist()\n",
        "    dic = collections.Counter(id_list)\n",
        "    \n",
        "    for j, real_id in enumerate(real_ids):\n",
        "      matrix[i][j] = -dic[real_id] if real_id in dic else 0\n",
        "    \n",
        "matrix = np.array(matrix)\n",
        "row_ind, col_ind = linear_sum_assignment(matrix) \n",
        "print(len(walker_ids), len(real_ids), len(row_ind), len(col_ind))  \n",
        "\n",
        "correct = -matrix[row_ind, col_ind].sum()\n",
        "total = df_walks_connected.shape[0]\n",
        "\n",
        "walker_acc = 0\n",
        "for i, r in enumerate(row_ind):\n",
        "  walker_acc += matrix[r][col_ind[i]] / sum(matrix[r])\n",
        "\n",
        "real_acc = 0\n",
        "accept_num = 0\n",
        "for i, c in enumerate(col_ind):\n",
        "  rate = matrix[row_ind[i]][c] / sum([matrix[j][c] for j in range(len(walker_ids))])\n",
        "  real_acc += rate\n",
        "  accept_num += 1 if rate > 0.6 else 0\n",
        "# print(f'correct/tried: {correct}/{tried} {correct/tried*100}%') \n",
        "print(f'correct/total: {correct}/{total} {correct/total*100}%')\n",
        "print(f'accuracy: {walker_acc/len(walker_ids)*100}')\n",
        "print(f'precision: {real_acc/len(real_ids)*100}')\n",
        "print(f'accept rate: {accept_num/len(real_ids)*100}')"
      ],
      "execution_count": null,
      "outputs": [
        {
          "output_type": "stream",
          "text": [
            "181\n",
            "181 100 100 100\n",
            "correct/total: 14509/19727 73.5489430729457%\n",
            "accuracy: 42.64707860591568\n",
            "precision: 73.47753513245391\n",
            "accept rate: 71.0\n"
          ],
          "name": "stdout"
        }
      ]
    },
    {
      "cell_type": "code",
      "metadata": {
        "id": "8Gkrnv-sLm2I",
        "colab": {
          "base_uri": "https://localhost:8080/",
          "height": 689
        },
        "outputId": "ecdc3b95-9788-475f-87de-4cc4cdd58937"
      },
      "source": [
        "import seaborn as sns; sns.set_theme()\n",
        "sns.set(rc={'figure.figsize':(11.7,11.7)})\n",
        "\n",
        "assign_matrix = matrix\n",
        "for i, j in zip(row_ind, col_ind):\n",
        "  assign_matrix[i][j] = -matrix[i][j]\n",
        "    \n",
        "ax = sns.heatmap(assign_matrix)"
      ],
      "execution_count": null,
      "outputs": [
        {
          "output_type": "display_data",
          "data": {
            "image/png": "[encoded data removed]",
            "text/plain": [
              "<Figure size 842.4x842.4 with 2 Axes>"
            ]
          },
          "metadata": {
            "tags": []
          }
        }
      ]
    },
    {
      "cell_type": "markdown",
      "metadata": {
        "id": "uCwdyzqdgydA"
      },
      "source": [
        "213\n",
        "213 100 100 100\n",
        "correct/total: 23848/30188 78.99827746124288%\n",
        "accuracy: 39.675664577162564\n",
        "precision: 78.01007335603221\n",
        "accept rate: 75.0\n",
        "\n",
        "XY->2\n",
        "176\n",
        "176 100 100 100\n",
        "correct/total: 15169/19727 76.89461144624119%\n",
        "accuracy: 46.4255758366402\n",
        "precision: 76.60619750237628\n",
        "accept rate: 77.0\n",
        "\n",
        "X_2Y_2\n",
        "181\n",
        "181 100 100 100\n",
        "correct/total: 14509/19727 73.5489430729457%\n",
        "accuracy: 42.64707860591568\n",
        "precision: 73.47753513245391\n",
        "accept rate: 71.0"
      ]
    },
    {
      "cell_type": "code",
      "metadata": {
        "id": "3khsWSrYgxb5"
      },
      "source": [
        ""
      ],
      "execution_count": null,
      "outputs": []
    },
    {
      "cell_type": "code",
      "metadata": {
        "colab": {
          "base_uri": "https://localhost:8080/"
        },
        "id": "-YjfCWbKU7sj",
        "outputId": "f7c01b1b-27fb-4d79-b615-91c17ba44370"
      },
      "source": [
        "\"\"\"\n",
        "Precision: How much percentage of the grouped ids are really from one group\n",
        "\"\"\"\n",
        "\n",
        "DEBUG = True\n",
        "walker_ids = set(df_walks_connected['walker_id'].tolist())\n",
        "correct, total = 0, 0\n",
        "if DEBUG: print(len(walker_ids))\n",
        "    \n",
        "for walker_id in walker_ids:\n",
        "    id_list = df_walks_connected.loc[df_walks_connected['walker_id'] == walker_id].sort_values('walk_time')['real_id'].tolist()\n",
        "    dic = collections.Counter(id_list)\n",
        "    \n",
        "    l = max(dic.values())\n",
        "    key = [k for k,v in dic.items() if v == l]\n",
        "    \n",
        "    correct += l\n",
        "    total += sum(dic.values())\n",
        "\n",
        "# print(f'correct/tried: {correct}/{tried} {correct/tried*100}%') \n",
        "print(f'correct/total: {correct}/{total} {correct/total*100}%')"
      ],
      "execution_count": null,
      "outputs": [
        {
          "output_type": "stream",
          "text": [
            "181\n",
            "correct/total: 15693/19727 79.5508693668576%\n"
          ],
          "name": "stdout"
        }
      ]
    },
    {
      "cell_type": "code",
      "metadata": {
        "id": "p_Cixd1fMkNr",
        "colab": {
          "base_uri": "https://localhost:8080/"
        },
        "outputId": "9a36e16d-f862-4f80-effc-643a8fbe0a7b"
      },
      "source": [
        "\"\"\"\n",
        "Accuracy: How much percentage of one group is correctly grouped together (only consider the largest sub-group of grouped ids)\n",
        "\"\"\"\n",
        "\n",
        "DEBUG = False\n",
        "real_ids = set(df_walks_connected['real_id'].tolist())\n",
        "correct, total = 0, 0\n",
        "for real_id in real_ids:\n",
        "    id_list = df_walks_connected.loc[df_walks_connected['real_id'] == real_id].sort_values('walk_time')['walker_id'].tolist()\n",
        "    dic = collections.Counter(id_list)\n",
        "    if DEBUG: print(id_list)\n",
        "    \n",
        "    l = max(dic.values())\n",
        "    key = [k for k,v in dic.items() if v == l]\n",
        "    \n",
        "    correct += l\n",
        "    total += sum([v for v in dic.values()])\n",
        "#     df_walks_connected = df_walks_connected.replace({'walker_id': {key[0]: real_id}})\n",
        "# print(f'base: {total - (150 / 10 - 1) * 10}/{total} {(total - (150 / 10 - 1) * 10)/total*100}')\n",
        "# print(f'correct/tried: {correct}/{tried} {correct/tried*100}%') \n",
        "print(f'correct/total: {correct}/{total} {correct/total*100}%')"
      ],
      "execution_count": null,
      "outputs": [
        {
          "output_type": "stream",
          "text": [
            "correct/total: 16694/19727 84.62513306635574%\n"
          ],
          "name": "stdout"
        }
      ]
    },
    {
      "cell_type": "code",
      "metadata": {
        "colab": {
          "base_uri": "https://localhost:8080/"
        },
        "id": "OWieMhqRY96J",
        "outputId": "af3a3a14-ee6b-428c-bd4b-1623c86d1c7f"
      },
      "source": [
        "DEBUG = False\n",
        "real_ids = set(df_walks_connected['real_id'].tolist())\n",
        "correct, total = 0, 0\n",
        "visited = set()\n",
        "for real_id in real_ids:\n",
        "    id_list = df_walks_connected.loc[df_walks_connected['real_id'] == real_id].sort_values('walk_time')['walker_id'].tolist()\n",
        "    dic = collections.Counter(id_list)\n",
        "    if DEBUG: print(id_list)\n",
        "    \n",
        "    l = max(dic.values())\n",
        "    p = [v for k,v in dic.items() if v == l][0] / sum(dic.values())\n",
        "    if p > 0.6:\n",
        "      correct += 1\n",
        "    \n",
        "#     df_walks_connected = df_walks_connected.replace({'walker_id': {key[0]: real_id}})\n",
        "# print(f'base: {total - (150 / 10 - 1) * 10}/{total} {(total - (150 / 10 - 1) * 10)/total*100}')\n",
        "# print(f'correct/tried: {correct}/{tried} {correct/tried*100}%') \n",
        "print(f'correct/total: {correct}/{len(real_ids)} {correct/len(real_ids)*100}%')"
      ],
      "execution_count": null,
      "outputs": [
        {
          "output_type": "stream",
          "text": [
            "correct/total: 84/100 84.0%\n"
          ],
          "name": "stdout"
        }
      ]
    },
    {
      "cell_type": "code",
      "metadata": {
        "id": "xXx8r3EKMkNr"
      },
      "source": [
        "cnx.execute('DROP TABLE IF EXISTS walks_attached')\n",
        "df_walks_connected.to_sql('walks_attached', con=cnx)"
      ],
      "execution_count": null,
      "outputs": []
    },
    {
      "cell_type": "markdown",
      "metadata": {
        "id": "tEc1KRLnMkNr"
      },
      "source": [
        "# Compute Other Info"
      ]
    },
    {
      "cell_type": "code",
      "metadata": {
        "id": "fuqw6NTGMkNr"
      },
      "source": [
        "id = '1tmp'\n",
        "path = df_walks_connected.loc[df_walks_connected['walker_id'] == id].sort_values('walk_time')"
      ],
      "execution_count": null,
      "outputs": []
    },
    {
      "cell_type": "code",
      "metadata": {
        "id": "ozDE2RUmMkNr"
      },
      "source": [
        "for (indx1,row1),(indx2,row2) in zip(path[:-1].iterrows(),path[1:].iterrows()):\n",
        "    jsondict1, jsondict2 = json.loads(row1['json']), json.loads(row2['json'])\n",
        "    agent_id1, agent_id2 = pos_to_id[(jsondict1['position']['x'], jsondict1['position']['y'])], \n",
        "    pos_to_id[(jsondict2['position']['x'], jsondict2['position']['y'])]\n",
        "    "
      ],
      "execution_count": null,
      "outputs": []
    },
    {
      "cell_type": "code",
      "metadata": {
        "id": "UTN_v-OoMkNs"
      },
      "source": [
        ""
      ],
      "execution_count": null,
      "outputs": []
    }
  ]
}