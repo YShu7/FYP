{
  "nbformat": 4,
  "nbformat_minor": 0,
  "metadata": {
    "kernelspec": {
      "display_name": "Python 3",
      "language": "python",
      "name": "python3"
    },
    "language_info": {
      "codemirror_mode": {
        "name": "ipython",
        "version": 3
      },
      "file_extension": ".py",
      "mimetype": "text/x-python",
      "name": "python",
      "nbconvert_exporter": "python",
      "pygments_lexer": "ipython3",
      "version": "3.7.0"
    },
    "colab": {
      "name": "[v3.2]LSTM_Regression.ipynb",
      "provenance": [],
      "collapsed_sections": [
        "tEc1KRLnMkNr"
      ],
      "toc_visible": true,
      "include_colab_link": true
    }
  },
  "cells": [
    {
      "cell_type": "markdown",
      "metadata": {
        "id": "view-in-github",
        "colab_type": "text"
      },
      "source": [
        "<a href=\"https://colab.research.google.com/github/YShu7/FYP/blob/master/exp/final/%5Bv3_2%5DLSTM_Regression.ipynb\" target=\"_parent\"><img src=\"https://colab.research.google.com/assets/colab-badge.svg\" alt=\"Open In Colab\"/></a>"
      ]
    },
    {
      "cell_type": "markdown",
      "metadata": {
        "id": "3lupqZH1SjJK"
      },
      "source": [
        "# Setting Up"
      ]
    },
    {
      "cell_type": "code",
      "metadata": {
        "colab": {
          "base_uri": "https://localhost:8080/"
        },
        "id": "ZEqlgomeMkNV",
        "outputId": "a9e163e9-f4ac-4d4e-efed-7efd53fec080"
      },
      "source": [
        "%load_ext autoreload\n",
        "%autoreload 2\n",
        "import sqlite3\n",
        "import operator\n",
        "import pandas as pd\n",
        "import collections\n",
        "import networkx as nx\n",
        "import json\n",
        "import math\n",
        "import numpy as np\n",
        "from multiprocessing import Pool\n",
        "from scipy.optimize import linear_sum_assignment\n",
        "import time\n",
        "import utils\n",
        "\n",
        "import torch\n",
        "import torch.nn as nn\n",
        "import torch.nn.functional as F\n",
        "import torch.optim as optim\n",
        "from torch.optim.lr_scheduler import StepLR\n",
        "from torch.autograd import Variable\n",
        "from torch.utils.data import Dataset, DataLoader\n",
        "import numpy as np\n",
        "\n",
        "from google.colab import drive\n",
        "drive.mount('/content/drive')\n",
        "\n",
        "torch.manual_seed(1)\n",
        "torch.set_deterministic(True)\n",
        "device = torch.device(\"cuda\" if torch.cuda.is_available() else \"cpu\")"
      ],
      "execution_count": null,
      "outputs": [
        {
          "output_type": "stream",
          "text": [
            "Mounted at /content/drive\n"
          ],
          "name": "stdout"
        },
        {
          "output_type": "stream",
          "text": [
            "/usr/local/lib/python3.7/dist-packages/torch/__init__.py:422: UserWarning: torch.set_deterministic is deprecated and will be removed in a future release. Please use torch.use_deterministic_algorithms instead\n",
            "  \"torch.set_deterministic is deprecated and will be removed in a future \"\n"
          ],
          "name": "stderr"
        }
      ]
    },
    {
      "cell_type": "code",
      "metadata": {
        "id": "JJ8-UQtBSiRu"
      },
      "source": [
        "INTERVAL = 60\n",
        "TIME_PERIOD = 1\n",
        "SCALE_METERS = 15000\n",
        "scaleMeters = SCALE_METERS * 0.2\n",
        "SIGMA_V = scaleMeters / 100\n",
        "IMPOSSIBLE = 1e-10\n",
        "MINUTE = 10\n",
        "UPDATE_TIME = MINUTE * INTERVAL\n",
        "\n",
        "N, M = 30, 91\n",
        "PATH = '/content/drive/MyDrive/FYP'\n",
        "TRAIN_DB = 'database_100+_train_2.db'\n",
        "TEST_DB = 'database_100-_test_2.db'\n",
        "MODEL_PATH = 'e950_regre_2.pkl' #'e400_bi_regre_2.pkl' #'e700_regre.pkl'#'e600_bi_regre.pkl'\n",
        "\n",
        "EMBEDDING_DIM = 32\n",
        "HIDDEN_DIM = 128\n",
        "INPUT_DIM = 10"
      ],
      "execution_count": null,
      "outputs": []
    },
    {
      "cell_type": "markdown",
      "metadata": {
        "id": "kBezaNgOc8pw"
      },
      "source": [
        "# Train"
      ]
    },
    {
      "cell_type": "code",
      "metadata": {
        "id": "IxgUPMHRMkNd"
      },
      "source": [
        "cnx = sqlite3.connect(f'{PATH}/{TRAIN_DB}')\n",
        "\n",
        "df_walks = pd.read_sql_query(\"SELECT * FROM walks JOIN walkers ON walkers.id = walks.walker_id\", cnx)\n",
        "df_walkers = pd.read_sql_query(\"SELECT * FROM walkers\", cnx)\n",
        "df_agents = pd.read_sql_query(\"SELECT * FROM agents\", cnx)\n",
        "df_contacts_tmp = pd.read_sql_query(\"SELECT * FROM contacts JOIN walkers ON walkers.id = contacts.walker_id\", cnx)\n",
        "idx = df_contacts_tmp.groupby(['walker_id', 'time'])['distance'].transform(min) == df_contacts_tmp['distance']\n",
        "df_contacts = df_contacts_tmp[idx]"
      ],
      "execution_count": null,
      "outputs": []
    },
    {
      "cell_type": "code",
      "metadata": {
        "id": "cOTGxp0yMkNe"
      },
      "source": [
        "id_to_pos, pos_to_id = utils.get_position(df_agents)"
      ],
      "execution_count": null,
      "outputs": []
    },
    {
      "cell_type": "code",
      "metadata": {
        "id": "Pwa1_3zjMkNi"
      },
      "source": [
        "prob_agent_id, prob_dir, prob_move = utils.get_agent_next_prob(df_walkers, df_contacts, df_agents['id'].tolist())"
      ],
      "execution_count": null,
      "outputs": []
    },
    {
      "cell_type": "code",
      "metadata": {
        "id": "SBpUk1FtcEy1"
      },
      "source": [
        "prob_pos = utils.map_prob_to_pos(prob_agent_id, id_to_pos)"
      ],
      "execution_count": null,
      "outputs": []
    },
    {
      "cell_type": "code",
      "metadata": {
        "id": "nj1nTL2qMkNj",
        "colab": {
          "base_uri": "https://localhost:8080/"
        },
        "outputId": "dcaa960e-9195-4929-9164-741167008e60"
      },
      "source": [
        "len(set(df_contacts['walker_id']))"
      ],
      "execution_count": null,
      "outputs": [
        {
          "output_type": "execute_result",
          "data": {
            "text/plain": [
              "9016"
            ]
          },
          "metadata": {
            "tags": []
          },
          "execution_count": 7
        }
      ]
    },
    {
      "cell_type": "markdown",
      "metadata": {
        "id": "xTzEveaLc5KG"
      },
      "source": [
        "# Define Model"
      ]
    },
    {
      "cell_type": "code",
      "metadata": {
        "id": "T6HbKMFlShYw"
      },
      "source": [
        "DEBUG = False\n",
        "\n",
        "agent_to_ix = {}\n",
        "for _, row in df_agents.iterrows():\n",
        "  x, y = row['id'].split('EVEN')\n",
        "  agent_to_ix[row['id']] = [int(x)/N, (int(y)%M)/M]"
      ],
      "execution_count": null,
      "outputs": []
    },
    {
      "cell_type": "markdown",
      "metadata": {
        "id": "X6qB7ZzqatR-"
      },
      "source": [
        "#### Single"
      ]
    },
    {
      "cell_type": "code",
      "metadata": {
        "id": "2scjtxwomI6s"
      },
      "source": [
        "class LSTMTagger(nn.Module):\n",
        "\n",
        "  def __init__(self, input_dim, embedding_dim, hidden_dim, num_classes, num_layers=1, seq_len=10):\n",
        "    super(LSTMTagger, self).__init__()\n",
        "    self.hidden_dim = hidden_dim\n",
        "    self.num_layers = num_layers\n",
        "    self.embedding_dim = embedding_dim\n",
        "\n",
        "\n",
        "    # LSTM\n",
        "    self.lstm = nn.LSTM(2, hidden_dim, num_layers=num_layers, batch_first=True) #lstm\n",
        "    self.lstm_1 = nn.LSTM(hidden_dim, hidden_dim, batch_first=True)\n",
        "    self.fc_1 = nn.Linear(hidden_dim, hidden_dim)\n",
        "    self.fc = nn.Linear(hidden_dim, 2)\n",
        "    self.relu = nn.ReLU() \n",
        "\n",
        "  def forward(self, input):\n",
        "    # INPUT: (batch, seq_len)\n",
        "    if DEBUG: print('input: ', input.shape)\n",
        "\n",
        "    # LSTM\n",
        "    # LSTM: (batch, seq, feature)\n",
        "    lstm, (hn, cn) = self.lstm(input)\n",
        "    lstm = nn.Dropout(0.2)(lstm)\n",
        "    if DEBUG: print('lstm:', lstm.shape)\n",
        "\n",
        "    lstm_1, (hn, cn) = self.lstm_1(lstm)\n",
        "    hn = nn.Dropout(0.2)(hn)\n",
        "    hn = hn.view(-1, self.hidden_dim)\n",
        "    if DEBUG: print('hn:', hn.shape)\n",
        "\n",
        "    out = self.fc_1(hn).to(device) #first Dense\n",
        "    if DEBUG: print('fc_1:', out.shape)\n",
        "    out = self.relu(out).to(device) #relu\n",
        "\n",
        "    out = self.fc(out).to(device)\n",
        "\n",
        "    return out"
      ],
      "execution_count": null,
      "outputs": []
    },
    {
      "cell_type": "markdown",
      "metadata": {
        "id": "EoFufRMFaw5T"
      },
      "source": [
        "#### Bidirectional"
      ]
    },
    {
      "cell_type": "code",
      "metadata": {
        "id": "4V4-SCMbUrk1"
      },
      "source": [
        "# DEBUG = False\n",
        "# class LSTMTagger(nn.Module):\n",
        "\n",
        "#   def __init__(self, input_dim, embedding_dim, hidden_dim, num_classes, num_layers=1, seq_len=10):\n",
        "#     super(LSTMTagger, self).__init__()\n",
        "#     self.hidden_dim = hidden_dim\n",
        "#     self.num_layers = num_layers\n",
        "#     self.embedding_dim = embedding_dim\n",
        "\n",
        "\n",
        "#     # LSTM\n",
        "#     self.lstm = nn.LSTM(2, hidden_dim, num_layers=num_layers, bidirectional=True, batch_first=True) #lstm\n",
        "#     self.lstm_1 = nn.LSTM(hidden_dim*2, hidden_dim, bidirectional=True, batch_first=True)\n",
        "#     self.fc_1 = nn.Linear(hidden_dim*2, hidden_dim)\n",
        "#     self.fc = nn.Linear(hidden_dim, 2)\n",
        "#     self.relu = nn.ReLU() \n",
        "\n",
        "#   def forward(self, input):\n",
        "#     # INPUT: (batch, seq_len)\n",
        "#     if DEBUG: print('input: ', input.shape)\n",
        "\n",
        "#     # LSTM\n",
        "#     # LSTM: (batch, seq, feature)\n",
        "#     lstm, (hn, cn) = self.lstm(input)\n",
        "#     lstm = nn.Dropout(0.2)(lstm)\n",
        "#     if DEBUG: print('lstm:', lstm.shape)\n",
        "\n",
        "#     lstm_1, (hn, cn) = self.lstm_1(lstm)\n",
        "#     hn = nn.Dropout(0.2)(hn)\n",
        "#     if DEBUG: print('hn:', hn.shape)\n",
        "#     hn = torch.cat((hn[-2,:,:], hn[-1,:,:]), dim = 1)\n",
        "#     # hn = hn.view(-1, self.hidden_dim)\n",
        "#     if DEBUG: print('hn:', hn.shape)\n",
        "\n",
        "#     out = self.fc_1(hn).to(device) #first Dense\n",
        "#     if DEBUG: print('fc_1:', out.shape)\n",
        "#     out = self.relu(out).to(device) #relu\n",
        "\n",
        "#     out = self.fc(out).to(device)\n",
        "\n",
        "#     return out\n"
      ],
      "execution_count": null,
      "outputs": []
    },
    {
      "cell_type": "markdown",
      "metadata": {
        "id": "przZ0twiMkNn"
      },
      "source": [
        "## Predicating"
      ]
    },
    {
      "cell_type": "code",
      "metadata": {
        "id": "01r2Z7DhMkNo"
      },
      "source": [
        "cnx = sqlite3.connect(f'{PATH}/{TEST_DB}')\n",
        "\n",
        "df_walks = pd.read_sql_query(\"SELECT * FROM walks JOIN walkers ON walkers.id = walks.walker_id\", cnx)\n",
        "df_walkers = pd.read_sql_query(\"SELECT * FROM walkers\", cnx)\n",
        "df_agents = pd.read_sql_query(\"SELECT * FROM agents\", cnx)\n",
        "df_contacts_tmp = pd.read_sql_query(\"SELECT * FROM contacts JOIN walkers ON walkers.id = contacts.walker_id\", cnx)\n",
        "idx = df_contacts_tmp.groupby(['walker_id', 'time'])['distance'].transform(min) == df_contacts_tmp['distance']\n",
        "df_contacts = df_contacts_tmp[idx]"
      ],
      "execution_count": null,
      "outputs": []
    },
    {
      "cell_type": "code",
      "metadata": {
        "id": "kKLy9nNDMkNo"
      },
      "source": [
        "\"\"\"\n",
        "Get counter of agent_id Key -> agent_id Values\n",
        "\"\"\"\n",
        "id_to_pos, pos_to_id = utils.get_position(df_agents)\n",
        "prob_agent_id = utils.map_prob_to_agent_id(prob_pos, pos_to_id)"
      ],
      "execution_count": null,
      "outputs": []
    },
    {
      "cell_type": "markdown",
      "metadata": {
        "id": "xlSJWjA_SsWJ"
      },
      "source": [
        "## Time based"
      ]
    },
    {
      "cell_type": "code",
      "metadata": {
        "id": "yzGM5TkojjE4"
      },
      "source": [
        "walker_ids = set(df_contacts['walker_id'].tolist())\n",
        "id_to_time = {}\n",
        "id_to_agent = {}\n",
        "start_time_to_id = collections.defaultdict(list)\n",
        "end_time_to_id = collections.defaultdict(list)\n",
        "for walker_id in walker_ids:\n",
        "    candidates = df_contacts.loc[df_contacts['walker_id'] == walker_id].sort_values('time')\n",
        "    min_time, max_time = candidates.iloc[0]['time'], candidates.iloc[-1]['time']\n",
        "    id_to_time[walker_id] = (int(min_time), int(max_time))\n",
        "    id_to_agent[walker_id] = (candidates.iloc[0]['agent_id'], candidates.iloc[-1]['agent_id'])\n",
        "    start_time_to_id[int(min_time)].append(walker_id)\n",
        "    end_time_to_id[int(max_time)].append(walker_id)"
      ],
      "execution_count": null,
      "outputs": []
    },
    {
      "cell_type": "code",
      "metadata": {
        "id": "J0bRKQ6oMkNo",
        "colab": {
          "base_uri": "https://localhost:8080/"
        },
        "outputId": "e247051e-8042-4868-edbe-64eb46584bfc"
      },
      "source": [
        "walker_ids = set(df_contacts['walker_id'].tolist())\n",
        "link_list = {}\n",
        "for walker_id in walker_ids:\n",
        "    last_time = id_to_time[walker_id][1]\n",
        "    candidates = start_time_to_id[last_time + INTERVAL]\n",
        "\n",
        "    if len(candidates) == 1:\n",
        "        x0, y0 = id_to_agent[walker_id][1].split('EVEN')\n",
        "        x1, y1 = id_to_agent[candidates[0]][0].split('EVEN')\n",
        "        if abs(int(x0) - int(x1)) <= 1 and abs(int(y0)%30 - int(y1)%30) <= 1:\n",
        "            link_list[walker_id] = candidates[0]\n",
        "print(len(walker_ids))\n",
        "print(link_list)"
      ],
      "execution_count": null,
      "outputs": [
        {
          "output_type": "stream",
          "text": [
            "2076\n",
            "{'ydimBegtbELklwWvzVPV': 'JyrxSGOkIiIYaiCsWrew', 'joXrzjFXZtrSHwyEvhJH': 'BLbZbMTnXUwsnQNMyFCQ', 'ooslLnJytTqSWQxMnKPp': 'ZlzRImiUJHXhFQofUkLe', 'ETTlNQiXJWAYFKeCPEvJ': 'txbvGKQDTFYuCRXBbysY', 'wiQwSksxDLtVTITKuOzz': 'pYamDoBbgAsksMsouKXY', 'FggtkukJjwFDkQZtNMXi': 'QzCBcICYCOfszhCLQcTn', 'XjykuzHgrYMKLAXymOZa': 'MHgUflnDWdcghcOPtizn', 'EOZSckGLPGviAkNBdLLg': 'FyCtafqopugFwSbgBfgT', 'ollroajPxPLxFXExCGGX': 'UfbYyiupbbmMnVstSnXw', 'jgGlwAPFhfPINUnxpivb': 'THqFxavIdjyxOGoefEEU', 'LTSEPmwNNjpqrsTHIylp': 'hEgYmgnYoDTKcvGsKRyx', 'ayorIsRftPELTZpNLehN': 'gcdENmDRsDrnYrtVHrOL', 'tbnMtFMcsCSTiVtnXyuU': 'wMkeUuEJggBsgVLZKqDN', 'DWHNkwigfJlAwmIUPWyJ': 'AzIOUrHSmEYbOIQfcTmV', 'asLprNqnNZGuGTryDYDp': 'ctEnnvnHOiaLZGbihsHc', 'fEBekuriCOsCbIcIwcte': 'hmPfyYYaxtOagzQsXTdb', 'fiPWfFKpoJWlnTHuZzBT': 'hnYPvKELaQBqNQetDEpD', 'EuEymOOwUtiWRdiSaVVV': 'yJhvOGMcFCxbjYNMvHes', 'qyGYiobckHcHTLuhWtXv': 'WbPRSUGimXBVVxHjhCoX', 'HtjxpEoWdtLuayfBspHa': 'jrJJcgpjdFGHtuZmPISp', 'YxyMtFRwuZuINccjWTiV': 'QOFYhALnqmtQFtLSmkHn', 'JVfnjQyNLXLDgmTdnAco': 'JldxXleylEMEIApmnfrl', 'yrFzbSsPjrrhuwtSSDFG': 'uCtdeBfewVZEPcIkdSvb', 'xcTDUDkkdMjvZCTZWbUs': 'HpKnjHOAEIIYgtxFEgsF', 'ttmRpiTKLfDeEoevziEq': 'nHtsMtmDzSYHmUjakJaF', 'TriHxGNKSZgbNTZQXDng': 'PLFVuhPUziRXUbAIBBfP', 'aTITRpWUqQDjmodwVNTn': 'PIVlrNSkKTCoBOjUzGsa', 'wXPNHFDBGLRHRQJutRoP': 'lRFROFJzpEhYoZsZvjyK', 'oLocOvXFBSlkkCLEBuli': 'lbNYcPvwEyUcaiJJfmim', 'xntEenjIXdoaCeOZVbSB': 'MAUeaouPrawwoiaQrmpD', 'XBOOzqvfVofMbqkOugKm': 'LtWVTJdnYvtGiiBtYKjC', 'cqfhxpifujohHYWnsMOh': 'EtHNbMsAxzSoKipgkCnw', 'RwDoKyRjhjjcPEsIbpWj': 'pvRiLkkBJlBJZcLjwBiU', 'qmKIcwBAizGtnfuldpvD': 'eWmLUAyyucJnhVSAizul', 'OVpudfrqXWqoopaOjrBE': 'UmKgIzvggaMnLwoqIKkh', 'laQTdiAWQQDmtUSoXVbh': 'AbUDPwceoQqyFNSZYGST', 'XRNDSChTvxFmedEHibBQ': 'keZGtjLbVmhUhvyxErNh', 'BkemSdrREmoLdjrsFXDC': 'WpkPfSmIuDBVVCQKpJtS', 'MHgUflnDWdcghcOPtizn': 'tqtlArPJlimBPuZQEVVx', 'rlDKJqVhXzAqGbTgRyVY': 'WEqemqRXRAPaHUDQdgKH', 'tiyYvqkWJTWCAJstBBKe': 'tPzOVcWiEUeDFzlOfKol', 'WCeLviRENPqFilRVsqSy': 'thnOEKRmgrFWoZFirCpJ', 'WPBsaftdVofHoKdKhYvx': 'UuZMmBAVJUXRdtBjOYDJ', 'jBBEhfufkdSSSBamOAch': 'ALzuBSdYPnZNuvMdmdfM', 'LpAKTsRgyElrlJCeaBiF': 'hMaIjkiJNijpKbSAzMHR', 'ErjBtdONWMJuqwliAyvf': 'irBODJgXRlLpifLEmWGL', 'NiPdJZQkaFNeJABUZHEn': 'tquNqrOBgByPLGXNGDHO', 'pYuvsNOJRbFuCTLkwcJs': 'rRpxVylywHVtjvQDjErf', 'HgSjeMEkujILWtqHdiiq': 'ZCagciMRiSkmnIyHmONi', 'OFfmaEMUZueogILPfHJV': 'KliZJpreqixCpUaLlvtZ', 'bbPxCqIMBjNvpvfoEDzV': 'CKdAitQkpRqPRiBnstss', 'XSqOenvjKBbstnBnrpTz': 'pWNPtUakAXEilKVQXPNU', 'PEmcWPjTusrVzmNUGfRl': 'ETTlNQiXJWAYFKeCPEvJ', 'ymtZudDEAWMkYBjkUMZM': 'aHgxLNUcqVZwXrVvVePA', 'lRFROFJzpEhYoZsZvjyK': 'CxHNCMfAsRqjUCXquqPy', 'oYdsfbeTLjPnxqflBXse': 'tEBSCHzjMDJozCAdMMcL', 'qKjUTHLDwPtKnbawLfsI': 'kVjtQOzYTowLSkgImCSv', 'SlUJpVKTXLecZSSzTqeu': 'EAmAvNDJiEvukyCUXeub', 'qXEwoOTBoZjIpKQpYdwU': 'RbgzIOdztdsylmubtdnU', 'czXthAmnHsnmTwOfdyZn': 'HuDMCuedgsnKmDKoJgrh', 'KqVxiIbibSXkTxYzzCxF': 'NbPzRrFNlgXKctelOBwV', 'WbPRSUGimXBVVxHjhCoX': 'pucpWjijCzOXvqpuDSAH', 'oizFloxWzNViZfsVkzEY': 'HDLKZdXHUytCZpavNJlE', 'XuejGsCcEEjqkgJwxryr': 'FLlVOpvagboyQiNubghv', 'eqnJfecuiyJkAlDbWpNi': 'aTITRpWUqQDjmodwVNTn', 'KCmmDIfVfoIQGqhkZQEb': 'lFHDVdVSdiuztQNoxrmb', 'LqrZQBYRLfBCbMQMYTme': 'DopSusIbGqTdfiVMkCDa', 'iuLGQFWoLHeAfxoXlnob': 'xhZCVoYwfefXZiwcnpkv', 'vRhswqRlLqQLxrqZCsIF': 'BsnOLDeERciSgQYvGAVI', 'zEJkhJUIwCnSmceEsPAv': 'gTLzgiaHtyzgEqSasFhe', 'XsuirXCRJsrYaoAWUzEv': 'DgbrQeDhOqlivDRLPhuf', 'ObpVDsjOgfVFqmknWUXi': 'oxerYgSIQzMkTykFViYl', 'AzIOUrHSmEYbOIQfcTmV': 'WwKDjhZvqjpVAzkAZDKI', 'TKZxDpoORjGhjzEvDEiC': 'AzDxDwbhAaCxjgpBrtHg', 'GuXoFcDnKWyeRcaMiMpO': 'RtkCFPnLQjKTCyvATnTT', 'rCmFoRVhYJwJQfQZVgLE': 'qKjUTHLDwPtKnbawLfsI', 'FtIboHgRrTxEhPbyEduT': 'bxpZScRskGoDUVqVvAXH', 'yKsAHrygHbKdsernqFlr': 'gYlzCywartLNaOqppDsK', 'uLlZZpefyoZZbuyCYBYb': 'zPDUVgQgxwvECQyvEZfs', 'ywcbPuPsOQmLMaMPZRay': 'zmCFbVECCffUVIuKWMfn', 'SqCzjwvlEgDMfanRUTdP': 'VquZrFTUpTCKquTOMNfW', 'mbshfxlEDDFJaiOUsFmz': 'xkDLxpXAAhTCyFUlRorX', 'gQlGaoYxnBfZpmAvVndW': 'jxdxcPekiZahnFgouIqc', 'ZvJFJpiYkkkDwIusNVqw': 'IEVpNpqShbwKGGEUELjF', 'jyYmcHFamZqQjYUhUJfl': 'qvTsgJLyRdyruCGTpCTJ', 'rRTHiAeMDZPxfMyTKONd': 'EVEHNqQAEpMacXmuxICZ', 'AmKGaOSIXOXwgMlvSgzL': 'KtZDsKEEPKdwGCHLhBRT', 'nHxZtwhEQzTmtpRfgCHY': 'JIYVOICLydqlNpYheTvH', 'YNxrTZLzoZBmuPJLYXmF': 'KFEnguVQhcaFauShOSVa', 'pfoaYHBWQZJEThBBawzm': 'ooeMOPgNcJguSydyoJdV', 'aOHKArVcQZspKEFaQGzm': 'IzRYtSkKauLTZSOmYmKr', 'UfbYyiupbbmMnVstSnXw': 'XHsPXEdqvhaVMUpDhCAm', 'fvxcPMgNzkGpuyciicXm': 'njMinZLhTwOkhVBRVZDg', 'dkzpRHDLquyexpThHZVr': 'tBgjoEvtLeOdrQQYMQCV', 'GISyUWEfELlliothtpBq': 'qLPVURXFWnYyMGrSNwyN', 'pbwiKJHfrMNGspEyFweZ': 'eZdbnacIFKMMzOyXfWQq', 'cyaFOAqaFgkgAiBHpgll': 'qoQdVfpWtIDvHgcHXKVd', 'vlTCYzPbkEXBHOakwqjE': 'YtjPYpOgvzLksEQQDiXp', 'LnOpwVDEquuSCrnvSaew': 'ImnVUKyikevYKwJNIjPT', 'WpkPfSmIuDBVVCQKpJtS': 'mCzjUURfHCkGFpscnbRZ', 'fbCafwgSVbONmjlEdfRe': 'SfaFzybalVdhSSjqInjv', 'ykKkdWvnAtgxgLLbbJKZ': 'ahpAaLSZAQliYqoKEkgo', 'PgvvNdZYMKLBcUXWpwis': 'xdRGFDVajzpZdRZuEDIX', 'xvWDuIEPCRdMjWwuIELI': 'prCeXKtICPKzFKOltYLa', 'EapIfnDmBGJRpLKUjsVv': 'XkCekXkMSnMDumgGWZFB', 'RKmVYPzjKLuArPAXqcLf': 'hcBuDPawZFOwjYArJOqu', 'MynrbmIEbzlLEZfasGGm': 'xMniCOFspUMgLVrXWSdT', 'IUohCXLfwZvEuOnnGMoX': 'mrlgWdiUdKKSEdbKctDk', 'SxsZUlVOjRHsKZsZKKEQ': 'PWtIFTJVIUBDMuZwOWkX', 'djISFzFYZIKVGeUzGOjT': 'HwrzuDiRlbeNIgoroSLJ', 'sKqZvlyIzBAruCRMbsnt': 'kUFPTeXoFishMPsETDaZ', 'rOGDeeZJEVaIIFjfibFT': 'LfWmeMuzRajZTjYNYKmA', 'CuDEGkkFRlLFqFzSScdR': 'ywcYdCetXfBHMjMUdnWH', 'dnZYMmXDCPyowBXsoVdA': 'WrHMvHhcYrfrbgxTdLQc', 'nJyUNCvtEXRztjJYeAdN': 'DoOVKQZecshQkByrpjBx', 'bJLSjvblUCGFrAKbCcFI': 'ICdPVfcIoBslLAydSzWv', 'stFUVfQQgJwUjETmoMTz': 'pYamDoBbgAsksMsouKXY', 'xDgoiCGtOLFuHffHMnNa': 'oFoIrTcGoADzpPfAdsQR', 'JyzlKONGBqkpsaDkmfhT': 'SeYOvvGMPpLdkMrXhzHP', 'SOrKFSjZNerjzJJfLzms': 'WtJNRkfobxVJoKBgMmhE', 'kYQDkZptjCzBmLmkXshk': 'DxpsFUJGFjaDcopFrTAc', 'gCzvFtuWOkSKWdEOjJSE': 'dwVTwfcMzGyalCAAKNvE', 'hUnaAHUqaeskLAlxakdk': 'RNlXUnJqxEnOJcTXkjQQ', 'HUSczMgOsBAFMkUIWYgG': 'YnUVCaGhPYhhseeIyTXx', 'TOpvXDtzROtQnlByjoyK': 'LHuzErjQWNvlWpTehiCh', 'UCktxZyEtSGBKSnZchcJ': 'GJKJRHvibPjKZfllkQiR', 'KJzCaDJObiJQHYMzuYuC': 'XSWjNaDDQURgTbDGJLRj', 'gcdENmDRsDrnYrtVHrOL': 'TBcNNaMLqtEldhmARgcG', 'LSIamfyZWMzcfaaNlzbm': 'dHwJNyuTfqugMbMLgzzz', 'eLFZUkBenVUmqKhmwTCv': 'usvAVqTxplvUmSOHaRnB', 'BnyNOKCbKmwRJWVcxLQM': 'KGahZIvZDvPsZIfyxqiB', 'RkizWPzWIzfVATIYuHDP': 'fZAXAgTBEClTbcSbUHqT', 'pmVFqsEEOIXWkuVtbGKC': 'lBlCuIBqMxWWPcinKacy', 'yfevbfyKAsaeagTpQcmO': 'mkvbLJeTBfwEJRdcOvil', 'mSWpbWDNENGnhMEJBtrL': 'gnygLhzLYTvLrMmkwFxe', 'HPChQJCtEyIphSKYyXHH': 'pWjqVoLgTEDawtHxZoLF', 'nxnhuJjcXhrJavuOsyws': 'tvALGpmiGXqPIgLPahHh', 'IOWEUNZLdHoLmaPFxnPB': 'NKTLcjXcJNmCNFARjtDA', 'qoQdVfpWtIDvHgcHXKVd': 'EuEymOOwUtiWRdiSaVVV', 'cUtlWAMfEfjKVFlowpsI': 'PgvvNdZYMKLBcUXWpwis', 'UuIyTOMktyKbXAeHZTNG': 'AVCGzIoMxKUNtyvRejJh', 'oZmjwJqfCXvSzxbTDScO': 'VNKuRzrzRjFQIVUDrHOX', 'wUWRhfhKHTNMmGmQDBeS': 'nzNhxexVoAwUqRICWpFh', 'fvMgmSZGrHVpffjwKxOO': 'tYVmlzRyMtFFvvLfaVOr', 'KICueOVvDFPZGMRgZOLE': 'GsQcMpmaFVgpgtKkXvQv', 'GgDDFHjMIDrscvzuSsyQ': 'vlTCYzPbkEXBHOakwqjE', 'lwlVdgegBmBtTApzxpGJ': 'qSVWZuxVrMJjHGXkxjvh', 'UPPjiltXrJvDAgFHMZbK': 'zmBMdnNPwWsUonRSOBlO', 'ZRtMdHapeDxquNjwyjlS': 'xybHkgAqCvVNOZISKFoV', 'GQRtaZFlJAVrITfUzPnX': 'yWFhhnummgDsvxMAGYtJ', 'TOTQkrgHkmmSUAGbIDZI': 'yfYPXaLPjNCaVYdImwDR', 'toqEZBVstWVWzHzQtmiI': 'amtEivqDyAVYHTflYlRj', 'KFonChLEgpxTMQCismUm': 'gLdpEwJMLmQPhAWhYfXp', 'FlzEzlcCJoBhnUonaqBE': 'JqvXZTwpcTupZybtdiGd', 'cvZttmNBFOUDkDXsJEvK': 'yKsAHrygHbKdsernqFlr', 'vRFaYTbucdwdVoTSYsar': 'gkMApJbTavNBElXxWLnk', 'UMemitxjUdinyUGTkRaq': 'sDjmSfZHNCQBifWfJQYN', 'fnhfTXHhiwTmUfDmHexF': 'whPgIHxMmffZQEEABNQK', 'XerRSLqLSblbIwqSihhR': 'vuhRKguwAGJfsZaQzRwy', 'VNKuRzrzRjFQIVUDrHOX': 'dwYWfUvwBakiGFKOYEZb', 'SfaFzybalVdhSSjqInjv': 'JDcqMoHBKZsoRzLdqwRl', 'wPdTEUAAztesdRCFjQJJ': 'TOpvXDtzROtQnlByjoyK', 'PAhCSwUBzYNrjYQiopaM': 'BRCGJVcEQOPoMLcYfIZm', 'NQbGWdTwSNtGAlwdMIMa': 'jvrgTmhWnglSrcQuotSF', 'FFpXCEUNuYnDDXTsansi': 'tbnMtFMcsCSTiVtnXyuU', 'lTIfLmxbgJOGRsqMjvOt': 'lUfuSMlWNSkkCtGPgJRV', 'mcVliQFEXCNZvVRfuASC': 'lTxWyIkNfGweNkCKpKlp', 'kGdEtTHFtLszKYiFstzU': 'oPHLkKFwbkyweRsQaWuL', 'cuClQIsLcNMvXKtmvgSu': 'ThRWMHtrRJqCzsiIYiXU', 'wEDHWJsLSDnoTgflmmnr': 'OZQFRafPExDrpkBRHXfY', 'UoPPPcGpKVlExgBtUABr': 'NmPFTiHohnVtrBaXdsOi', 'zvoybnGjWrZYDbmAqLtw': 'ZZRjUOyJWtjLgvxzQFeV', 'TPRXIUeCrlygUPlPeaSI': 'SqOvrCrAOYiNQIfdjjnT', 'HXSYWYPihXIOGEEUpBoO': 'zkVlQUsKqEDoayBtbVXu', 'MatWvszbAbzcIbdhwvZl': 'inRXpjFAkmVeqgsFrxhf', 'AVCGzIoMxKUNtyvRejJh': 'KdSBLbIAXjulLEgQyrLc', 'YUGFoSKhnlcbfnzfqehh': 'USwxOKoHLGEUVwSRrLxw', 'GbqYQXBqdSgDqeFHqjbB': 'VpNuMHHoNnGDwiyiFPnr', 'fqfFKmxzYgHTCPTZdJuh': 'QpClbxNTZmGeXLGDEWHS', 'urJQnONvLceIMQcIKFzJ': 'igEeucPRsBTjCHoymwqf', 'SdnBuSpsntMOqODDXXcx': 'DUvCoCyrqjbNsOaIjiav', 'qpiEFPRhXSONASzBaCNq': 'ebDzWLPXlDouMiGcpYGN', 'ZOYpTskELZaqAYOonJcT': 'ewSizmpKjXedTVhWUNDc', 'mvLgMOooywUIcXMgfOuU': 'aurfactfmfIXCITpiNMs', 'RCFnpmyPBbtFUgmBNyIp': 'LRQMEUgXyKaLWWgrVumc', 'TVWHIVgSdlPEiKDXGWRv': 'ifUDMmJXWxcyswwPfGeo', 'ALPIpcQngnipqVxIObzc': 'zAGkaUpIoqvNPlkLJoVN', 'TPifmPaXIdiTEGLeFKXY': 'ZptpRiCRKlpnpMCfXhay', 'EFbaFIbHKaLrgRDiIyQz': 'vPgRvbUaokQyLKfVbvre', 'oliHvvoADAfIEoQXRCsf': 'tCOBrxpoIZZRZrCnhzwT', 'hHvpciULcCXXJdodnJSP': 'lGcyzdOznmNnrCxJUyoR', 'bpYDjeJWbRwLowNMqUnY': 'AhYWXzkdsvfigyEGZmwS', 'iYHzzDKhFUpZdLscUhwE': 'HyKxdxhrydqYikUvRpVO', 'HrzoOlxpOXcrQSWnCqzY': 'HYOwIHXBDIeSXyAyMAui', 'ocFWGoYTMhNaXevkdVev': 'hCmBFHhgHMpoBfbmgGed', 'yhkFPUenwtcbLZSRawOm': 'wUWRhfhKHTNMmGmQDBeS', 'wfTcrPaDEnLDisWtzrMQ': 'QcuLtvVVowUpRMVuxvjY', 'AucDHqdFbQTEyvReabht': 'FSvxYYheVULdCkPLIEzj', 'KFGBuxmIeptXzLXTVOHx': 'eniqfJAbjFSdRPjKZkqK', 'kJBgFOhFVSezGTOQgwFf': 'lJfVbMgqAluGJECvsfxV', 'oFoIrTcGoADzpPfAdsQR': 'EoazkBynsexgaiNnmUrS', 'UMVQcUXXoYWrSkRnJLYn': 'wEDHWJsLSDnoTgflmmnr', 'WYqNChGosEPJdIntBcFS': 'XyqYjMZoFIISkHpzJGHI', 'NDqTPkXFotxltQwrWkhJ': 'hUnaAHUqaeskLAlxakdk', 'DgbrQeDhOqlivDRLPhuf': 'rKUHoQNrUEOMMiUDergE', 'MertCeZZWhCxeLhMDmdb': 'wGJcDisIbXfztRcCHzFH', 'FSvxYYheVULdCkPLIEzj': 'WoWEgSrEosxcqfdnpvma', 'HKAaTPeUbYvDVGCawxgy': 'ssCjNVOILtiRNSasgetT', 'WpfCBYmPolWWozgRUWhu': 'OghZGtnVfHaqJpsXvpfp', 'QIFUsskQClDWpwiJfzpJ': 'VADdfzOEvslIEFPpXNYN', 'RKoasNCggaderNQePIrT': 'FMObxfOYOnxomDvdLqsH', 'ojhQRNPHVREVmjUqQuAE': 'phEYwjWOsjpEkzcfAhyV', 'ebDzWLPXlDouMiGcpYGN': 'NSDvzdDBqCRslVjJcEIK', 'KHaEjvwJwpZPiyTqeMbs': 'laZouGDqxHMHlmhPVGAj', 'aEDcnvRJAQnBfFnEKxwn': 'TriHxGNKSZgbNTZQXDng', 'tNjEOGBQAByOrxywIVTB': 'aoNVQSdQIXYsWGZUxISs', 'MFBzQKxMFvcWCjomzYoq': 'FuIdxItBwbdZLQGwjDim', 'PndqTPflhEvqasarrdOW': 'sIsIVTJHebVAaVIqUpNK', 'wQuSzYXPjiKoNdTFxaCs': 'tcDNflGxrbhtobiCHTmU', 'eHMEcUmkTTOlVDHnEUfP': 'WtYrFuUsvJIXiIKcMrpI', 'bjZdMkkJpBSqkAaylORU': 'qFNYtRYQkJlGsMwEAWbM', 'BxZVdKintuagyPyKagLg': 'vUvkIldpCOhYzfKDACtt', 'hAezPJJophOjMDPamjrW': 'CvmAQriaBDeCoxAonrey', 'BMlrDUcPWsfjtYeHJrel': 'gQlGaoYxnBfZpmAvVndW', 'wIENhcJrtONYeZtlScvP': 'mCPqwURCLXbQnamhfRgX', 'CcOGetolJXZPtJSbDdLb': 'VHsCjOizTGTHNArxIOuN', 'iyOhEgZbAKvyXcrXGeEi': 'tPFPlEVHHwwazixjfjNr', 'CzSHspSvcHUIeOqHCjEZ': 'jDGcwCnkTGeJoUAjgGaa', 'njMinZLhTwOkhVBRVZDg': 'GsuTipOAMqaPdddscEDk', 'opHoGwtACPahpOYRBlGS': 'UvlUQyjleGOveGOVwjCj', 'gYlzCywartLNaOqppDsK': 'dqGECZOertejymrEjiKb', 'KKufOjeoprAPMGfmiAcT': 'luYzIDbXRulcQfrcHAxf', 'HQVTWrpNfViVBrUPzPvd': 'ixOjKoYldaAaybyXbgPc', 'cdkvVmufeuQfHWwXdxVE': 'wFRbHumWtVtmDsxmsZwU', 'xsFxUTlNnIsyEzmYjPcp': 'KtNXbuvuMCIZxOIWRfsv', 'CwCXGVPiQNHfAmYEZuMV': 'YkHXuOxqmJrgRyaWIYRl', 'XaBDAbyZhUrfZFFOaiJx': 'MTtqmojRZmJGZBhVikZl', 'KFEnguVQhcaFauShOSVa': 'AjDPcKueMIpSwgAubTQu', 'afXcmxIalHUtCkJWfwyA': 'YkSnupbUhKsdeILIVCKS', 'ALzuBSdYPnZNuvMdmdfM': 'qyGYiobckHcHTLuhWtXv', 'usvAVqTxplvUmSOHaRnB': 'zdOCilheClNmtegawgxa', 'gnRwWngKuXhhERnGyOWq': 'pRyUwuctoVpnAbsEyatq', 'KzcsPnrgvbqoYvkpUzAU': 'JVfnjQyNLXLDgmTdnAco', 'XKiJNQuwyepzmvXrKIGU': 'BsqdjugaAhDsRVSlrEdj', 'aCIIiklkrEewLBdgzzPn': 'yAXeDqJDDLMjhnYXQUQu', 'uvexGsxkakpVYdKWQWSL': 'ZhbLXGcecuthhsLYSUzt', 'rmOONjKDNOkspDwLWpIG': 'tgmTSptNItVHZHCluJNL', 'ZEwesdSTzHRXKettHJzP': 'kSUIglGToyAOFWjRTnSw', 'rJcFqNIQfXNUFMvSDwSF': 'UUdsUFlcGRQEFmYQtxVO', 'NHnkSBSaZJKjboCECWzv': 'rRTHiAeMDZPxfMyTKONd', 'FbgUdJyurpLfWGwGbwGM': 'wWMpbcIeOQCRvxQJZGLk', 'XyqYjMZoFIISkHpzJGHI': 'kQoypwXTTJfqNuHqwkMT', 'JUXWgfpJUIilFJdEWbtw': 'HZcmCwgtCqAJxSWYNkxS', 'wvacYObntPqraTnsSOts': 'MertCeZZWhCxeLhMDmdb', 'IMsBatssQtWwMndoOaxM': 'FhLqrOKVYJzuKfisRRWG', 'qAEWkWmDcyXkwsNpjbmF': 'FWFOXukcJQAQMMmZuFgs', 'KoMEplWASXIJfcQajHts': 'tHCRlpNPceTNzVhbxQIa', 'jmlnycLmViMzQjfbpUdW': 'kPIFtOPlCebyafTkbtsU', 'idyJlvYsaerLgKwMMizC': 'SMObwALshlWudSUDFcpv', 'tyTlOWHVlIALQHuzzgkI': 'FxgIhYuUbpDmUIYqPhcP', 'IcZVipwuBfmdvrRLLtlP': 'iDLlkytmVRfeBYjRLEhl', 'FqRjHVcAcxCQprXKRdjN': 'nFDCKAMHpeaNvkUurcIY', 'CldOpStLpFMTTUIdkFCG': 'dhplKadRRErfNPSuaOML', 'KOFcuMpOMNouFwOGfKrj': 'gzAvGDhSqqGVMPZeexaD', 'dSHgYIxzcVxDlxwgvZTN': 'GisDuedUiWNrzNDhKWWj', 'wEzVsoYfTjMHhgNXoOvQ': 'tzJkOnKtPBHlvXIufdGW', 'GLvogaejxmPOWemurhfq': 'uqVWNYQIGhKGvEixbAiR', 'fSEAlBDbkKSoQuHHWobJ': 'OrpqvkvniDXuVBTMdyoO', 'POBfloYjeMhEEGIyhPww': 'fvxcPMgNzkGpuyciicXm', 'LScrBwFFuUSLgJHZCotB': 'SapdpcYWLtrzLqXSdmmM', 'zkVlQUsKqEDoayBtbVXu': 'DrrVhtHNPuSrtvfVgnxx', 'lIxTSGhbbxmCRWbcDuPB': 'XPLIaqAbiBJdTHjjcQhG', 'cRTJnLWNfOJoSrZHSbfa': 'nOituYTbrkkqPdGCYnKZ', 'krotlvWGjDNOSNoEultK': 'FdiFsrZphCkrUHiDYJAo', 'IQRainbyPDFaGgNWIJnE': 'lIDRghjzoNpTJkSZuGNV', 'fOwAkozzuOrxfVHSDIXy': 'qbqlQeLSrzBxbYeEQeAj', 'RykRhXHuDDGKRCVLBcvI': 'nQYlTYIMCGFMDCCCyEGr', 'wdzOdLbUbIQSWUSvHluD': 'dLPqpCrjgNCtmddpNxWS', 'ZptpRiCRKlpnpMCfXhay': 'eMeqgncIIqwIkGNpIzME', 'xMbdqHJAqfATLzoALcZK': 'wESMxmWArtyBrCPdTTlC', 'gpmcHMSJxPwNvHmDaNWv': 'cNIezaofMDkDGuLGAqAs', 'JLVAhBVtnDRbWeXgKoIQ': 'qmKIcwBAizGtnfuldpvD', 'dTEFWYpsunxliNNDfdoZ': 'rvsQgvCgURSEICVCmbVX', 'ovKjaVedEStuINUedovv': 'yRguxkXkIDOWJzYKxtrg', 'MgcYDCFrOKtXrcKhXgrK': 'NpHckJZzNyKsRJtZJsxB', 'IruMnblYLpqeVKIJeqxX': 'yALPeatxKOWPFntPjmix', 'wYMPTAnYYbHekxCtpuQo': 'QXugPYdiwSKwExIXKsYV', 'OqVGLlXfdNeiZvhZzYEa': 'cJDMVpNkcMgjREOjXoEs', 'ilJijjwLlKkIIGRmesuY': 'wBpdfKOumKQsKUwbJNyD', 'QaeVXEkhymQtAbhMQNih': 'pAjsfvKKxGcMNHsWCwHo', 'jRMGOKRXRnfHRHmTAAEH': 'UoSGkZovlunDTGVTibXw', 'mlnvlrMmqNRNcchViznS': 'hxmGliIUaRyLPWRtVqIb', 'yzdiDQcnLnCuytQNfPRp': 'aMwLzUaydDuigWcQZMBg', 'GZSXAUiqdFDHSjvVZMjw': 'kaPuVmOtkDuutrsMtGVi', 'lskfrHyEGthUtBVaBsNa': 'AWSShWkOtRcizuwuLmCf', 'ahtvgbZEjefyBLLKcvAv': 'WbGdBhfgSGALKuREqdfm', 'GIWONrnrOVbXJhzcQcaa': 'vzbcbuSMUeQNhfCTIjHT', 'spvqYPkJnGwfnqTPLEYi': 'QjoHLqnWWobDQkoTdyli', 'FLzUWuhIvjtWKNYSJCjw': 'DrLJUesuubDVGJLmVaPs', 'qjUaHgcOCCFaHkbaygpF': 'jcwqCfrGeKepngSPuNna', 'JDcqMoHBKZsoRzLdqwRl': 'yGxFRlphQjqKksLkUXRz', 'aPsbxHJXEmHZzViFtZTk': 'xSHRoTaKfjbiYzDRVyUe', 'tOHONVipBWlKZfLmAPzw': 'gJDPtfbchIwAQAMtBvRk', 'HPVJPbWqBAwtavViUlAy': 'FvbQApUpAkdmwuOnoztE', 'igEeucPRsBTjCHoymwqf': 'HMxTgUbzcpCpBADusnIl', 'TZkSoMYgtSoFIpJtZygi': 'TkzKTXUfgKqskAjhYnuX', 'jmOvQuQkctmUPomvcmki': 'hyGSvUtHHmAqDXRdEeJj', 'zAGkaUpIoqvNPlkLJoVN': 'cuClQIsLcNMvXKtmvgSu', 'mjRGyqvtvgRbJOnRjHUI': 'AueuIPxvJZBbuyICYSve', 'HMxTgUbzcpCpBADusnIl': 'DIjbSasuXPUUOmVpoXOm', 'ThhEbLQKJZbkGxtTPRtU': 'TUBLgwZSOGEVKzPANadB', 'wCoEOycPXLDCgjewwhAi': 'RyegHOCzDreaQHAvNavy', 'XJZmZuOGOpLHdQPoITNr': 'KpCtXskxKKNxVbZrpfgY', 'DIjbSasuXPUUOmVpoXOm': 'ximUYxayrGwWtKabVaKE', 'lRxACIbNMqKYXDicMeNO': 'FLMrsyMOifXDZZvwYAtT', 'adMXmvlHWUXmQJFbYhVT': 'BkemSdrREmoLdjrsFXDC', 'CMDbNVRBrfygBATsYqbO': 'zWXIIBvZwURecpHExWMo', 'pQhjwvChVFmGokydnsvd': 'hYOaLCVtAZvpLoNNCpdl', 'IuVBpvjAlEOoXAeahSKp': 'BCsYEtPWVpwJgPxfELsV', 'QKulaSixMnaZHZxazsNn': 'WcKpxbehtegQEnKaJNKL', 'BbPypfvCUpiJcDDszwPG': 'YeafVMdQPKMwJArLfJgI', 'IUtTxxRWMxWpJrsNPkSh': 'DfdlRybTDLSIMtYEqsnh', 'qdzYkHIubAyxJxIaSNmg': 'sheRYmRXSKouwAcynMVr', 'qFpDhvsAoxuwOFXScWNx': 'MJIpQQPtPFeFHqBuVTgT', 'kIpzOoLXrCddCDKaqupc': 'lIrGCEDzUSVSHIGxMqme', 'AjDPcKueMIpSwgAubTQu': 'hAezPJJophOjMDPamjrW', 'ZPCaDjfUUufhDemoPhcV': 'kpxiqvrAiLTNNjezByqs', 'zgATFOtmOrTemtJFbcyY': 'uNwCjTeqwtDsNJSmQzLY', 'uuIYLMlfHsXPcpaSOUNK': 'VteveiUJNbgwVYBYOjmm', 'VJOfOQGvZeHjZhUTdvyE': 'vtNrbjnnAqUKQSgoKsZk', 'VxEyiFZpBfIqPdDmoGPd': 'KGahZIvZDvPsZIfyxqiB', 'UHKXRUhElBUvuwLdmrEd': 'eIyXcWzzmcxocqIAclcy', 'mvaarrVrtEdisgTLOnAj': 'aPsbxHJXEmHZzViFtZTk', 'ozWkZihKUrEyMqgdARvP': 'kclfToNjfHMuODXjMyWW', 'HuDMCuedgsnKmDKoJgrh': 'NweySCjtfPdwdTUnjygt', 'JldxXleylEMEIApmnfrl': 'rCmFoRVhYJwJQfQZVgLE', 'jcwqCfrGeKepngSPuNna': 'GQRtaZFlJAVrITfUzPnX', 'YnUVCaGhPYhhseeIyTXx': 'PaxGBRZtJleTvAslgbXD', 'qdxpUxvhFLszjijksdRT': 'adMXmvlHWUXmQJFbYhVT', 'XQLxRyxUEdAWJuiDGXEY': 'wRKitFeyzbrDOANSGQew', 'ecbdNqoUJAVcZNpMNZQJ': 'UCktxZyEtSGBKSnZchcJ', 'TCwQpSQDYuNLGfWgEXnC': 'jThSlqSzrzYAAdHytMWC', 'DCrCfuEdOxqFXvlSmwvt': 'hUJySYXmUrzwbyZkRpPD', 'vyDDgCzmzzdzfYwoQAwR': 'lMHeubwUqMYxsSbqnoij', 'poGGONrmIjMtOegULDvW': 'ocFWGoYTMhNaXevkdVev', 'ZjyFasyBTaAlKftBggcF': 'ydVEEMCCQiRXRALDpfgh', 'AvTwPcQOwcfkCAVsYdyz': 'TGvvbvDuXHDQdGgbEOoR', 'FWFOXukcJQAQMMmZuFgs': 'cLnUYNffFLAiUyNYxvfx', 'AXIcFOPeCfZVwdkLWGqt': 'wYMPTAnYYbHekxCtpuQo', 'jvrgTmhWnglSrcQuotSF': 'PqTDPmOmyMDhaRUVFDtc', 'QqoachDaXJLfBDAxMnAe': 'yUDUsLhmNKHwTVMQWynV', 'PaNHXgylUCSwKEQjeNmu': 'YMwsYpUaWbILphiqkYKF', 'mrlgWdiUdKKSEdbKctDk': 'dNwuGKKCrXlMQzfQsLXF', 'dNwuGKKCrXlMQzfQsLXF': 'kGdEtTHFtLszKYiFstzU', 'qSVWZuxVrMJjHGXkxjvh': 'MatWvszbAbzcIbdhwvZl', 'ixOjKoYldaAaybyXbgPc': 'oQpurVQdLixnUmAbcnfn', 'uCtdeBfewVZEPcIkdSvb': 'NanpXUdhzwhTKBfKhVgd', 'tECZMunUsfcjzlSCuCSh': 'XAeTBKiLjwXslaXOpxRX', 'uZhtFXxAmSfPOXLavgVZ': 'DYOcvqDoKOywHBOMwtQc', 'MpQgECJdNdJUzkeHPyrf': 'WulVpjTmpGcAueMCNivJ', 'BObufPsusIhIEwLbnxrR': 'VnkWBzLGGoiSQXFhVHdh', 'LPotJQPWfGLpCoVRLLkp': 'tCOPWkcFVzbOvpFWQsHy', 'GMSYRKQOEyTkArwVgqhP': 'JphaoVPWHtQDWfcrMuuY', 'qkVBMMmalvxbGAliiRfn': 'QFwNppQtKHwHdIEquxah', 'RggbVMAsJiCmqPEbaNBW': 'kvYPffmYmQjXOAjbMocn', 'IomcVNUuIHwwtHvrxIxQ': 'qheHvWxLZseovZIDCsHz', 'QFwNppQtKHwHdIEquxah': 'NnxTdwOaTKjQRZgfgsiI', 'IaSrXfsVfJwixWGsSzCE': 'KzcsPnrgvbqoYvkpUzAU', 'IuncJGKkMkSWKDZlNsFe': 'CKGNpyPSrKjHrENucDHs', 'CKGNpyPSrKjHrENucDHs': 'SdnBuSpsntMOqODDXXcx', 'VsQegwUFwvtOZUvbQNAI': 'NVlSmUCrAHVUvjqJgOeP', 'LxylMjSTwEyvXOvPLtfV': 'uQftGfOUBJiPnAumIFRi', 'DgdpZUGlSzWVUfyTlwEX': 'GsDBblZpntqOIjrofOOS', 'gBzVUymxIuvYKaaiQivz': 'wXSHHhJUGYaMrbgMUtUj', 'FBOpeUmkazFoAbdSGpXy': 'rlDKJqVhXzAqGbTgRyVY', 'MUefnaFitzeHjyomYrIj': 'MHHcTaudgnRSZCpHIBtI', 'vzbcbuSMUeQNhfCTIjHT': 'ojhQRNPHVREVmjUqQuAE', 'iAeRotjGgiFdksPPUfbJ': 'ruPQmOvWotlGtEKKOOyB', 'BtBjMqiWRNsNgYreOaLc': 'RqzQpWqrbwNNfSWSWYtv', 'ZhbLXGcecuthhsLYSUzt': 'OzvqbyOCpERBgvBuSFal', 'kUFPTeXoFishMPsETDaZ': 'qpiEFPRhXSONASzBaCNq', 'JWbxQODmkTvIpiXInHwu': 'CzIQGJvuvYEhqKOknsXZ', 'WDlGrCQyEzaPAPLjluQs': 'diQtrRATLovnuWNJTQQl', 'EvcnCFMmHTeedCnrKEMq': 'UFXAFBAmIJWPwkpGUuWg', 'ihPmYjDoXQUCfAEEClKF': 'HIatXDBJjOpqOWDnXYDk', 'BGrFuksCRAcPyPMnHMKF': 'vlnCMiWbhZOrbQzKVlOG', 'dLPqpCrjgNCtmddpNxWS': 'kGlNNlpxPqsPNMphyijw', 'kYPWTPKYuFyqhLEOTDnJ': 'oJODzlGMpCYUUdvUzoIb', 'JjPeBFEHsUwjKdMKoNbN': 'wKjpPOyOuFGvGDvmBPao', 'osKMupcrKMxCsfhEzlPE': 'sCXtMHNEzBODCJYCyGnE', 'pWLohZyOZFnFmLYvgLsu': 'IijCueIsizgubslYptKq', 'FaqAoojpjrOjOhzexbpY': 'remSpBDiFoCimnramHqu', 'gTLzgiaHtyzgEqSasFhe': 'NQbGWdTwSNtGAlwdMIMa', 'eBLCREhGwTcYAGzEuser': 'RelqeGUjCkJGMmMadPej', 'xrsrIyggkaUzEVpdwrVF': 'BqrVhIALXgCZGbxrkpSk', 'JsXaQJwcqIRUGEDqmQTk': 'CavvqRzJmTyhhRUwpcbQ', 'jcWaZLrUsbmUuEpHJrAP': 'WDlGrCQyEzaPAPLjluQs', 'GQwfupAUVxVUVVzzwpOC': 'TnutQqwoHQBgNzFyharQ', 'ydVEEMCCQiRXRALDpfgh': 'cnFsuvmyhztZDoYbPJSK', 'tHCRlpNPceTNzVhbxQIa': 'lVKZkDAhQjsJkBqacbOU', 'OCsxMnqRdzWoNZVqPqtw': 'upuFGwXpGBcTxrpqmBGY', 'EjolUcphlVKWAyOnOptb': 'IaSrXfsVfJwixWGsSzCE', 'FawhZphxTElPGoIpRIJM': 'kVyupsPsaDuGAkpmjRtG', 'VeOhbuSZQgQaxYgaJCnz': 'qtnWaoZWHkyfBSWTWOcI', 'nYgVxTBNrHZwFsxsDegy': 'mjNKSzWPHWkSKKHknNql', 'jdkayJldGMlXmgtVXAAf': 'KLeNFpbMvFTcywfcyEYM', 'DrLJUesuubDVGJLmVaPs': 'tOHONVipBWlKZfLmAPzw', 'vDEoOsNxMOzSxvnEMKTW': 'IuVBpvjAlEOoXAeahSKp', 'fzencDQhBIknAOafbuzE': 'kYQDkZptjCzBmLmkXshk', 'ieZuInCIkkxOFKdMUIGK': 'OTPAbxTssiXRBgDTJugz', 'GsuTipOAMqaPdddscEDk': 'RAeLGRkzejKaZsmsgHnZ', 'xkDLxpXAAhTCyFUlRorX': 'YnzVUZpBBdSXVxjGUlPT', 'oPbXaHSOufPcNwSWzcUr': 'ofSVMYSVzSNrChPFYYIS', 'TCxQmikOUbMrOSacWyKT': 'bmnOALhImMRoIDDkcxEM', 'bqlAmIwITfaGBTjAzBdA': 'ixvKzTQGuSJJTfBloZkV', 'yLKoQfWzVDIutxviuyFv': 'zLfGCCUibJsKqoMUudiE', 'TFRkzntNsDEIrZirQWQb': 'laQTdiAWQQDmtUSoXVbh', 'VTbpLirhoxoDuYMUvrEo': 'tyTlOWHVlIALQHuzzgkI', 'dzdtMtotxOjsNJswsMye': 'xefnzSgYfjQWGsBepHeK', 'RelqeGUjCkJGMmMadPej': 'ToTkrZbgCTWTYPCVTbBz', 'OKOMeavrRSDJHMxXzfyC': 'pfoaYHBWQZJEThBBawzm', 'ahpAaLSZAQliYqoKEkgo': 'iReGtETOBDzOUpPEyUwa', 'VteveiUJNbgwVYBYOjmm': 'HQVTWrpNfViVBrUPzPvd', 'ynEbWYcOQDjVNpTwbSfp': 'mlnvlrMmqNRNcchViznS', 'CavvqRzJmTyhhRUwpcbQ': 'fYWOMLYiDpDCaGiyvstr', 'PwJUCzPPcRQVkofAQbsO': 'PEmcWPjTusrVzmNUGfRl', 'vzatjIYQHgOYglgETMjk': 'HUSczMgOsBAFMkUIWYgG', 'SvFmbQubjBLbfxTcbvbF': 'MynrbmIEbzlLEZfasGGm', 'vKtAsUvrCYkkOqWpOyQM': 'vyDDgCzmzzdzfYwoQAwR', 'nzNhxexVoAwUqRICWpFh': 'HoLjhhcagSeIGBPiFaqE', 'TwAWRGCLFLKZPXxJcWsD': 'lIxTSGhbbxmCRWbcDuPB', 'YtjPYpOgvzLksEQQDiXp': 'xKQmjYMjvvLZmbTClKVJ', 'AueuIPxvJZBbuyICYSve': 'zTAbopWRXKLXAOdAHAwM', 'JSgsNMtqWWyzhBzwmOQG': 'oYdsfbeTLjPnxqflBXse', 'zRIdhScZluTSuTnLrYpS': 'cvwDqZyWCZDCRlJnagtc', 'cMfgQzFUUAwaynAqPtdG': 'UxJlEZqarHoCrjDGJuDz', 'xSxrffdcjCnxlxSCdNAp': 'TEXafuMYyRSLQCpWTFhW', 'odyFklizRNuPyujsGmVY': 'mOOefkjkARaVJtHwEolZ', 'pZkRuFNXZkuoyYPdsNGH': 'CHFPAbCDujYtUGdPpzPx', 'kcwBQsjQaAwefqPHpIwB': 'JWQAqZxOZjLFAhVLPjAz', 'iRjwKmGcaDrSXQMFUvsK': 'VTbMYbOKldUMssTCfEAW', 'UMgvVTzeKxDzQgBXWxgS': 'mCoaFjNZNwnOyQJMyZxo', 'EVJKXJJuvLCtHddmFoOf': 'rsrAmTLReTrHvffWNgWX', 'xHvblrjbtHFIxMUHecGA': 'ofssPoyMvjkrWJpcEvRa', 'BqRwIUrtHPEYLLESwqfc': 'bQlPgznkRadjjaluCLFM', 'MJjSXeNocrHMSHpGToPs': 'rJcFqNIQfXNUFMvSDwSF', 'VnkWBzLGGoiSQXFhVHdh': 'lidvobMqfnidLGEAAiRM', 'cNIezaofMDkDGuLGAqAs': 'nXZnuMaYswSLNghhPUdM', 'NfYuEbWaonZhaRroNTlX': 'ThhEbLQKJZbkGxtTPRtU', 'tlAnaxRxFWMbXJllXerz': 'gXGFeazEuyKOrdFibsvC', 'VTTbjAvicqOsCFKLNlOM': 'mvaarrVrtEdisgTLOnAj', 'AJvYOMCyGvnnpBlcQCce': 'qzRdZPdmDYMkhreeeJaJ', 'pArxvHbfJEEGiCVMFbei': 'msvleGRRUhZYKmFfrCdS', 'nQYlTYIMCGFMDCCCyEGr': 'QZOcTyjefcGlLVlLyQiv', 'DfdlRybTDLSIMtYEqsnh': 'bJLSjvblUCGFrAKbCcFI', 'thCIcKTiTMhoFKYkCear': 'lRxACIbNMqKYXDicMeNO', 'LtWVTJdnYvtGiiBtYKjC': 'KbkCnjDkOTbRaeoXNfHG', 'vFuyQkzxzJNvKWNLNlWP': 'zhZqgjgbyVgaXGXBFCvR', 'jbajgxZFhqdObOnEiHai': 'toqEZBVstWVWzHzQtmiI', 'KrKSZItWTmLahPrdMkam': 'lUhqwjUkTaiiGCRDcMaT', 'jBvwKLaCtOthsvcnPaIH': 'VjlbKZOvkFWjqjjETvnQ', 'trJjXnIbDYdjXNZWJyPm': 'YgQwMwwccxFGcOJmfIsm', 'zWXIIBvZwURecpHExWMo': 'ecbdNqoUJAVcZNpMNZQJ', 'cPYOdXselkakAyLUFUmt': 'ZTEGGvwweeHsvyhjoRkI', 'tcdeHUqddcqPLhuzexPx': 'fOpcCQYRlFztJuiFtmeT', 'QcuLtvVVowUpRMVuxvjY': 'EfRndqEWcOLHsueHdGmr', 'KSrEkgNkHibUJjQGXQAL': 'jBdBNCuGdiyCLlYWRxMd', 'CqLbgRFMKaaciRIxJAhl': 'ciGnhLXNQVaaqFlhxGEB', 'LQaaCwnXtqvLNwpZFJgF': 'OyFBWjDCIVYYmlqYQyhb', 'zEkdGWPxkyNxYSqYQtaY': 'FqRjHVcAcxCQprXKRdjN', 'DMCnSTptzTIIcpesYFES': 'NUPeyelLBBSVyHsUMDGX', 'lbNYcPvwEyUcaiJJfmim': 'aPQlSqwTZxryEbGiOEKr', 'gPdvRoccKhcFoaOBvknX': 'WtulThDJWvpzaKZOzWHp', 'mDBJZlLAZliNlXkLImOz': 'VbkyvBJrjcDpxWGmgVOH', 'AhYWXzkdsvfigyEGZmwS': 'ZesjFtykgZKeTgEZsXZj', 'DrrVhtHNPuSrtvfVgnxx': 'YGDnRpEBZcHolQSBhtGZ', 'EWqlmxAcWGNWqLlIguLF': 'zYwJcDPDNjHnSdAdZkxX', 'WTPJMbhjXuNQUJoCoPaj': 'cYizHjMqWOyYAbDBlvAR', 'koLSGaGnRSDLWFWYNLHk': 'oLHTaIaziaxTczatbPzy', 'BsqdjugaAhDsRVSlrEdj': 'wQuSzYXPjiKoNdTFxaCs', 'oryJDtOBIiKKbbXDhqlT': 'aQgEcKQFdysWAYJNrgtg', 'ywcYdCetXfBHMjMUdnWH': 'rJMjRqJlrcZdZGMApasd', 'IMyMiIwgWSWFuqdfcRKj': 'afXcmxIalHUtCkJWfwyA', 'ILGdkfKyKxGbBIMSBrCk': 'PYBIuZvvhlXstdvNMoTp', 'diQtrRATLovnuWNJTQQl': 'tGWqyUoaBbspRQBTfbIK', 'hyGSvUtHHmAqDXRdEeJj': 'lArSYktVkFxGyhxXzqtD', 'OgoqXWzjlwJZRrUCIKrS': 'riqrFzFgOemmwLxpfueT', 'UPhwljqiEkECOUGxXUvF': 'yzdiDQcnLnCuytQNfPRp', 'giFwKpSyJoaxjSUCZlIT': 'ooMOJiivFzskhBHazFKJ', 'yysRfGMWJqjSnLqXHVEU': 'lVWnuIVaGiybdouGIngf', 'LdQUcUfxJOtOFKjcQntL': 'DnlRgVoRDOskLHVmDzSb', 'WMrlHjAgaEgcFStrqMov': 'HuPgevTcjpOUYQnfjJFg', 'JtcpExrAbJRaYxJzcAeS': 'JDdayIFtSTyumiVDBSiR', 'FtWQlAuAtmjLlMYUnibM': 'QLIHrMAtGcWiQToGBVkO', 'GvbwoiMGahBHKHRQFWFk': 'UdiLHPQzJxRqLxYDsMBG', 'YCIEABYQzTirZDYmzyWQ': 'ZtGYqxXkYqiiuAHoopYk', 'qiMjtBiTQJdWqdtEqURx': 'ViotrkxNHPIYDyPRwwnt', 'BmpPoTncfMVlzKnCZzMi': 'MgcYDCFrOKtXrcKhXgrK', 'sSNkJLPvStifhiLMCXwo': 'RiMaZuuPriTswIeUEEHw', 'DnAMkMpkLbtdMCIyrcGU': 'IsBcIyCeSyqPjMdVXnhG', 'DnlRgVoRDOskLHVmDzSb': 'WKffuyGaOFnfQWSMOiMV', 'xhZCVoYwfefXZiwcnpkv': 'PWwlemZiNizJVPuOLDwk', 'YGDnRpEBZcHolQSBhtGZ': 'apwDIOyeIUiujCOwHtuY', 'bsqIGkQvlPzpDwcefNVa': 'qOvcKBaFFulaBtTEtNZI', 'HAtlsPkqeUdylUNDJILO': 'XGxWoxuMBzBfQZpanHvS', 'anzONkSAAYdwfBdNLkpi': 'oPbXaHSOufPcNwSWzcUr', 'xxHqtAskRRzVUgqMRour': 'MpTwjqEolNCiIYOVGIaq', 'WtulThDJWvpzaKZOzWHp': 'wUMghKdFPOmlOUqDoSal', 'dfeQarlNZDcKiuIEgbLM': 'HrzoOlxpOXcrQSWnCqzY', 'isoZzxkUoglXQXvDpKGe': 'DMITSpILElIRWZAXsmyZ', 'IigqkgTJxuqjzsvUEIfz': 'YAHgWLwoUHeeDiaxNDWs', 'FdrmmuMALswsFSuiyzBV': 'jBBEhfufkdSSSBamOAch', 'zdOCilheClNmtegawgxa': 'hnHtvWKYStVPaDoLDDtr', 'OVHZSSPTkmjREtvQhxCf': 'tCiJWyEEEFHmqafxxCVy', 'NAPKTmChcpnPXdkKCZIk': 'ZjyFasyBTaAlKftBggcF', 'ximUYxayrGwWtKabVaKE': 'aFziNvdoufBETKMTMVHf', 'ySEcqhBmyrvyeYEDVYHb': 'EfcLbvVkjjYLsBDbIDou', 'TolpCDanDjmuqhwyiKch': 'eIjDmgRNCmclUNCXOpab', 'RbgzIOdztdsylmubtdnU': 'NHnkSBSaZJKjboCECWzv', 'HYOwIHXBDIeSXyAyMAui': 'CoTWCSDqMXnqUtQwBbQf', 'SmXOhjsGQeazYdEhvGDH': 'sziPayfIwqPUcUVynMpM', 'tvALGpmiGXqPIgLPahHh': 'xHvblrjbtHFIxMUHecGA', 'mkvbLJeTBfwEJRdcOvil': 'CTlMOimImERarYGRwIqS', 'CoTWCSDqMXnqUtQwBbQf': 'NdUYfCeJgugsbcmeKkoZ', 'KljfHfOPwDuZfPRQjzaG': 'mlsHxxumckVxXspLhjzd', 'lJmcnerygyNMObbcqFej': 'VjBHyZckWIFWQwYJDgWZ', 'YBdtQqphaDIuWMVSagnO': 'EHIBUpdOlNSRdwsgkeTq', 'phEYwjWOsjpEkzcfAhyV': 'GnlokABwjOmrIiNnrNQE', 'QgsojwbRsmEmtcFzwbvw': 'dopjfwUwInpMhIyhJEnC', 'XXQFEqFbVDHkVekBGvPF': 'cqfhxpifujohHYWnsMOh', 'vuhRKguwAGJfsZaQzRwy': 'AXIcFOPeCfZVwdkLWGqt', 'ffAgxgOWWEJahsFkfAQw': 'fbUjmaQdNlsJnHKiNXwN', 'TjEdfKuefGTiLLAikbVV': 'jKjezWKFjPCkFcSuRpEf', 'KSRDwdAdCIxGzqzoyrZE': 'OwuSdGgiPkXhgklVwCbi', 'saATlQKGAyFyqRajeIOv': 'AmKGaOSIXOXwgMlvSgzL', 'WaYLrqiVxeVRhFAEMXhn': 'GxmbdnqAzipRqIAKXrhR', 'thLNjsIRSazNandESJsN': 'nrIUCdlvGsfJOVVbMZhz', 'VTbMYbOKldUMssTCfEAW': 'odyFklizRNuPyujsGmVY', 'pAzTmtympLHlzoESLhuG': 'LxylMjSTwEyvXOvPLtfV', 'wYOpujTCnsBlYvArKnre': 'NQGCImAwisXFRiwNIhDT', 'gwNIlFrqtRaYnIZyDYcB': 'IUtTxxRWMxWpJrsNPkSh', 'vtNrbjnnAqUKQSgoKsZk': 'aszIQaRGOhaeJiMIAdWx', 'MRAbajdiJTUtcfodiccf': 'qbQLsTdCnGozNfwPBBBW', 'YkQgQTAuXZQyDKybnDoj': 'PZXBVSliWZHBelWAxgGQ', 'KQzphLSTNskNAITInLcN': 'LDsEbDPLhamkvpjpKMPF', 'ifWRKZjRnWOJFZZakeec': 'siRCNrrfIhcciCXLUKoE', 'tqDsudjezacoWRwGyxEf': 'HGjakZZnWgJHrlPETcIX', 'wESMxmWArtyBrCPdTTlC': 'HmKaEmqYauMruqANttlq', 'DoOVKQZecshQkByrpjBx': 'hCbbBAqiDUKZDBHbRpYo', 'WbGdBhfgSGALKuREqdfm': 'GQwfupAUVxVUVVzzwpOC', 'ctEnnvnHOiaLZGbihsHc': 'pYuvsNOJRbFuCTLkwcJs', 'LoBUzVCoyXOAiQnJuPLS': 'xAGfCafDIxGcUQADKoEr', 'JbGvfdPcCmrvqfXjVGTp': 'XJZmZuOGOpLHdQPoITNr', 'aWzpxugsUNphnqixDsGV': 'JsXaQJwcqIRUGEDqmQTk', 'ZvixDfqYuoIZDwPxuUoX': 'boQoAbGAVnrNtkSTgPvX', 'UoSGkZovlunDTGVTibXw': 'dsSWrBqkzMapPtXGqtHq', 'ogrIPawDWagCyWlJqsBj': 'ijTxLXvYxNZpPkMhelkz', 'GWUgLjLYyUAMUuGmLGBh': 'GISyUWEfELlliothtpBq', 'vCAOIUwAxpluqYEciZmM': 'dcKVDjCvKIbDmDIbJgAW', 'eIjDmgRNCmclUNCXOpab': 'VZpLcBGMhNlohVowaQOz', 'jKjezWKFjPCkFcSuRpEf': 'GjjfPiDqtFpRZAoMUSxb', 'DPbOofHUKdfOlbZzteyg': 'vtelxkOnZVTaihhmmCYY', 'sCXtMHNEzBODCJYCyGnE': 'cRrnLDDUwRJmNKUrHuOV', 'gqYfkExouUaIhkZTrhPy': 'EjolUcphlVKWAyOnOptb', 'OyFBWjDCIVYYmlqYQyhb': 'QFfmzGXeldKNIMjmfyMQ', 'OyNjaGokSqSSkJFeodfv': 'uKuWvMxNnJUguVietwHV', 'oDAAMTZvnhxlcilePvOM': 'QMKMWGQBvhUywLQwrBiU', 'HDInTLXHJACmkDBufZCQ': 'RKoasNCggaderNQePIrT', 'fZAXAgTBEClTbcSbUHqT': 'GpmXQZTsPfyleHjqmGjQ', 'SInoNpzasTOiUDaXJylo': 'UEhokErqcjuaOzxFSNvL', 'CjrqhrNZwttcXloXNtVS': 'EPZfpgLVIPshBAWQIsZX', 'YxIiwrpiPXzHniKkrVaQ': 'FlzEzlcCJoBhnUonaqBE', 'ECzTZbFeZTsAJcKtnRZw': 'TDLfhTIUiiUdXZIhQlZZ', 'HeVFcxziwETvECSGlzrh': 'LdnOwihvAllgmlIHpMlT', 'CUoJvxfNzaGSnQXeCoDX': 'ihPmYjDoXQUCfAEEClKF', 'QzCBcICYCOfszhCLQcTn': 'FvwyOkwlDmUJVAeNGeqF', 'lqXWjeaLItLJgofGzTKZ': 'OVKNFZRdRkAjgIeZotUD', 'wCvCZmCKpDTvBmrbFyEy': 'JVjjRWieUrXnIBvlKwcb', 'nYAYVSZgwVtfySYorjHF': 'ZkZhjutXYLSapSkFAIXi', 'qccCpkYVsqjEnQiOQlye': 'OOGBZGXKlhuAFbZMYUJq', 'ORqhtYrdFgxMRSDzBiTp': 'kaXDTOsxwRnIkWLxEEMs', 'HwrzuDiRlbeNIgoroSLJ': 'XJRVRrannTVlukbXPmeJ', 'txbvGKQDTFYuCRXBbysY': 'eqnJfecuiyJkAlDbWpNi', 'YiodBqfiZeKRHrvduDuU': 'RkuyZYkKwrZdtZiikfmn', 'yRguxkXkIDOWJzYKxtrg': 'RezXBisIPUombhTRoAfg', 'qLPVURXFWnYyMGrSNwyN': 'nUOYebOXPHAYdkvXTKtU', 'iReGtETOBDzOUpPEyUwa': 'SlHDvZfCLjMktPvqQhwF', 'XzWupuUzupAkJxHcyHtS': 'EKGjJLYnyQXcVEsHGART', 'ikYvoFRSjfqOAbZNRQwV': 'MUdkSFqqwjzfiHjrQVxl', 'ZSTRPxiJXbwVWFdAFTDI': 'CMDbNVRBrfygBATsYqbO', 'RhNEMIWgSKoWPNsrPEps': 'inikDaVaUPokdSYShCml', 'JCuZUKNSpLjDrzYHUyYJ': 'PwZPIXPaqsRurJYEFflt', 'oDlsedbnBrtonfpILrNd': 'wYOpujTCnsBlYvArKnre', 'uKDEMzQSlPtpFRKSxSdN': 'rETkLnGqJLfMqYWEChTc', 'PSiRskzBXyWhzIIIooVS': 'vGTrqeBFRsYxiFZaEaRX', 'HxJKNOjmquAfdRgbqAKr': 'MsWksZAwQnpZEWoftRvx', 'rPUoFTTWtlmXvjQnGRpS': 'ZZhVGDugMofUdUstFTTn', 'GezvmBEDZKJYhOXKXTDh': 'ydimBegtbELklwWvzVPV', 'XpmPqMlbivsHAyDSQQph': 'jtmUpbbPCkPvklgEqNEz', 'pHyAdydMVfyQUjLCGaGT': 'xRQqdZdQKTQuqgBoXhux', 'NmCjSKnhrneJzvWHpokT': 'fwQbJrMrOmGeDydjqBOf', 'cRrnLDDUwRJmNKUrHuOV': 'ocRYDBcmhZwxmYmeNMjk', 'miSuTRymiQYURXPpDghU': 'EXiVAXfPVOhmNvmujeOa', 'wufwhjJyIyTYWRiPJteL': 'bvJvVnQKWMLPELxSSTZw', 'YWlMDTlCmCikZkAGgXMq': 'mvLgMOooywUIcXMgfOuU', 'gkMApJbTavNBElXxWLnk': 'KrKSZItWTmLahPrdMkam', 'SfnFdwnaKuIrMFSLzZKE': 'hUSqPKDzsNLKSRAzTFnD', 'QDNpfKSVjQbMxRDFiTOm': 'RykRhXHuDDGKRCVLBcvI', 'JtofFrYPuMTBIFzrjNQb': 'QYvpelzBBQjzwOxhADne', 'nXZnuMaYswSLNghhPUdM': 'jyYmcHFamZqQjYUhUJfl', 'FcFvZdRsgriWlpGbPspY': 'SRxlymFYgOaukyKOgYua', 'WEqemqRXRAPaHUDQdgKH': 'HJBWwpPodWFInkzPmBuy', 'QFfmzGXeldKNIMjmfyMQ': 'VTTbjAvicqOsCFKLNlOM', 'gvmnGyIxXEiilLjsQiAb': 'kfRQKdGDvqsinXwIsZRt', 'kiyjKmXNJKoarVfwomQc': 'MrtExYVJrTcLXoDrIaoI', 'lWhFkhopxOlxrfqsWHMV': 'GmflIRjvTImIZExeMRgX', 'AbUDPwceoQqyFNSZYGST': 'pPXXPbyFBIQgbQvlicGy', 'vkitCDnBvxmnIwunuEBe': 'kIpzOoLXrCddCDKaqupc', 'OlHdMugFXdGYTrRMSrMt': 'vQjifQwMazhSoVUTggDC', 'LdnOwihvAllgmlIHpMlT': 'FawhZphxTElPGoIpRIJM', 'zLlsFZvWUMDRDOBxFpsI': 'WaYLrqiVxeVRhFAEMXhn', 'nHtsMtmDzSYHmUjakJaF': 'NAPKTmChcpnPXdkKCZIk', 'EfRndqEWcOLHsueHdGmr': 'JtofFrYPuMTBIFzrjNQb', 'HuPgevTcjpOUYQnfjJFg': 'qYBjMxYGAioHhHfMNeSt', 'ijTxLXvYxNZpPkMhelkz': 'wngKJmrLynlfzZHUgkUv', 'ZTEGGvwweeHsvyhjoRkI': 'mRcSnzwGOOGjPCuIzKCs', 'eMeqgncIIqwIkGNpIzME': 'PndqTPflhEvqasarrdOW', 'VjBHyZckWIFWQwYJDgWZ': 'vKtAsUvrCYkkOqWpOyQM', 'iigRebtQyYVxaOqOinch': 'gBzVUymxIuvYKaaiQivz', 'xQViyobfFjrRkqmxUhSy': 'jBuwMhdEimUdGAGpEGYy', 'komwHUGYiuhVsPExwDZu': 'RQIrAUJAfHAkUvlMvsRj', 'SHEsjPRzrWpQgKheppMz': 'fSEAlBDbkKSoQuHHWobJ', 'aRVBcqubUCYnbYYNoqxJ': 'gnJAGqrHPfTkyFlfeqgs', 'WcKpxbehtegQEnKaJNKL': 'NccZKDpxPALZZYmTFHPk', 'CDChjnsHcBXcQyUEElwA': 'uyzwwpMLZfeeGtRNNWLp', 'rJDrlFBZgHGFHQNMPBet': 'DVhIsBeqJVsxnmEKqYcY', 'JphaoVPWHtQDWfcrMuuY': 'YVUdUepkajtBpnChxkWe', 'qOvcKBaFFulaBtTEtNZI': 'tNjEOGBQAByOrxywIVTB', 'dwavjVKDtqqMKKbLwmXv': 'ZUBNPrsfhhfcahsNkPZE', 'KpCtXskxKKNxVbZrpfgY': 'dkvYGMlyumjrkNBuRPcu', 'pYamDoBbgAsksMsouKXY': 'TFOrIFsYMSnAvdTzKTGx', 'pAjsfvKKxGcMNHsWCwHo': 'nnpChxTMXaeSkAJHlyPj', 'lWKvNxgYKzJpzGbuLcSX': 'zgATFOtmOrTemtJFbcyY', 'AWSShWkOtRcizuwuLmCf': 'bzZJzmkeQGNMOeioPYvp', 'xOvZNEpDctSyzrMjFdCa': 'CQwNzzmAJxbZXIaRAzBH', 'FMObxfOYOnxomDvdLqsH': 'PLuXtciEFZiubPbTqgGL', 'bksMwHrmjCqeuRdQJoKr': 'lUPiiIQYHjcxNthdJyeC', 'XAXFczuErSiGqtMaiHLH': 'hKFLtBlMCERcCBWEYkjE', 'CLByFQwWLLaTBeSRudQm': 'SFoIiPahMRoWZvwfPOnE', 'eCcMqoWWEFrpSYnEPtVY': 'cLJKkapnWGRnLSWxgZhy', 'pLhpDmdwgZYWYmZIpNzV': 'UoPPPcGpKVlExgBtUABr', 'ZQiIsMtUZNdADvYQKrIr': 'FksXtcvVUqobhZkTiCsB', 'sDjmSfZHNCQBifWfJQYN': 'wfXovUDShOkTgCzeQbVk', 'EnWkvxUxLHYMwwqDvOIY': 'nYAYVSZgwVtfySYorjHF', 'hRBgDDYQtGlAkfMtjLMi': 'BFxbwMMTOPStTHyIYTnM', 'kaPuVmOtkDuutrsMtGVi': 'iMLnaAFSwCIjuYKmDqFw', 'jwEPAtKkbPSkKYNZwAGG': 'XBOOzqvfVofMbqkOugKm', 'nOeBCLqZTjVcPdyvkQiR': 'AbJxtrXevrHfGkuqPqSf', 'NKTLcjXcJNmCNFARjtDA': 'lQOsyINtCWiulNVfImiq', 'oLHTaIaziaxTczatbPzy': 'kxRUTZMEvhVBwnisNvAc', 'vEGUeHZtKUfzvwpFoPkD': 'VFUtrwonZJUHqPSCUMhJ', 'EKGjJLYnyQXcVEsHGART': 'icKjVtUnJslWNUDlozKg', 'IBQarCsbZhJDbtMSrApm': 'YiodBqfiZeKRHrvduDuU', 'EXiVAXfPVOhmNvmujeOa': 'hgqBftyeUmISKsLGPYsq', 'YkSnupbUhKsdeILIVCKS': 'NttHjfJuqZuoDXLQaKqS', 'DROlQFWfgccViruEwgeO': 'OhIsAkNfqmxWYWMzUKeE', 'DtMoTQVyptGOSuOWiaZB': 'ZiGoGxjBclkGsAqqpGEq', 'tjxWPtKUuOcNKbziTrLx': 'SLwVNPdAMEmrxHDfazJt', 'CxHNCMfAsRqjUCXquqPy': 'TjEdfKuefGTiLLAikbVV', 'wUMghKdFPOmlOUqDoSal': 'AjbQRhmQPrVYUJRCkbkb', 'lUPiiIQYHjcxNthdJyeC': 'rmOONjKDNOkspDwLWpIG', 'JZcwSSRfLNyLNiALqRoH': 'FtWQlAuAtmjLlMYUnibM', 'QZOcTyjefcGlLVlLyQiv': 'TuMLSAeRLvibkQcbvAmC', 'sRPTppOjRBvCBsvZnYzZ': 'JLVAhBVtnDRbWeXgKoIQ', 'gnygLhzLYTvLrMmkwFxe': 'vEGUeHZtKUfzvwpFoPkD', 'UvlUQyjleGOveGOVwjCj': 'rCiViiJxZimEruMjWGmD', 'pkNnlwuPCWCvszFVnPFT': 'miSuTRymiQYURXPpDghU', 'BaGHAznyMWlXXtcdMpMa': 'BbPypfvCUpiJcDDszwPG', 'herMiLAhnDcfjWMIzkaV': 'JVsZctQYKwVamScyQwYa', 'XedgpEYsthJRnyPoEtVG': 'fFzMrsvXCtwZijARlJrh', 'DTneWkrssmBuKZWjyoCE': 'WMxboiUnYlriliEWdogl', 'PfXUAmPLeafgtjrvCzab': 'CzSHspSvcHUIeOqHCjEZ', 'lUyVdBDqUVLzdKjvXivg': 'gpmcHMSJxPwNvHmDaNWv', 'roFWABfthtSgIODCLhuN': 'lJmcnerygyNMObbcqFej', 'GpmXQZTsPfyleHjqmGjQ': 'VTbpLirhoxoDuYMUvrEo', 'yZmCUDNaswTdVYZIQuKE': 'NGliaIwwAHTGtzVoIgVj', 'KtNXbuvuMCIZxOIWRfsv': 'DrwkmECKTOnkWPYcHSsi', 'wJKoPwaOirWYKJnDJYkw': 'iigRebtQyYVxaOqOinch', 'lLfXrHPQefeUooMrdrqf': 'jfcMuZOeDjzntwCfbJHV', 'QgRHwmbRseqGmlUBhUxK': 'SFwKINYcpTRAWALwQEhV', 'gkiZbfXTsPGLISgQGyKp': 'iWMKZLBdrcIxavbsADxi', 'gyFDwKgGNkDVbNONAnmb': 'IOWEUNZLdHoLmaPFxnPB', 'xTuBQDyDFDbQrhAzpFFy': 'vkyVvJedndeCZjTRqoXM', 'rsrAmTLReTrHvffWNgWX': 'RmjrQyQBFYoqJFIGvqRJ', 'JdNqrbuMqlEapaoHmlmX': 'cGOONHkBClUbJIyYuTkU', 'aHgxLNUcqVZwXrVvVePA': 'ioXfFTuDGsqEabCCrjNi', 'xMniCOFspUMgLVrXWSdT': 'NoIoZIjmIiLddbEiiklo', 'zLfGCCUibJsKqoMUudiE': 'khDGCILmaWPvpArTHOXd', 'HIatXDBJjOpqOWDnXYDk': 'TJUlJyyfQfFavdMLVyjm', 'GmflIRjvTImIZExeMRgX': 'nJyUNCvtEXRztjJYeAdN', 'tYVmlzRyMtFFvvLfaVOr': 'DTneWkrssmBuKZWjyoCE', 'mAMvLfaQZwNeKAlXnZcs': 'AwYKakCrhnqDSOgrtYvr', 'SqOvrCrAOYiNQIfdjjnT': 'xQViyobfFjrRkqmxUhSy', 'PKzeIGPptBXCiMoBPbQm': 'TKZxDpoORjGhjzEvDEiC', 'POiqonayUghedEIyLpjO': 'yrFzbSsPjrrhuwtSSDFG', 'TqnZfCSjYQHXxFPbrQTo': 'uomJEaUZkvZogyzESMhv', 'FhLqrOKVYJzuKfisRRWG': 'JfSqlduqhYJxPogqMaMm', 'DsrMiOwrcHnQlvNxCZvl': 'NmCjSKnhrneJzvWHpokT', 'SlHDvZfCLjMktPvqQhwF': 'dNSGJBiyHLtyGDrtpbwT', 'aQgEcKQFdysWAYJNrgtg': 'DzgIRvoOkHUfKjUoMUbj', 'AAwceDKAjDkjGDpgFcfl': 'MpBNkqmGVDPrMuXYHlZL', 'iDjxIlqcGriiXRugsYJn': 'TFRkzntNsDEIrZirQWQb', 'SEVFIrUAogPCtGXblRiQ': 'BtBjMqiWRNsNgYreOaLc', 'AMncUhfKRfLwAVjDTHYm': 'ktXLZWegQCAvAWwwbrBJ', 'wRKitFeyzbrDOANSGQew': 'tLcNVJjoBrziLvSEUemY', 'XkKxMlvwzGZwWtixQGYS': 'voBjEyeFExjIknDPMXLx', 'XoWzlLvGmkwLfeROcvry': 'JZcwSSRfLNyLNiALqRoH', 'tinxXebozbuqUNaUNYRM': 'FggtkukJjwFDkQZtNMXi', 'oJODzlGMpCYUUdvUzoIb': 'HLSmScwJXHzdbkxzppbK', 'AzSQEVybySQIVmcuxRkS': 'oDlsedbnBrtonfpILrNd', 'CKdAitQkpRqPRiBnstss': 'ilJijjwLlKkIIGRmesuY', 'SCzTytWbQhbIaFfeCOjv': 'IMsBatssQtWwMndoOaxM', 'SFwKINYcpTRAWALwQEhV': 'kBqNbIUeIsVrlXgaSVYf', 'QohFdREMSHHEDtwNfXnK': 'iOYUeLMMbuFzKrePLOKZ', 'EDpdvvrCSSvzIiLSmtGg': 'YdnnmMcEmfJTzkISGNaF', 'XSWjNaDDQURgTbDGJLRj': 'uuIYLMlfHsXPcpaSOUNK', 'tMcwcmqAtGEWjQZNJAYm': 'nLqbuTxVsOfUvyrRjofN', 'boYmlwXrHtbTyRwodoNS': 'krotlvWGjDNOSNoEultK', 'TuMLSAeRLvibkQcbvAmC': 'ZNZWrBiDiCcNNggNFqAv', 'TGvvbvDuXHDQdGgbEOoR': 'fDOdBLzhUQVyUvqQjJcC', 'GRfApyHhdvyhsapyJIbC': 'FiNeTUXvfbUQKYveXFPZ', 'OghZGtnVfHaqJpsXvpfp': 'lwlVdgegBmBtTApzxpGJ', 'JyrxSGOkIiIYaiCsWrew': 'nNJElvsCvSnfmpfIAPEp', 'pgTrdtXweDTPelOCAErB': 'gWpmNFkzaVwweyAIyGZi', 'NQGCImAwisXFRiwNIhDT': 'gWMPyLFASXRfXjmeFYQl', 'clqiwfxeQfdqdsZcTwhz': 'uOOKopIDkLOrgSNnAoib', 'sOHtlhuRVnDkjpadSBxh': 'SfnFdwnaKuIrMFSLzZKE', 'VjRYNSjLBLUDMeKMVbJT': 'DSFZEjoqLJdgFxDgAcsk', 'iMLnaAFSwCIjuYKmDqFw': 'qtJbgUjUysiRsyfcABAZ', 'QOFYhALnqmtQFtLSmkHn': 'GuXoFcDnKWyeRcaMiMpO', 'GJWEqTiuRXVvUyYBxyAt': 'ebpSqHwDgghhwdrGqMoD', 'mlyIEagCcvVFFqYCgqGe': 'cUtlWAMfEfjKVFlowpsI', 'qheHvWxLZseovZIDCsHz': 'ckzOzLCmdIzibwNrgiZp', 'NccZKDpxPALZZYmTFHPk': 'SztpqUvHfwAbhvJbVEZO', 'rYtOVdvYRioWQEhHwdmJ': 'JhZmolBDcjYzTArUbUHK', 'pXNoEFNWQEkMcnmDWYMQ': 'MOJWOmZQsfKptDZYKoMd', 'yolntOmjehZPBiWedUMN': 'WwfjrPRndEBQRnsmsyhD', 'plfNZEwWFruFaXIMyRaZ': 'RkizWPzWIzfVATIYuHDP', 'SDtqsSbndnDNFqGLNPxd': 'bjZdMkkJpBSqkAaylORU', 'kVjtQOzYTowLSkgImCSv': 'lTIfLmxbgJOGRsqMjvOt', 'ciWkIBlAFaSAwljGzmCi': 'vHKuNGqSrUlBfPXVbpAQ', 'yHhuGWLEiTEJIbrggPVW': 'dSHgYIxzcVxDlxwgvZTN', 'iYHwGGAlQWpmsBOLCChm': 'dwVTwfcMzGyalCAAKNvE', 'WmeSbcTwIbLZnrhLgovo': 'YxyMtFRwuZuINccjWTiV', 'oQpurVQdLixnUmAbcnfn': 'zlPOQlShMTGLIKNJBCfn', 'aFziNvdoufBETKMTMVHf': 'rvTZeVFNGwdWSeRjEDvi', 'ewHrxRqSPkJJrbKZejHC': 'LlXrJHCbBKUnTFfgXdeb', 'NuZfKErGtaoKZgykfUtO': 'FMDttyPRuHpJKfDCwNQl', 'LIgzoFqJAMHazzLJoOpO': 'dzdtMtotxOjsNJswsMye', 'wsClghcHqBQgsjvwTQzZ': 'EhMCvJNmExXTTDkFGiGY', 'SpxUbRBkqQXSFQlpuuPN': 'GgDDFHjMIDrscvzuSsyQ', 'SLwVNPdAMEmrxHDfazJt': 'isoZzxkUoglXQXvDpKGe', 'ThRWMHtrRJqCzsiIYiXU': 'sRPTppOjRBvCBsvZnYzZ', 'tLcNVJjoBrziLvSEUemY': 'FoArovMxezYNFzrHbqEm', 'JDdayIFtSTyumiVDBSiR': 'pznXSnjkSBrgUrGzHHMY', 'REeoIHzaDVWxVSZBcOcg': 'cxWDtujlSaxMTkQNbfYw', 'dSkIMhxkaARCUUfOOXpU': 'CwCXGVPiQNHfAmYEZuMV', 'SFoIiPahMRoWZvwfPOnE': 'AzSQEVybySQIVmcuxRkS', 'BFxbwMMTOPStTHyIYTnM': 'lJGjGixFwJjyvOtNnxNg', 'PTghgDMEkshCJZuIirMX': 'XjykuzHgrYMKLAXymOZa', 'pTGbhmrWADJhhSgvaQoo': 'FaqAoojpjrOjOhzexbpY', 'VFUtrwonZJUHqPSCUMhJ': 'nYgVxTBNrHZwFsxsDegy', 'FtoZWyJjQkPqNvOkVkYh': 'MuGNxXGKytwQRucnSBqV', 'nrIUCdlvGsfJOVVbMZhz': 'oizFloxWzNViZfsVkzEY', 'WulVpjTmpGcAueMCNivJ': 'GLshGOsnzOmDwXPaPeKJ', 'PLFVuhPUziRXUbAIBBfP': 'HPVJPbWqBAwtavViUlAy', 'SztpqUvHfwAbhvJbVEZO': 'jVseiqqYkbUaXKQJFoqN', 'pWjqVoLgTEDawtHxZoLF': 'RmCLRFSeSnjLokbpXtDV', 'MyQUprVyQkWOvWBcEApC': 'KJzCaDJObiJQHYMzuYuC', 'JhMRjdViffIeNoxImAXV': 'gMzXYoOPQrKQXXNabJFz', 'wyjBGBmSEQtsOsQflPcf': 'JQyXcmxLcCbDaKHrBsbo', 'KVxrBjXBkkNnvELAdpuh': 'mSmQjsxxUqExZkKKBdsg', 'pGTCbFlMzMbkFMIIgbiW': 'zHiEdMafQemfAbvKQvWx', 'nFDCKAMHpeaNvkUurcIY': 'dPaYsWeOwYgUrjsKsSfM', 'AAhduABXrwoyjHvGWGtV': 'glULLSJkwokebanSxOyR', 'nnjUacFUArYlffrgzvMu': 'OlHdMugFXdGYTrRMSrMt', 'nizlCYWbpvSRYwneWdEn': 'mUWZQNvssbWgNCVGPFwI', 'DhTwpJrljhnPeQpNtLTZ': 'gyFDwKgGNkDVbNONAnmb', 'UdiLHPQzJxRqLxYDsMBG': 'QKPFsrcLTizmEvdgaQLJ', 'PLuXtciEFZiubPbTqgGL': 'fFbhFgNEsOsrrfMqGazA', 'bzZJzmkeQGNMOeioPYvp': 'NtyfctLiQLvwHXhMGHEK', 'xrYjWJjcrtEMChBqcfIt': 'vgJowgHUvLxsTNYkFkZc', 'fFzMrsvXCtwZijARlJrh': 'yiASGireWGqOiFTDXnEC', 'kclfToNjfHMuODXjMyWW': 'yHhuGWLEiTEJIbrggPVW', 'ZCagciMRiSkmnIyHmONi': 'xcQFKlHDUDPPCNjgzmjO', 'lXDQLPXCuBKYfvfldDfN': 'xMbdqHJAqfATLzoALcZK', 'hUSqPKDzsNLKSRAzTFnD': 'vFuyQkzxzJNvKWNLNlWP', 'RtkCFPnLQjKTCyvATnTT': 'komwHUGYiuhVsPExwDZu', 'vNRkLzIfcIHWdTHMMrFk': 'YdwccINLFYdpTzBKZTHC', 'PLhmwnfMbXtgKlgNWYqC': 'lOKzckRQxsWggXkjsOmH', 'HSdsFDKWYYAfmDIyrCOh': 'huxHoUnwPVwUAlibBSue', 'RIkxLphVNnGwDCGMfnop': 'ozWkZihKUrEyMqgdARvP', 'egoFhBZSgOLirNPRPxGh': 'LyuETBdagVTyFEPqkSNs', 'HyuWBJmMqKJVDbCwdxkC': 'HAtlsPkqeUdylUNDJILO', 'ymrVwCCZOqdbdmpiESOS': 'RzbsDIbxelRRxrdIZniI', 'wFRbHumWtVtmDsxmsZwU': 'dORJAgRyCsDsCuzDcjTb', 'KdSBLbIAXjulLEgQyrLc': 'xVIPykUCdtiKmcZQFkXb', 'hblULaFUZvGCMrNeKGNP': 'WPBsaftdVofHoKdKhYvx', 'KbuiCgSoTHkbgzlTEgvu': 'JbGvfdPcCmrvqfXjVGTp', 'rbkFztEzYEyyaNNSzzSF': 'LoBUzVCoyXOAiQnJuPLS', 'lGcyzdOznmNnrCxJUyoR': 'tNxWXBzuMECwfFOCQcWp', 'OJrmqwVKdPaarWqrZmrY': 'khFVBYCKMNwYPHGlrKxy', 'ofbAuhPxFqEctSSiBurC': 'czXthAmnHsnmTwOfdyZn', 'cGnpeUxxPqJOlFUJRwEz': 'LSBBwSBzUAGYsOQThjxh', 'lJUXypEbnRsrbjTQJYNj': 'IZmdIebBdezZaOjFAaJd', 'QYvpelzBBQjzwOxhADne': 'lUyVdBDqUVLzdKjvXivg', 'vZuGLtPdUKUSiHOIxFEC': 'EwWxzuHQMWoTjTOjoMRg', 'PqTDPmOmyMDhaRUVFDtc': 'MGCnxRJNObxeEOUHDmnr', 'joxVxLBswHdelhaAggYm': 'kmjpdMzMpCOjvlxCRezs', 'rvsQgvCgURSEICVCmbVX': 'YshhXbBubQkUFDuqzfaZ', 'WTLgUxPLdbVUXcdLsbiL': 'OwnzVJEFUiXDTpQqNDDs', 'eCHMuAsqVwNgqnWPqzTf': 'trJjXnIbDYdjXNZWJyPm', 'bdmECEJRVvlDSJkZGHeW': 'kFhJCFVzImqzkImHqQUW', 'RkuyZYkKwrZdtZiikfmn': 'jwEPAtKkbPSkKYNZwAGG', 'dXJWdevqScCEAdUaZcBj': 'lZgGUrXAWNhHKypyneMs', 'PIxKzfFvapEvjhUrMTHi': 'OPtmcMAxkuMkdxLNSPRv', 'JHhrNRDejFSwxevPwzPz': 'oLHDfzUBpQpzrWiaeNLu', 'ZNZWrBiDiCcNNggNFqAv': 'iKOOUVhtZgMjXQvNPRyh', 'WNSgFzKdHBrNbAUMIQgk': 'NGIGDRsVtHTcJRDqNuBO', 'sziPayfIwqPUcUVynMpM': 'ymtZudDEAWMkYBjkUMZM', 'PhoiXMjrPmNiYZTbVDvH': 'mmggBStPHfAwDMoDxTLk', 'dwYWfUvwBakiGFKOYEZb': 'kxySXlAgsMGiAAiQYtay', 'MjYUAlpiGxXWmxbvNvZm': 'vkPlIQmWjgDhrBcVPIPG', 'tcDNflGxrbhtobiCHTmU': 'kGAtfKatqdxOyuRFWGAL', 'FBSqwoEMlLeEzgnJRWAR': 'yvccZSNXjRtUhBMyCerV', 'WKteKGmzSUbwsrWaqROj': 'HeVFcxziwETvECSGlzrh', 'GOGacoQkArvQsZAnqLjN': 'lskfrHyEGthUtBVaBsNa', 'pjwDKFMVWoTEalfJSNrK': 'ROsaptWhQoRDIdtuUXmy', 'rCiViiJxZimEruMjWGmD': 'oYaVxJKunQfVcNyiaFuQ', 'cJDMVpNkcMgjREOjXoEs': 'nnjUacFUArYlffrgzvMu', 'DnwNJsDaKeGhKJauAfRs': 'xSxrffdcjCnxlxSCdNAp', 'DYOcvqDoKOywHBOMwtQc': 'LTyEqWrERzTicjukGRfr', 'DrmWGBhfizgRskJhpjgm': 'ELTilVDterVbXOsjHiHO', 'VuqrDNJUbbrqZYXCYoUa': 'DTYwyaEUQtUriVCehSYl', 'kpxiqvrAiLTNNjezByqs': 'GtCBTtQikMFwzAmElUMj', 'qFujFsYCjIfQHqXwyCmq': 'tMciBEqCGdjnGYuWNlsd', 'DbSxjXXBBcBMCqQgBQhQ': 'SouBghXZiXPikMqeqfzP', 'vkyVvJedndeCZjTRqoXM': 'QbtGoQLzJmorSTMxSggw', 'fSESYdgtMdRAZFzvEZQj': 'RCFnpmyPBbtFUgmBNyIp', 'GnlokABwjOmrIiNnrNQE': 'BoEshVnJSbhXqnawlCcB', 'GQKvCHJwfYJdNhdUUYAb': 'RkbgWLIswDdbWMvSjpmj', 'FAKOKXfNofedRcrIvyyA': 'lMQEEbftxilsiDYEvvvV', 'DQTuZXiinCSfhZRhnUPH': 'OqjxUblOoEWPSXhTXenN', 'yGxFRlphQjqKksLkUXRz': 'QqoachDaXJLfBDAxMnAe', 'RkhoHrHKjmxqUWOPCJla': 'WvoqOjbFItESoJyvxgdo', 'ivfvhwqHwUHAxmQtxMUP': 'TCxQmikOUbMrOSacWyKT', 'XRzWXMTbdtBzXaSXKnIc': 'hCfEUZwQNDmKtRmoKHRw', 'tGWqyUoaBbspRQBTfbIK': 'jgEPKbcpvfCdWPRVuTiH', 'oSEwQvuXtXMAHibtoOdV': 'cPYOdXselkakAyLUFUmt', 'ooMOJiivFzskhBHazFKJ': 'CUoJvxfNzaGSnQXeCoDX', 'FutVXHcNQMrvCujRJYfV': 'SOrKFSjZNerjzJJfLzms', 'gzAvGDhSqqGVMPZeexaD': 'OfiFcWMdEuFpZItdPByE', 'fwZXLTCXUsbYUutPkmfA': 'WZQMUIfpGJOuUmIurbsJ', 'qvTsgJLyRdyruCGTpCTJ': 'cqOYRFDkmCIEkRbarmpQ', 'hCfEUZwQNDmKtRmoKHRw': 'fGXJXSoekeOGtmonRAGn', 'lnJqISetXpZkSsMHLvVE': 'YQtLmOXCwKzDbmFVyqqF', 'kxySXlAgsMGiAAiQYtay': 'rbkFztEzYEyyaNNSzzSF', 'dNqwtEaKBosYQhveuDxs': 'lHVUQEQSBnyeZcPfSxZD', 'KbkCnjDkOTbRaeoXNfHG': 'mkBwvNjQbZxdlsquzvXf', 'NinfjakRfRXllYFECjlk': 'tsMlEXyYVHIkFiEmgrAw', 'ImnVUKyikevYKwJNIjPT': 'ZLewfbIRpzMQsIOpAEtl', 'ZsllnAXmdYPQuibyWpyW': 'dYgNZZsQRqQudzNDEdVv', 'OwuSdGgiPkXhgklVwCbi': 'tsPFRYpPopXGzMeYAiGb', 'GJQVoKaUtrXSfFEaqEfv': 'SmXOhjsGQeazYdEhvGDH', 'uomJEaUZkvZogyzESMhv': 'gnRwWngKuXhhERnGyOWq', 'oxyRHnVDjhXGowXeXdDr': 'HtTymjJoLaePZhOvDGpi', 'xRvUttPOxfDivHDLyaPf': 'UHKXRUhElBUvuwLdmrEd', 'MrtExYVJrTcLXoDrIaoI': 'NMDVFauOyNiDzCMpgxIk', 'dJQvNSDSVNkrPFYNTPKm': 'wHTbZXILruUNuHjTVSFf', 'UFXAFBAmIJWPwkpGUuWg': 'XoWzlLvGmkwLfeROcvry', 'LMKrFDnwNGDkZXoIYqOd': 'acjPTRPRNOgDsshXQBYq', 'XunIltxBUSUEVZWkBuXh': 'ywcbPuPsOQmLMaMPZRay', 'rOhkgIMoiPxOGBodEorG': 'pmVFqsEEOIXWkuVtbGKC', 'fWIKEsfJkcfNDCAEigil': 'GvojgWUzdqaKXiajoAoz', 'HtTymjJoLaePZhOvDGpi': 'lyuXsfWKUWuaLVMrTkcG', 'CzIQGJvuvYEhqKOknsXZ': 'GQKvCHJwfYJdNhdUUYAb', 'gikYcCIHzFBfryRhQyOU': 'oLZWLJXHKOIAbYkUPXUg', 'VHsCjOizTGTHNArxIOuN': 'LdQUcUfxJOtOFKjcQntL', 'GDMUKoXaNAywqgQAIFiG': 'joXrzjFXZtrSHwyEvhJH', 'ZZhVGDugMofUdUstFTTn': 'xntEenjIXdoaCeOZVbSB', 'lIDRghjzoNpTJkSZuGNV': 'pWWccsIYTfBMFSktphPT', 'fQLYgeCNFRfOlwGkspuv': 'BWJeocymHdtaysHSGUye', 'pWNPtUakAXEilKVQXPNU': 'wvacYObntPqraTnsSOts', 'AkkOIBxRMVVAmJTequfR': 'VsQegwUFwvtOZUvbQNAI', 'YshhXbBubQkUFDuqzfaZ': 'lWKvNxgYKzJpzGbuLcSX', 'MRFntOvWuxZuiLyiskcu': 'gwNIlFrqtRaYnIZyDYcB', 'SeYOvvGMPpLdkMrXhzHP': 'eRQLhACyNVwFoBNywmOr', 'FyKwrWqaOGnFMUYMiZnS': 'fwZXLTCXUsbYUutPkmfA', 'iCldesEZSGzVolywJbIN': 'IPthTrRKVTbGsroBEdrZ', 'irBODJgXRlLpifLEmWGL': 'VnGevzggeqrHyzKVcpit', 'ogQDtqPZMdlKrySXFiql': 'gqYfkExouUaIhkZTrhPy', 'CoDxYIMkGNtXdHFbvpWv': 'RkhoHrHKjmxqUWOPCJla', 'DMITSpILElIRWZAXsmyZ': 'VJOfOQGvZeHjZhUTdvyE', 'JVsZctQYKwVamScyQwYa': 'oiTsKJLaLmCxYATHCJOw', 'fFbhFgNEsOsrrfMqGazA': 'POBfloYjeMhEEGIyhPww', 'jfiiSLHTIYvHRQJelGGD': 'tlAnaxRxFWMbXJllXerz', 'mYPAwQRllTpdFTpqDQDQ': 'PKzeIGPptBXCiMoBPbQm', 'BWJeocymHdtaysHSGUye': 'EAfajLbWiFOxDssPedxa', 'quMSwwCFTlNCPRtcXUsO': 'tePBNfPljvQXrsTXiSzn', 'VgAOzkzhDVraYOrtAlgX': 'thCIcKTiTMhoFKYkCear', 'kZtNBrGEYXVnQIGHatGR': 'IEVpNpqShbwKGGEUELjF', 'wXSHHhJUGYaMrbgMUtUj': 'xOvZNEpDctSyzrMjFdCa', 'oPHLkKFwbkyweRsQaWuL': 'DswsjLNCsRIEETBnXWFT', 'xRQqdZdQKTQuqgBoXhux': 'emvicdPfeaGlNvphcuzH', 'inikDaVaUPokdSYShCml': 'EnWkvxUxLHYMwwqDvOIY', 'jVseiqqYkbUaXKQJFoqN': 'DIjbSasuXPUUOmVpoXOm', 'siLrTeVLTMwxXkgGCvSI': 'czcFIipPniGYfdldiZhT', 'QLIHrMAtGcWiQToGBVkO': 'rkeVDdVeqFCGXiSSuceR', 'vRSGarrLtXRyJEenapkC': 'KoqBxHiBvyhOFygqvYXT', 'hCmBFHhgHMpoBfbmgGed': 'juElwVBmiXJdNjTEBoWy', 'rtonfkIrNIoXCIBXMLud': 'EtrrCFIWDqoMDmLevzAW', 'ixvKzTQGuSJJTfBloZkV': 'NiPdJZQkaFNeJABUZHEn', 'UmKgIzvggaMnLwoqIKkh': 'QOSDgcnDrPLeksfGhKpz', 'RmCLRFSeSnjLokbpXtDV': 'EhQXUqDgWLpTjHRyhQsV', 'XQSDJeehFjNhJtuDUHce': 'gtJhalYFnDxBGUvrfcXt', 'SapdpcYWLtrzLqXSdmmM': 'lyiuLIEiDljPNSsClyCc', 'UlDMTMinwlICNIhmJsZt': 'FbgUdJyurpLfWGwGbwGM', 'ckzOzLCmdIzibwNrgiZp': 'yysRfGMWJqjSnLqXHVEU', 'nTaMnTxKzGUSLdZurwgf': 'QDNpfKSVjQbMxRDFiTOm', 'esuvPuMLsGkQyIEBLyav': 'JCuZUKNSpLjDrzYHUyYJ', 'XPLIaqAbiBJdTHjjcQhG': 'SJAzNqvhILEDaERbMIWP', 'miJoXlaHBEexNhiVsWzk': 'XagoIJsvSIyjeuSSfWQB', 'VjlbKZOvkFWjqjjETvnQ': 'uXnIDuvFiYPMAsxSCuNG', 'ylgfgHDmJJZhVvYtQJaB': 'UlDMTMinwlICNIhmJsZt', 'xUjGgVDrxeqigLJRbDPO': 'QoUFGIWMdHOCviNJXMFr', 'RqzQpWqrbwNNfSWSWYtv': 'velxkxFSaqGTwQNakTWO', 'GvYzBshdjGjefDOoVKQx': 'rNCWHCcXMtFtNxRNzOzZ', 'kDlcfrJuWYoyIpErNuDM': 'ttmRpiTKLfDeEoevziEq', 'kTpDINsYmWFKLgUmAaKj': 'KtsWzwgCqUgOpUCCmErT', 'mCzjUURfHCkGFpscnbRZ': 'pQqKwfnAONYkynRxHGfS', 'DopSusIbGqTdfiVMkCDa': 'yRnSMUlAnusabPrIwONc', 'OOGBZGXKlhuAFbZMYUJq': 'QcGWZsCPIQMBFXVnHhJG', 'VADdfzOEvslIEFPpXNYN': 'PbOKQBdnCnrwrbMrYzFz', 'GLshGOsnzOmDwXPaPeKJ': 'TeLTXIOQISCPzVHyxFZn', 'QlIJOtWrtRnwzhBQZGnE': 'YUGFoSKhnlcbfnzfqehh', 'lyiuLIEiDljPNSsClyCc': 'zvoybnGjWrZYDbmAqLtw', 'ZesjFtykgZKeTgEZsXZj': 'SpxUbRBkqQXSFQlpuuPN', 'qzRdZPdmDYMkhreeeJaJ': 'BaGHAznyMWlXXtcdMpMa', 'MHHcTaudgnRSZCpHIBtI': 'pkpNodSmJYEjSmXlqQHR', 'JWQAqZxOZjLFAhVLPjAz': 'QUaaqEbYMlTwNtAywrbE', 'boQoAbGAVnrNtkSTgPvX': 'poGGONrmIjMtOegULDvW', 'ViotrkxNHPIYDyPRwwnt': 'BKnlzCQZdxJgorZjtMXv', 'LDsEbDPLhamkvpjpKMPF': 'EDpdvvrCSSvzIiLSmtGg', 'iEoaHUobCzQRDyYUzkFw': 'uqVWNYQIGhKGvEixbAiR', 'SMObwALshlWudSUDFcpv': 'SCzTytWbQhbIaFfeCOjv', 'RsChVmOcewTPyyzpHBUx': 'rzkfRDMZVjODaywulmkZ', 'NmPFTiHohnVtrBaXdsOi': 'iYuiisOBHBAdFuRZsjOM', 'TsQqYaYUnWucdjYaprZE': 'VEZNfPJXSsNyJSDdeBMD', 'MtrXAPWRYhgozTouZwCp': 'bbPxCqIMBjNvpvfoEDzV', 'HpKnjHOAEIIYgtxFEgsF': 'FEshgVDTdHwUAlceJDhj', 'BqrVhIALXgCZGbxrkpSk': 'KljfHfOPwDuZfPRQjzaG', 'xybHkgAqCvVNOZISKFoV': 'uvexGsxkakpVYdKWQWSL', 'lmorltQgfdHVXNuexLkc': 'PaLHoEsmVQmBEcEGQxzg', 'fuSHWRAWkZYoAHuxgwHK': 'MtrXAPWRYhgozTouZwCp', 'bZFjfHfeYwyQOjfeWuEn': 'AAwceDKAjDkjGDpgFcfl', 'RezXBisIPUombhTRoAfg': 'DKSfaxoTqPuUWpSlhQwl', 'TuETRbddBRCXFdVNGfoh': 'vzatjIYQHgOYglgETMjk', 'SIRdmPlShLNAZTWeACTM': 'uTssGNhNpurugWydvvxc', 'qssPIVEWbQgWwUIkhUMz': 'QVwdgxHMNoMiKwzMxSnm', 'BITUZWEsKxAQBuOgWpxB': 'dQJKXUTqIJPVBkYFlQlb', 'qYBjMxYGAioHhHfMNeSt': 'GfCvTHuubwaHxBeHpwID', 'EAmAvNDJiEvukyCUXeub': 'HCyMfqnhyrQsqKpKolHe', 'tCOPWkcFVzbOvpFWQsHy': 'qkVBMMmalvxbGAliiRfn', 'oLZWLJXHKOIAbYkUPXUg': 'pUBuZSvkpUAVhWRwswJe', 'KhJnhBQRTcLnJilQgHIt': 'aWzpxugsUNphnqixDsGV', 'ZLRJrNGBFzEDiUbambyP': 'RsChVmOcewTPyyzpHBUx', 'zPDUVgQgxwvECQyvEZfs': 'XAGQQlOTpnvXeXlpQjxg', 'lVWnuIVaGiybdouGIngf': 'xcTDUDkkdMjvZCTZWbUs', 'huxHoUnwPVwUAlibBSue': 'vRSGarrLtXRyJEenapkC', 'oeJIpjXpAFgOHiLGkJqP': 'JWbxQODmkTvIpiXInHwu', 'laZouGDqxHMHlmhPVGAj': 'hZhVIINVZunYUxKPKYqq', 'WkFXTJDoWTBkIybeqwkc': 'ZXXZaJBCxNvOmblkPigG', 'RAqEBVsJeZepdSHaYCcG': 'HKAaTPeUbYvDVGCawxgy', 'vlnCMiWbhZOrbQzKVlOG': 'GJQVoKaUtrXSfFEaqEfv', 'QcGWZsCPIQMBFXVnHhJG': 'ySEcqhBmyrvyeYEDVYHb', 'SouBghXZiXPikMqeqfzP': 'OgoqXWzjlwJZRrUCIKrS', 'oVOBdWTUBcRQGuGfaUzR': 'NpoNBSmYHiwhxOvrfZfd', 'GgXYbbjbpdduJouPIeso': 'bmKJkFvCpozwcqyQnivh', 'rKUHoQNrUEOMMiUDergE': 'mzIhvOQiqrvkTOCtpqfz', 'NpHckJZzNyKsRJtZJsxB': 'GGkhOfsdxdSamQdfpYJZ', 'RHIHjRSZsoZTZXxSmTZN': 'iqHOiYtotmmbNAGisKVk', 'nIuHXYrTeyXvyIonndbe': 'MUefnaFitzeHjyomYrIj', 'RmjrQyQBFYoqJFIGvqRJ': 'CpDdKSUnFtWVWvIuPaof', 'fdpwrmMSyFkQExhUcbBO': 'IomcVNUuIHwwtHvrxIxQ', 'WVzAgbPBWcFaDctgeqsI': 'gZlZVEowWgUUxIkWmguD', 'PRrRgScIswbQmYXIjAWT': 'cEGefvtbyDnkDWGNtTQQ', 'cqOYRFDkmCIEkRbarmpQ': 'GMSYRKQOEyTkArwVgqhP', 'MJIpQQPtPFeFHqBuVTgT': 'xvWDuIEPCRdMjWwuIELI', 'wqCdOqVYuvfEUlrVTXkD': 'iyOhEgZbAKvyXcrXGeEi', 'YtFsEFnWnXStXYrFyeMI': 'ALPIpcQngnipqVxIObzc', 'gXGFeazEuyKOrdFibsvC': 'DClZpLBSfLbSmaPEqqDo', 'ZSefQfMrTWPTJuPdKood': 'UfKsueqjAZwTLWZbqNhQ', 'OKGKSLfoGFBMaEqJwIaZ': 'QHCWtsthDFMZIaFNWhCQ', 'fDOdBLzhUQVyUvqQjJcC': 'nTaMnTxKzGUSLdZurwgf', 'velxkxFSaqGTwQNakTWO': 'qFpDhvsAoxuwOFXScWNx', 'qWnWkmKlOAXRHBacJyxo': 'FcFvZdRsgriWlpGbPspY', 'hYOaLCVtAZvpLoNNCpdl': 'nTJZxPvfhrhxhdbZXudU', 'MuGNxXGKytwQRucnSBqV': 'gRzyltDguDDiMoWARzzB', 'TUWsiWBICpFZKUJqxTiU': 'IbSLfzKKyVBmZnREjsmg', 'cnFsuvmyhztZDoYbPJSK': 'cSgGTpwnPDFrBYCxPnoO', 'HLSmScwJXHzdbkxzppbK': 'KQzphLSTNskNAITInLcN', 'ROsaptWhQoRDIdtuUXmy': 'bqlAmIwITfaGBTjAzBdA', 'GtSeNneFAenoGilXcbkZ': 'HhuByphfohXNBoRhzppE', 'kxRUTZMEvhVBwnisNvAc': 'qAEWkWmDcyXkwsNpjbmF', 'rNCWHCcXMtFtNxRNzOzZ': 'OKOMeavrRSDJHMxXzfyC', 'PwZPIXPaqsRurJYEFflt': 'aCIIiklkrEewLBdgzzPn', 'FlSbtYVTxDoTFgEaTKVo': 'aecnNcbMGYYCGXdSbXfE', 'gWpmNFkzaVwweyAIyGZi': 'nLijByQJkOaqdKwPRxsH', 'ifUDMmJXWxcyswwPfGeo': 'rvJJirViFnrOdltxXHyz', 'uqVWNYQIGhKGvEixbAiR': 'HDInTLXHJACmkDBufZCQ', 'wIXpfbXNwQZeJUuDdmfi': 'VgAOzkzhDVraYOrtAlgX', 'VZZirjRqLffgBfsMEkBL': 'pdLGVwwavdzEhQjUCXdR', 'jThSlqSzrzYAAdHytMWC': 'nizlCYWbpvSRYwneWdEn', 'VabhnYLWmBlPSTGYPfKy': 'JkiPVMLqZwrTBpdnduYM', 'MTtqmojRZmJGZBhVikZl': 'wufwhjJyIyTYWRiPJteL', 'pRyUwuctoVpnAbsEyatq': 'ZlDvFjRXyEQrodNEjhsK', 'qyADSQvDYENrHxjWjCkg': 'YtFsEFnWnXStXYrFyeMI', 'camPkPAiTUpZqUCuGTuw': 'GbqYQXBqdSgDqeFHqjbB', 'LIGCpxsbVapzMomLCEWY': 'HPChQJCtEyIphSKYyXHH', 'YnalRzjTWswPDxgQnNWB': 'BkPzlcJnvoJvfJWHbQSL', 'aPQlSqwTZxryEbGiOEKr': 'jgGlwAPFhfPINUnxpivb', 'ziDbbssihThHYMibiiov': 'lfCDJQttnlvsRzKZhzkO', 'mdErAmbKgWHzXASOkYTZ': 'sSNkJLPvStifhiLMCXwo', 'icKjVtUnJslWNUDlozKg': 'UMgvVTzeKxDzQgBXWxgS', 'DrwkmECKTOnkWPYcHSsi': 'tMcwcmqAtGEWjQZNJAYm', 'VHDmWeyQTzuUJrtFbYyJ': 'VwXGOyJNnctPUyngoCWZ', 'lUhqwjUkTaiiGCRDcMaT': 'djISFzFYZIKVGeUzGOjT', 'yriIaycuhENVLWNprCPM': 'sSwXLQjBWMuuifhcZpWt', 'JUuzcwRzSMtfMzclEink': 'wqCdOqVYuvfEUlrVTXkD', 'oxerYgSIQzMkTykFViYl': 'iVFfQSqolWbwXuPNurFg', 'KtZDsKEEPKdwGCHLhBRT': 'PDvAWbUknwKCMkuCSELs', 'QoUFGIWMdHOCviNJXMFr': 'TOETNhzwoUFqQRVtObfb', 'fMEyMBxGVssliSREYkvN': 'aeblrhElLwhXxtuImSjl', 'YdwccINLFYdpTzBKZTHC': 'lJUXypEbnRsrbjTQJYNj', 'wdcWCOBQdCeUkwXhRuMq': 'nxnhuJjcXhrJavuOsyws', 'lIrGCEDzUSVSHIGxMqme': 'BqRwIUrtHPEYLLESwqfc', 'uajupuCRKQPQoOfcxEVX': 'CTqsOXabXQDsvWvupYeY', 'fbUjmaQdNlsJnHKiNXwN': 'pjwDKFMVWoTEalfJSNrK', 'rzkfRDMZVjODaywulmkZ': 'tlAOaPAqpCBkAaSjGlYk', 'vUvkIldpCOhYzfKDACtt': 'awVXeMNHRDghfJwzHKyM', 'TkzKTXUfgKqskAjhYnuX': 'KoMEplWASXIJfcQajHts', 'ZXXZaJBCxNvOmblkPigG': 'UPPjiltXrJvDAgFHMZbK', 'WrHMvHhcYrfrbgxTdLQc': 'cZXOWhhijAJMvnsKFjKV', 'yAXeDqJDDLMjhnYXQUQu': 'EFbaFIbHKaLrgRDiIyQz', 'FdiFsrZphCkrUHiDYJAo': 'MJjSXeNocrHMSHpGToPs', 'BsnOLDeERciSgQYvGAVI': 'xxHqtAskRRzVUgqMRour', 'yImwIkudJdWaFwuyQUPb': 'RMzJYBbtamuJVbgYzdUN', 'lQOsyINtCWiulNVfImiq': 'qdzYkHIubAyxJxIaSNmg', 'ZdTavzFJdvGCUrTUIbrw': 'NqGbdnNminDiKeBORpvH', 'HbFnDptWOnCgdQfldtQZ': 'ZZwCrPpBdvOrWkcktyTz', 'ZiGoGxjBclkGsAqqpGEq': 'REeoIHzaDVWxVSZBcOcg', 'mkBwvNjQbZxdlsquzvXf': 'ucRKuJsOsCmbrSKmMYOe', 'cgTvcOIJUSkcGnNnLjfp': 'PTghgDMEkshCJZuIirMX', 'WImLMVEpqrBFLsRukbIP': 'pAzTmtympLHlzoESLhuG', 'nkCKLRfgvdtqDoKvzyfH': 'rqytTEzrCYtoAtmIqCGy', 'ssCjNVOILtiRNSasgetT': 'AJvYOMCyGvnnpBlcQCce', 'swWbFwYfZZAVadEBxMXt': 'wfTcrPaDEnLDisWtzrMQ', 'hNfmTTFCQaTvbSbHBhqS': 'DhTwpJrljhnPeQpNtLTZ', 'WtYrFuUsvJIXiIKcMrpI': 'vRhswqRlLqQLxrqZCsIF', 'JqXMaxhxsNRlxztQNnZj': 'GJWEqTiuRXVvUyYBxyAt', 'kFhJCFVzImqzkImHqQUW': 'HbFnDptWOnCgdQfldtQZ', 'GPuwpZrFdhHLDbLNCBKa': 'QlIJOtWrtRnwzhBQZGnE', 'lxhMySSyksvPeVfhZmHk': 'lPRdqdixJSHdBaXxoUDh', 'yUDUsLhmNKHwTVMQWynV': 'DggvtsIuYKZDCqdyhkVt', 'uNwCjTeqwtDsNJSmQzLY': 'ZqiQBxmGygYqnXoukmuO', 'dqGECZOertejymrEjiKb': 'XSqOenvjKBbstnBnrpTz', 'NiCykglHTeJGteaIALNN': 'xQkbqSUNjlcqaSLwUPhi', 'DzgIRvoOkHUfKjUoMUbj': 'pQhjwvChVFmGokydnsvd', 'bvJvVnQKWMLPELxSSTZw': 'LIGCpxsbVapzMomLCEWY', 'kQoypwXTTJfqNuHqwkMT': 'xUjGgVDrxeqigLJRbDPO', 'AADsvHRhdMPQlDSLSCtN': 'xsFxUTlNnIsyEzmYjPcp', 'zfMYIUujkDxaFQDWXYMq': 'ryheasuwtZDVYSWXoGyo', 'QOSDgcnDrPLeksfGhKpz': 'ziDbbssihThHYMibiiov', 'GtCBTtQikMFwzAmElUMj': 'qUdIlfEClguGltJSUNby', 'HEHMuGCQtVceafBMwyzj': 'yZmCUDNaswTdVYZIQuKE', 'OrpqvkvniDXuVBTMdyoO': 'oZmjwJqfCXvSzxbTDScO', 'TnutQqwoHQBgNzFyharQ': 'ILGdkfKyKxGbBIMSBrCk', 'JfSqlduqhYJxPogqMaMm': 'aPOGsADXvwHtNxaXDRfE', 'WtJNRkfobxVJoKBgMmhE': 'GvYzBshdjGjefDOoVKQx', 'CWYwXapeLjDzPLQkluUO': 'LMKrFDnwNGDkZXoIYqOd', 'LRQMEUgXyKaLWWgrVumc': 'XedgpEYsthJRnyPoEtVG', 'GsDBblZpntqOIjrofOOS': 'clqiwfxeQfdqdsZcTwhz', 'aUwURfzDITHfPklPFTWv': 'fqfFKmxzYgHTCPTZdJuh', 'KliZJpreqixCpUaLlvtZ': 'vCVAUwfBMFaRVLqLInkV', 'lUbJjMhCMRASRgvNbJQq': 'WkFXTJDoWTBkIybeqwkc', 'GJzpngGkNnegIdlHbufr': 'fMEyMBxGVssliSREYkvN', 'mlsHxxumckVxXspLhjzd': 'WNSgFzKdHBrNbAUMIQgk', 'VkmjCMBjpTQXtiIeZoTD': 'aEDcnvRJAQnBfFnEKxwn', 'LsHCoaCioLJMMkoFTlsM': 'pbwiKJHfrMNGspEyFweZ', 'hgqBftyeUmISKsLGPYsq': 'OsbByveoXsvZgHbQpZUW', 'ezXiSSixUISFdaqODLml': 'dSkIMhxkaARCUUfOOXpU', 'MpTwjqEolNCiIYOVGIaq': 'OFfmaEMUZueogILPfHJV', 'EhMCvJNmExXTTDkFGiGY': 'xZHKtiAOUGbjjHXgGUep', 'uKuWvMxNnJUguVietwHV': 'jfiiSLHTIYvHRQJelGGD', 'PbOKQBdnCnrwrbMrYzFz': 'RllwdfcWimiHcpZiwJhp', 'twcpkEGuRxCZQseuuetH': 'lSAAIcHVmJteiKDdXgXL', 'lMQEEbftxilsiDYEvvvV': 'DPbOofHUKdfOlbZzteyg', 'vgJowgHUvLxsTNYkFkZc': 'KhJnhBQRTcLnJilQgHIt', 'aWbjegIESbCPPKfisENG': 'rJDrlFBZgHGFHQNMPBet', 'RNlXUnJqxEnOJcTXkjQQ': 'fbCafwgSVbONmjlEdfRe', 'MGCnxRJNObxeEOUHDmnr': 'fiPWfFKpoJWlnTHuZzBT', 'SJAzNqvhILEDaERbMIWP': 'saATlQKGAyFyqRajeIOv', 'ICdPVfcIoBslLAydSzWv': 'bJgZYOBpmbDmTYmzHksJ', 'DJwwOsaIMTZnZAjXFRLU': 'TVWHIVgSdlPEiKDXGWRv', 'aHYHSNwbHwOrOwAdUlMH': 'fuSHWRAWkZYoAHuxgwHK', 'awVXeMNHRDghfJwzHKyM': 'kYPWTPKYuFyqhLEOTDnJ', 'NanpXUdhzwhTKBfKhVgd': 'GJzpngGkNnegIdlHbufr', 'vfzdgxzglEoMhocEbVyI': 'cGnpeUxxPqJOlFUJRwEz', 'LRUnNWVmkYmsHZbMPrbM': 'oooFEgZxiiRSDzXOHZxF', 'gtJhalYFnDxBGUvrfcXt': 'OiUHCFqefXFqGqbWvBVw', 'cZXOWhhijAJMvnsKFjKV': 'VHDmWeyQTzuUJrtFbYyJ', 'IVsxypkrzgsSWRlDnAzB': 'kZSSkRTwBNOQnaTsHMKa', 'lfCDJQttnlvsRzKZhzkO': 'CuDEGkkFRlLFqFzSScdR', 'VquZrFTUpTCKquTOMNfW': 'tinxXebozbuqUNaUNYRM', 'gxrWChhHXsjVQADRjmfK': 'wIiueFaoeCQsYJhYLBWz', 'YAHgWLwoUHeeDiaxNDWs': 'fSESYdgtMdRAZFzvEZQj', 'WHQGOrBSteuxtyobNtdE': 'IEVpNpqShbwKGGEUELjF', 'OsbByveoXsvZgHbQpZUW': 'YkQgQTAuXZQyDKybnDoj', 'FttCNPSaJgvdPyTblVgo': 'fQXSrOYFjtpIAKjxCrSj', 'ZZRjUOyJWtjLgvxzQFeV': 'BITUZWEsKxAQBuOgWpxB', 'eJegjHfVYCuHYHvPnGwi': 'lqkKDOqrObKGwUXxFwSD', 'TUBLgwZSOGEVKzPANadB': 'oeXKrdrHuGkWhWVVqFAQ', 'RRWLKxAOcCCsSVYsJTnc': 'iuLGQFWoLHeAfxoXlnob', 'QjoHLqnWWobDQkoTdyli': 'HJSmfcLzvXMBEMwNUshP', 'sSwXLQjBWMuuifhcZpWt': 'vCAOIUwAxpluqYEciZmM', 'NqGbdnNminDiKeBORpvH': 'MyQUprVyQkWOvWBcEApC', 'xVyEGBCYSJtIyFzjuaqE': 'PLINjhPIOjVEIEvupRUb', 'lFHDVdVSdiuztQNoxrmb': 'kuEezbJqFTGZgKdBIpxc', 'DqKwAXGyHXJDtZHahtEs': 'SdzmCauJDDqNKusaFCbn', 'QKPFsrcLTizmEvdgaQLJ': 'BObufPsusIhIEwLbnxrR', 'JkImOzSuboauUOssNJuv': 'xMQzQpPCFFCiiTEetbeU', 'tgOhRTtGdKfuwuKlDFZa': 'FQnzXKUmJVtPByvyCYrA', 'LSBBwSBzUAGYsOQThjxh': 'CcOGetolJXZPtJSbDdLb', 'tNxWXBzuMECwfFOCQcWp': 'HEHMuGCQtVceafBMwyzj', 'tqtlArPJlimBPuZQEVVx': 'ksmmBMtllOZIZDrxeZem', 'bxpZScRskGoDUVqVvAXH': 'YBdtQqphaDIuWMVSagnO', 'gLdpEwJMLmQPhAWhYfXp': 'herMiLAhnDcfjWMIzkaV', 'ZlDvFjRXyEQrodNEjhsK': 'LTSEPmwNNjpqrsTHIylp', 'mzeLGlBRjrFBJxMkZKmr': 'xTuBQDyDFDbQrhAzpFFy', 'NMDVFauOyNiDzCMpgxIk': 'IBQarCsbZhJDbtMSrApm', 'lMHeubwUqMYxsSbqnoij': 'KVxrBjXBkkNnvELAdpuh', 'CpDdKSUnFtWVWvIuPaof': 'ogQDtqPZMdlKrySXFiql', 'nTLMOLyBKpSZQpPWDFWG': 'giFwKpSyJoaxjSUCZlIT', 'iYuiisOBHBAdFuRZsjOM': 'jauTElXXpTkQqIYxjvbt', 'DxpsFUJGFjaDcopFrTAc': 'ZWzHeYcwUJNKTRkteryn', 'CTqsOXabXQDsvWvupYeY': 'ZRtMdHapeDxquNjwyjlS', 'uRrXDtHVPjmmWNqwCuQa': 'ogrIPawDWagCyWlJqsBj', 'lidvobMqfnidLGEAAiRM': 'FXSteYDxLmBwIEZDCpXg', 'EtHNbMsAxzSoKipgkCnw': 'kcwBQsjQaAwefqPHpIwB', 'PWwlemZiNizJVPuOLDwk': 'kLLpZEMkEiVzGAwpxSWf', 'NVlSmUCrAHVUvjqJgOeP': 'sKsDnThxHDWEDbQWRKgc', 'pWWccsIYTfBMFSktphPT': 'mYPAwQRllTpdFTpqDQDQ', 'AySypHGCXzWPBgwkDEuj': 'VeOhbuSZQgQaxYgaJCnz', 'mxiuctbRkJnOUedLmfon': 'lqPkZWdoJCbhiHTknGZJ', 'jeDGQlLicvFEUWjZoIiQ': 'dosPBKYJcxSQgViRoqpq', 'lBlCuIBqMxWWPcinKacy': 'thLNjsIRSazNandESJsN', 'nUoOZstxszBlCNuaTvbq': 'XKiJNQuwyepzmvXrKIGU', 'fYWOMLYiDpDCaGiyvstr': 'EWqlmxAcWGNWqLlIguLF', 'juElwVBmiXJdNjTEBoWy': 'ovKjaVedEStuINUedovv', 'zLXNAgpnCdIZeauWFrqZ': 'LIgzoFqJAMHazzLJoOpO', 'DfVFsxUKwSuhyNoWcVBk': 'PaNHXgylUCSwKEQjeNmu', 'PDvAWbUknwKCMkuCSELs': 'EapIfnDmBGJRpLKUjsVv', 'aoRgWYVRLljzBDpNgEQA': 'urJQnONvLceIMQcIKFzJ', 'GGkhOfsdxdSamQdfpYJZ': 'SWoiaoHbOxZGBBXCYuJh', 'FEshgVDTdHwUAlceJDhj': 'mcVliQFEXCNZvVRfuASC', 'JIYVOICLydqlNpYheTvH': 'CLqYdVHzabrIGCLmxiBj', 'mZyfOzVslJyPJOrpIQSd': 'yxStyndArmPwfEbZrGvq', 'tePBNfPljvQXrsTXiSzn': 'cyaFOAqaFgkgAiBHpgll', 'vPgRvbUaokQyLKfVbvre': 'ErjBtdONWMJuqwliAyvf', 'yRnSMUlAnusabPrIwONc': 'pXNoEFNWQEkMcnmDWYMQ', 'AOSGGxWEldoRSSqGtIqU': 'BGrFuksCRAcPyPMnHMKF', 'tPFPlEVHHwwazixjfjNr': 'qiMjtBiTQJdWqdtEqURx', 'DseyuozHiUeDfWSBdUpd': 'VkmjCMBjpTQXtiIeZoTD', 'wngKJmrLynlfzZHUgkUv': 'ofbAuhPxFqEctSSiBurC', 'PZXBVSliWZHBelWAxgGQ': 'pWLohZyOZFnFmLYvgLsu', 'VEZNfPJXSsNyJSDdeBMD': 'YOnjEtERhJezlXyAXoKf', 'QUaaqEbYMlTwNtAywrbE': 'tiyYvqkWJTWCAJstBBKe', 'kBqNbIUeIsVrlXgaSVYf': 'GWUgLjLYyUAMUuGmLGBh', 'VnGevzggeqrHyzKVcpit': 'sZqYjBZJYSTlpyrujFqb', 'pucpWjijCzOXvqpuDSAH': 'qXEwoOTBoZjIpKQpYdwU', 'QlCZPpPTEHgPmTRLznEo': 'WiFGPJYrpKwqtQYLkYfp', 'WJOZLUUQaxHzEGQtjSbL': 'CDChjnsHcBXcQyUEElwA', 'ZqiQBxmGygYqnXoukmuO': 'exhztXORTSxTJeQoeykw', 'WKffuyGaOFnfQWSMOiMV': 'eKCNuWewEsojRcMqJJKA', 'YwGZGWVCFRMjbrqjaool': 'aWbjegIESbCPPKfisENG', 'cluqAATHgyrcfGJliBJt': 'hwpckCLKdqGgtpopjyVz', 'MQeFdILHMLeKgxUHWesu': 'OKGKSLfoGFBMaEqJwIaZ', 'sLnGCKiKkILfLQnjbHzQ': 'WImLMVEpqrBFLsRukbIP', 'xQkbqSUNjlcqaSLwUPhi': 'HFDZzpRiSmtriskibjqj', 'RQIrAUJAfHAkUvlMvsRj': 'sOjKlYcweahjxwhzyDwF', 'dKCKhmcvyIWQKJxKTqUu': 'lWhFkhopxOlxrfqsWHMV', 'khFVBYCKMNwYPHGlrKxy': 'evIzRLHIRJSneCVNkrkv', 'YVUdUepkajtBpnChxkWe': 'dAXoRtYJWdzQGsUzmKjs', 'MxZxWmrNZGFJsNJHPvCu': 'SHEsjPRzrWpQgKheppMz', 'cbdIOQepXdlntzTrcYrF': 'uLlZZpefyoZZbuyCYBYb', 'tHUYUQGhoJUfiBaZlHPB': 'TloHRVXXThnCraskDoNl', 'hIcROuRxBnanXDhsdCwj': 'XunIltxBUSUEVZWkBuXh', 'kuEezbJqFTGZgKdBIpxc': 'LnOpwVDEquuSCrnvSaew', 'UEhokErqcjuaOzxFSNvL': 'uHcCHBloXmHMBgAtrHRU', 'nTJZxPvfhrhxhdbZXudU': 'cbdIOQepXdlntzTrcYrF', 'VpNuMHHoNnGDwiyiFPnr': 'ykKkdWvnAtgxgLLbbJKZ', 'EKSZAxBVlROWNoRpEtto': 'yOJkHvyoHIaHtZqEYizr', 'mfAKbVSrQqyYmROcCZfS': 'JjPeBFEHsUwjKdMKoNbN', 'UvDHzRdnKilLJZIeNdXK': 'sXYWShSYdFZWVTReuFKq', 'rcHCcNAitqLXkawwJFWE': 'opHoGwtACPahpOYRBlGS', 'akXkyvHgmfhDvtisTENx': 'ORqhtYrdFgxMRSDzBiTp', 'cLnUYNffFLAiUyNYxvfx': 'BvnfbmMvwDrSaDNOvhXj', 'hSfIHpblHPftPCinkSSH': 'boiElecXJAnIvlzosPuO', 'IijCueIsizgubslYptKq': 'SIRdmPlShLNAZTWeACTM', 'wuJyktBMwhUuOqNnJQFG': 'zLXNAgpnCdIZeauWFrqZ', 'JVzujkzUFpOTUMUTrYZA': 'nTLMOLyBKpSZQpPWDFWG', 'MUdkSFqqwjzfiHjrQVxl': 'GvbwoiMGahBHKHRQFWFk', 'NGIGDRsVtHTcJRDqNuBO': 'TolpCDanDjmuqhwyiKch', 'BkPzlcJnvoJvfJWHbQSL': 'XXQFEqFbVDHkVekBGvPF', 'aeblrhElLwhXxtuImSjl': 'yriIaycuhENVLWNprCPM', 'wIiueFaoeCQsYJhYLBWz': 'wEzVsoYfTjMHhgNXoOvQ', 'EVEHNqQAEpMacXmuxICZ': 'ciWkIBlAFaSAwljGzmCi', 'lJfVbMgqAluGJECvsfxV': 'yfevbfyKAsaeagTpQcmO', 'OraAZbazKxAHxubtuKpk': 'xRjBNxfzUfsEJvnAHEGE', 'aecnNcbMGYYCGXdSbXfE': 'yWqSJAPETUvfnKlCrGnH', 'hCbbBAqiDUKZDBHbRpYo': 'xPLaxnsEgFZqmqniIkEe', 'uTssGNhNpurugWydvvxc': 'YxIiwrpiPXzHniKkrVaQ', 'AwYKakCrhnqDSOgrtYvr': 'GIWONrnrOVbXJhzcQcaa', 'cxWDtujlSaxMTkQNbfYw': 'UPhwljqiEkECOUGxXUvF', 'ryheasuwtZDVYSWXoGyo': 'DfVFsxUKwSuhyNoWcVBk', 'EoazkBynsexgaiNnmUrS': 'xrsrIyggkaUzEVpdwrVF', 'UoVXmpOpoyjxfkXngFju': 'hdFqfpVfKirsNuFCZOvr', 'sfirbhExGDLxEktNriGI': 'XerRSLqLSblbIwqSihhR', 'inRXpjFAkmVeqgsFrxhf': 'xrYjWJjcrtEMChBqcfIt', 'DWCqNCwTVCrJcXORhtBb': 'jcWaZLrUsbmUuEpHJrAP', 'MPqHAtbCQerkhxfzCjSI': 'YarzZhNtfnuccBKmJmNf', 'FvbQApUpAkdmwuOnoztE': 'nHxZtwhEQzTmtpRfgCHY', 'GJKJRHvibPjKZfllkQiR': 'XkKxMlvwzGZwWtixQGYS', 'oYaVxJKunQfVcNyiaFuQ': 'JUzFvmruWENdwbBejijv', 'hZhVIINVZunYUxKPKYqq': 'akXkyvHgmfhDvtisTENx', 'zmCFbVECCffUVIuKWMfn': 'roFWABfthtSgIODCLhuN', 'TmGPXwYJMZnVUzHuIkfF': 'esuvPuMLsGkQyIEBLyav', 'jtmUpbbPCkPvklgEqNEz': 'jmOvQuQkctmUPomvcmki', 'jBdBNCuGdiyCLlYWRxMd': 'qjUaHgcOCCFaHkbaygpF', 'MOJWOmZQsfKptDZYKoMd': 'XaqimivtMqnOlWZMsDah', 'nYUPpUSjFXFKUibkxFcf': 'rETkLnGqJLfMqYWEChTc', 'dPaYsWeOwYgUrjsKsSfM': 'lXDQLPXCuBKYfvfldDfN', 'JkiPVMLqZwrTBpdnduYM': 'WEqemqRXRAPaHUDQdgKH', 'bRrDJbMWjZWwSMKwvKGV': 'YCIEABYQzTirZDYmzyWQ', 'hxmGliIUaRyLPWRtVqIb': 'YNxrTZLzoZBmuPJLYXmF', 'PWtIFTJVIUBDMuZwOWkX': 'doLZitkdOpjDptiZhIBI', 'KVwvbaQIvmMGhRCKyPoH': 'cdkvVmufeuQfHWwXdxVE', 'WoWEgSrEosxcqfdnpvma': 'WpfCBYmPolWWozgRUWhu', 'dhplKadRRErfNPSuaOML': 'pkNnlwuPCWCvszFVnPFT', 'hJxHuEfKxLWmPGzaWdbE': 'wXPNHFDBGLRHRQJutRoP', 'BvnfbmMvwDrSaDNOvhXj': 'tHUYUQGhoJUfiBaZlHPB', 'DUvCoCyrqjbNsOaIjiav': 'cRTJnLWNfOJoSrZHSbfa', 'khDGCILmaWPvpArTHOXd': 'MPqHAtbCQerkhxfzCjSI', 'eWmLUAyyucJnhVSAizul': 'BxZVdKintuagyPyKagLg', 'NUPeyelLBBSVyHsUMDGX': 'vdMPxxGDQotXpChviDBT', 'wGJcDisIbXfztRcCHzFH': 'lUbJjMhCMRASRgvNbJQq', 'RllwdfcWimiHcpZiwJhp': 'bZFjfHfeYwyQOjfeWuEn', 'TEXafuMYyRSLQCpWTFhW': 'HgSjeMEkujILWtqHdiiq', 'luYzIDbXRulcQfrcHAxf': 'fQLYgeCNFRfOlwGkspuv', 'YeafVMdQPKMwJArLfJgI': 'fOwAkozzuOrxfVHSDIXy', 'fwydSENHTAoXwxiWYHZa': 'ifWRKZjRnWOJFZZakeec', 'AiOlpAfmCCFrytepIXqp': 'NiCykglHTeJGteaIALNN', 'TGaHQThGDhwcNaceWRZX': 'hJxHuEfKxLWmPGzaWdbE', 'iIgMTzaCadbxtCNKNSci': 'RwDoKyRjhjjcPEsIbpWj', 'UxSNXzPJHPTjEuwtoDyn': 'IigqkgTJxuqjzsvUEIfz', 'OBrfPYwIbJEQyTZuBHCF': 'wIENhcJrtONYeZtlScvP', 'AoxsUtiSqkFyXQEZFseX': 'hEOrTACTsxakbWvIpotr', 'aPOGsADXvwHtNxaXDRfE': 'wOLTrGdytnpthlkqMDHo', 'qOqoqhUSfueaQZAWxUgw': 'GMLUwkQqXANukWsbWsUp', 'hnYPvKELaQBqNQetDEpD': 'iIgMTzaCadbxtCNKNSci', 'rETkLnGqJLfMqYWEChTc': 'wJKoPwaOirWYKJnDJYkw', 'OIuvjbQJwJPAVFUoxlFz': 'aHYHSNwbHwOrOwAdUlMH', 'dxjuOUFmYBUoxLsNCiVB': 'wsClghcHqBQgsjvwTQzZ', 'JQyXcmxLcCbDaKHrBsbo': 'JUuzcwRzSMtfMzclEink', 'upbPQzJZOFkXHjexHfan': 'JtcpExrAbJRaYxJzcAeS', 'aoNVQSdQIXYsWGZUxISs': 'RIkxLphVNnGwDCGMfnop', 'EbBNUvlOYgohquzdSyKQ': 'JdNqrbuMqlEapaoHmlmX', 'aQIefGckaJEUxQHwFHKC': 'ZsllnAXmdYPQuibyWpyW', 'iWMKZLBdrcIxavbsADxi': 'LvfEUIZAFjGGAgehVTuV', 'UGoEEFtYQsPFNwliwKdZ': 'WKteKGmzSUbwsrWaqROj', 'BLbZbMTnXUwsnQNMyFCQ': 'XAXFczuErSiGqtMaiHLH', 'cxVuDmqNXSJONngbPWMn': 'boYmlwXrHtbTyRwodoNS', 'NtyfctLiQLvwHXhMGHEK': 'WTPJMbhjXuNQUJoCoPaj', 'DMlnhqaiQlffzXqUuJDG': 'LScrBwFFuUSLgJHZCotB', 'orwRdCfvYZJLEWvdSGyO': 'joxVxLBswHdelhaAggYm', 'HFDZzpRiSmtriskibjqj': 'sskvcncnpQFqnIczoJMY', 'pznXSnjkSBrgUrGzHHMY': 'SEVFIrUAogPCtGXblRiQ', 'OzmXPjOmgPddfKLBFCsZ': 'RRWLKxAOcCCsSVYsJTnc', 'apwDIOyeIUiujCOwHtuY': 'FFpXCEUNuYnDDXTsansi', 'ZdPHFBDUOZDcldJUHyor': 'xsFxUTlNnIsyEzmYjPcp', 'lHVUQEQSBnyeZcPfSxZD': 'LVifJGlgoUnTDxUTFHtT', 'sKsDnThxHDWEDbQWRKgc': 'fEBekuriCOsCbIcIwcte', 'hcBuDPawZFOwjYArJOqu': 'GyEYAzzcnBoIXfZbPkKH', 'GYGVpLIpkesgQbiODjtt': 'iKUQHlCuBrvUHxVFTquU', 'XKbNhjRpNsQSqHFmyPFU': 'VabhnYLWmBlPSTGYPfKy', 'rkeVDdVeqFCGXiSSuceR': 'SaCYLbIlJmGUzIRgodmL', 'gWBOcAkvsjxUzQMCEGUe': 'wdcWCOBQdCeUkwXhRuMq', 'lyuXsfWKUWuaLVMrTkcG': 'qWnWkmKlOAXRHBacJyxo', 'evIzRLHIRJSneCVNkrkv': 'JSgsNMtqWWyzhBzwmOQG', 'RiMaZuuPriTswIeUEEHw': 'wGPKCBHZxNiDmvMIyIAE', 'lqPkZWdoJCbhiHTknGZJ': 'RAqEBVsJeZepdSHaYCcG', 'UoMybBWBGccSQKiAqMbi': 'qbQLsTdCnGozNfwPBBBW', 'cLJKkapnWGRnLSWxgZhy': 'vkitCDnBvxmnIwunuEBe', 'LyuETBdagVTyFEPqkSNs': 'JKqIJBRWSwwwNXdhLKuQ', 'wfXovUDShOkTgCzeQbVk': 'TCwQpSQDYuNLGfWgEXnC', 'YnzVUZpBBdSXVxjGUlPT': 'JVzujkzUFpOTUMUTrYZA', 'FuIdxItBwbdZLQGwjDim': 'mxiuctbRkJnOUedLmfon', 'GjjfPiDqtFpRZAoMUSxb': 'UqwYmmOQuSPkPfPJrSAp', 'dcKVDjCvKIbDmDIbJgAW': 'MQeFdILHMLeKgxUHWesu', 'cMrHzKduzLBkKKAZEXkf': 'ZINWuVcSIXXexXwmTXyu', 'kSUIglGToyAOFWjRTnSw': 'OUeglstgBDqQVWSuDxXp', 'fQXSrOYFjtpIAKjxCrSj': 'QohFdREMSHHEDtwNfXnK', 'QHCWtsthDFMZIaFNWhCQ': 'sKqZvlyIzBAruCRMbsnt', 'doLZitkdOpjDptiZhIBI': 'VjRYNSjLBLUDMeKMVbJT', 'SdzmCauJDDqNKusaFCbn': 'jdkayJldGMlXmgtVXAAf', 'aurfactfmfIXCITpiNMs': 'mAMvLfaQZwNeKAlXnZcs', 'cSgGTpwnPDFrBYCxPnoO': 'XEkytZEkrZjGZOkAksbE', 'tzJkOnKtPBHlvXIufdGW': 'swWbFwYfZZAVadEBxMXt', 'sppqTIIjZKSufMUmztHQ': 'DWHNkwigfJlAwmIUPWyJ', 'dkvYGMlyumjrkNBuRPcu': 'pArxvHbfJEEGiCVMFbei', 'KLeNFpbMvFTcywfcyEYM': 'MxsGvZiDxkKEnAsTzngH', 'RDiYkQhGdQgIWMiHFxKg': 'kTpDINsYmWFKLgUmAaKj', 'nnpChxTMXaeSkAJHlyPj': 'PIxKzfFvapEvjhUrMTHi', 'iKOOUVhtZgMjXQvNPRyh': 'qcuIJVklhZTeHxqmQGRF', 'ZINWuVcSIXXexXwmTXyu': 'ZOYpTskELZaqAYOonJcT', 'TvQzNzYtXxJCnSesLynT': 'nIuHXYrTeyXvyIonndbe', 'yUoXRRKubHXzJzqqwGhe': 'xoqaEGeGGkPJPlwMtYyA', 'dosPBKYJcxSQgViRoqpq': 'ZdTavzFJdvGCUrTUIbrw', 'IvtudabUzQYNBnwYrBWi': 'MVzegfvWNeStoZBfHYrb', 'xVIPykUCdtiKmcZQFkXb': 'DQTuZXiinCSfhZRhnUPH', 'kGAtfKatqdxOyuRFWGAL': 'PAhCSwUBzYNrjYQiopaM', 'FLMrsyMOifXDZZvwYAtT': 'KICueOVvDFPZGMRgZOLE', 'XaqimivtMqnOlWZMsDah': 'yLKoQfWzVDIutxviuyFv', 'hwpckCLKdqGgtpopjyVz': 'cMfgQzFUUAwaynAqPtdG', 'vGTrqeBFRsYxiFZaEaRX': 'iNSIZlBRBDpLggKxBQZP', 'WiFGPJYrpKwqtQYLkYfp': 'heIepyHfrmjWhcpZZJdP', 'QXugPYdiwSKwExIXKsYV': 'SpFQWIBHMaInTCtWjRPv', 'mjHtOjLNPrhHbwgdGuzH': 'XRNDSChTvxFmedEHibBQ', 'OZQFRafPExDrpkBRHXfY': 'ZHJuIWXAEIekkHDhuCtM', 'eKCNuWewEsojRcMqJJKA': 'WJOZLUUQaxHzEGQtjSbL', 'kGlNNlpxPqsPNMphyijw': 'ZEwesdSTzHRXKettHJzP', 'GvojgWUzdqaKXiajoAoz': 'KFonChLEgpxTMQCismUm', 'XHsPXEdqvhaVMUpDhCAm': 'dKCKhmcvyIWQKJxKTqUu', 'IZmdIebBdezZaOjFAaJd': 'rOGDeeZJEVaIIFjfibFT', 'yfYPXaLPjNCaVYdImwDR': 'zLlsFZvWUMDRDOBxFpsI', 'QMKMWGQBvhUywLQwrBiU': 'nOeBCLqZTjVcPdyvkQiR', 'bQlPgznkRadjjaluCLFM': 'AMncUhfKRfLwAVjDTHYm', 'DTYwyaEUQtUriVCehSYl': 'TPRXIUeCrlygUPlPeaSI', 'yWqSJAPETUvfnKlCrGnH': 'DrmWGBhfizgRskJhpjgm', 'FXSteYDxLmBwIEZDCpXg': 'pTGbhmrWADJhhSgvaQoo', 'XEkytZEkrZjGZOkAksbE': 'lmorltQgfdHVXNuexLkc', 'tygLqZwmDHvQxFaoqSuL': 'bdmECEJRVvlDSJkZGHeW', 'GsQcMpmaFVgpgtKkXvQv': 'TkNXxETFfWONhxMafCOM', 'CLqYdVHzabrIGCLmxiBj': 'mfAKbVSrQqyYmROcCZfS', 'kZSSkRTwBNOQnaTsHMKa': 'mjRGyqvtvgRbJOnRjHUI', 'kmjpdMzMpCOjvlxCRezs': 'DMCnSTptzTIIcpesYFES', 'kvYPffmYmQjXOAjbMocn': 'QKulaSixMnaZHZxazsNn', 'hMaIjkiJNijpKbSAzMHR': 'oMLfiyWumEEiMJgXGDXV', 'WqyUgaukZLjkjMqFFbQi': 'nkCKLRfgvdtqDoKvzyfH', 'zmBMdnNPwWsUonRSOBlO': 'YuOEmHxHcGgdDzArBiyN', 'hmPfyYYaxtOagzQsXTdb': 'UMemitxjUdinyUGTkRaq', 'rJMjRqJlrcZdZGMApasd': 'HtjxpEoWdtLuayfBspHa', 'tsPFRYpPopXGzMeYAiGb': 'zEkdGWPxkyNxYSqYQtaY', 'HbnlkGSRmFtrZIvBUgJK': 'BKmXvDAgSELtPXNbnqPj', 'FvwyOkwlDmUJVAeNGeqF': 'OIuvjbQJwJPAVFUoxlFz', 'dQJKXUTqIJPVBkYFlQlb': 'tjxWPtKUuOcNKbziTrLx', 'BKmXvDAgSELtPXNbnqPj': 'pgTrdtXweDTPelOCAErB', 'wmEjBMrrXpPpqIbYTWZt': 'JyzlKONGBqkpsaDkmfhT', 'OChAjmiIikDWTFaiMCtq': 'tZCdSWzFhIvufEyUcipB', 'lAWPJgCZjWwYTlYCPWat': 'sOHtlhuRVnDkjpadSBxh', 'mBBLYeyMCzZyPXZWHFUX': 'HSdsFDKWYYAfmDIyrCOh', 'FQnzXKUmJVtPByvyCYrA': 'hesibrmTtFYEjmsIWBoK', 'QoxHjHnkGpITHOHAMiaJ': 'gWBOcAkvsjxUzQMCEGUe', 'mUWZQNvssbWgNCVGPFwI': 'DnAMkMpkLbtdMCIyrcGU', 'ToTkrZbgCTWTYPCVTbBz': 'QaeVXEkhymQtAbhMQNih', 'fRPJJKmzZytPnQlBIgAB': 'OraAZbazKxAHxubtuKpk', 'PrWAceZrUaMXvuEYVKQX': 'hIcROuRxBnanXDhsdCwj', 'upuFGwXpGBcTxrpqmBGY': 'ZSTRPxiJXbwVWFdAFTDI', 'MXevhNFlVSGjTargonJh': 'ahtvgbZEjefyBLLKcvAv', 'msvleGRRUhZYKmFfrCdS': 'DtMoTQVyptGOSuOWiaZB', 'oKzTioLWZesDHmXHfXnk': 'dNqwtEaKBosYQhveuDxs', 'MVzegfvWNeStoZBfHYrb': 'TTToobYpiLpJsnIwxMAv', 'USwxOKoHLGEUVwSRrLxw': 'DWCqNCwTVCrJcXORhtBb', 'mzIhvOQiqrvkTOCtpqfz': 'ukodLDITIXNgrxuNtMKv', 'THqFxavIdjyxOGoefEEU': 'YwGZGWVCFRMjbrqjaool', 'JUzFvmruWENdwbBejijv': 'iYHzzDKhFUpZdLscUhwE', 'zhZqgjgbyVgaXGXBFCvR': 'XsuirXCRJsrYaoAWUzEv', 'HGjakZZnWgJHrlPETcIX': 'fRPJJKmzZytPnQlBIgAB', 'ebpSqHwDgghhwdrGqMoD': 'tNPuLqNouGnqJmwGDxgt', 'gngWhVcdBRefSoHzgiuy': 'FutVXHcNQMrvCujRJYfV', 'kLLpZEMkEiVzGAwpxSWf': 'hblULaFUZvGCMrNeKGNP', 'vQjifQwMazhSoVUTggDC': 'MRFntOvWuxZuiLyiskcu', 'YOnjEtERhJezlXyAXoKf': 'BmpPoTncfMVlzKnCZzMi', 'ZWzHeYcwUJNKTRkteryn': 'MpOwGYeEQPAWADiOkBuG', 'OwnzVJEFUiXDTpQqNDDs': 'wPdTEUAAztesdRCFjQJJ', 'ZUBNPrsfhhfcahsNkPZE': 'UuIyTOMktyKbXAeHZTNG', 'sIsIVTJHebVAaVIqUpNK': 'ylgfgHDmJJZhVvYtQJaB', 'PLINjhPIOjVEIEvupRUb': 'kDlcfrJuWYoyIpErNuDM', 'sGajONqxEAHthUMYgZoT': 'ffAgxgOWWEJahsFkfAQw', 'ZtGYqxXkYqiiuAHoopYk': 'eBLCREhGwTcYAGzEuser', 'CvmAQriaBDeCoxAonrey': 'MxZxWmrNZGFJsNJHPvCu', 'WvoqOjbFItESoJyvxgdo': 'FWehIWgZzApPceSxKYEK', 'xKQmjYMjvvLZmbTClKVJ': 'QoxHjHnkGpITHOHAMiaJ', 'DKSfaxoTqPuUWpSlhQwl': 'OCsxMnqRdzWoNZVqPqtw', 'fUAXFxiXlYOpSsWXZSrO': 'FydAZSXEHHQAfPVnRmFr', 'pPXXPbyFBIQgbQvlicGy': 'WCeLviRENPqFilRVsqSy', 'vZsfROtMvLNAlwVbYzHm': 'azSMMlLfKNUGereJuLdC', 'FmKyAuoVlGsQTqhaNSyd': 'gvmnGyIxXEiilLjsQiAb', 'BRCGJVcEQOPoMLcYfIZm': 'PrWAceZrUaMXvuEYVKQX', 'SRxlymFYgOaukyKOgYua': 'KKufOjeoprAPMGfmiAcT', 'heIepyHfrmjWhcpZZJdP': 'dssqMNmkdLCWGkcUWXJG', 'AXxtEbpDBpuQCbHiZOKm': 'TqnZfCSjYQHXxFPbrQTo', 'ofssPoyMvjkrWJpcEvRa': 'GQlIPtOFGVgKXDTBWBpj', 'YuOEmHxHcGgdDzArBiyN': 'NNLgFLLSEjrItLKppCtP', 'yALPeatxKOWPFntPjmix': 'CqLbgRFMKaaciRIxJAhl', 'PaLHoEsmVQmBEcEGQxzg': 'LRUnNWVmkYmsHZbMPrbM', 'BoEshVnJSbhXqnawlCcB': 'OJrmqwVKdPaarWqrZmrY', 'keZGtjLbVmhUhvyxErNh': 'HyuWBJmMqKJVDbCwdxkC', 'xZHKtiAOUGbjjHXgGUep': 'mBBLYeyMCzZyPXZWHFUX', 'AgSeasGZFFSOgIxHqQVf': 'rpvwJDUvqwnbIMtlRlFG'}\n"
          ],
          "name": "stdout"
        }
      ]
    },
    {
      "cell_type": "code",
      "metadata": {
        "id": "2y1xbEF6MkNp",
        "colab": {
          "base_uri": "https://localhost:8080/"
        },
        "outputId": "86b3e3f4-1621-4f5e-930d-450c9f5530db"
      },
      "source": [
        "\"\"\"\n",
        "Connect each linked path into a single path\n",
        "\"\"\"\n",
        "graph = nx.Graph([(i, j) for i, j in link_list.items() if i and j])\n",
        "connected_components = sorted(nx.connected_components(graph), key=len, reverse=True)\n",
        "print(len(connected_components))\n",
        "print(connected_components)\n",
        "\n",
        "tried = 0\n",
        "df_walks_connected = pd.DataFrame(df_walks)\n",
        "for i, component in enumerate(connected_components):\n",
        "    new_id = i\n",
        "    time_set = set()\n",
        "    for c in component:\n",
        "        df_walks_connected = df_walks_connected.replace({'walker_id': {c: str(new_id) + 'res'}})\n",
        "        "
      ],
      "execution_count": null,
      "outputs": [
        {
          "output_type": "stream",
          "text": [
            "317\n",
            "[{'wQuSzYXPjiKoNdTFxaCs', 'BRCGJVcEQOPoMLcYfIZm', 'vKtAsUvrCYkkOqWpOyQM', 'XunIltxBUSUEVZWkBuXh', 'roFWABfthtSgIODCLhuN', 'BsqdjugaAhDsRVSlrEdj', 'ywcbPuPsOQmLMaMPZRay', 'lJmcnerygyNMObbcqFej', 'zmCFbVECCffUVIuKWMfn', 'hIcROuRxBnanXDhsdCwj', 'mSmQjsxxUqExZkKKBdsg', 'lMHeubwUqMYxsSbqnoij', 'PAhCSwUBzYNrjYQiopaM', 'VjBHyZckWIFWQwYJDgWZ', 'kGAtfKatqdxOyuRFWGAL', 'tcDNflGxrbhtobiCHTmU', 'KVxrBjXBkkNnvELAdpuh', 'XKiJNQuwyepzmvXrKIGU', 'PrWAceZrUaMXvuEYVKQX', 'nUoOZstxszBlCNuaTvbq', 'vyDDgCzmzzdzfYwoQAwR'}, {'gpmcHMSJxPwNvHmDaNWv', 'JphaoVPWHtQDWfcrMuuY', 'wfTcrPaDEnLDisWtzrMQ', 'dAXoRtYJWdzQGsUzmKjs', 'tzJkOnKtPBHlvXIufdGW', 'lUyVdBDqUVLzdKjvXivg', 'QYvpelzBBQjzwOxhADne', 'YVUdUepkajtBpnChxkWe', 'wIiueFaoeCQsYJhYLBWz', 'cNIezaofMDkDGuLGAqAs', 'qvTsgJLyRdyruCGTpCTJ', 'EfRndqEWcOLHsueHdGmr', 'jyYmcHFamZqQjYUhUJfl', 'wEzVsoYfTjMHhgNXoOvQ', 'gxrWChhHXsjVQADRjmfK', 'GMSYRKQOEyTkArwVgqhP', 'swWbFwYfZZAVadEBxMXt', 'JtofFrYPuMTBIFzrjNQb', 'QcuLtvVVowUpRMVuxvjY', 'nXZnuMaYswSLNghhPUdM', 'cqOYRFDkmCIEkRbarmpQ'}, {'JLVAhBVtnDRbWeXgKoIQ', 'awVXeMNHRDghfJwzHKyM', 'oJODzlGMpCYUUdvUzoIb', 'BxZVdKintuagyPyKagLg', 'YtFsEFnWnXStXYrFyeMI', 'ThRWMHtrRJqCzsiIYiXU', 'qyADSQvDYENrHxjWjCkg', 'qmKIcwBAizGtnfuldpvD', 'zAGkaUpIoqvNPlkLJoVN', 'eWmLUAyyucJnhVSAizul', 'EDpdvvrCSSvzIiLSmtGg', 'KQzphLSTNskNAITInLcN', 'YdnnmMcEmfJTzkISGNaF', 'ALPIpcQngnipqVxIObzc', 'HLSmScwJXHzdbkxzppbK', 'LDsEbDPLhamkvpjpKMPF', 'sRPTppOjRBvCBsvZnYzZ', 'kYPWTPKYuFyqhLEOTDnJ', 'vUvkIldpCOhYzfKDACtt', 'cuClQIsLcNMvXKtmvgSu'}, {'ZvixDfqYuoIZDwPxuUoX', 'ovKjaVedEStuINUedovv', 'poGGONrmIjMtOegULDvW', 'yRguxkXkIDOWJzYKxtrg', 'juElwVBmiXJdNjTEBoWy', 'ZSTRPxiJXbwVWFdAFTDI', 'voBjEyeFExjIknDPMXLx', 'GJKJRHvibPjKZfllkQiR', 'RezXBisIPUombhTRoAfg', 'hCmBFHhgHMpoBfbmgGed', 'OCsxMnqRdzWoNZVqPqtw', 'UCktxZyEtSGBKSnZchcJ', 'boQoAbGAVnrNtkSTgPvX', 'CMDbNVRBrfygBATsYqbO', 'zWXIIBvZwURecpHExWMo', 'XkKxMlvwzGZwWtixQGYS', 'upuFGwXpGBcTxrpqmBGY', 'ecbdNqoUJAVcZNpMNZQJ', 'ocFWGoYTMhNaXevkdVev', 'DKSfaxoTqPuUWpSlhQwl'}, {'MQeFdILHMLeKgxUHWesu', 'NanpXUdhzwhTKBfKhVgd', 'vCAOIUwAxpluqYEciZmM', 'OKGKSLfoGFBMaEqJwIaZ', 'GJzpngGkNnegIdlHbufr', 'aeblrhElLwhXxtuImSjl', 'POiqonayUghedEIyLpjO', 'qpiEFPRhXSONASzBaCNq', 'uCtdeBfewVZEPcIkdSvb', 'yriIaycuhENVLWNprCPM', 'kUFPTeXoFishMPsETDaZ', 'fMEyMBxGVssliSREYkvN', 'NSDvzdDBqCRslVjJcEIK', 'ebDzWLPXlDouMiGcpYGN', 'yrFzbSsPjrrhuwtSSDFG', 'dcKVDjCvKIbDmDIbJgAW', 'QHCWtsthDFMZIaFNWhCQ', 'sSwXLQjBWMuuifhcZpWt', 'sKqZvlyIzBAruCRMbsnt'}, {'AjDPcKueMIpSwgAubTQu', 'hAezPJJophOjMDPamjrW', 'oZmjwJqfCXvSzxbTDScO', 'MxZxWmrNZGFJsNJHPvCu', 'mlnvlrMmqNRNcchViznS', 'VNKuRzrzRjFQIVUDrHOX', 'OrpqvkvniDXuVBTMdyoO', 'fSEAlBDbkKSoQuHHWobJ', 'kxySXlAgsMGiAAiQYtay', 'YNxrTZLzoZBmuPJLYXmF', 'SHEsjPRzrWpQgKheppMz', 'KFEnguVQhcaFauShOSVa', 'ynEbWYcOQDjVNpTwbSfp', 'dwYWfUvwBakiGFKOYEZb', 'LoBUzVCoyXOAiQnJuPLS', 'hxmGliIUaRyLPWRtVqIb', 'CvmAQriaBDeCoxAonrey', 'xAGfCafDIxGcUQADKoEr', 'rbkFztEzYEyyaNNSzzSF'}, {'KhJnhBQRTcLnJilQgHIt', 'xrYjWJjcrtEMChBqcfIt', 'JsXaQJwcqIRUGEDqmQTk', 'CavvqRzJmTyhhRUwpcbQ', 'WpfCBYmPolWWozgRUWhu', 'MatWvszbAbzcIbdhwvZl', 'zYwJcDPDNjHnSdAdZkxX', 'qSVWZuxVrMJjHGXkxjvh', 'OghZGtnVfHaqJpsXvpfp', 'EWqlmxAcWGNWqLlIguLF', 'vgJowgHUvLxsTNYkFkZc', 'lwlVdgegBmBtTApzxpGJ', 'fYWOMLYiDpDCaGiyvstr', 'aWzpxugsUNphnqixDsGV', 'FSvxYYheVULdCkPLIEzj', 'inRXpjFAkmVeqgsFrxhf', 'WoWEgSrEosxcqfdnpvma', 'AucDHqdFbQTEyvReabht'}, {'khFVBYCKMNwYPHGlrKxy', 'vzbcbuSMUeQNhfCTIjHT', 'mAMvLfaQZwNeKAlXnZcs', 'aurfactfmfIXCITpiNMs', 'GIWONrnrOVbXJhzcQcaa', 'YWlMDTlCmCikZkAGgXMq', 'OJrmqwVKdPaarWqrZmrY', 'tEBSCHzjMDJozCAdMMcL', 'JSgsNMtqWWyzhBzwmOQG', 'GnlokABwjOmrIiNnrNQE', 'oYdsfbeTLjPnxqflBXse', 'evIzRLHIRJSneCVNkrkv', 'mvLgMOooywUIcXMgfOuU', 'BoEshVnJSbhXqnawlCcB', 'ojhQRNPHVREVmjUqQuAE', 'AwYKakCrhnqDSOgrtYvr', 'phEYwjWOsjpEkzcfAhyV'}, {'lTIfLmxbgJOGRsqMjvOt', 'gqYfkExouUaIhkZTrhPy', 'qKjUTHLDwPtKnbawLfsI', 'JVfnjQyNLXLDgmTdnAco', 'kVjtQOzYTowLSkgImCSv', 'KzcsPnrgvbqoYvkpUzAU', 'EjolUcphlVKWAyOnOptb', 'ogQDtqPZMdlKrySXFiql', 'CpDdKSUnFtWVWvIuPaof', 'RmjrQyQBFYoqJFIGvqRJ', 'rsrAmTLReTrHvffWNgWX', 'JldxXleylEMEIApmnfrl', 'lUfuSMlWNSkkCtGPgJRV', 'IaSrXfsVfJwixWGsSzCE', 'EVJKXJJuvLCtHddmFoOf', 'rCmFoRVhYJwJQfQZVgLE'}, {'NNLgFLLSEjrItLKppCtP', 'lUbJjMhCMRASRgvNbJQq', 'YuOEmHxHcGgdDzArBiyN', 'WkFXTJDoWTBkIybeqwkc', 'wvacYObntPqraTnsSOts', 'dqGECZOertejymrEjiKb', 'XSqOenvjKBbstnBnrpTz', 'pWNPtUakAXEilKVQXPNU', 'yKsAHrygHbKdsernqFlr', 'gYlzCywartLNaOqppDsK', 'zmBMdnNPwWsUonRSOBlO', 'cvZttmNBFOUDkDXsJEvK', 'wGJcDisIbXfztRcCHzFH', 'MertCeZZWhCxeLhMDmdb', 'ZXXZaJBCxNvOmblkPigG', 'UPPjiltXrJvDAgFHMZbK'}, {'GgDDFHjMIDrscvzuSsyQ', 'wdcWCOBQdCeUkwXhRuMq', 'bpYDjeJWbRwLowNMqUnY', 'YtjPYpOgvzLksEQQDiXp', 'GQlIPtOFGVgKXDTBWBpj', 'SpxUbRBkqQXSFQlpuuPN', 'vlTCYzPbkEXBHOakwqjE', 'gWBOcAkvsjxUzQMCEGUe', 'tvALGpmiGXqPIgLPahHh', 'nxnhuJjcXhrJavuOsyws', 'ZesjFtykgZKeTgEZsXZj', 'AhYWXzkdsvfigyEGZmwS', 'xHvblrjbtHFIxMUHecGA', 'QoxHjHnkGpITHOHAMiaJ', 'ofssPoyMvjkrWJpcEvRa', 'xKQmjYMjvvLZmbTClKVJ'}, {'YxIiwrpiPXzHniKkrVaQ', 'pWLohZyOZFnFmLYvgLsu', 'dhplKadRRErfNPSuaOML', 'OsbByveoXsvZgHbQpZUW', 'pkNnlwuPCWCvszFVnPFT', 'hgqBftyeUmISKsLGPYsq', 'JqvXZTwpcTupZybtdiGd', 'uTssGNhNpurugWydvvxc', 'FlzEzlcCJoBhnUonaqBE', 'PZXBVSliWZHBelWAxgGQ', 'SIRdmPlShLNAZTWeACTM', 'EXiVAXfPVOhmNvmujeOa', 'miSuTRymiQYURXPpDghU', 'IijCueIsizgubslYptKq', 'CldOpStLpFMTTUIdkFCG', 'YkQgQTAuXZQyDKybnDoj'}, {'jThSlqSzrzYAAdHytMWC', 'nizlCYWbpvSRYwneWdEn', 'wfXovUDShOkTgCzeQbVk', 'NVlSmUCrAHVUvjqJgOeP', 'IsBcIyCeSyqPjMdVXnhG', 'VsQegwUFwvtOZUvbQNAI', 'UMemitxjUdinyUGTkRaq', 'DnAMkMpkLbtdMCIyrcGU', 'fEBekuriCOsCbIcIwcte', 'hmPfyYYaxtOagzQsXTdb', 'sDjmSfZHNCQBifWfJQYN', 'AkkOIBxRMVVAmJTequfR', 'TCwQpSQDYuNLGfWgEXnC', 'sKsDnThxHDWEDbQWRKgc', 'mUWZQNvssbWgNCVGPFwI'}, {'PLINjhPIOjVEIEvupRUb', 'cSgGTpwnPDFrBYCxPnoO', 'NAPKTmChcpnPXdkKCZIk', 'cnFsuvmyhztZDoYbPJSK', 'ZjyFasyBTaAlKftBggcF', 'nHtsMtmDzSYHmUjakJaF', 'kDlcfrJuWYoyIpErNuDM', 'LRUnNWVmkYmsHZbMPrbM', 'oooFEgZxiiRSDzXOHZxF', 'ttmRpiTKLfDeEoevziEq', 'lmorltQgfdHVXNuexLkc', 'ydVEEMCCQiRXRALDpfgh', 'XEkytZEkrZjGZOkAksbE', 'PaLHoEsmVQmBEcEGQxzg', 'xVyEGBCYSJtIyFzjuaqE'}, {'ZZRjUOyJWtjLgvxzQFeV', 'tjxWPtKUuOcNKbziTrLx', 'SapdpcYWLtrzLqXSdmmM', 'isoZzxkUoglXQXvDpKGe', 'vtNrbjnnAqUKQSgoKsZk', 'LScrBwFFuUSLgJHZCotB', 'SLwVNPdAMEmrxHDfazJt', 'VJOfOQGvZeHjZhUTdvyE', 'BITUZWEsKxAQBuOgWpxB', 'lyiuLIEiDljPNSsClyCc', 'aszIQaRGOhaeJiMIAdWx', 'DMlnhqaiQlffzXqUuJDG', 'dQJKXUTqIJPVBkYFlQlb', 'DMITSpILElIRWZAXsmyZ', 'zvoybnGjWrZYDbmAqLtw'}, {'igEeucPRsBTjCHoymwqf', 'kvYPffmYmQjXOAjbMocn', 'jVseiqqYkbUaXKQJFoqN', 'rvTZeVFNGwdWSeRjEDvi', 'urJQnONvLceIMQcIKFzJ', 'ximUYxayrGwWtKabVaKE', 'aFziNvdoufBETKMTMVHf', 'HMxTgUbzcpCpBADusnIl', 'WcKpxbehtegQEnKaJNKL', 'DIjbSasuXPUUOmVpoXOm', 'NccZKDpxPALZZYmTFHPk', 'QKulaSixMnaZHZxazsNn', 'RggbVMAsJiCmqPEbaNBW', 'aoRgWYVRLljzBDpNgEQA', 'SztpqUvHfwAbhvJbVEZO'}, {'fuSHWRAWkZYoAHuxgwHK', 'MtrXAPWRYhgozTouZwCp', 'CKdAitQkpRqPRiBnstss', 'VquZrFTUpTCKquTOMNfW', 'ilJijjwLlKkIIGRmesuY', 'SqCzjwvlEgDMfanRUTdP', 'bbPxCqIMBjNvpvfoEDzV', 'tinxXebozbuqUNaUNYRM', 'FvwyOkwlDmUJVAeNGeqF', 'FggtkukJjwFDkQZtNMXi', 'aHYHSNwbHwOrOwAdUlMH', 'OIuvjbQJwJPAVFUoxlFz', 'wBpdfKOumKQsKUwbJNyD', 'QzCBcICYCOfszhCLQcTn'}, {'lqPkZWdoJCbhiHTknGZJ', 'BaGHAznyMWlXXtcdMpMa', 'YeafVMdQPKMwJArLfJgI', 'mxiuctbRkJnOUedLmfon', 'RAqEBVsJeZepdSHaYCcG', 'qbqlQeLSrzBxbYeEQeAj', 'FuIdxItBwbdZLQGwjDim', 'BbPypfvCUpiJcDDszwPG', 'ssCjNVOILtiRNSasgetT', 'AJvYOMCyGvnnpBlcQCce', 'qzRdZPdmDYMkhreeeJaJ', 'MFBzQKxMFvcWCjomzYoq', 'fOwAkozzuOrxfVHSDIXy', 'HKAaTPeUbYvDVGCawxgy'}, {'cxWDtujlSaxMTkQNbfYw', 'DtMoTQVyptGOSuOWiaZB', 'XJZmZuOGOpLHdQPoITNr', 'REeoIHzaDVWxVSZBcOcg', 'pArxvHbfJEEGiCVMFbei', 'JbGvfdPcCmrvqfXjVGTp', 'dkvYGMlyumjrkNBuRPcu', 'UPhwljqiEkECOUGxXUvF', 'ZiGoGxjBclkGsAqqpGEq', 'msvleGRRUhZYKmFfrCdS', 'yzdiDQcnLnCuytQNfPRp', 'KbuiCgSoTHkbgzlTEgvu', 'KpCtXskxKKNxVbZrpfgY', 'aMwLzUaydDuigWcQZMBg'}, {'RbgzIOdztdsylmubtdnU', 'ALzuBSdYPnZNuvMdmdfM', 'rRTHiAeMDZPxfMyTKONd', 'pucpWjijCzOXvqpuDSAH', 'ciWkIBlAFaSAwljGzmCi', 'jBBEhfufkdSSSBamOAch', 'qXEwoOTBoZjIpKQpYdwU', 'vHKuNGqSrUlBfPXVbpAQ', 'FdrmmuMALswsFSuiyzBV', 'EVEHNqQAEpMacXmuxICZ', 'NHnkSBSaZJKjboCECWzv', 'qyGYiobckHcHTLuhWtXv', 'WbPRSUGimXBVVxHjhCoX'}, {'CLqYdVHzabrIGCLmxiBj', 'JjPeBFEHsUwjKdMKoNbN', 'JIYVOICLydqlNpYheTvH', 'VkmjCMBjpTQXtiIeZoTD', 'DseyuozHiUeDfWSBdUpd', 'nHxZtwhEQzTmtpRfgCHY', 'aEDcnvRJAQnBfFnEKxwn', 'FvbQApUpAkdmwuOnoztE', 'HPVJPbWqBAwtavViUlAy', 'mfAKbVSrQqyYmROcCZfS', 'wKjpPOyOuFGvGDvmBPao', 'PLFVuhPUziRXUbAIBBfP', 'TriHxGNKSZgbNTZQXDng'}, {'njMinZLhTwOkhVBRVZDg', 'iEoaHUobCzQRDyYUzkFw', 'GLvogaejxmPOWemurhfq', 'RKoasNCggaderNQePIrT', 'POBfloYjeMhEEGIyhPww', 'fvxcPMgNzkGpuyciicXm', 'RAeLGRkzejKaZsmsgHnZ', 'FMObxfOYOnxomDvdLqsH', 'uqVWNYQIGhKGvEixbAiR', 'GsuTipOAMqaPdddscEDk', 'HDInTLXHJACmkDBufZCQ', 'fFbhFgNEsOsrrfMqGazA', 'PLuXtciEFZiubPbTqgGL'}, {'XSWjNaDDQURgTbDGJLRj', 'dosPBKYJcxSQgViRoqpq', 'oQpurVQdLixnUmAbcnfn', 'MyQUprVyQkWOvWBcEApC', 'uuIYLMlfHsXPcpaSOUNK', 'zlPOQlShMTGLIKNJBCfn', 'jeDGQlLicvFEUWjZoIiQ', 'VteveiUJNbgwVYBYOjmm', 'HQVTWrpNfViVBrUPzPvd', 'ZdTavzFJdvGCUrTUIbrw', 'NqGbdnNminDiKeBORpvH', 'ixOjKoYldaAaybyXbgPc', 'KJzCaDJObiJQHYMzuYuC'}, {'NMDVFauOyNiDzCMpgxIk', 'MrtExYVJrTcLXoDrIaoI', 'jwEPAtKkbPSkKYNZwAGG', 'LtWVTJdnYvtGiiBtYKjC', 'ucRKuJsOsCmbrSKmMYOe', 'kiyjKmXNJKoarVfwomQc', 'XBOOzqvfVofMbqkOugKm', 'mkBwvNjQbZxdlsquzvXf', 'YiodBqfiZeKRHrvduDuU', 'IBQarCsbZhJDbtMSrApm', 'RkuyZYkKwrZdtZiikfmn', 'KbkCnjDkOTbRaeoXNfHG'}, {'yAXeDqJDDLMjhnYXQUQu', 'esuvPuMLsGkQyIEBLyav', 'TmGPXwYJMZnVUzHuIkfF', 'sZqYjBZJYSTlpyrujFqb', 'aCIIiklkrEewLBdgzzPn', 'ErjBtdONWMJuqwliAyvf', 'vPgRvbUaokQyLKfVbvre', 'EFbaFIbHKaLrgRDiIyQz', 'VnGevzggeqrHyzKVcpit', 'PwZPIXPaqsRurJYEFflt', 'irBODJgXRlLpifLEmWGL', 'JCuZUKNSpLjDrzYHUyYJ'}, {'qFpDhvsAoxuwOFXScWNx', 'MJIpQQPtPFeFHqBuVTgT', 'xvWDuIEPCRdMjWwuIELI', 'RqzQpWqrbwNNfSWSWYtv', 'prCeXKtICPKzFKOltYLa', 'velxkxFSaqGTwQNakTWO', 'BtBjMqiWRNsNgYreOaLc', 'SEVFIrUAogPCtGXblRiQ', 'JtcpExrAbJRaYxJzcAeS', 'JDdayIFtSTyumiVDBSiR', 'upbPQzJZOFkXHjexHfan', 'pznXSnjkSBrgUrGzHHMY'}, {'vQjifQwMazhSoVUTggDC', 'OqVGLlXfdNeiZvhZzYEa', 'gwNIlFrqtRaYnIZyDYcB', 'bJgZYOBpmbDmTYmzHksJ', 'cJDMVpNkcMgjREOjXoEs', 'MRFntOvWuxZuiLyiskcu', 'nnjUacFUArYlffrgzvMu', 'IUtTxxRWMxWpJrsNPkSh', 'DfdlRybTDLSIMtYEqsnh', 'OlHdMugFXdGYTrRMSrMt', 'ICdPVfcIoBslLAydSzWv', 'bJLSjvblUCGFrAKbCcFI'}, {'BqrVhIALXgCZGbxrkpSk', 'KljfHfOPwDuZfPRQjzaG', 'NGIGDRsVtHTcJRDqNuBO', 'EoazkBynsexgaiNnmUrS', 'mlsHxxumckVxXspLhjzd', 'VZpLcBGMhNlohVowaQOz', 'xDgoiCGtOLFuHffHMnNa', 'oFoIrTcGoADzpPfAdsQR', 'xrsrIyggkaUzEVpdwrVF', 'eIjDmgRNCmclUNCXOpab', 'WNSgFzKdHBrNbAUMIQgk', 'TolpCDanDjmuqhwyiKch'}, {'VHsCjOizTGTHNArxIOuN', 'LdQUcUfxJOtOFKjcQntL', 'vfzdgxzglEoMhocEbVyI', 'DnlRgVoRDOskLHVmDzSb', 'WJOZLUUQaxHzEGQtjSbL', 'CDChjnsHcBXcQyUEElwA', 'WKffuyGaOFnfQWSMOiMV', 'eKCNuWewEsojRcMqJJKA', 'LSBBwSBzUAGYsOQThjxh', 'CcOGetolJXZPtJSbDdLb', 'cGnpeUxxPqJOlFUJRwEz', 'uyzwwpMLZfeeGtRNNWLp'}, {'TuMLSAeRLvibkQcbvAmC', 'QZOcTyjefcGlLVlLyQiv', 'RykRhXHuDDGKRCVLBcvI', 'QDNpfKSVjQbMxRDFiTOm', 'TGvvbvDuXHDQdGgbEOoR', 'ZNZWrBiDiCcNNggNFqAv', 'fDOdBLzhUQVyUvqQjJcC', 'AvTwPcQOwcfkCAVsYdyz', 'iKOOUVhtZgMjXQvNPRyh', 'nTaMnTxKzGUSLdZurwgf', 'nQYlTYIMCGFMDCCCyEGr', 'qcuIJVklhZTeHxqmQGRF'}, {'MUdkSFqqwjzfiHjrQVxl', 'FaqAoojpjrOjOhzexbpY', 'QKPFsrcLTizmEvdgaQLJ', 'VnkWBzLGGoiSQXFhVHdh', 'BObufPsusIhIEwLbnxrR', 'FXSteYDxLmBwIEZDCpXg', 'remSpBDiFoCimnramHqu', 'ikYvoFRSjfqOAbZNRQwV', 'pTGbhmrWADJhhSgvaQoo', 'GvbwoiMGahBHKHRQFWFk', 'lidvobMqfnidLGEAAiRM', 'UdiLHPQzJxRqLxYDsMBG'}, {'jvrgTmhWnglSrcQuotSF', 'pvRiLkkBJlBJZcLjwBiU', 'hnYPvKELaQBqNQetDEpD', 'NQbGWdTwSNtGAlwdMIMa', 'gTLzgiaHtyzgEqSasFhe', 'iIgMTzaCadbxtCNKNSci', 'zEJkhJUIwCnSmceEsPAv', 'fiPWfFKpoJWlnTHuZzBT', 'MGCnxRJNObxeEOUHDmnr', 'PqTDPmOmyMDhaRUVFDtc', 'RwDoKyRjhjjcPEsIbpWj'}, {'HpKnjHOAEIIYgtxFEgsF', 'mcVliQFEXCNZvVRfuASC', 'yysRfGMWJqjSnLqXHVEU', 'xcTDUDkkdMjvZCTZWbUs', 'FEshgVDTdHwUAlceJDhj', 'lTxWyIkNfGweNkCKpKlp', 'fdpwrmMSyFkQExhUcbBO', 'ckzOzLCmdIzibwNrgiZp', 'IomcVNUuIHwwtHvrxIxQ', 'lVWnuIVaGiybdouGIngf', 'qheHvWxLZseovZIDCsHz'}, {'YarzZhNtfnuccBKmJmNf', 'zLfGCCUibJsKqoMUudiE', 'khDGCILmaWPvpArTHOXd', 'DopSusIbGqTdfiVMkCDa', 'MPqHAtbCQerkhxfzCjSI', 'yLKoQfWzVDIutxviuyFv', 'LqrZQBYRLfBCbMQMYTme', 'XaqimivtMqnOlWZMsDah', 'MOJWOmZQsfKptDZYKoMd', 'pXNoEFNWQEkMcnmDWYMQ', 'yRnSMUlAnusabPrIwONc'}, {'sOHtlhuRVnDkjpadSBxh', 'vFuyQkzxzJNvKWNLNlWP', 'SfnFdwnaKuIrMFSLzZKE', 'lAWPJgCZjWwYTlYCPWat', 'rKUHoQNrUEOMMiUDergE', 'ukodLDITIXNgrxuNtMKv', 'zhZqgjgbyVgaXGXBFCvR', 'DgbrQeDhOqlivDRLPhuf', 'hUSqPKDzsNLKSRAzTFnD', 'XsuirXCRJsrYaoAWUzEv', 'mzIhvOQiqrvkTOCtpqfz'}, {'giFwKpSyJoaxjSUCZlIT', 'JVzujkzUFpOTUMUTrYZA', 'ihPmYjDoXQUCfAEEClKF', 'YnzVUZpBBdSXVxjGUlPT', 'xkDLxpXAAhTCyFUlRorX', 'mbshfxlEDDFJaiOUsFmz', 'nTLMOLyBKpSZQpPWDFWG', 'TJUlJyyfQfFavdMLVyjm', 'CUoJvxfNzaGSnQXeCoDX', 'HIatXDBJjOpqOWDnXYDk', 'ooMOJiivFzskhBHazFKJ'}, {'SRxlymFYgOaukyKOgYua', 'luYzIDbXRulcQfrcHAxf', 'oxyRHnVDjhXGowXeXdDr', 'EAfajLbWiFOxDssPedxa', 'BWJeocymHdtaysHSGUye', 'FcFvZdRsgriWlpGbPspY', 'KKufOjeoprAPMGfmiAcT', 'lyuXsfWKUWuaLVMrTkcG', 'qWnWkmKlOAXRHBacJyxo', 'HtTymjJoLaePZhOvDGpi', 'fQLYgeCNFRfOlwGkspuv'}, {'nFDCKAMHpeaNvkUurcIY', 'xMbdqHJAqfATLzoALcZK', 'KSRDwdAdCIxGzqzoyrZE', 'lXDQLPXCuBKYfvfldDfN', 'tsPFRYpPopXGzMeYAiGb', 'HmKaEmqYauMruqANttlq', 'OwuSdGgiPkXhgklVwCbi', 'wESMxmWArtyBrCPdTTlC', 'FqRjHVcAcxCQprXKRdjN', 'zEkdGWPxkyNxYSqYQtaY', 'dPaYsWeOwYgUrjsKsSfM'}, {'OPtmcMAxkuMkdxLNSPRv', 'PIxKzfFvapEvjhUrMTHi', 'nnpChxTMXaeSkAJHlyPj', 'RelqeGUjCkJGMmMadPej', 'ToTkrZbgCTWTYPCVTbBz', 'eBLCREhGwTcYAGzEuser', 'pAjsfvKKxGcMNHsWCwHo', 'QaeVXEkhymQtAbhMQNih', 'bRrDJbMWjZWwSMKwvKGV', 'ZtGYqxXkYqiiuAHoopYk', 'YCIEABYQzTirZDYmzyWQ'}, {'nJyUNCvtEXRztjJYeAdN', 'xPLaxnsEgFZqmqniIkEe', 'hCbbBAqiDUKZDBHbRpYo', 'GmflIRjvTImIZExeMRgX', 'lWhFkhopxOlxrfqsWHMV', 'DoOVKQZecshQkByrpjBx', 'dKCKhmcvyIWQKJxKTqUu', 'ollroajPxPLxFXExCGGX', 'UfbYyiupbbmMnVstSnXw', 'XHsPXEdqvhaVMUpDhCAm'}, {'jrJJcgpjdFGHtuZmPISp', 'OVpudfrqXWqoopaOjrBE', 'ziDbbssihThHYMibiiov', 'CuDEGkkFRlLFqFzSScdR', 'rJMjRqJlrcZdZGMApasd', 'ywcYdCetXfBHMjMUdnWH', 'lfCDJQttnlvsRzKZhzkO', 'QOSDgcnDrPLeksfGhKpz', 'UmKgIzvggaMnLwoqIKkh', 'HtjxpEoWdtLuayfBspHa'}, {'EtHNbMsAxzSoKipgkCnw', 'kcwBQsjQaAwefqPHpIwB', 'YnalRzjTWswPDxgQnNWB', 'BkPzlcJnvoJvfJWHbQSL', 'tPzOVcWiEUeDFzlOfKol', 'XXQFEqFbVDHkVekBGvPF', 'JWQAqZxOZjLFAhVLPjAz', 'tiyYvqkWJTWCAJstBBKe', 'QUaaqEbYMlTwNtAywrbE', 'cqfhxpifujohHYWnsMOh'}, {'pQhjwvChVFmGokydnsvd', 'aQgEcKQFdysWAYJNrgtg', 'zPDUVgQgxwvECQyvEZfs', 'oryJDtOBIiKKbbXDhqlT', 'nTJZxPvfhrhxhdbZXudU', 'hYOaLCVtAZvpLoNNCpdl', 'uLlZZpefyoZZbuyCYBYb', 'cbdIOQepXdlntzTrcYrF', 'XAGQQlOTpnvXeXlpQjxg', 'DzgIRvoOkHUfKjUoMUbj'}, {'TwAWRGCLFLKZPXxJcWsD', 'EapIfnDmBGJRpLKUjsVv', 'AmKGaOSIXOXwgMlvSgzL', 'KtZDsKEEPKdwGCHLhBRT', 'XkCekXkMSnMDumgGWZFB', 'saATlQKGAyFyqRajeIOv', 'PDvAWbUknwKCMkuCSELs', 'SJAzNqvhILEDaERbMIWP', 'lIxTSGhbbxmCRWbcDuPB', 'XPLIaqAbiBJdTHjjcQhG'}, {'fbCafwgSVbONmjlEdfRe', 'yUDUsLhmNKHwTVMQWynV', 'yGxFRlphQjqKksLkUXRz', 'QqoachDaXJLfBDAxMnAe', 'DggvtsIuYKZDCqdyhkVt', 'SfaFzybalVdhSSjqInjv', 'hUnaAHUqaeskLAlxakdk', 'NDqTPkXFotxltQwrWkhJ', 'RNlXUnJqxEnOJcTXkjQQ', 'JDcqMoHBKZsoRzLdqwRl'}, {'DWCqNCwTVCrJcXORhtBb', 'diQtrRATLovnuWNJTQQl', 'jgEPKbcpvfCdWPRVuTiH', 'jcWaZLrUsbmUuEpHJrAP', 'QlIJOtWrtRnwzhBQZGnE', 'GPuwpZrFdhHLDbLNCBKa', 'WDlGrCQyEzaPAPLjluQs', 'YUGFoSKhnlcbfnzfqehh', 'tGWqyUoaBbspRQBTfbIK', 'USwxOKoHLGEUVwSRrLxw'}, {'dSHgYIxzcVxDlxwgvZTN', 'kclfToNjfHMuODXjMyWW', 'GisDuedUiWNrzNDhKWWj', 'yHhuGWLEiTEJIbrggPVW', 'bsqIGkQvlPzpDwcefNVa', 'ozWkZihKUrEyMqgdARvP', 'RIkxLphVNnGwDCGMfnop', 'tNjEOGBQAByOrxywIVTB', 'qOvcKBaFFulaBtTEtNZI', 'aoNVQSdQIXYsWGZUxISs'}, {'DVhIsBeqJVsxnmEKqYcY', 'jgGlwAPFhfPINUnxpivb', 'THqFxavIdjyxOGoefEEU', 'aPQlSqwTZxryEbGiOEKr', 'oLocOvXFBSlkkCLEBuli', 'lbNYcPvwEyUcaiJJfmim', 'aWbjegIESbCPPKfisENG', 'YwGZGWVCFRMjbrqjaool', 'rJDrlFBZgHGFHQNMPBet'}, {'TjEdfKuefGTiLLAikbVV', 'wXPNHFDBGLRHRQJutRoP', 'hJxHuEfKxLWmPGzaWdbE', 'UqwYmmOQuSPkPfPJrSAp', 'TGaHQThGDhwcNaceWRZX', 'GjjfPiDqtFpRZAoMUSxb', 'jKjezWKFjPCkFcSuRpEf', 'lRFROFJzpEhYoZsZvjyK', 'CxHNCMfAsRqjUCXquqPy'}, {'OzmXPjOmgPddfKLBFCsZ', 'PWwlemZiNizJVPuOLDwk', 'WPBsaftdVofHoKdKhYvx', 'hblULaFUZvGCMrNeKGNP', 'iuLGQFWoLHeAfxoXlnob', 'UuZMmBAVJUXRdtBjOYDJ', 'kLLpZEMkEiVzGAwpxSWf', 'RRWLKxAOcCCsSVYsJTnc', 'xhZCVoYwfefXZiwcnpkv'}, {'bqlAmIwITfaGBTjAzBdA', 'ffAgxgOWWEJahsFkfAQw', 'fbUjmaQdNlsJnHKiNXwN', 'ROsaptWhQoRDIdtuUXmy', 'sGajONqxEAHthUMYgZoT', 'NiPdJZQkaFNeJABUZHEn', 'ixvKzTQGuSJJTfBloZkV', 'pjwDKFMVWoTEalfJSNrK', 'tquNqrOBgByPLGXNGDHO'}, {'eHMEcUmkTTOlVDHnEUfP', 'OFfmaEMUZueogILPfHJV', 'vRhswqRlLqQLxrqZCsIF', 'MpTwjqEolNCiIYOVGIaq', 'xxHqtAskRRzVUgqMRour', 'vCVAUwfBMFaRVLqLInkV', 'BsnOLDeERciSgQYvGAVI', 'KliZJpreqixCpUaLlvtZ', 'WtYrFuUsvJIXiIKcMrpI'}, {'BGrFuksCRAcPyPMnHMKF', 'SmXOhjsGQeazYdEhvGDH', 'vlnCMiWbhZOrbQzKVlOG', 'ymtZudDEAWMkYBjkUMZM', 'aHgxLNUcqVZwXrVvVePA', 'sziPayfIwqPUcUVynMpM', 'GJQVoKaUtrXSfFEaqEfv', 'AOSGGxWEldoRSSqGtIqU', 'ioXfFTuDGsqEabCCrjNi'}, {'pfoaYHBWQZJEThBBawzm', 'SOrKFSjZNerjzJJfLzms', 'GvYzBshdjGjefDOoVKQx', 'OKOMeavrRSDJHMxXzfyC', 'WtJNRkfobxVJoKBgMmhE', 'gngWhVcdBRefSoHzgiuy', 'ooeMOPgNcJguSydyoJdV', 'rNCWHCcXMtFtNxRNzOzZ', 'FutVXHcNQMrvCujRJYfV'}, {'LIGCpxsbVapzMomLCEWY', 'MTtqmojRZmJGZBhVikZl', 'wufwhjJyIyTYWRiPJteL', 'XaBDAbyZhUrfZFFOaiJx', 'bvJvVnQKWMLPELxSSTZw', 'HPChQJCtEyIphSKYyXHH', 'RmCLRFSeSnjLokbpXtDV', 'EhQXUqDgWLpTjHRyhQsV', 'pWjqVoLgTEDawtHxZoLF'}, {'fFzMrsvXCtwZijARlJrh', 'LRQMEUgXyKaLWWgrVumc', 'XedgpEYsthJRnyPoEtVG', 'YAHgWLwoUHeeDiaxNDWs', 'fSESYdgtMdRAZFzvEZQj', 'IigqkgTJxuqjzsvUEIfz', 'UxSNXzPJHPTjEuwtoDyn', 'RCFnpmyPBbtFUgmBNyIp', 'yiASGireWGqOiFTDXnEC'}, {'sIsIVTJHebVAaVIqUpNK', 'eMeqgncIIqwIkGNpIzME', 'wWMpbcIeOQCRvxQJZGLk', 'TPifmPaXIdiTEGLeFKXY', 'ZptpRiCRKlpnpMCfXhay', 'UlDMTMinwlICNIhmJsZt', 'ylgfgHDmJJZhVvYtQJaB', 'PndqTPflhEvqasarrdOW', 'FbgUdJyurpLfWGwGbwGM'}, {'ViotrkxNHPIYDyPRwwnt', 'JUuzcwRzSMtfMzclEink', 'tPFPlEVHHwwazixjfjNr', 'wqCdOqVYuvfEUlrVTXkD', 'wyjBGBmSEQtsOsQflPcf', 'JQyXcmxLcCbDaKHrBsbo', 'BKnlzCQZdxJgorZjtMXv', 'iyOhEgZbAKvyXcrXGeEi', 'qiMjtBiTQJdWqdtEqURx'}, {'tHUYUQGhoJUfiBaZlHPB', 'cLnUYNffFLAiUyNYxvfx', 'oLHTaIaziaxTczatbPzy', 'BvnfbmMvwDrSaDNOvhXj', 'qAEWkWmDcyXkwsNpjbmF', 'kxRUTZMEvhVBwnisNvAc', 'koLSGaGnRSDLWFWYNLHk', 'FWFOXukcJQAQMMmZuFgs', 'TloHRVXXThnCraskDoNl'}, {'lIrGCEDzUSVSHIGxMqme', 'ktXLZWegQCAvAWwwbrBJ', 'kIpzOoLXrCddCDKaqupc', 'bQlPgznkRadjjaluCLFM', 'eCcMqoWWEFrpSYnEPtVY', 'vkitCDnBvxmnIwunuEBe', 'cLJKkapnWGRnLSWxgZhy', 'BqRwIUrtHPEYLLESwqfc', 'AMncUhfKRfLwAVjDTHYm'}, {'wJKoPwaOirWYKJnDJYkw', 'CQwNzzmAJxbZXIaRAzBH', 'gBzVUymxIuvYKaaiQivz', 'uKDEMzQSlPtpFRKSxSdN', 'rETkLnGqJLfMqYWEChTc', 'xOvZNEpDctSyzrMjFdCa', 'iigRebtQyYVxaOqOinch', 'wXSHHhJUGYaMrbgMUtUj', 'nYUPpUSjFXFKUibkxFcf'}, {'xZHKtiAOUGbjjHXgGUep', 'wsClghcHqBQgsjvwTQzZ', 'KoqBxHiBvyhOFygqvYXT', 'mBBLYeyMCzZyPXZWHFUX', 'vRSGarrLtXRyJEenapkC', 'HSdsFDKWYYAfmDIyrCOh', 'EhMCvJNmExXTTDkFGiGY', 'huxHoUnwPVwUAlibBSue', 'dxjuOUFmYBUoxLsNCiVB'}, {'gnRwWngKuXhhERnGyOWq', 'pRyUwuctoVpnAbsEyatq', 'LTSEPmwNNjpqrsTHIylp', 'TqnZfCSjYQHXxFPbrQTo', 'AXxtEbpDBpuQCbHiZOKm', 'ZlDvFjRXyEQrodNEjhsK', 'uomJEaUZkvZogyzESMhv', 'hEgYmgnYoDTKcvGsKRyx'}, {'YGDnRpEBZcHolQSBhtGZ', 'apwDIOyeIUiujCOwHtuY', 'HXSYWYPihXIOGEEUpBoO', 'DrrVhtHNPuSrtvfVgnxx', 'wMkeUuEJggBsgVLZKqDN', 'FFpXCEUNuYnDDXTsansi', 'zkVlQUsKqEDoayBtbVXu', 'tbnMtFMcsCSTiVtnXyuU'}, {'YxyMtFRwuZuINccjWTiV', 'WmeSbcTwIbLZnrhLgovo', 'sOjKlYcweahjxwhzyDwF', 'komwHUGYiuhVsPExwDZu', 'GuXoFcDnKWyeRcaMiMpO', 'QOFYhALnqmtQFtLSmkHn', 'RQIrAUJAfHAkUvlMvsRj', 'RtkCFPnLQjKTCyvATnTT'}, {'ijTxLXvYxNZpPkMhelkz', 'ogrIPawDWagCyWlJqsBj', 'HuDMCuedgsnKmDKoJgrh', 'czXthAmnHsnmTwOfdyZn', 'wngKJmrLynlfzZHUgkUv', 'uRrXDtHVPjmmWNqwCuQa', 'ofbAuhPxFqEctSSiBurC', 'NweySCjtfPdwdTUnjygt'}, {'SlHDvZfCLjMktPvqQhwF', 'iReGtETOBDzOUpPEyUwa', 'ahpAaLSZAQliYqoKEkgo', 'dNSGJBiyHLtyGDrtpbwT', 'GbqYQXBqdSgDqeFHqjbB', 'VpNuMHHoNnGDwiyiFPnr', 'ykKkdWvnAtgxgLLbbJKZ', 'camPkPAiTUpZqUCuGTuw'}, {'lQOsyINtCWiulNVfImiq', 'NKTLcjXcJNmCNFARjtDA', 'IOWEUNZLdHoLmaPFxnPB', 'sheRYmRXSKouwAcynMVr', 'DhTwpJrljhnPeQpNtLTZ', 'qdzYkHIubAyxJxIaSNmg', 'gyFDwKgGNkDVbNONAnmb', 'hNfmTTFCQaTvbSbHBhqS'}, {'xVIPykUCdtiKmcZQFkXb', 'KdSBLbIAXjulLEgQyrLc', 'AVCGzIoMxKUNtyvRejJh', 'ZUBNPrsfhhfcahsNkPZE', 'OqjxUblOoEWPSXhTXenN', 'dwavjVKDtqqMKKbLwmXv', 'UuIyTOMktyKbXAeHZTNG', 'DQTuZXiinCSfhZRhnUPH'}, {'KICueOVvDFPZGMRgZOLE', 'GsQcMpmaFVgpgtKkXvQv', 'TkNXxETFfWONhxMafCOM', 'VgAOzkzhDVraYOrtAlgX', 'lRxACIbNMqKYXDicMeNO', 'wIXpfbXNwQZeJUuDdmfi', 'FLMrsyMOifXDZZvwYAtT', 'thCIcKTiTMhoFKYkCear'}, {'HyKxdxhrydqYikUvRpVO', 'oYaVxJKunQfVcNyiaFuQ', 'opHoGwtACPahpOYRBlGS', 'rcHCcNAitqLXkawwJFWE', 'iYHzzDKhFUpZdLscUhwE', 'JUzFvmruWENdwbBejijv', 'UvlUQyjleGOveGOVwjCj', 'rCiViiJxZimEruMjWGmD'}, {'aPOGsADXvwHtNxaXDRfE', 'SCzTytWbQhbIaFfeCOjv', 'SMObwALshlWudSUDFcpv', 'idyJlvYsaerLgKwMMizC', 'JfSqlduqhYJxPogqMaMm', 'IMsBatssQtWwMndoOaxM', 'wOLTrGdytnpthlkqMDHo', 'FhLqrOKVYJzuKfisRRWG'}, {'dTEFWYpsunxliNNDfdoZ', 'exhztXORTSxTJeQoeykw', 'uNwCjTeqwtDsNJSmQzLY', 'rvsQgvCgURSEICVCmbVX', 'ZqiQBxmGygYqnXoukmuO', 'lWKvNxgYKzJpzGbuLcSX', 'zgATFOtmOrTemtJFbcyY', 'YshhXbBubQkUFDuqzfaZ'}, {'SWoiaoHbOxZGBBXCYuJh', 'GGkhOfsdxdSamQdfpYJZ', 'YOnjEtERhJezlXyAXoKf', 'BmpPoTncfMVlzKnCZzMi', 'MgcYDCFrOKtXrcKhXgrK', 'NpHckJZzNyKsRJtZJsxB', 'VEZNfPJXSsNyJSDdeBMD', 'TsQqYaYUnWucdjYaprZE'}, {'JZcwSSRfLNyLNiALqRoH', 'SaCYLbIlJmGUzIRgodmL', 'QLIHrMAtGcWiQToGBVkO', 'rkeVDdVeqFCGXiSSuceR', 'XoWzlLvGmkwLfeROcvry', 'EvcnCFMmHTeedCnrKEMq', 'FtWQlAuAtmjLlMYUnibM', 'UFXAFBAmIJWPwkpGUuWg'}, {'PwJUCzPPcRQVkofAQbsO', 'eqnJfecuiyJkAlDbWpNi', 'aTITRpWUqQDjmodwVNTn', 'ETTlNQiXJWAYFKeCPEvJ', 'PEmcWPjTusrVzmNUGfRl', 'txbvGKQDTFYuCRXBbysY', 'PIVlrNSkKTCoBOjUzGsa'}, {'WCeLviRENPqFilRVsqSy', 'pPXXPbyFBIQgbQvlicGy', 'TFRkzntNsDEIrZirQWQb', 'iDjxIlqcGriiXRugsYJn', 'laQTdiAWQQDmtUSoXVbh', 'AbUDPwceoQqyFNSZYGST', 'thnOEKRmgrFWoZFirCpJ'}, {'JkiPVMLqZwrTBpdnduYM', 'VabhnYLWmBlPSTGYPfKy', 'rlDKJqVhXzAqGbTgRyVY', 'FBOpeUmkazFoAbdSGpXy', 'XKbNhjRpNsQSqHFmyPFU', 'HJBWwpPodWFInkzPmBuy', 'WEqemqRXRAPaHUDQdgKH'}, {'oizFloxWzNViZfsVkzEY', 'rOhkgIMoiPxOGBodEorG', 'nrIUCdlvGsfJOVVbMZhz', 'lBlCuIBqMxWWPcinKacy', 'pmVFqsEEOIXWkuVtbGKC', 'thLNjsIRSazNandESJsN', 'HDLKZdXHUytCZpavNJlE'}, {'IQRainbyPDFaGgNWIJnE', 'mYPAwQRllTpdFTpqDQDQ', 'pWWccsIYTfBMFSktphPT', 'TKZxDpoORjGhjzEvDEiC', 'PKzeIGPptBXCiMoBPbQm', 'AzDxDwbhAaCxjgpBrtHg', 'lIDRghjzoNpTJkSZuGNV'}, {'SFwKINYcpTRAWALwQEhV', 'qLPVURXFWnYyMGrSNwyN', 'GWUgLjLYyUAMUuGmLGBh', 'nUOYebOXPHAYdkvXTKtU', 'QgRHwmbRseqGmlUBhUxK', 'kBqNbIUeIsVrlXgaSVYf', 'GISyUWEfELlliothtpBq'}, {'gkMApJbTavNBElXxWLnk', 'vRFaYTbucdwdVoTSYsar', 'HwrzuDiRlbeNIgoroSLJ', 'djISFzFYZIKVGeUzGOjT', 'KrKSZItWTmLahPrdMkam', 'lUhqwjUkTaiiGCRDcMaT', 'XJRVRrannTVlukbXPmeJ'}, {'plfNZEwWFruFaXIMyRaZ', 'FxgIhYuUbpDmUIYqPhcP', 'GpmXQZTsPfyleHjqmGjQ', 'RkizWPzWIzfVATIYuHDP', 'tyTlOWHVlIALQHuzzgkI', 'VTbpLirhoxoDuYMUvrEo', 'fZAXAgTBEClTbcSbUHqT'}, {'xybHkgAqCvVNOZISKFoV', 'uajupuCRKQPQoOfcxEVX', 'ZRtMdHapeDxquNjwyjlS', 'uvexGsxkakpVYdKWQWSL', 'CTqsOXabXQDsvWvupYeY', 'OzvqbyOCpERBgvBuSFal', 'ZhbLXGcecuthhsLYSUzt'}, {'fWIKEsfJkcfNDCAEigil', 'JVsZctQYKwVamScyQwYa', 'oiTsKJLaLmCxYATHCJOw', 'herMiLAhnDcfjWMIzkaV', 'KFonChLEgpxTMQCismUm', 'gLdpEwJMLmQPhAWhYfXp', 'GvojgWUzdqaKXiajoAoz'}, {'wYMPTAnYYbHekxCtpuQo', 'XerRSLqLSblbIwqSihhR', 'sfirbhExGDLxEktNriGI', 'SpFQWIBHMaInTCtWjRPv', 'vuhRKguwAGJfsZaQzRwy', 'QXugPYdiwSKwExIXKsYV', 'AXIcFOPeCfZVwdkLWGqt'}, {'MpBNkqmGVDPrMuXYHlZL', 'bZFjfHfeYwyQOjfeWuEn', 'PbOKQBdnCnrwrbMrYzFz', 'QIFUsskQClDWpwiJfzpJ', 'VADdfzOEvslIEFPpXNYN', 'AAwceDKAjDkjGDpgFcfl', 'RllwdfcWimiHcpZiwJhp'}, {'tMcwcmqAtGEWjQZNJAYm', 'AADsvHRhdMPQlDSLSCtN', 'ZdPHFBDUOZDcldJUHyor', 'KtNXbuvuMCIZxOIWRfsv', 'DrwkmECKTOnkWPYcHSsi', 'nLqbuTxVsOfUvyrRjofN', 'xsFxUTlNnIsyEzmYjPcp'}, {'MJjSXeNocrHMSHpGToPs', 'FdiFsrZphCkrUHiDYJAo', 'UUdsUFlcGRQEFmYQtxVO', 'cxVuDmqNXSJONngbPWMn', 'rJcFqNIQfXNUFMvSDwSF', 'boYmlwXrHtbTyRwodoNS', 'krotlvWGjDNOSNoEultK'}, {'bzZJzmkeQGNMOeioPYvp', 'lskfrHyEGthUtBVaBsNa', 'GOGacoQkArvQsZAnqLjN', 'NtyfctLiQLvwHXhMGHEK', 'AWSShWkOtRcizuwuLmCf', 'cYizHjMqWOyYAbDBlvAR', 'WTPJMbhjXuNQUJoCoPaj'}, {'TnutQqwoHQBgNzFyharQ', 'ILGdkfKyKxGbBIMSBrCk', 'ahtvgbZEjefyBLLKcvAv', 'MXevhNFlVSGjTargonJh', 'GQwfupAUVxVUVVzzwpOC', 'WbGdBhfgSGALKuREqdfm', 'PYBIuZvvhlXstdvNMoTp'}, {'QFfmzGXeldKNIMjmfyMQ', 'xSHRoTaKfjbiYzDRVyUe', 'mvaarrVrtEdisgTLOnAj', 'OyFBWjDCIVYYmlqYQyhb', 'VTTbjAvicqOsCFKLNlOM', 'LQaaCwnXtqvLNwpZFJgF', 'aPsbxHJXEmHZzViFtZTk'}, {'oDlsedbnBrtonfpILrNd', 'SFoIiPahMRoWZvwfPOnE', 'gWMPyLFASXRfXjmeFYQl', 'CLByFQwWLLaTBeSRudQm', 'wYOpujTCnsBlYvArKnre', 'AzSQEVybySQIVmcuxRkS', 'NQGCImAwisXFRiwNIhDT'}, {'MHgUflnDWdcghcOPtizn', 'cgTvcOIJUSkcGnNnLjfp', 'tqtlArPJlimBPuZQEVVx', 'PTghgDMEkshCJZuIirMX', 'XjykuzHgrYMKLAXymOZa', 'ksmmBMtllOZIZDrxeZem'}, {'cyaFOAqaFgkgAiBHpgll', 'yJhvOGMcFCxbjYNMvHes', 'tePBNfPljvQXrsTXiSzn', 'qoQdVfpWtIDvHgcHXKVd', 'quMSwwCFTlNCPRtcXUsO', 'EuEymOOwUtiWRdiSaVVV'}, {'XGxWoxuMBzBfQZpanHvS', 'XRNDSChTvxFmedEHibBQ', 'HAtlsPkqeUdylUNDJILO', 'HyuWBJmMqKJVDbCwdxkC', 'keZGtjLbVmhUhvyxErNh', 'mjHtOjLNPrhHbwgdGuzH'}, {'WpkPfSmIuDBVVCQKpJtS', 'qdxpUxvhFLszjijksdRT', 'mCzjUURfHCkGFpscnbRZ', 'pQqKwfnAONYkynRxHGfS', 'BkemSdrREmoLdjrsFXDC', 'adMXmvlHWUXmQJFbYhVT'}, {'TEXafuMYyRSLQCpWTFhW', 'DnwNJsDaKeGhKJauAfRs', 'xSxrffdcjCnxlxSCdNAp', 'xcQFKlHDUDPPCNjgzmjO', 'ZCagciMRiSkmnIyHmONi', 'HgSjeMEkujILWtqHdiiq'}, {'kuEezbJqFTGZgKdBIpxc', 'KCmmDIfVfoIQGqhkZQEb', 'ZLewfbIRpzMQsIOpAEtl', 'ImnVUKyikevYKwJNIjPT', 'LnOpwVDEquuSCrnvSaew', 'lFHDVdVSdiuztQNoxrmb'}, {'mrlgWdiUdKKSEdbKctDk', 'dNwuGKKCrXlMQzfQsLXF', 'IUohCXLfwZvEuOnnGMoX', 'kGdEtTHFtLszKYiFstzU', 'oPHLkKFwbkyweRsQaWuL', 'DswsjLNCsRIEETBnXWFT'}, {'IZmdIebBdezZaOjFAaJd', 'YdwccINLFYdpTzBKZTHC', 'vNRkLzIfcIHWdTHMMrFk', 'rOGDeeZJEVaIIFjfibFT', 'lJUXypEbnRsrbjTQJYNj', 'LfWmeMuzRajZTjYNYKmA'}, {'mSWpbWDNENGnhMEJBtrL', 'gnygLhzLYTvLrMmkwFxe', 'mjNKSzWPHWkSKKHknNql', 'vEGUeHZtKUfzvwpFoPkD', 'nYgVxTBNrHZwFsxsDegy', 'VFUtrwonZJUHqPSCUMhJ'}, {'yWFhhnummgDsvxMAGYtJ', 'qjUaHgcOCCFaHkbaygpF', 'jBdBNCuGdiyCLlYWRxMd', 'KSrEkgNkHibUJjQGXQAL', 'GQRtaZFlJAVrITfUzPnX', 'jcwqCfrGeKepngSPuNna'}, {'TPRXIUeCrlygUPlPeaSI', 'jBuwMhdEimUdGAGpEGYy', 'SqOvrCrAOYiNQIfdjjnT', 'xQViyobfFjrRkqmxUhSy', 'VuqrDNJUbbrqZYXCYoUa', 'DTYwyaEUQtUriVCehSYl'}, {'CKGNpyPSrKjHrENucDHs', 'SdnBuSpsntMOqODDXXcx', 'DUvCoCyrqjbNsOaIjiav', 'nOituYTbrkkqPdGCYnKZ', 'IuncJGKkMkSWKDZlNsFe', 'cRTJnLWNfOJoSrZHSbfa'}, {'hHvpciULcCXXJdodnJSP', 'NGliaIwwAHTGtzVoIgVj', 'HEHMuGCQtVceafBMwyzj', 'lGcyzdOznmNnrCxJUyoR', 'yZmCUDNaswTdVYZIQuKE', 'tNxWXBzuMECwfFOCQcWp'}, {'XyqYjMZoFIISkHpzJGHI', 'QoUFGIWMdHOCviNJXMFr', 'kQoypwXTTJfqNuHqwkMT', 'TOETNhzwoUFqQRVtObfb', 'WYqNChGosEPJdIntBcFS', 'xUjGgVDrxeqigLJRbDPO'}, {'laZouGDqxHMHlmhPVGAj', 'akXkyvHgmfhDvtisTENx', 'hZhVIINVZunYUxKPKYqq', 'ORqhtYrdFgxMRSDzBiTp', 'KHaEjvwJwpZPiyTqeMbs', 'kaXDTOsxwRnIkWLxEEMs'}, {'dLPqpCrjgNCtmddpNxWS', 'OUeglstgBDqQVWSuDxXp', 'ZEwesdSTzHRXKettHJzP', 'wdzOdLbUbIQSWUSvHluD', 'kSUIglGToyAOFWjRTnSw', 'kGlNNlpxPqsPNMphyijw'}, {'LdnOwihvAllgmlIHpMlT', 'HeVFcxziwETvECSGlzrh', 'kVyupsPsaDuGAkpmjRtG', 'WKteKGmzSUbwsrWaqROj', 'UGoEEFtYQsPFNwliwKdZ', 'FawhZphxTElPGoIpRIJM'}, {'DClZpLBSfLbSmaPEqqDo', 'jfiiSLHTIYvHRQJelGGD', 'OyNjaGokSqSSkJFeodfv', 'tlAnaxRxFWMbXJllXerz', 'uKuWvMxNnJUguVietwHV', 'gXGFeazEuyKOrdFibsvC'}, {'DMCnSTptzTIIcpesYFES', 'NUPeyelLBBSVyHsUMDGX', 'vdMPxxGDQotXpChviDBT', 'orwRdCfvYZJLEWvdSGyO', 'kmjpdMzMpCOjvlxCRezs', 'joxVxLBswHdelhaAggYm'}, {'XAXFczuErSiGqtMaiHLH', 'hKFLtBlMCERcCBWEYkjE', 'joXrzjFXZtrSHwyEvhJH', 'BLbZbMTnXUwsnQNMyFCQ', 'GDMUKoXaNAywqgQAIFiG'}, {'VjRYNSjLBLUDMeKMVbJT', 'PWtIFTJVIUBDMuZwOWkX', 'DSFZEjoqLJdgFxDgAcsk', 'SxsZUlVOjRHsKZsZKKEQ', 'doLZitkdOpjDptiZhIBI'}, {'WrHMvHhcYrfrbgxTdLQc', 'cZXOWhhijAJMvnsKFjKV', 'VwXGOyJNnctPUyngoCWZ', 'dnZYMmXDCPyowBXsoVdA', 'VHDmWeyQTzuUJrtFbYyJ'}, {'ZWzHeYcwUJNKTRkteryn', 'kYQDkZptjCzBmLmkXshk', 'fzencDQhBIknAOafbuzE', 'DxpsFUJGFjaDcopFrTAc', 'MpOwGYeEQPAWADiOkBuG'}, {'vzatjIYQHgOYglgETMjk', 'PaxGBRZtJleTvAslgbXD', 'HUSczMgOsBAFMkUIWYgG', 'TuETRbddBRCXFdVNGfoh', 'YnUVCaGhPYhhseeIyTXx'}, {'wPdTEUAAztesdRCFjQJJ', 'WTLgUxPLdbVUXcdLsbiL', 'LHuzErjQWNvlWpTehiCh', 'OwnzVJEFUiXDTpQqNDDs', 'TOpvXDtzROtQnlByjoyK'}, {'kJBgFOhFVSezGTOQgwFf', 'mkvbLJeTBfwEJRdcOvil', 'CTlMOimImERarYGRwIqS', 'lJfVbMgqAluGJECvsfxV', 'yfevbfyKAsaeagTpQcmO'}, {'yfYPXaLPjNCaVYdImwDR', 'WaYLrqiVxeVRhFAEMXhn', 'zLlsFZvWUMDRDOBxFpsI', 'TOTQkrgHkmmSUAGbIDZI', 'GxmbdnqAzipRqIAKXrhR'}, {'pLhpDmdwgZYWYmZIpNzV', 'jauTElXXpTkQqIYxjvbt', 'iYuiisOBHBAdFuRZsjOM', 'NmPFTiHohnVtrBaXdsOi', 'UoPPPcGpKVlExgBtUABr'}, {'HYOwIHXBDIeSXyAyMAui', 'HrzoOlxpOXcrQSWnCqzY', 'CoTWCSDqMXnqUtQwBbQf', 'NdUYfCeJgugsbcmeKkoZ', 'dfeQarlNZDcKiuIEgbLM'}, {'TZkSoMYgtSoFIpJtZygi', 'KoMEplWASXIJfcQajHts', 'lVKZkDAhQjsJkBqacbOU', 'TkzKTXUfgKqskAjhYnuX', 'tHCRlpNPceTNzVhbxQIa'}, {'lArSYktVkFxGyhxXzqtD', 'XpmPqMlbivsHAyDSQQph', 'jmOvQuQkctmUPomvcmki', 'jtmUpbbPCkPvklgEqNEz', 'hyGSvUtHHmAqDXRdEeJj'}, {'zTAbopWRXKLXAOdAHAwM', 'kZSSkRTwBNOQnaTsHMKa', 'AueuIPxvJZBbuyICYSve', 'mjRGyqvtvgRbJOnRjHUI', 'IVsxypkrzgsSWRlDnAzB'}, {'ryheasuwtZDVYSWXoGyo', 'YMwsYpUaWbILphiqkYKF', 'PaNHXgylUCSwKEQjeNmu', 'DfVFsxUKwSuhyNoWcVBk', 'zfMYIUujkDxaFQDWXYMq'}, {'LPotJQPWfGLpCoVRLLkp', 'tCOPWkcFVzbOvpFWQsHy', 'qkVBMMmalvxbGAliiRfn', 'QFwNppQtKHwHdIEquxah', 'NnxTdwOaTKjQRZgfgsiI'}, {'pAzTmtympLHlzoESLhuG', 'sLnGCKiKkILfLQnjbHzQ', 'WImLMVEpqrBFLsRukbIP', 'uQftGfOUBJiPnAumIFRi', 'LxylMjSTwEyvXOvPLtfV'}, {'nIuHXYrTeyXvyIonndbe', 'pkpNodSmJYEjSmXlqQHR', 'MUefnaFitzeHjyomYrIj', 'TvQzNzYtXxJCnSesLynT', 'MHHcTaudgnRSZCpHIBtI'}, {'JWbxQODmkTvIpiXInHwu', 'oeJIpjXpAFgOHiLGkJqP', 'CzIQGJvuvYEhqKOknsXZ', 'RkbgWLIswDdbWMvSjpmj', 'GQKvCHJwfYJdNhdUUYAb'}, {'DqKwAXGyHXJDtZHahtEs', 'MxsGvZiDxkKEnAsTzngH', 'KLeNFpbMvFTcywfcyEYM', 'jdkayJldGMlXmgtVXAAf', 'SdzmCauJDDqNKusaFCbn'}, {'wuJyktBMwhUuOqNnJQFG', 'zLXNAgpnCdIZeauWFrqZ', 'xefnzSgYfjQWGsBepHeK', 'LIgzoFqJAMHazzLJoOpO', 'dzdtMtotxOjsNJswsMye'}, {'mCoaFjNZNwnOyQJMyZxo', 'XzWupuUzupAkJxHcyHtS', 'EKGjJLYnyQXcVEsHGART', 'icKjVtUnJslWNUDlozKg', 'UMgvVTzeKxDzQgBXWxgS'}, {'OOGBZGXKlhuAFbZMYUJq', 'qccCpkYVsqjEnQiOQlye', 'ySEcqhBmyrvyeYEDVYHb', 'QcGWZsCPIQMBFXVnHhJG', 'EfcLbvVkjjYLsBDbIDou'}, {'OraAZbazKxAHxubtuKpk', 'fRPJJKmzZytPnQlBIgAB', 'tqDsudjezacoWRwGyxEf', 'HGjakZZnWgJHrlPETcIX', 'xRjBNxfzUfsEJvnAHEGE'}, {'inikDaVaUPokdSYShCml', 'nYAYVSZgwVtfySYorjHF', 'ZkZhjutXYLSapSkFAIXi', 'EnWkvxUxLHYMwwqDvOIY', 'RhNEMIWgSKoWPNsrPEps'}, {'BKmXvDAgSELtPXNbnqPj', 'nLijByQJkOaqdKwPRxsH', 'gWpmNFkzaVwweyAIyGZi', 'HbnlkGSRmFtrZIvBUgJK', 'pgTrdtXweDTPelOCAErB'}, {'kFhJCFVzImqzkImHqQUW', 'bdmECEJRVvlDSJkZGHeW', 'ZZwCrPpBdvOrWkcktyTz', 'HbFnDptWOnCgdQfldtQZ', 'tygLqZwmDHvQxFaoqSuL'}, {'aecnNcbMGYYCGXdSbXfE', 'FlSbtYVTxDoTFgEaTKVo', 'DrmWGBhfizgRskJhpjgm', 'yWqSJAPETUvfnKlCrGnH', 'ELTilVDterVbXOsjHiHO'}, {'sskvcncnpQFqnIczoJMY', 'AiOlpAfmCCFrytepIXqp', 'xQkbqSUNjlcqaSLwUPhi', 'NiCykglHTeJGteaIALNN', 'HFDZzpRiSmtriskibjqj'}, {'ydimBegtbELklwWvzVPV', 'nNJElvsCvSnfmpfIAPEp', 'GezvmBEDZKJYhOXKXTDh', 'JyrxSGOkIiIYaiCsWrew'}, {'wiQwSksxDLtVTITKuOzz', 'TFOrIFsYMSnAvdTzKTGx', 'pYamDoBbgAsksMsouKXY', 'stFUVfQQgJwUjETmoMTz'}, {'DWHNkwigfJlAwmIUPWyJ', 'WwKDjhZvqjpVAzkAZDKI', 'AzIOUrHSmEYbOIQfcTmV', 'sppqTIIjZKSufMUmztHQ'}, {'asLprNqnNZGuGTryDYDp', 'rRpxVylywHVtjvQDjErf', 'pYuvsNOJRbFuCTLkwcJs', 'ctEnnvnHOiaLZGbihsHc'}, {'xntEenjIXdoaCeOZVbSB', 'ZZhVGDugMofUdUstFTTn', 'rPUoFTTWtlmXvjQnGRpS', 'MAUeaouPrawwoiaQrmpD'}, {'FtIboHgRrTxEhPbyEduT', 'YBdtQqphaDIuWMVSagnO', 'bxpZScRskGoDUVqVvAXH', 'EHIBUpdOlNSRdwsgkeTq'}, {'ZvJFJpiYkkkDwIusNVqw', 'WHQGOrBSteuxtyobNtdE', 'kZtNBrGEYXVnQIGHatGR', 'IEVpNpqShbwKGGEUELjF'}, {'xdRGFDVajzpZdRZuEDIX', 'mlyIEagCcvVFFqYCgqGe', 'cUtlWAMfEfjKVFlowpsI', 'PgvvNdZYMKLBcUXWpwis'}, {'MynrbmIEbzlLEZfasGGm', 'SvFmbQubjBLbfxTcbvbF', 'xMniCOFspUMgLVrXWSdT', 'NoIoZIjmIiLddbEiiklo'}, {'SeYOvvGMPpLdkMrXhzHP', 'JyzlKONGBqkpsaDkmfhT', 'wmEjBMrrXpPpqIbYTWZt', 'eRQLhACyNVwFoBNywmOr'}, {'hnHtvWKYStVPaDoLDDtr', 'zdOCilheClNmtegawgxa', 'usvAVqTxplvUmSOHaRnB', 'eLFZUkBenVUmqKhmwTCv'}, {'yhkFPUenwtcbLZSRawOm', 'HoLjhhcagSeIGBPiFaqE', 'nzNhxexVoAwUqRICWpFh', 'wUWRhfhKHTNMmGmQDBeS'}, {'DTneWkrssmBuKZWjyoCE', 'WMxboiUnYlriliEWdogl', 'tYVmlzRyMtFFvvLfaVOr', 'fvMgmSZGrHVpffjwKxOO'}, {'wEDHWJsLSDnoTgflmmnr', 'OZQFRafPExDrpkBRHXfY', 'UMVQcUXXoYWrSkRnJLYn', 'ZHJuIWXAEIekkHDhuCtM'}, {'ZINWuVcSIXXexXwmTXyu', 'ewSizmpKjXedTVhWUNDc', 'cMrHzKduzLBkKKAZEXkf', 'ZOYpTskELZaqAYOonJcT'}, {'DJwwOsaIMTZnZAjXFRLU', 'ifUDMmJXWxcyswwPfGeo', 'TVWHIVgSdlPEiKDXGWRv', 'rvJJirViFnrOdltxXHyz'}, {'dORJAgRyCsDsCuzDcjTb', 'cdkvVmufeuQfHWwXdxVE', 'KVwvbaQIvmMGhRCKyPoH', 'wFRbHumWtVtmDsxmsZwU'}, {'dSkIMhxkaARCUUfOOXpU', 'YkHXuOxqmJrgRyaWIYRl', 'ezXiSSixUISFdaqODLml', 'CwCXGVPiQNHfAmYEZuMV'}, {'NttHjfJuqZuoDXLQaKqS', 'YkSnupbUhKsdeILIVCKS', 'IMyMiIwgWSWFuqdfcRKj', 'afXcmxIalHUtCkJWfwyA'}, {'tgmTSptNItVHZHCluJNL', 'bksMwHrmjCqeuRdQJoKr', 'lUPiiIQYHjcxNthdJyeC', 'rmOONjKDNOkspDwLWpIG'}, {'ciGnhLXNQVaaqFlhxGEB', 'IruMnblYLpqeVKIJeqxX', 'yALPeatxKOWPFntPjmix', 'CqLbgRFMKaaciRIxJAhl'}, {'iMLnaAFSwCIjuYKmDqFw', 'qtJbgUjUysiRsyfcABAZ', 'kaPuVmOtkDuutrsMtGVi', 'GZSXAUiqdFDHSjvVZMjw'}, {'FLzUWuhIvjtWKNYSJCjw', 'tOHONVipBWlKZfLmAPzw', 'gJDPtfbchIwAQAMtBvRk', 'DrLJUesuubDVGJLmVaPs'}, {'NfYuEbWaonZhaRroNTlX', 'oeXKrdrHuGkWhWVVqFAQ', 'ThhEbLQKJZbkGxtTPRtU', 'TUBLgwZSOGEVKzPANadB'}, {'GtCBTtQikMFwzAmElUMj', 'qUdIlfEClguGltJSUNby', 'kpxiqvrAiLTNNjezByqs', 'ZPCaDjfUUufhDemoPhcV'}, {'XQLxRyxUEdAWJuiDGXEY', 'tLcNVJjoBrziLvSEUemY', 'FoArovMxezYNFzrHbqEm', 'wRKitFeyzbrDOANSGQew'}, {'MpQgECJdNdJUzkeHPyrf', 'WulVpjTmpGcAueMCNivJ', 'GLshGOsnzOmDwXPaPeKJ', 'TeLTXIOQISCPzVHyxFZn'}, {'DgdpZUGlSzWVUfyTlwEX', 'uOOKopIDkLOrgSNnAoib', 'clqiwfxeQfdqdsZcTwhz', 'GsDBblZpntqOIjrofOOS'}, {'sCXtMHNEzBODCJYCyGnE', 'osKMupcrKMxCsfhEzlPE', 'ocRYDBcmhZwxmYmeNMjk', 'cRrnLDDUwRJmNKUrHuOV'}, {'cMfgQzFUUAwaynAqPtdG', 'hwpckCLKdqGgtpopjyVz', 'cluqAATHgyrcfGJliBJt', 'UxJlEZqarHoCrjDGJuDz'}, {'odyFklizRNuPyujsGmVY', 'iRjwKmGcaDrSXQMFUvsK', 'VTbMYbOKldUMssTCfEAW', 'mOOefkjkARaVJtHwEolZ'}, {'oSEwQvuXtXMAHibtoOdV', 'ZTEGGvwweeHsvyhjoRkI', 'cPYOdXselkakAyLUFUmt', 'mRcSnzwGOOGjPCuIzKCs'}, {'WtulThDJWvpzaKZOzWHp', 'AjbQRhmQPrVYUJRCkbkb', 'gPdvRoccKhcFoaOBvknX', 'wUMghKdFPOmlOUqDoSal'}, {'OgoqXWzjlwJZRrUCIKrS', 'riqrFzFgOemmwLxpfueT', 'DbSxjXXBBcBMCqQgBQhQ', 'SouBghXZiXPikMqeqfzP'}, {'GfCvTHuubwaHxBeHpwID', 'HuPgevTcjpOUYQnfjJFg', 'qYBjMxYGAioHhHfMNeSt', 'WMrlHjAgaEgcFStrqMov'}, {'mdErAmbKgWHzXASOkYTZ', 'RiMaZuuPriTswIeUEEHw', 'sSNkJLPvStifhiLMCXwo', 'wGPKCBHZxNiDmvMIyIAE'}, {'vtelxkOnZVTaihhmmCYY', 'FAKOKXfNofedRcrIvyyA', 'lMQEEbftxilsiDYEvvvV', 'DPbOofHUKdfOlbZzteyg'}, {'QMKMWGQBvhUywLQwrBiU', 'oDAAMTZvnhxlcilePvOM', 'nOeBCLqZTjVcPdyvkQiR', 'AbJxtrXevrHfGkuqPqSf'}, {'QbtGoQLzJmorSTMxSggw', 'xTuBQDyDFDbQrhAzpFFy', 'vkyVvJedndeCZjTRqoXM', 'mzeLGlBRjrFBJxMkZKmr'}, {'QohFdREMSHHEDtwNfXnK', 'fQXSrOYFjtpIAKjxCrSj', 'iOYUeLMMbuFzKrePLOKZ', 'FttCNPSaJgvdPyTblVgo'}, {'GJWEqTiuRXVvUyYBxyAt', 'ebpSqHwDgghhwdrGqMoD', 'JqXMaxhxsNRlxztQNnZj', 'tNPuLqNouGnqJmwGDxgt'}, {'FWehIWgZzApPceSxKYEK', 'RkhoHrHKjmxqUWOPCJla', 'CoDxYIMkGNtXdHFbvpWv', 'WvoqOjbFItESoJyvxgdo'}, {'oKzTioLWZesDHmXHfXnk', 'lHVUQEQSBnyeZcPfSxZD', 'dNqwtEaKBosYQhveuDxs', 'LVifJGlgoUnTDxUTFHtT'}, {'rzkfRDMZVjODaywulmkZ', 'RsChVmOcewTPyyzpHBUx', 'ZLRJrNGBFzEDiUbambyP', 'tlAOaPAqpCBkAaSjGlYk'}, {'WiFGPJYrpKwqtQYLkYfp', 'dssqMNmkdLCWGkcUWXJG', 'QlCZPpPTEHgPmTRLznEo', 'heIepyHfrmjWhcpZZJdP'}, {'ayorIsRftPELTZpNLehN', 'gcdENmDRsDrnYrtVHrOL', 'TBcNNaMLqtEldhmARgcG'}, {'LpAKTsRgyElrlJCeaBiF', 'hMaIjkiJNijpKbSAzMHR', 'oMLfiyWumEEiMJgXGDXV'}, {'HCyMfqnhyrQsqKpKolHe', 'EAmAvNDJiEvukyCUXeub', 'SlUJpVKTXLecZSSzTqeu'}, {'iVFfQSqolWbwXuPNurFg', 'ObpVDsjOgfVFqmknWUXi', 'oxerYgSIQzMkTykFViYl'}, {'BMlrDUcPWsfjtYeHJrel', 'jxdxcPekiZahnFgouIqc', 'gQlGaoYxnBfZpmAvVndW'}, {'eZdbnacIFKMMzOyXfWQq', 'LsHCoaCioLJMMkoFTlsM', 'pbwiKJHfrMNGspEyFweZ'}, {'GyEYAzzcnBoIXfZbPkKH', 'RKmVYPzjKLuArPAXqcLf', 'hcBuDPawZFOwjYArJOqu'}, {'dwVTwfcMzGyalCAAKNvE', 'gCzvFtuWOkSKWdEOjJSE', 'iYHwGGAlQWpmsBOLCChm'}, {'KGahZIvZDvPsZIfyxqiB', 'BnyNOKCbKmwRJWVcxLQM', 'VxEyiFZpBfIqPdDmoGPd'}, {'toqEZBVstWVWzHzQtmiI', 'jbajgxZFhqdObOnEiHai', 'amtEivqDyAVYHTflYlRj'}, {'QpClbxNTZmGeXLGDEWHS', 'aUwURfzDITHfPklPFTWv', 'fqfFKmxzYgHTCPTZdJuh'}, {'qFNYtRYQkJlGsMwEAWbM', 'bjZdMkkJpBSqkAaylORU', 'SDtqsSbndnDNFqGLNPxd'}, {'wIENhcJrtONYeZtlScvP', 'OBrfPYwIbJEQyTZuBHCF', 'mCPqwURCLXbQnamhfRgX'}, {'jDGcwCnkTGeJoUAjgGaa', 'PfXUAmPLeafgtjrvCzab', 'CzSHspSvcHUIeOqHCjEZ'}, {'gzAvGDhSqqGVMPZeexaD', 'KOFcuMpOMNouFwOGfKrj', 'OfiFcWMdEuFpZItdPByE'}, {'jRMGOKRXRnfHRHmTAAEH', 'UoSGkZovlunDTGVTibXw', 'dsSWrBqkzMapPtXGqtHq'}, {'QjoHLqnWWobDQkoTdyli', 'spvqYPkJnGwfnqTPLEYi', 'HJSmfcLzvXMBEMwNUshP'}, {'IuVBpvjAlEOoXAeahSKp', 'vDEoOsNxMOzSxvnEMKTW', 'BCsYEtPWVpwJgPxfELsV'}, {'xRvUttPOxfDivHDLyaPf', 'UHKXRUhElBUvuwLdmrEd', 'eIyXcWzzmcxocqIAclcy'}, {'DYOcvqDoKOywHBOMwtQc', 'LTyEqWrERzTicjukGRfr', 'uZhtFXxAmSfPOXLavgVZ'}, {'VeOhbuSZQgQaxYgaJCnz', 'qtnWaoZWHkyfBSWTWOcI', 'AySypHGCXzWPBgwkDEuj'}, {'ofSVMYSVzSNrChPFYYIS', 'anzONkSAAYdwfBdNLkpi', 'oPbXaHSOufPcNwSWzcUr'}, {'bmnOALhImMRoIDDkcxEM', 'TCxQmikOUbMrOSacWyKT', 'ivfvhwqHwUHAxmQtxMUP'}, {'VjlbKZOvkFWjqjjETvnQ', 'uXnIDuvFiYPMAsxSCuNG', 'jBvwKLaCtOthsvcnPaIH'}, {'trJjXnIbDYdjXNZWJyPm', 'eCHMuAsqVwNgqnWPqzTf', 'YgQwMwwccxFGcOJmfIsm'}, {'MRAbajdiJTUtcfodiccf', 'qbQLsTdCnGozNfwPBBBW', 'UoMybBWBGccSQKiAqMbi'}, {'siRCNrrfIhcciCXLUKoE', 'fwydSENHTAoXwxiWYHZa', 'ifWRKZjRnWOJFZZakeec'}, {'uHcCHBloXmHMBgAtrHRU', 'SInoNpzasTOiUDaXJylo', 'UEhokErqcjuaOzxFSNvL'}, {'iNSIZlBRBDpLggKxBQZP', 'vGTrqeBFRsYxiFZaEaRX', 'PSiRskzBXyWhzIIIooVS'}, {'xRQqdZdQKTQuqgBoXhux', 'pHyAdydMVfyQUjLCGaGT', 'emvicdPfeaGlNvphcuzH'}, {'NmCjSKnhrneJzvWHpokT', 'fwQbJrMrOmGeDydjqBOf', 'DsrMiOwrcHnQlvNxCZvl'}, {'gvmnGyIxXEiilLjsQiAb', 'FmKyAuoVlGsQTqhaNSyd', 'kfRQKdGDvqsinXwIsZRt'}, {'BFxbwMMTOPStTHyIYTnM', 'lJGjGixFwJjyvOtNnxNg', 'hRBgDDYQtGlAkfMtjLMi'}, {'iWMKZLBdrcIxavbsADxi', 'LvfEUIZAFjGGAgehVTuV', 'gkiZbfXTsPGLISgQGyKp'}, {'cGOONHkBClUbJIyYuTkU', 'EbBNUvlOYgohquzdSyKQ', 'JdNqrbuMqlEapaoHmlmX'}, {'MuGNxXGKytwQRucnSBqV', 'FtoZWyJjQkPqNvOkVkYh', 'gRzyltDguDDiMoWARzzB'}, {'LyuETBdagVTyFEPqkSNs', 'JKqIJBRWSwwwNXdhLKuQ', 'egoFhBZSgOLirNPRPxGh'}, {'fGXJXSoekeOGtmonRAGn', 'hCfEUZwQNDmKtRmoKHRw', 'XRzWXMTbdtBzXaSXKnIc'}, {'fwZXLTCXUsbYUutPkmfA', 'WZQMUIfpGJOuUmIurbsJ', 'FyKwrWqaOGnFMUYMiZnS'}, {'aQIefGckaJEUxQHwFHKC', 'ZsllnAXmdYPQuibyWpyW', 'dYgNZZsQRqQudzNDEdVv'}, {'acjPTRPRNOgDsshXQBYq', 'LMKrFDnwNGDkZXoIYqOd', 'CWYwXapeLjDzPLQkluUO'}, {'gikYcCIHzFBfryRhQyOU', 'oLZWLJXHKOIAbYkUPXUg', 'pUBuZSvkpUAVhWRwswJe'}, {'gtJhalYFnDxBGUvrfcXt', 'OiUHCFqefXFqGqbWvBVw', 'XQSDJeehFjNhJtuDUHce'}, {'KtsWzwgCqUgOpUCCmErT', 'kTpDINsYmWFKLgUmAaKj', 'RDiYkQhGdQgIWMiHFxKg'}, {'nkCKLRfgvdtqDoKvzyfH', 'rqytTEzrCYtoAtmIqCGy', 'WqyUgaukZLjkjMqFFbQi'}, {'hesibrmTtFYEjmsIWBoK', 'FQnzXKUmJVtPByvyCYrA', 'tgOhRTtGdKfuwuKlDFZa'}, {'TTToobYpiLpJsnIwxMAv', 'MVzegfvWNeStoZBfHYrb', 'IvtudabUzQYNBnwYrBWi'}, {'ooslLnJytTqSWQxMnKPp', 'ZlzRImiUJHXhFQofUkLe'}, {'FyCtafqopugFwSbgBfgT', 'EOZSckGLPGviAkNBdLLg'}, {'NbPzRrFNlgXKctelOBwV', 'KqVxiIbibSXkTxYzzCxF'}, {'XuejGsCcEEjqkgJwxryr', 'FLlVOpvagboyQiNubghv'}, {'aOHKArVcQZspKEFaQGzm', 'IzRYtSkKauLTZSOmYmKr'}, {'dkzpRHDLquyexpThHZVr', 'tBgjoEvtLeOdrQQYMQCV'}, {'dHwJNyuTfqugMbMLgzzz', 'LSIamfyZWMzcfaaNlzbm'}, {'fnhfTXHhiwTmUfDmHexF', 'whPgIHxMmffZQEEABNQK'}, {'oliHvvoADAfIEoQXRCsf', 'tCOBrxpoIZZRZrCnhzwT'}, {'eniqfJAbjFSdRPjKZkqK', 'KFGBuxmIeptXzLXTVOHx'}, {'HZcmCwgtCqAJxSWYNkxS', 'JUXWgfpJUIilFJdEWbtw'}, {'kPIFtOPlCebyafTkbtsU', 'jmlnycLmViMzQjfbpUdW'}, {'IcZVipwuBfmdvrRLLtlP', 'iDLlkytmVRfeBYjRLEhl'}, {'wCoEOycPXLDCgjewwhAi', 'RyegHOCzDreaQHAvNavy'}, {'hUJySYXmUrzwbyZkRpPD', 'DCrCfuEdOxqFXvlSmwvt'}, {'XAeTBKiLjwXslaXOpxRX', 'tECZMunUsfcjzlSCuCSh'}, {'ruPQmOvWotlGtEKKOOyB', 'iAeRotjGgiFdksPPUfbJ'}, {'OTPAbxTssiXRBgDTJugz', 'ieZuInCIkkxOFKdMUIGK'}, {'cvwDqZyWCZDCRlJnagtc', 'zRIdhScZluTSuTnLrYpS'}, {'CHFPAbCDujYtUGdPpzPx', 'pZkRuFNXZkuoyYPdsNGH'}, {'fOpcCQYRlFztJuiFtmeT', 'tcdeHUqddcqPLhuzexPx'}, {'VbkyvBJrjcDpxWGmgVOH', 'mDBJZlLAZliNlXkLImOz'}, {'OVHZSSPTkmjREtvQhxCf', 'tCiJWyEEEFHmqafxxCVy'}, {'QgsojwbRsmEmtcFzwbvw', 'dopjfwUwInpMhIyhJEnC'}, {'EPZfpgLVIPshBAWQIsZX', 'CjrqhrNZwttcXloXNtVS'}, {'ECzTZbFeZTsAJcKtnRZw', 'TDLfhTIUiiUdXZIhQlZZ'}, {'lqXWjeaLItLJgofGzTKZ', 'OVKNFZRdRkAjgIeZotUD'}, {'JVjjRWieUrXnIBvlKwcb', 'wCvCZmCKpDTvBmrbFyEy'}, {'HxJKNOjmquAfdRgbqAKr', 'MsWksZAwQnpZEWoftRvx'}, {'aRVBcqubUCYnbYYNoqxJ', 'gnJAGqrHPfTkyFlfeqgs'}, {'ZQiIsMtUZNdADvYQKrIr', 'FksXtcvVUqobhZkTiCsB'}, {'OhIsAkNfqmxWYWMzUKeE', 'DROlQFWfgccViruEwgeO'}, {'lLfXrHPQefeUooMrdrqf', 'jfcMuZOeDjzntwCfbJHV'}, {'GRfApyHhdvyhsapyJIbC', 'FiNeTUXvfbUQKYveXFPZ'}, {'JhZmolBDcjYzTArUbUHK', 'rYtOVdvYRioWQEhHwdmJ'}, {'yolntOmjehZPBiWedUMN', 'WwfjrPRndEBQRnsmsyhD'}, {'LlXrJHCbBKUnTFfgXdeb', 'ewHrxRqSPkJJrbKZejHC'}, {'FMDttyPRuHpJKfDCwNQl', 'NuZfKErGtaoKZgykfUtO'}, {'JhMRjdViffIeNoxImAXV', 'gMzXYoOPQrKQXXNabJFz'}, {'zHiEdMafQemfAbvKQvWx', 'pGTCbFlMzMbkFMIIgbiW'}, {'glULLSJkwokebanSxOyR', 'AAhduABXrwoyjHvGWGtV'}, {'lOKzckRQxsWggXkjsOmH', 'PLhmwnfMbXtgKlgNWYqC'}, {'RzbsDIbxelRRxrdIZniI', 'ymrVwCCZOqdbdmpiESOS'}, {'EwWxzuHQMWoTjTOjoMRg', 'vZuGLtPdUKUSiHOIxFEC'}, {'lZgGUrXAWNhHKypyneMs', 'dXJWdevqScCEAdUaZcBj'}, {'JHhrNRDejFSwxevPwzPz', 'oLHDfzUBpQpzrWiaeNLu'}, {'PhoiXMjrPmNiYZTbVDvH', 'mmggBStPHfAwDMoDxTLk'}, {'vkPlIQmWjgDhrBcVPIPG', 'MjYUAlpiGxXWmxbvNvZm'}, {'FBSqwoEMlLeEzgnJRWAR', 'yvccZSNXjRtUhBMyCerV'}, {'tMciBEqCGdjnGYuWNlsd', 'qFujFsYCjIfQHqXwyCmq'}, {'YQtLmOXCwKzDbmFVyqqF', 'lnJqISetXpZkSsMHLvVE'}, {'NinfjakRfRXllYFECjlk', 'tsMlEXyYVHIkFiEmgrAw'}, {'wHTbZXILruUNuHjTVSFf', 'dJQvNSDSVNkrPFYNTPKm'}, {'IPthTrRKVTbGsroBEdrZ', 'iCldesEZSGzVolywJbIN'}, {'siLrTeVLTMwxXkgGCvSI', 'czcFIipPniGYfdldiZhT'}, {'EtrrCFIWDqoMDmLevzAW', 'rtonfkIrNIoXCIBXMLud'}, {'XagoIJsvSIyjeuSSfWQB', 'miJoXlaHBEexNhiVsWzk'}, {'QVwdgxHMNoMiKwzMxSnm', 'qssPIVEWbQgWwUIkhUMz'}, {'oVOBdWTUBcRQGuGfaUzR', 'NpoNBSmYHiwhxOvrfZfd'}, {'bmKJkFvCpozwcqyQnivh', 'GgXYbbjbpdduJouPIeso'}, {'iqHOiYtotmmbNAGisKVk', 'RHIHjRSZsoZTZXxSmTZN'}, {'WVzAgbPBWcFaDctgeqsI', 'gZlZVEowWgUUxIkWmguD'}, {'PRrRgScIswbQmYXIjAWT', 'cEGefvtbyDnkDWGNtTQQ'}, {'ZSefQfMrTWPTJuPdKood', 'UfKsueqjAZwTLWZbqNhQ'}, {'TUWsiWBICpFZKUJqxTiU', 'IbSLfzKKyVBmZnREjsmg'}, {'HhuByphfohXNBoRhzppE', 'GtSeNneFAenoGilXcbkZ'}, {'VZZirjRqLffgBfsMEkBL', 'pdLGVwwavdzEhQjUCXdR'}, {'yImwIkudJdWaFwuyQUPb', 'RMzJYBbtamuJVbgYzdUN'}, {'lxhMySSyksvPeVfhZmHk', 'lPRdqdixJSHdBaXxoUDh'}, {'twcpkEGuRxCZQseuuetH', 'lSAAIcHVmJteiKDdXgXL'}, {'eJegjHfVYCuHYHvPnGwi', 'lqkKDOqrObKGwUXxFwSD'}, {'JkImOzSuboauUOssNJuv', 'xMQzQpPCFFCiiTEetbeU'}, {'yxStyndArmPwfEbZrGvq', 'mZyfOzVslJyPJOrpIQSd'}, {'yOJkHvyoHIaHtZqEYizr', 'EKSZAxBVlROWNoRpEtto'}, {'UvDHzRdnKilLJZIeNdXK', 'sXYWShSYdFZWVTReuFKq'}, {'hSfIHpblHPftPCinkSSH', 'boiElecXJAnIvlzosPuO'}, {'UoVXmpOpoyjxfkXngFju', 'hdFqfpVfKirsNuFCZOvr'}, {'hEOrTACTsxakbWvIpotr', 'AoxsUtiSqkFyXQEZFseX'}, {'GMLUwkQqXANukWsbWsUp', 'qOqoqhUSfueaQZAWxUgw'}, {'iKUQHlCuBrvUHxVFTquU', 'GYGVpLIpkesgQbiODjtt'}, {'xoqaEGeGGkPJPlwMtYyA', 'yUoXRRKubHXzJzqqwGhe'}, {'tZCdSWzFhIvufEyUcipB', 'OChAjmiIikDWTFaiMCtq'}, {'fUAXFxiXlYOpSsWXZSrO', 'FydAZSXEHHQAfPVnRmFr'}, {'vZsfROtMvLNAlwVbYzHm', 'azSMMlLfKNUGereJuLdC'}, {'rpvwJDUvqwnbIMtlRlFG', 'AgSeasGZFFSOgIxHqQVf'}]\n"
          ],
          "name": "stdout"
        }
      ]
    },
    {
      "cell_type": "code",
      "metadata": {
        "colab": {
          "base_uri": "https://localhost:8080/"
        },
        "id": "PsnqD_Mmc5c-",
        "outputId": "cf85e4ea-db38-45b9-c556-9aacf45fc5e9"
      },
      "source": [
        "\"\"\"\n",
        "Precision: How much percentage of the grouped ids are really from one group\n",
        "\"\"\"\n",
        "\n",
        "DEBUG = True\n",
        "walker_ids = list(set(df_walks_connected['walker_id'].tolist()))\n",
        "real_ids = list(set(df_walks_connected['real_id'].tolist()))\n",
        "\n",
        "matrix = [[0] * len(real_ids) for _ in range(len(walker_ids))]\n",
        "\n",
        "if DEBUG: print(len(walker_ids))\n",
        "    \n",
        "for i, walker_id in enumerate(walker_ids):\n",
        "    id_list = df_walks_connected.loc[df_walks_connected['walker_id'] == walker_id]['real_id'].tolist()\n",
        "    dic = collections.Counter(id_list)\n",
        "    \n",
        "    for j, real_id in enumerate(real_ids):\n",
        "      matrix[i][j] = -dic[real_id] if real_id in dic else 0\n",
        "    \n",
        "matrix = np.array(matrix)\n",
        "row_ind, col_ind = linear_sum_assignment(matrix) \n",
        "print(len(walker_ids), len(real_ids), len(row_ind), len(col_ind))  \n",
        "\n",
        "correct = -matrix[row_ind, col_ind].sum()\n",
        "total = df_walks_connected.shape[0]\n",
        "\n",
        "walker_acc = 0\n",
        "for i, r in enumerate(row_ind):\n",
        "  walker_acc += matrix[r][col_ind[i]] / sum(matrix[r])\n",
        "\n",
        "real_acc = 0\n",
        "accept_num = 0\n",
        "for i, c in enumerate(col_ind):\n",
        "  rate = matrix[row_ind[i]][c] / sum([matrix[j][c] for j in range(len(walker_ids))])\n",
        "  real_acc += rate\n",
        "  accept_num += 1 if rate > 0.6 else 0\n",
        "# print(f'correct/tried: {correct}/{tried} {correct/tried*100}%') \n",
        "print(f'correct/total: {correct}/{total} {correct/total*100}%')\n",
        "print(f'accuracy: {walker_acc/len(walker_ids)*100}')\n",
        "print(f'precision: {real_acc/len(real_ids)*100}')\n",
        "print(f'accept rate: {accept_num/len(real_ids)*100}')"
      ],
      "execution_count": null,
      "outputs": [
        {
          "output_type": "stream",
          "text": [
            "684\n",
            "684 100 100 100\n",
            "correct/total: 9040/19727 45.825518325138134%\n",
            "accuracy: 14.501628975313185\n",
            "precision: 45.932095035061124\n",
            "accept rate: 26.0\n"
          ],
          "name": "stdout"
        }
      ]
    },
    {
      "cell_type": "markdown",
      "metadata": {
        "id": "pXxkEXFxSxLW"
      },
      "source": [
        "## Model helper"
      ]
    },
    {
      "cell_type": "code",
      "metadata": {
        "id": "vZfVm2r4MkNp",
        "colab": {
          "base_uri": "https://localhost:8080/"
        },
        "outputId": "11e756a4-a1ea-4464-e5c3-85a0e4f1aaa3"
      },
      "source": [
        "def prepare_data_test(walk, num_steps, to_ix):\n",
        "    path = []\n",
        "\n",
        "    for i, row in walk.iterrows():\n",
        "        path.append(to_ix[row['agent_id']])\n",
        "    for _ in range(num_steps - 1):\n",
        "        path.append(to_ix[walk.iloc[-1]['agent_id']])\n",
        "\n",
        "    return torch.Tensor([path]).type(torch.FloatTensor)\n",
        "\n",
        "import math\n",
        "walker_ids = set(df_contacts['walker_id'])\n",
        "print(len(walker_ids))"
      ],
      "execution_count": null,
      "outputs": [
        {
          "output_type": "stream",
          "text": [
            "2076\n"
          ],
          "name": "stdout"
        }
      ]
    },
    {
      "cell_type": "code",
      "metadata": {
        "id": "29u-I0X8MkNp"
      },
      "source": [
        "def compute_proba(df_contacts, walker_id1, walk, num_steps, candidates, prob_agent_id, prob_dir, prob_move, clf=None):\n",
        "    candidate_agent_probs = {}\n",
        "\n",
        "    output = model(prepare_data_test(walk, num_steps, agent_to_ix))[0] #forward pass\n",
        "    output = [round(float(output[0])*N), round(float(output[1])*M)]\n",
        "    for _, candidate in candidates.iterrows():\n",
        "        x, y = agent_to_ix[candidate['agent_id']]\n",
        "        prob = 1 - 1 / math.sqrt(N**2 + M**2) * math.sqrt((int(x) - output[0])**2 + (int(y) - output[1])**2)\n",
        "        # prob = max(prob, 1e-32)\n",
        "        candidate_agent_probs[candidate['walker_id']] = prob\n",
        "    \n",
        "    sum_prob = sum(candidate_agent_probs.values())\n",
        "    for k, v in candidate_agent_probs.items():\n",
        "      candidate_agent_probs[k] = candidate_agent_probs[k] / sum_prob\n",
        "     \n",
        "    return candidate_agent_probs"
      ],
      "execution_count": null,
      "outputs": []
    },
    {
      "cell_type": "code",
      "metadata": {
        "id": "Cda3OtrFRsm9"
      },
      "source": [
        "walker_ids = set(df_contacts['walker_id'].tolist())\n",
        "id_to_time = {}\n",
        "id_to_agent = {}\n",
        "start_time_to_id = collections.defaultdict(list)\n",
        "end_time_to_id = collections.defaultdict(list)\n",
        "for walker_id in walker_ids:\n",
        "    candidates = df_contacts.loc[df_contacts['walker_id'] == walker_id].sort_values('time')\n",
        "    min_time, max_time = candidates.iloc[0]['time'], candidates.iloc[-1]['time']\n",
        "    id_to_time[walker_id] = (int(min_time), int(max_time))\n",
        "    id_to_agent[walker_id] = (candidates.iloc[0]['agent_id'], candidates.iloc[-1]['agent_id'])\n",
        "    start_time_to_id[int(min_time)].append(walker_id)\n",
        "    end_time_to_id[int(max_time)].append(walker_id)"
      ],
      "execution_count": null,
      "outputs": []
    },
    {
      "cell_type": "markdown",
      "metadata": {
        "id": "3HamOCzi9kyV"
      },
      "source": [
        "### Method 1"
      ]
    },
    {
      "cell_type": "code",
      "metadata": {
        "scrolled": false,
        "id": "GsBZ6yUsMkNq"
      },
      "source": [
        "# from scipy.optimize import linear_sum_assignment\n",
        "# import math\n",
        "\n",
        "# link_list, reversed_link_list = {}, {}\n",
        "# DEBUG = False\n",
        "# \"\"\"\n",
        "# Map agent id to its most possible next agent.\n",
        "# \"\"\"\n",
        "# no_candidates = 0\n",
        "# model = LSTMTagger(INPUT_DIM, EMBEDDING_DIM, HIDDEN_DIM, len(agent_to_ix)).to(device)\n",
        "# model.load_state_dict(torch.load(f'{MODEL_PATH}', map_location=torch.device('cpu')))\n",
        "# model.train(False)\n",
        "# walker_ids, sorted_walker_ids = set(), []\n",
        "\n",
        "# for _, row in df_contacts.sort_values('time').iterrows():\n",
        "#   if row['walker_id'] in walker_ids:\n",
        "#     continue\n",
        "#   sorted_walker_ids.append(row['walker_id'])\n",
        "#   walker_ids.add(row['walker_id'])\n",
        "\n",
        "# visited_walker_ids = set()\n",
        "# for i, walker_id1 in enumerate(walker_ids):\n",
        "#     if walker_id1 in visited_walker_ids:\n",
        "#         continue\n",
        "#     if i % 500 == 499:\n",
        "#         print(f'{i+1}...')\n",
        "#     walk = df_contacts.loc[df_contacts['walker_id'] == walker_id1].sort_values('time')\n",
        " \n",
        "#     time = walk.iloc[-1]['time']\n",
        "#     # get candidate points by time\n",
        "\n",
        "#     candidate_ids = start_time_to_id[time + INTERVAL]\n",
        "#     for id in end_time_to_id[time]:\n",
        "#       if id != walker_id and id in candidate_ids:\n",
        "#         candidate_ids.remove(id)\n",
        "#     # sum([1 if id != walker_id else 0 for id in end_time_to_id[time]])\n",
        "#     next_time = time + INTERVAL\n",
        "#     candidates = df_contacts.loc[(df_contacts['walker_id'].isin(candidate_ids)) & (df_contacts['time'] == next_time)]\n",
        "#     # print(candidates)\n",
        " \n",
        "#     if candidates.shape[0] == 0:\n",
        "#         candidate_ids = start_time_to_id[time + 2 * INTERVAL]\n",
        "#         next_time += INTERVAL\n",
        "#         for id in end_time_to_id[time + INTERVAL]:\n",
        "#           if id != walker_id and id in candidate_ids:\n",
        "#             candidate_ids.remove(id)\n",
        "#         candidates = df_contacts.loc[(df_contacts['walker_id'].isin(candidate_ids)) & (df_contacts['time'] == next_time)]\n",
        "\n",
        "#         if candidates.shape[0] == 0:\n",
        "#           candidate_ids = start_time_to_id[time + 3 * INTERVAL]\n",
        "#           next_time += INTERVAL\n",
        "#           for id in end_time_to_id[time + 2 * INTERVAL]:\n",
        "#             if id != walker_id and id in candidate_ids:\n",
        "#               candidate_ids.remove(id)\n",
        "#           candidates = df_contacts.loc[(df_contacts['walker_id'].isin(candidate_ids)) & (df_contacts['time'] == next_time)]\n",
        "\n",
        "#         if candidates.shape[0] == 0:\n",
        "#             no_candidates += 1\n",
        "#             continue\n",
        " \n",
        "#     # if candidates.shape[0] == 1:\n",
        "#     #     # print('1 candidates')\n",
        "#     #     link_list[walker_id] = candidates.iloc[-1]['walker_id']\n",
        "#     #     visited_walker_ids.add(walker_id)\n",
        "#     #     continue\n",
        "        \n",
        "#     raw_batch_walker_ids = set(df_contacts.loc[df_contacts['time'] == time]['walker_id'])\n",
        "#     batch_walker_ids_prob = {}\n",
        "#     for walker_id2 in raw_batch_walker_ids:\n",
        "#         walk2 = df_contacts.loc[df_contacts['walker_id'] == walker_id2].sort_values('time')\n",
        "#         if int(walk2.iloc[-1]['time']) == time and walker_id2 not in visited_walker_ids:\n",
        "#             if walker_id2 in reversed_link_list:\n",
        "#                 walk2 = df_contacts.loc[df_contacts['walker_id'].isin([walker_id2, reversed_link_list[walker_id2]])].sort_values('time')\n",
        "#             batch_walker_ids_prob[walker_id2] = compute_proba(df_contacts, walker_id2, walk2, int((next_time - walk2.iloc[-1]['time']) / INTERVAL), candidates, prob_agent_id, prob_dir, prob_move)\n",
        " \n",
        "#     # print(batch_walker_ids_prob)\n",
        "#     walker_id_to_index, walker_index_to_id = {}, []\n",
        "#     candidate_id_to_index, candidate_index_to_id = {}, []\n",
        " \n",
        "#     for k, values in batch_walker_ids_prob.items():\n",
        "#         walker_id_to_index[k] = len(walker_id_to_index)\n",
        "#         walker_index_to_id.append(k)\n",
        "#         for c, v in values.items():\n",
        "#             if c not in candidate_id_to_index:\n",
        "#                 candidate_id_to_index[c] = len(candidate_id_to_index)\n",
        "#                 candidate_index_to_id.append(c)\n",
        "#     matrix = [[1e-32] * len(candidate_id_to_index) for _ in range(len(walker_id_to_index))]\n",
        "    \n",
        "#     for k, values in batch_walker_ids_prob.items():\n",
        "#         for c, v in values.items():\n",
        "#             matrix[walker_id_to_index[k]][candidate_id_to_index[c]] = -math.log(v)\n",
        "                \n",
        "#     # print(matrix)\n",
        "#     row_ind, col_ind = linear_sum_assignment(matrix)\n",
        "#     # print(matrix)\n",
        "#     for row_idx, col_idx in zip(row_ind, col_ind):\n",
        "#         if matrix[row_idx][col_idx] >= -math.log(1e-32):\n",
        "#             continue\n",
        "#         link_list[walker_index_to_id[row_idx]] = candidate_index_to_id[col_idx]\n",
        "#         reversed_link_list[candidate_index_to_id[col_idx]] = walker_index_to_id[row_idx]\n",
        "#         visited_walker_ids.add(walker_index_to_id[row_idx])"
      ],
      "execution_count": null,
      "outputs": []
    },
    {
      "cell_type": "markdown",
      "metadata": {
        "id": "dHVijOA59nBP"
      },
      "source": [
        "### Method 2"
      ]
    },
    {
      "cell_type": "code",
      "metadata": {
        "colab": {
          "base_uri": "https://localhost:8080/"
        },
        "id": "Cym5ckCZwnod",
        "outputId": "783fa0c4-c9ad-4635-c952-e398287650ac"
      },
      "source": [
        "from scipy.optimize import linear_sum_assignment\n",
        "import math\n",
        "\n",
        "link_list, reversed_link_list = {}, {}\n",
        "DEBUG = False\n",
        "\"\"\"\n",
        "Map agent id to its most possible next agent.\n",
        "\"\"\"\n",
        "no_candidates = 0\n",
        "model = LSTMTagger(INPUT_DIM, EMBEDDING_DIM, HIDDEN_DIM, len(agent_to_ix)).to(device)\n",
        "model.load_state_dict(torch.load(f'{MODEL_PATH}', map_location=torch.device('cpu')))\n",
        "model.train(False)\n",
        "\n",
        "walker_ids, sorted_walker_ids = set(), []\n",
        "\n",
        "visited_walker_ids = set()\n",
        "\n",
        "times = sorted(list(end_time_to_id.keys()))\n",
        "for i, time in enumerate(times):\n",
        "    # (time, raw_batch_walker_ids) in enumerate(end_time_to_id.items()):\n",
        "    raw_batch_walker_ids = end_time_to_id[time]\n",
        "    if len(raw_batch_walker_ids) == 0:\n",
        "        no_candidates += 1\n",
        "        continue\n",
        "    if i % 500 == 499:\n",
        "        print(f'{i+1}...')\n",
        "\n",
        "    candidate_ids = start_time_to_id[time + INTERVAL]\n",
        "    next_times = [time + INTERVAL]\n",
        "    candidates = df_contacts.loc[(df_contacts['walker_id'].isin(candidate_ids)) & (df_contacts['time'].isin(next_times))]\n",
        "\n",
        "    if len(candidate_ids) < len(raw_batch_walker_ids):\n",
        "        candidate_ids += start_time_to_id[time + 2 * INTERVAL]\n",
        "        next_times.append(time + 2 * INTERVAL)\n",
        "        candidates = df_contacts.loc[(df_contacts['walker_id'].isin(candidate_ids)) & (df_contacts['time'].isin(next_times))]\n",
        "\n",
        "        if len(candidate_ids) < len(raw_batch_walker_ids):\n",
        "          candidate_ids += start_time_to_id[time + 3 * INTERVAL]\n",
        "          next_times.append(time + 3 * INTERVAL)\n",
        "          candidates = df_contacts.loc[(df_contacts['walker_id'].isin(candidate_ids)) & (df_contacts['time'].isin(next_times))]\n",
        "\n",
        "        if candidates.shape[0] == 0:\n",
        "            no_candidates += 1\n",
        "            continue\n",
        " \n",
        "    batch_walker_ids_prob = {}\n",
        "    for walker_id2 in raw_batch_walker_ids:\n",
        "        walk2 = df_contacts.loc[df_contacts['walker_id'] == walker_id2].sort_values('time')\n",
        "        tmp = walker_id2\n",
        "        if int(walk2.iloc[-1]['time']) == time and walker_id2 not in visited_walker_ids:\n",
        "            walker_id2s = [walker_id2]\n",
        "            while walker_id2 in reversed_link_list:\n",
        "                walker_id2 = reversed_link_list[walker_id2]\n",
        "                walker_id2s.append(walker_id2)\n",
        "            walk2 = df_contacts.loc[df_contacts['walker_id'].isin(walker_id2s)].sort_values('time')\n",
        "            if walk2.iloc[-1]['walker_id'] != tmp:\n",
        "              print(\"ERROR!\")\n",
        "            batch_walker_ids_prob[walk2.iloc[-1]['walker_id']] = compute_proba(df_contacts, walk2.iloc[-1]['walker_id'], walk2, int((walk2.iloc[-1]['time'] - walk2.iloc[-1]['time']) / INTERVAL), candidates, prob_agent_id, prob_dir, prob_move)\n",
        " \n",
        "    walker_id_to_index, walker_index_to_id = {}, []\n",
        "    candidate_id_to_index, candidate_index_to_id = {}, []\n",
        " \n",
        "    for k, values in batch_walker_ids_prob.items():\n",
        "        walker_id_to_index[k] = len(walker_id_to_index)\n",
        "        walker_index_to_id.append(k)\n",
        "        for c, v in values.items():\n",
        "            if c not in candidate_id_to_index:\n",
        "                candidate_id_to_index[c] = len(candidate_id_to_index)\n",
        "                candidate_index_to_id.append(c)\n",
        "    matrix = [[1e-32] * len(candidate_id_to_index) for _ in range(len(walker_id_to_index))]\n",
        "    \n",
        "    for k, values in batch_walker_ids_prob.items():\n",
        "        for c, v in values.items():\n",
        "            matrix[walker_id_to_index[k]][candidate_id_to_index[c]] = -math.log(v)\n",
        "                \n",
        "    # print(matrix)\n",
        "    row_ind, col_ind = linear_sum_assignment(matrix)\n",
        "    # print(matrix)\n",
        "    for row_idx, col_idx in zip(row_ind, col_ind):\n",
        "        if matrix[row_idx][col_idx] >= -math.log(1e-32):\n",
        "            continue\n",
        "        link_list[walker_index_to_id[row_idx]] = candidate_index_to_id[col_idx]\n",
        "        reversed_link_list[candidate_index_to_id[col_idx]] = walker_index_to_id[row_idx]\n",
        "        visited_walker_ids.add(walker_index_to_id[row_idx])\n",
        "        "
      ],
      "execution_count": null,
      "outputs": [
        {
          "output_type": "stream",
          "text": [
            "500...\n",
            "1000...\n",
            "1500...\n"
          ],
          "name": "stdout"
        }
      ]
    },
    {
      "cell_type": "code",
      "metadata": {
        "colab": {
          "base_uri": "https://localhost:8080/"
        },
        "id": "4I3frYEdfvWW",
        "outputId": "e51c37bc-3e13-4ea0-cb80-f9c71f1e7d67"
      },
      "source": [
        "no_candidates"
      ],
      "execution_count": null,
      "outputs": [
        {
          "output_type": "execute_result",
          "data": {
            "text/plain": [
              "95"
            ]
          },
          "metadata": {
            "tags": []
          },
          "execution_count": 22
        }
      ]
    },
    {
      "cell_type": "code",
      "metadata": {
        "id": "T0HY52swMkNq",
        "colab": {
          "base_uri": "https://localhost:8080/"
        },
        "outputId": "b9dcdbab-a1d1-4d97-ada4-1454a36fb7e6"
      },
      "source": [
        "\"\"\"\n",
        "Connect each linked path into a single path\n",
        "\"\"\"\n",
        "graph = nx.Graph([(i, j) for i, j in link_list.items() if i and j])\n",
        "connected_components = sorted(nx.connected_components(graph), key=len, reverse=True)\n",
        "print(len(connected_components))\n",
        "print(connected_components)\n",
        "\n",
        "tried = 0\n",
        "df_walks_connected = pd.DataFrame(df_walks)\n",
        "for i, component in enumerate(connected_components):\n",
        "    new_id = i\n",
        "    time_set = set()\n",
        "    for c in component:\n",
        "        df_walks_connected = df_walks_connected.replace({'walker_id': {c: str(new_id) + 'res'}})\n",
        "        "
      ],
      "execution_count": null,
      "outputs": [
        {
          "output_type": "stream",
          "text": [
            "104\n",
            "[{'MtrXAPWRYhgozTouZwCp', 'DqKwAXGyHXJDtZHahtEs', 'xRvUttPOxfDivHDLyaPf', 'gWMPyLFASXRfXjmeFYQl', 'HYOwIHXBDIeSXyAyMAui', 'wYOpujTCnsBlYvArKnre', 'wXPNHFDBGLRHRQJutRoP', 'bbPxCqIMBjNvpvfoEDzV', 'AzSQEVybySQIVmcuxRkS', 'orezdvDgyrkagrisAZtX', 'hJxHuEfKxLWmPGzaWdbE', 'XedgpEYsthJRnyPoEtVG', 'jKjezWKFjPCkFcSuRpEf', 'lRFROFJzpEhYoZsZvjyK', 'FggtkukJjwFDkQZtNMXi', 'CoTWCSDqMXnqUtQwBbQf', 'KLeNFpbMvFTcywfcyEYM', 'OIuvjbQJwJPAVFUoxlFz', 'oPHLkKFwbkyweRsQaWuL', 'RyegHOCzDreaQHAvNavy', 'wBpdfKOumKQsKUwbJNyD', 'fuSHWRAWkZYoAHuxgwHK', 'CKdAitQkpRqPRiBnstss', 'fFzMrsvXCtwZijARlJrh', 'oDlsedbnBrtonfpILrNd', 'SFoIiPahMRoWZvwfPOnE', 'ilJijjwLlKkIIGRmesuY', 'SqCzjwvlEgDMfanRUTdP', 'dNwuGKKCrXlMQzfQsLXF', 'mrlgWdiUdKKSEdbKctDk', 'UqwYmmOQuSPkPfPJrSAp', 'wCoEOycPXLDCgjewwhAi', 'FvwyOkwlDmUJVAeNGeqF', 'NdUYfCeJgugsbcmeKkoZ', 'RCFnpmyPBbtFUgmBNyIp', 'dfeQarlNZDcKiuIEgbLM', 'VquZrFTUpTCKquTOMNfW', 'UHKXRUhElBUvuwLdmrEd', 'CLByFQwWLLaTBeSRudQm', 'IigqkgTJxuqjzsvUEIfz', 'YAHgWLwoUHeeDiaxNDWs', 'fSESYdgtMdRAZFzvEZQj', 'GjjfPiDqtFpRZAoMUSxb', 'CxHNCMfAsRqjUCXquqPy', 'jdkayJldGMlXmgtVXAAf', 'yiASGireWGqOiFTDXnEC', 'DswsjLNCsRIEETBnXWFT', 'QzCBcICYCOfszhCLQcTn', 'MxsGvZiDxkKEnAsTzngH', 'TjEdfKuefGTiLLAikbVV', 'HrzoOlxpOXcrQSWnCqzY', 'LRQMEUgXyKaLWWgrVumc', 'eIyXcWzzmcxocqIAclcy', 'TGaHQThGDhwcNaceWRZX', 'IUohCXLfwZvEuOnnGMoX', 'UxSNXzPJHPTjEuwtoDyn', 'kGdEtTHFtLszKYiFstzU', 'tinxXebozbuqUNaUNYRM', 'aHYHSNwbHwOrOwAdUlMH', 'NQGCImAwisXFRiwNIhDT', 'SdzmCauJDDqNKusaFCbn'}, {'gBzVUymxIuvYKaaiQivz', 'THqFxavIdjyxOGoefEEU', 'wqCdOqVYuvfEUlrVTXkD', 'fwQbJrMrOmGeDydjqBOf', 'rETkLnGqJLfMqYWEChTc', 'oLocOvXFBSlkkCLEBuli', 'wiQwSksxDLtVTITKuOzz', 'lbNYcPvwEyUcaiJJfmim', 'wXSHHhJUGYaMrbgMUtUj', 'nLqbuTxVsOfUvyrRjofN', 'iyOhEgZbAKvyXcrXGeEi', 'DVhIsBeqJVsxnmEKqYcY', 'jgGlwAPFhfPINUnxpivb', 'uKDEMzQSlPtpFRKSxSdN', 'bZFjfHfeYwyQOjfeWuEn', 'stFUVfQQgJwUjETmoMTz', 'VADdfzOEvslIEFPpXNYN', 'pYamDoBbgAsksMsouKXY', 'aPQlSqwTZxryEbGiOEKr', 'xOvZNEpDctSyzrMjFdCa', 'AADsvHRhdMPQlDSLSCtN', 'KtNXbuvuMCIZxOIWRfsv', 'JQyXcmxLcCbDaKHrBsbo', 'BKnlzCQZdxJgorZjtMXv', 'DrwkmECKTOnkWPYcHSsi', 'dwVTwfcMzGyalCAAKNvE', 'DsrMiOwrcHnQlvNxCZvl', 'xsFxUTlNnIsyEzmYjPcp', 'wJKoPwaOirWYKJnDJYkw', 'CQwNzzmAJxbZXIaRAzBH', 'NmCjSKnhrneJzvWHpokT', 'JUuzcwRzSMtfMzclEink', 'MpBNkqmGVDPrMuXYHlZL', 'tPFPlEVHHwwazixjfjNr', 'PbOKQBdnCnrwrbMrYzFz', 'QIFUsskQClDWpwiJfzpJ', 'AAwceDKAjDkjGDpgFcfl', 'tMcwcmqAtGEWjQZNJAYm', 'gCzvFtuWOkSKWdEOjJSE', 'iYHwGGAlQWpmsBOLCChm', 'iigRebtQyYVxaOqOinch', 'aWbjegIESbCPPKfisENG', 'nYUPpUSjFXFKUibkxFcf', 'RllwdfcWimiHcpZiwJhp', 'ViotrkxNHPIYDyPRwwnt', 'TFOrIFsYMSnAvdTzKTGx', 'wyjBGBmSEQtsOsQflPcf', 'ZdPHFBDUOZDcldJUHyor', 'rJDrlFBZgHGFHQNMPBet', 'YwGZGWVCFRMjbrqjaool', 'qiMjtBiTQJdWqdtEqURx'}, {'jtHKBvwZgrkvkwQYJQzF', 'YQvSHhtmnKLsNQrUIQka', 'mSWpbWDNENGnhMEJBtrL', 'oLdfKloleBJAMjEuAWKc', 'GvYzBshdjGjefDOoVKQx', 'qKtYRiznwfKGOrEVDwIR', 'ypOiLGRslljOZVoWVMcB', 'vEGUeHZtKUfzvwpFoPkD', 'ooeMOPgNcJguSydyoJdV', 'icuztTVYmeNEkmUdMCRR', 'XSTqfODRDfUhTRsQbnCw', 'DzHaexjjtQkqlFlkZGls', 'arNVhycGSRlEyDFrGOIY', 'sVoRWYwSSemNEPlABVjj', 'EyrfBOzFTHAhIgGjAqEQ', 'HkHlJxmmdEPGUbOlTlIY', 'LDXQpeZzvexqPmnRtssR', 'FutVXHcNQMrvCujRJYfV', 'ZSefQfMrTWPTJuPdKood', 'GHfvhcfXiUhYhfIaYbxX', 'zWUwZjaAQEPKRTpMrUSr', 'jqPdVedsqaaaPzzeirOP', 'CGatwrJSTEAYYWyRGnPD', 'siLrTeVLTMwxXkgGCvSI', 'ckUNYSSqdZmXUHQWVxwv', 'mjNKSzWPHWkSKKHknNql', 'TgQPbTDUHWyraqqXnbVq', 'gngWhVcdBRefSoHzgiuy', 'UfKsueqjAZwTLWZbqNhQ', 'LbNGnnfPBzofAsBNwPYH', 'VFUtrwonZJUHqPSCUMhJ', 'SOrKFSjZNerjzJJfLzms', 'OKOMeavrRSDJHMxXzfyC', 'nyLqbNnJlIkdzdkFWxSt', 'WtJNRkfobxVJoKBgMmhE', 'UANgpQyenrnXKVdayOCv', 'GeGHoGaALJKmzHWVbqwt', 'pgSpZoTrgHzuGvkvWTJW', 'smxvujNDPSfOzQIrOgXM', 'nYgVxTBNrHZwFsxsDegy', 'pfoaYHBWQZJEThBBawzm', 'rNCWHCcXMtFtNxRNzOzZ', 'BdEBdTMpjPufGHBiBTFY', 'miJoXlaHBEexNhiVsWzk', 'XagoIJsvSIyjeuSSfWQB', 'gnygLhzLYTvLrMmkwFxe', 'CEmZylfacKkSlvnBjapq', 'PuhayTFMtEksPdxaZPNB', 'suBKTYANuuaiCeKEIPkC', 'hTVzAwWnHJbMCzLDwKaT'}, {'HpKnjHOAEIIYgtxFEgsF', 'MMPpiRdwVmTPSpmofuxg', 'WrHMvHhcYrfrbgxTdLQc', 'WJrDSEJEaBOGEeVPUgrc', 'enZuWNrZzRiSphCIZINy', 'dnZYMmXDCPyowBXsoVdA', 'yImwIkudJdWaFwuyQUPb', 'lVWnuIVaGiybdouGIngf', 'vZuGLtPdUKUSiHOIxFEC', 'qheHvWxLZseovZIDCsHz', 'EwWxzuHQMWoTjTOjoMRg', 'iNSIZlBRBDpLggKxBQZP', 'KoMEplWASXIJfcQajHts', 'lVKZkDAhQjsJkBqacbOU', 'TZkSoMYgtSoFIpJtZygi', 'FEshgVDTdHwUAlceJDhj', 'nzKqMbdNxGiwCaMRgHgJ', 'lTxWyIkNfGweNkCKpKlp', 'cZXOWhhijAJMvnsKFjKV', 'bdmECEJRVvlDSJkZGHeW', 'PSiRskzBXyWhzIIIooVS', 'ZZwCrPpBdvOrWkcktyTz', 'CvnzhsVtrSKftvmwMEMP', 'HbFnDptWOnCgdQfldtQZ', 'VHDmWeyQTzuUJrtFbYyJ', 'tHCRlpNPceTNzVhbxQIa', 'vkPlIQmWjgDhrBcVPIPG', 'RMzJYBbtamuJVbgYzdUN', 'NVGFASxsygxFVGBnlsdH', 'XthMTedOaXOrmNkIMCWI', 'ckzOzLCmdIzibwNrgiZp', 'IomcVNUuIHwwtHvrxIxQ', 'iuMHxESsMMGamTLQacaY', 'mcVliQFEXCNZvVRfuASC', 'yysRfGMWJqjSnLqXHVEU', 'xcTDUDkkdMjvZCTZWbUs', 'tygLqZwmDHvQxFaoqSuL', 'VMaryVquALMtDsCdcxln', 'kFhJCFVzImqzkImHqQUW', 'VwXGOyJNnctPUyngoCWZ', 'MjYUAlpiGxXWmxbvNvZm', 'fdpwrmMSyFkQExhUcbBO', 'TkzKTXUfgKqskAjhYnuX', 'JtziLBxujtiZpkvsSmwi', 'vGTrqeBFRsYxiFZaEaRX'}, {'jThSlqSzrzYAAdHytMWC', 'mCoaFjNZNwnOyQJMyZxo', 'mCPqwURCLXbQnamhfRgX', 'XzWupuUzupAkJxHcyHtS', 'OqjxUblOoEWPSXhTXenN', 'wIENhcJrtONYeZtlScvP', 'AVCGzIoMxKUNtyvRejJh', 'EKGjJLYnyQXcVEsHGART', 'nizlCYWbpvSRYwneWdEn', 'DnAMkMpkLbtdMCIyrcGU', 'dwavjVKDtqqMKKbLwmXv', 'UuIyTOMktyKbXAeHZTNG', 'QXugPYdiwSKwExIXKsYV', 'AXIcFOPeCfZVwdkLWGqt', 'wYMPTAnYYbHekxCtpuQo', 'XUQGmmjEVWxAkihKcGIW', 'UMemitxjUdinyUGTkRaq', 'XerRSLqLSblbIwqSihhR', 'hmPfyYYaxtOagzQsXTdb', 'icKjVtUnJslWNUDlozKg', 'tCiJWyEEEFHmqafxxCVy', 'wfXovUDShOkTgCzeQbVk', 'QgsojwbRsmEmtcFzwbvw', 'xVIPykUCdtiKmcZQFkXb', 'fEBekuriCOsCbIcIwcte', 'ZUBNPrsfhhfcahsNkPZE', 'SpFQWIBHMaInTCtWjRPv', 'vuhRKguwAGJfsZaQzRwy', 'mUWZQNvssbWgNCVGPFwI', 'OVHZSSPTkmjREtvQhxCf', 'NVlSmUCrAHVUvjqJgOeP', 'IsBcIyCeSyqPjMdVXnhG', 'VsQegwUFwvtOZUvbQNAI', 'KdSBLbIAXjulLEgQyrLc', 'dopjfwUwInpMhIyhJEnC', 'gFHEsJpbuNGzQuKPteKY', 'AkkOIBxRMVVAmJTequfR', 'sDjmSfZHNCQBifWfJQYN', 'TCwQpSQDYuNLGfWgEXnC', 'sfirbhExGDLxEktNriGI', 'sKsDnThxHDWEDbQWRKgc', 'UMgvVTzeKxDzQgBXWxgS', 'OBrfPYwIbJEQyTZuBHCF', 'DQTuZXiinCSfhZRhnUPH'}, {'MrtExYVJrTcLXoDrIaoI', 'jwEPAtKkbPSkKYNZwAGG', 'WKteKGmzSUbwsrWaqROj', 'ucRKuJsOsCmbrSKmMYOe', 'oPbXaHSOufPcNwSWzcUr', 'kiyjKmXNJKoarVfwomQc', 'MjtHuqFsRmOhTcFGYPqz', 'SGxUgJcGfSqxODuRrOlU', 'XBOOzqvfVofMbqkOugKm', 'IBQarCsbZhJDbtMSrApm', 'FtFDPdfoKzogFcYvwwVR', 'MQEjeDriPvRLTerLIFGC', 'lEldmgOyaSpLLOEtCSVh', 'nZfjmSEFFgRIMsnKMFQu', 'whAlCDYkfNNkznhebxLy', 'LdnOwihvAllgmlIHpMlT', 'SFlspZMgzxMrgYCtfHWd', 'anzONkSAAYdwfBdNLkpi', 'wBapJabYoRIxQgXWaRcr', 'RkuyZYkKwrZdtZiikfmn', 'brltLThnNmyoGroenQBH', 'mkBwvNjQbZxdlsquzvXf', 'LtWVTJdnYvtGiiBtYKjC', 'NMDVFauOyNiDzCMpgxIk', 'HeVFcxziwETvECSGlzrh', 'kVyupsPsaDuGAkpmjRtG', 'UGoEEFtYQsPFNwliwKdZ', 'zdvhDlwYLffKzYoQkFMl', 'FawhZphxTElPGoIpRIJM', 'DOfdSDnPvszKPUbxmQWq', 'btLqaWltRNWkkoaraUQR', 'dojbgQFJJKqUnXFnkOqa', 'RqqdYDFGkiaqqfVrWRAf', 'hQKSUiLCHeGuwefiDSXo', 'KbkCnjDkOTbRaeoXNfHG', 'pVGmADLPZqraMrwDfMwr', 'rOktAbVrrGEuCJlzrTag', 'RNewZXhbkLrsnetUKXIC', 'GzzzvzOHAyTURiiUjmKX', 'ofSVMYSVzSNrChPFYYIS', 'YiodBqfiZeKRHrvduDuU', 'mBkuDVYPRQTqTqWBMQjN'}, {'bBhYLTHoLSZaEePhpWyo', 'MpOwGYeEQPAWADiOkBuG', 'OiUHCFqefXFqGqbWvBVw', 'QOFYhALnqmtQFtLSmkHn', 'gnJAGqrHPfTkyFlfeqgs', 'gtJhalYFnDxBGUvrfcXt', 'RQIrAUJAfHAkUvlMvsRj', 'nLtYWQOPUYEBeOqAeTIf', 'nLijByQJkOaqdKwPRxsH', 'FiNeTUXvfbUQKYveXFPZ', 'HbnlkGSRmFtrZIvBUgJK', 'RtkCFPnLQjKTCyvATnTT', 'XQSDJeehFjNhJtuDUHce', 'LyuETBdagVTyFEPqkSNs', 'BKmXvDAgSELtPXNbnqPj', 'kYQDkZptjCzBmLmkXshk', 'ZWzHeYcwUJNKTRkteryn', 'LPotJQPWfGLpCoVRLLkp', 'sOjKlYcweahjxwhzyDwF', 'DxpsFUJGFjaDcopFrTAc', 'qkVBMMmalvxbGAliiRfn', 'egoFhBZSgOLirNPRPxGh', 'dNqwtEaKBosYQhveuDxs', 'komwHUGYiuhVsPExwDZu', 'QFwNppQtKHwHdIEquxah', 'NnxTdwOaTKjQRZgfgsiI', 'aRVBcqubUCYnbYYNoqxJ', 'YxyMtFRwuZuINccjWTiV', 'WmeSbcTwIbLZnrhLgovo', 'LVifJGlgoUnTDxUTFHtT', 'GRfApyHhdvyhsapyJIbC', 'tCOPWkcFVzbOvpFWQsHy', 'fzencDQhBIknAOafbuzE', 'gWpmNFkzaVwweyAIyGZi', 'lHVUQEQSBnyeZcPfSxZD', 'JKqIJBRWSwwwNXdhLKuQ', 'GuXoFcDnKWyeRcaMiMpO', 'oKzTioLWZesDHmXHfXnk', 'pgTrdtXweDTPelOCAErB', 'EtUaJNlosVNYiLNBqZOS'}, {'VabhnYLWmBlPSTGYPfKy', 'HXSYWYPihXIOGEEUpBoO', 'jauTElXXpTkQqIYxjvbt', 'XKbNhjRpNsQSqHFmyPFU', 'DrrVhtHNPuSrtvfVgnxx', 'XjykuzHgrYMKLAXymOZa', 'YkSnupbUhKsdeILIVCKS', 'gXGFeazEuyKOrdFibsvC', 'YGDnRpEBZcHolQSBhtGZ', 'acvdUNuKuSNqcakETPXR', 'NttHjfJuqZuoDXLQaKqS', 'OOGBZGXKlhuAFbZMYUJq', 'tqtlArPJlimBPuZQEVVx', 'PTghgDMEkshCJZuIirMX', 'wMkeUuEJggBsgVLZKqDN', 'OyNjaGokSqSSkJFeodfv', 'tlAnaxRxFWMbXJllXerz', 'uKuWvMxNnJUguVietwHV', 'tbnMtFMcsCSTiVtnXyuU', 'QcGWZsCPIQMBFXVnHhJG', 'DClZpLBSfLbSmaPEqqDo', 'MHgUflnDWdcghcOPtizn', 'cgTvcOIJUSkcGnNnLjfp', 'IMyMiIwgWSWFuqdfcRKj', 'iYuiisOBHBAdFuRZsjOM', 'FFpXCEUNuYnDDXTsansi', 'zkVlQUsKqEDoayBtbVXu', 'ksmmBMtllOZIZDrxeZem', 'EfcLbvVkjjYLsBDbIDou', 'afXcmxIalHUtCkJWfwyA', 'pLhpDmdwgZYWYmZIpNzV', 'jfiiSLHTIYvHRQJelGGD', 'JkiPVMLqZwrTBpdnduYM', 'apwDIOyeIUiujCOwHtuY', 'qccCpkYVsqjEnQiOQlye', 'boiElecXJAnIvlzosPuO', 'ySEcqhBmyrvyeYEDVYHb', 'NmPFTiHohnVtrBaXdsOi', 'hSfIHpblHPftPCinkSSH', 'UoPPPcGpKVlExgBtUABr'}, {'fOpcCQYRlFztJuiFtmeT', 'aPOGsADXvwHtNxaXDRfE', 'ZLRJrNGBFzEDiUbambyP', 'rkeVDdVeqFCGXiSSuceR', 'IMsBatssQtWwMndoOaxM', 'vcODPrszgvYnInLDLyhK', 'wOLTrGdytnpthlkqMDHo', 'cUtlWAMfEfjKVFlowpsI', 'UFXAFBAmIJWPwkpGUuWg', 'mlyIEagCcvVFFqYCgqGe', 'DJwwOsaIMTZnZAjXFRLU', 'SCzTytWbQhbIaFfeCOjv', 'SaCYLbIlJmGUzIRgodmL', 'QLIHrMAtGcWiQToGBVkO', 'jmlnycLmViMzQjfbpUdW', 'idyJlvYsaerLgKwMMizC', 'tlAOaPAqpCBkAaSjGlYk', 'uHcCHBloXmHMBgAtrHRU', 'YsTfyCfPsDKIjCfovQBB', 'SInoNpzasTOiUDaXJylo', 'CjrqhrNZwttcXloXNtVS', 'FhLqrOKVYJzuKfisRRWG', 'TVWHIVgSdlPEiKDXGWRv', 'kPIFtOPlCebyafTkbtsU', 'EPZfpgLVIPshBAWQIsZX', 'JfSqlduqhYJxPogqMaMm', 'UEhokErqcjuaOzxFSNvL', 'xdRGFDVajzpZdRZuEDIX', 'EvcnCFMmHTeedCnrKEMq', 'PgvvNdZYMKLBcUXWpwis', 'JZcwSSRfLNyLNiALqRoH', 'tcdeHUqddcqPLhuzexPx', 'SMObwALshlWudSUDFcpv', 'rzkfRDMZVjODaywulmkZ', 'RsChVmOcewTPyyzpHBUx', 'ifUDMmJXWxcyswwPfGeo', 'XoWzlLvGmkwLfeROcvry', 'rvJJirViFnrOdltxXHyz', 'FtWQlAuAtmjLlMYUnibM'}, {'FBSqwoEMlLeEzgnJRWAR', 'iReGtETOBDzOUpPEyUwa', 'tgOhRTtGdKfuwuKlDFZa', 'DTneWkrssmBuKZWjyoCE', 'sSNkJLPvStifhiLMCXwo', 'OTPAbxTssiXRBgDTJugz', 'GbqYQXBqdSgDqeFHqjbB', 'wGPKCBHZxNiDmvMIyIAE', 'camPkPAiTUpZqUCuGTuw', 'iKUQHlCuBrvUHxVFTquU', 'tYVmlzRyMtFFvvLfaVOr', 'yYUzChUTQYzUGNmWIMuc', 'RiMaZuuPriTswIeUEEHw', 'WMxboiUnYlriliEWdogl', 'HhuByphfohXNBoRhzppE', 'mdErAmbKgWHzXASOkYTZ', 'mzeLGlBRjrFBJxMkZKmr', 'txXVhGxSsjwOunIqMmkZ', 'fvMgmSZGrHVpffjwKxOO', 'hesibrmTtFYEjmsIWBoK', 'QbtGoQLzJmorSTMxSggw', 'SlHDvZfCLjMktPvqQhwF', 'vkyVvJedndeCZjTRqoXM', 'ahpAaLSZAQliYqoKEkgo', 'GtSeNneFAenoGilXcbkZ', 'FQnzXKUmJVtPByvyCYrA', 'dNSGJBiyHLtyGDrtpbwT', 'VpNuMHHoNnGDwiyiFPnr', 'ykKkdWvnAtgxgLLbbJKZ', 'oGsDywVZGIoYXrLvIamO', 'yvccZSNXjRtUhBMyCerV', 'xTuBQDyDFDbQrhAzpFFy', 'uQftGfOUBJiPnAumIFRi', 'ieZuInCIkkxOFKdMUIGK', 'LxylMjSTwEyvXOvPLtfV', 'RplcaUBwUpeVfrJvNOSU', 'iYbOequOqjcdimEwRzwP', 'GYGVpLIpkesgQbiODjtt'}, {'xybHkgAqCvVNOZISKFoV', 'lqkKDOqrObKGwUXxFwSD', 'XmiMjGZPrpyalDIBRKIN', 'jxdxcPekiZahnFgouIqc', 'BMlrDUcPWsfjtYeHJrel', 'tLcNVJjoBrziLvSEUemY', 'aoRgWYVRLljzBDpNgEQA', 'XAeTBKiLjwXslaXOpxRX', 'igEeucPRsBTjCHoymwqf', 'vRFaYTbucdwdVoTSYsar', 'urJQnONvLceIMQcIKFzJ', 'HMxTgUbzcpCpBADusnIl', 'gQlGaoYxnBfZpmAvVndW', 'ZhbLXGcecuthhsLYSUzt', 'FoArovMxezYNFzrHbqEm', 'lUhqwjUkTaiiGCRDcMaT', 'tECZMunUsfcjzlSCuCSh', 'JHhrNRDejFSwxevPwzPz', 'oLHDfzUBpQpzrWiaeNLu', 'CTqsOXabXQDsvWvupYeY', 'KrKSZItWTmLahPrdMkam', 'gkMApJbTavNBElXxWLnk', 'XQLxRyxUEdAWJuiDGXEY', 'KmhbPMWeNCVrPIxzBfau', 'wRKitFeyzbrDOANSGQew', 'uajupuCRKQPQoOfcxEVX', 'sDMvLWKtyYvfxRldcDim', 'eJegjHfVYCuHYHvPnGwi', 'ZRtMdHapeDxquNjwyjlS', 'uvexGsxkakpVYdKWQWSL', 'HwrzuDiRlbeNIgoroSLJ', 'djISFzFYZIKVGeUzGOjT', 'OzvqbyOCpERBgvBuSFal', 'XJRVRrannTVlukbXPmeJ'}, {'wuJyktBMwhUuOqNnJQFG', 'GsDBblZpntqOIjrofOOS', 'XGxWoxuMBzBfQZpanHvS', 'CHFPAbCDujYtUGdPpzPx', 'zLXNAgpnCdIZeauWFrqZ', 'kmNAwuMOMjyMnSfcMhEA', 'xefnzSgYfjQWGsBepHeK', 'kTpDINsYmWFKLgUmAaKj', 'mjHtOjLNPrhHbwgdGuzH', 'RDiYkQhGdQgIWMiHFxKg', 'zpCTnPBEJaARPYsLRfzq', 'yQhjXTlHlVdLOHsKGFKr', 'eCHMuAsqVwNgqnWPqzTf', 'XRNDSChTvxFmedEHibBQ', 'HAtlsPkqeUdylUNDJILO', 'uOOKopIDkLOrgSNnAoib', 'VxEyiFZpBfIqPdDmoGPd', 'dzdtMtotxOjsNJswsMye', 'NdOIZfqVdbwdmlfpkEIL', 'OrvWWhxGPDMFizNpZmEG', 'KtsWzwgCqUgOpUCCmErT', 'pZkRuFNXZkuoyYPdsNGH', 'HyuWBJmMqKJVDbCwdxkC', 'WoxOdQvMYtIktJARgqcP', 'keZGtjLbVmhUhvyxErNh', 'trJjXnIbDYdjXNZWJyPm', 'hxXJpFvvRWWmeFyNNTYF', 'DzzVNczPURESlLMoXTVl', 'YgQwMwwccxFGcOJmfIsm', 'ydSdOzeyTlOiBwHCzmZi', 'DgdpZUGlSzWVUfyTlwEX', 'LIgzoFqJAMHazzLJoOpO', 'clqiwfxeQfdqdsZcTwhz', 'dNpHrOtNTEXnLaDpydYh'}, {'cSgGTpwnPDFrBYCxPnoO', 'ZjyFasyBTaAlKftBggcF', 'kDlcfrJuWYoyIpErNuDM', 'LRUnNWVmkYmsHZbMPrbM', 'oooFEgZxiiRSDzXOHZxF', 'jwkTpkvBRlMsVHFQICoO', 'lmorltQgfdHVXNuexLkc', 'gQAbbLhfhybcVZODoJTs', 'OZQFRafPExDrpkBRHXfY', 'nHtsMtmDzSYHmUjakJaF', 'fPFwwbWXmOncMGuNZiLt', 'ydVEEMCCQiRXRALDpfgh', 'MRAbajdiJTUtcfodiccf', 'iWMKZLBdrcIxavbsADxi', 'twcpkEGuRxCZQseuuetH', 'cnFsuvmyhztZDoYbPJSK', 'gkiZbfXTsPGLISgQGyKp', 'gCgPmryGQkuiaDTGOkDh', 'PaLHoEsmVQmBEcEGQxzg', 'ZHJuIWXAEIekkHDhuCtM', 'LvfEUIZAFjGGAgehVTuV', 'WtavnXZWdkWASsGviBLx', 'lSAAIcHVmJteiKDdXgXL', 'PLINjhPIOjVEIEvupRUb', 'NAPKTmChcpnPXdkKCZIk', 'NwzjtdPyfakxZEXtqqpM', 'ttmRpiTKLfDeEoevziEq', 'dXBHsMMbADohSJjtyDbK', 'POfsVIvsZfBJVnsIAnkV', 'XEkytZEkrZjGZOkAksbE', 'wEDHWJsLSDnoTgflmmnr', 'xVyEGBCYSJtIyFzjuaqE'}, {'LXxoYKiZKRbqrvkRJvTB', 'fhNgXfnctNPhUmtGYdwz', 'xKJWaalQSUhBUIRBAtem', 'uMMHKUYIvsVaWcpkTKbR', 'mogRrGYaUkAyFIpdCgDS', 'QgduBnBHOuNksEsOYeXD', 'wiYoVsAFOlYWBCstfdum', 'GjSNAvYvQtAhekPyaRdA', 'bnhiXwPSoRGXGJSfHRUV', 'dDQMfLbSsEwGwGkVIdIL', 'bKvycgTWpLYJWXXRDYXa', 'okZqtVmsipoSBdHfuoNr', 'jxItuXXLRnQFnPARefyb', 'HYkzHpyGfYQBLTnZkaOW', 'TMKLsOpnGJgvcqVUkwha', 'dduKuHNLzbvozymAcTnQ', 'aaNIWFcUolwxqSyVJxbQ', 'KfOgwzdwReOcrBMWSttN', 'tRXAJGvKFbkmjHRgwxSN', 'hExWigSNkscBpioWmqKY', 'XFdKtEjbJABqCFUsnKyn', 'IRgvYagTlhAqpskoOJuk', 'VzqONjUJtGgDeiCbGprN', 'fQEhIRphvCfdUkUaHqzv', 'LfUaQkBMEoSJlTVeaHGV', 'tguprlQMenQrEAROQkge', 'SWuZpOUGXJnyeUvOFVui', 'mbRYnVYbTWFiCTMnXoaH', 'laIjXDECgKecMUGvWcil', 'mEyYxJvyatDPALcBlwrR'}, {'kIpzOoLXrCddCDKaqupc', 'EtBivcHYsDVxonVReQFk', 'xQkbqSUNjlcqaSLwUPhi', 'fvxcPMgNzkGpuyciicXm', 'RAeLGRkzejKaZsmsgHnZ', 'kZtNBrGEYXVnQIGHatGR', 'pOXCLXtQinkzVcxroMbO', 'vkitCDnBvxmnIwunuEBe', 'BqRwIUrtHPEYLLESwqfc', 'NiCykglHTeJGteaIALNN', 'PLuXtciEFZiubPbTqgGL', 'njMinZLhTwOkhVBRVZDg', 'sskvcncnpQFqnIczoJMY', 'FMObxfOYOnxomDvdLqsH', 'IEVpNpqShbwKGGEUELjF', 'HDInTLXHJACmkDBufZCQ', 'cLJKkapnWGRnLSWxgZhy', 'GLvogaejxmPOWemurhfq', 'bQlPgznkRadjjaluCLFM', 'RKoasNCggaderNQePIrT', 'POBfloYjeMhEEGIyhPww', 'eCcMqoWWEFrpSYnEPtVY', 'fFbhFgNEsOsrrfMqGazA', 'HFDZzpRiSmtriskibjqj', 'AMncUhfKRfLwAVjDTHYm', 'lIrGCEDzUSVSHIGxMqme', 'ktXLZWegQCAvAWwwbrBJ', 'AiOlpAfmCCFrytepIXqp', 'uqVWNYQIGhKGvEixbAiR', 'GsuTipOAMqaPdddscEDk'}, {'qLPVURXFWnYyMGrSNwyN', 'LTyEqWrERzTicjukGRfr', 'GWUgLjLYyUAMUuGmLGBh', 'rqytTEzrCYtoAtmIqCGy', 'GxmbdnqAzipRqIAKXrhR', 'BXtzRTKHmIfjSZSufZIo', 'GISyUWEfELlliothtpBq', 'SFwKINYcpTRAWALwQEhV', 'JztTHPwTkmNxDpXstflI', 'DYOcvqDoKOywHBOMwtQc', 'WqyUgaukZLjkjMqFFbQi', 'zLlsFZvWUMDRDOBxFpsI', 'nUOYebOXPHAYdkvXTKtU', 'uZhtFXxAmSfPOXLavgVZ', 'uZJGkfsjpGMkjIeogaIF', 'eCOhSNsvUfNfWqYedSNN', 'yfYPXaLPjNCaVYdImwDR', 'QgRHwmbRseqGmlUBhUxK', 'asLprNqnNZGuGTryDYDp', 'nkCKLRfgvdtqDoKvzyfH', 'kBqNbIUeIsVrlXgaSVYf', 'rRpxVylywHVtjvQDjErf', 'ctEnnvnHOiaLZGbihsHc', 'RJHqXPynZwqUIwwgjjgu', 'TOTQkrgHkmmSUAGbIDZI', 'pYuvsNOJRbFuCTLkwcJs', 'WaYLrqiVxeVRhFAEMXhn', 'pDRwBoaqAQPOJuhISYmp'}, {'KzPiSsDuSHNHdEmXHSJo', 'AJoXpPvfdfFCWFnMBlOF', 'aSXPaykrnREdheMKUhcO', 'WTnrEDtSTUzsROqkfdeF', 'loCOUHnhHDkiHyOenyQY', 'lvVMdhZjrPYdtoTIurbd', 'seAKqvCxhUhzCAMpYXyo', 'xEzPTGoaUkMefUzsvSUP', 'YDEYuPjKIsNydBhwMJuc', 'xhcAORJWNJpYoBZcYPQO', 'jMEVeslrsJIVQYxEWkXT', 'gfuVJTuIbxeuzBoZVqmi', 'oWbZkGeAqLMSBLFkOEHc', 'dNHNdVIrwOIintPknOsy', 'wLUICeenBBrPWLYsopEW', 'UEsnxLgPdybilsrksiiI', 'CVcTwepQkzdDsXhcOwmU', 'wMqtzVuXaTzppMHljMgr', 'ISSGOdiXJpziclMEYbss', 'NUGPLuYUKWGRqOHHgPIr', 'aNXJRwasOmpHtNcUHPYS', 'ydwZLRFbfpPjggiBJpbX', 'MKjNlaVynFSzdcnZyXhT', 'NYhrhjjhaTBzChspmwbd', 'JVjjRWieUrXnIBvlKwcb', 'wnkaGBhXvZEtVeKIBdkS', 'wCvCZmCKpDTvBmrbFyEy', 'PyuHMeZVhXcPcDWtcLOc'}, {'eHMEcUmkTTOlVDHnEUfP', 'OFfmaEMUZueogILPfHJV', 'FvzgcQKXItMTEjFlNmFQ', 'gvmnGyIxXEiilLjsQiAb', 'xHbORSQYWQXQUkFZwiHE', 'BsnOLDeERciSgQYvGAVI', 'mDBJZlLAZliNlXkLImOz', 'qoQdVfpWtIDvHgcHXKVd', 'KliZJpreqixCpUaLlvtZ', 'FmKyAuoVlGsQTqhaNSyd', 'cyaFOAqaFgkgAiBHpgll', 'irDGUzQFknvgyiqGMCes', 'VbkyvBJrjcDpxWGmgVOH', 'MpTwjqEolNCiIYOVGIaq', 'tePBNfPljvQXrsTXiSzn', 'xxHqtAskRRzVUgqMRour', 'iNIeJgYWjMYvrnHLSVBw', 'yJhvOGMcFCxbjYNMvHes', 'jpbpkJIIGsThmumUbuip', 'vRhswqRlLqQLxrqZCsIF', 'EuEymOOwUtiWRdiSaVVV', 'mEtPuQhJlghkpVguTjoZ', 'WtYrFuUsvJIXiIKcMrpI', 'vCVAUwfBMFaRVLqLInkV', 'yWZHvgPuJxNCQOIjpmLz', 'quMSwwCFTlNCPRtcXUsO', 'kfRQKdGDvqsinXwIsZRt'}, {'QFfmzGXeldKNIMjmfyMQ', 'oLHTaIaziaxTczatbPzy', 'BvnfbmMvwDrSaDNOvhXj', 'qAEWkWmDcyXkwsNpjbmF', 'koLSGaGnRSDLWFWYNLHk', 'FWFOXukcJQAQMMmZuFgs', 'dkzpRHDLquyexpThHZVr', 'TloHRVXXThnCraskDoNl', 'jVseiqqYkbUaXKQJFoqN', 'rvTZeVFNGwdWSeRjEDvi', 'NccZKDpxPALZZYmTFHPk', 'OyFBWjDCIVYYmlqYQyhb', 'VTTbjAvicqOsCFKLNlOM', 'QVwdgxHMNoMiKwzMxSnm', 'tHUYUQGhoJUfiBaZlHPB', 'qssPIVEWbQgWwUIkhUMz', 'mvaarrVrtEdisgTLOnAj', 'xSHRoTaKfjbiYzDRVyUe', 'DIjbSasuXPUUOmVpoXOm', 'tBgjoEvtLeOdrQQYMQCV', 'kxRUTZMEvhVBwnisNvAc', 'SztpqUvHfwAbhvJbVEZO', 'ximUYxayrGwWtKabVaKE', 'aFziNvdoufBETKMTMVHf', 'cLnUYNffFLAiUyNYxvfx', 'LQaaCwnXtqvLNwpZFJgF', 'aPsbxHJXEmHZzViFtZTk'}, {'pPXXPbyFBIQgbQvlicGy', 'rOGDeeZJEVaIIFjfibFT', 'siRCNrrfIhcciCXLUKoE', 'AbUDPwceoQqyFNSZYGST', 'zHiEdMafQemfAbvKQvWx', 'lJUXypEbnRsrbjTQJYNj', 'thnOEKRmgrFWoZFirCpJ', 'cEGefvtbyDnkDWGNtTQQ', 'TFRkzntNsDEIrZirQWQb', 'laQTdiAWQQDmtUSoXVbh', 'LfWmeMuzRajZTjYNYKmA', 'IZmdIebBdezZaOjFAaJd', 'vNRkLzIfcIHWdTHMMrFk', 'IzRYtSkKauLTZSOmYmKr', 'TDLfhTIUiiUdXZIhQlZZ', 'ECzTZbFeZTsAJcKtnRZw', 'ifWRKZjRnWOJFZZakeec', 'iDjxIlqcGriiXRugsYJn', 'tsMlEXyYVHIkFiEmgrAw', 'YdwccINLFYdpTzBKZTHC', 'NinfjakRfRXllYFECjlk', 'WCeLviRENPqFilRVsqSy', 'aOHKArVcQZspKEFaQGzm', 'fwydSENHTAoXwxiWYHZa', 'pGTCbFlMzMbkFMIIgbiW', 'PRrRgScIswbQmYXIjAWT'}, {'hzcfYgArGSiZlnwkiwkM', 'AAhduABXrwoyjHvGWGtV', 'SXaSgVrsHgLPJwqVOpLi', 'RRyaAAsiIZTuVArjcrxm', 'HOypzSouILAFfHVNmUCQ', 'XazwazFiJOFoGLFSHkoj', 'lmrDEAiSDGkJaJgZNPpU', 'CwVdtuRsKAhicYtIjyVV', 'ydMSUXUjYGBFGxnmqfJt', 'qbQLsTdCnGozNfwPBBBW', 'ZQVtfsGNGRIHNuWjARev', 'HJdwlCknmIKlsfUPEZvr', 'UMVQcUXXoYWrSkRnJLYn', 'UoMybBWBGccSQKiAqMbi', 'glULLSJkwokebanSxOyR', 'vKPYIoNscvnTkktFKoOK', 'KGpaVdgucgBiKApdjJpN', 'fyceCZIZhnpMEDlcsktO', 'WpZSKOqeVaqnUyJGPMRt', 'uXMfRVLrYLleQFEgeFKu', 'yDBerwFhyjofVZvptWrO', 'DxUHJTNzHvVyUcocoukw', 'kxrhkaircEJvcUMpuObV', 'UQAcjhkKnQcdtCxtYTNH', 'LQAuOGeVjJBcsAPkjqeM', 'KzsGBfekaqTYCEmbInsh'}, {'eniqfJAbjFSdRPjKZkqK', 'BaGHAznyMWlXXtcdMpMa', 'FyKwrWqaOGnFMUYMiZnS', 'yxStyndArmPwfEbZrGvq', 'lqPkZWdoJCbhiHTknGZJ', 'KFGBuxmIeptXzLXTVOHx', 'RAqEBVsJeZepdSHaYCcG', 'mZyfOzVslJyPJOrpIQSd', 'fwZXLTCXUsbYUutPkmfA', 'AJvYOMCyGvnnpBlcQCce', 'qzRdZPdmDYMkhreeeJaJ', 'HKAaTPeUbYvDVGCawxgy', 'WZQMUIfpGJOuUmIurbsJ', 'jbajgxZFhqdObOnEiHai', 'FuIdxItBwbdZLQGwjDim', 'ssCjNVOILtiRNSasgetT', 'fOwAkozzuOrxfVHSDIXy', 'YeafVMdQPKMwJArLfJgI', 'mxiuctbRkJnOUedLmfon', 'amtEivqDyAVYHTflYlRj', 'qbqlQeLSrzBxbYeEQeAj', 'BbPypfvCUpiJcDDszwPG', 'toqEZBVstWVWzHzQtmiI', 'MFBzQKxMFvcWCjomzYoq'}, {'AlgcfHdyHigvsrkbzwXE', 'rHBjKbjSEabgJvdrZRTL', 'XRzWXMTbdtBzXaSXKnIc', 'nFkayOjmszfCtTMHtHHR', 'dojlzDYLWiBcaEdqePbE', 'OjcCJSwTHZtrbrCmzfoQ', 'SWDiBUKLaIFZVMyGXuuX', 'FtMRLVxFTzCyUHAFCiir', 'TipLIcvEvwzVLSQuzMNV', 'CtbLJyVwJkrJSNSvhwwP', 'PuEueaGpAZoFmVKLaUlM', 'hCfEUZwQNDmKtRmoKHRw', 'IivCxDyvAQolxLrrWYtp', 'JvNfTgGQVADmouzIITAn', 'CVzokDApPDqQLsFawSxd', 'HXBCDRPUwPQTRWlBWUtW', 'inyyuYLDDXIxbwMDbjCD', 'fGXJXSoekeOGtmonRAGn', 'NzJfdNQpYWGXSSfsejMT', 'rGYjVTMuDWkxVpCFdSQF', 'tUBWSkqYDuJKdPtnbgSB', 'TohtrDyMLPmnPsmQztFQ', 'lWxSlQNpjDVfwjDfydCD'}, {'OPtmcMAxkuMkdxLNSPRv', 'JUXWgfpJUIilFJdEWbtw', 'HZcmCwgtCqAJxSWYNkxS', 'eBLCREhGwTcYAGzEuser', 'rOhkgIMoiPxOGBodEorG', 'nnpChxTMXaeSkAJHlyPj', 'QaeVXEkhymQtAbhMQNih', 'pAjsfvKKxGcMNHsWCwHo', 'oizFloxWzNViZfsVkzEY', 'YCIEABYQzTirZDYmzyWQ', 'PIxKzfFvapEvjhUrMTHi', 'nrIUCdlvGsfJOVVbMZhz', 'RelqeGUjCkJGMmMadPej', 'RHIHjRSZsoZTZXxSmTZN', 'iqHOiYtotmmbNAGisKVk', 'ToTkrZbgCTWTYPCVTbBz', 'uqyPZhEYmuRKdGftjsXl', 'bRrDJbMWjZWwSMKwvKGV', 'ZtGYqxXkYqiiuAHoopYk', 'lBlCuIBqMxWWPcinKacy', 'pmVFqsEEOIXWkuVtbGKC', 'thLNjsIRSazNandESJsN', 'HDLKZdXHUytCZpavNJlE'}, {'FaqAoojpjrOjOhzexbpY', 'dqGECZOertejymrEjiKb', 'wvacYObntPqraTnsSOts', 'XSqOenvjKBbstnBnrpTz', 'remSpBDiFoCimnramHqu', 'yKsAHrygHbKdsernqFlr', 'cvZttmNBFOUDkDXsJEvK', 'lUbJjMhCMRASRgvNbJQq', 'WkFXTJDoWTBkIybeqwkc', 'HxJKNOjmquAfdRgbqAKr', 'zmBMdnNPwWsUonRSOBlO', 'gYlzCywartLNaOqppDsK', 'MertCeZZWhCxeLhMDmdb', 'EbBNUvlOYgohquzdSyKQ', 'YuOEmHxHcGgdDzArBiyN', 'wGJcDisIbXfztRcCHzFH', 'UPPjiltXrJvDAgFHMZbK', 'NNLgFLLSEjrItLKppCtP', 'cGOONHkBClUbJIyYuTkU', 'MsWksZAwQnpZEWoftRvx', 'pWNPtUakAXEilKVQXPNU', 'JdNqrbuMqlEapaoHmlmX', 'ZXXZaJBCxNvOmblkPigG'}, {'GsQcMpmaFVgpgtKkXvQv', 'LHuzErjQWNvlWpTehiCh', 'NKTLcjXcJNmCNFARjtDA', 'VgAOzkzhDVraYOrtAlgX', 'IOWEUNZLdHoLmaPFxnPB', 'DhTwpJrljhnPeQpNtLTZ', 'WTLgUxPLdbVUXcdLsbiL', 'lQOsyINtCWiulNVfImiq', 'yolntOmjehZPBiWedUMN', 'WwfjrPRndEBQRnsmsyhD', 'thCIcKTiTMhoFKYkCear', 'KICueOVvDFPZGMRgZOLE', 'wPdTEUAAztesdRCFjQJJ', 'OwnzVJEFUiXDTpQqNDDs', 'lRxACIbNMqKYXDicMeNO', 'TOpvXDtzROtQnlByjoyK', 'TkNXxETFfWONhxMafCOM', 'FLMrsyMOifXDZZvwYAtT', 'gyFDwKgGNkDVbNONAnmb', 'hNfmTTFCQaTvbSbHBhqS', 'sheRYmRXSKouwAcynMVr', 'qdzYkHIubAyxJxIaSNmg', 'wIXpfbXNwQZeJUuDdmfi'}, {'BqrVhIALXgCZGbxrkpSk', 'xrsrIyggkaUzEVpdwrVF', 'eIjDmgRNCmclUNCXOpab', 'DPbOofHUKdfOlbZzteyg', 'kvYPffmYmQjXOAjbMocn', 'KljfHfOPwDuZfPRQjzaG', 'NGIGDRsVtHTcJRDqNuBO', 'mlsHxxumckVxXspLhjzd', 'xDgoiCGtOLFuHffHMnNa', 'oFoIrTcGoADzpPfAdsQR', 'lMQEEbftxilsiDYEvvvV', 'RggbVMAsJiCmqPEbaNBW', 'WNSgFzKdHBrNbAUMIQgk', 'FAKOKXfNofedRcrIvyyA', 'ZQiIsMtUZNdADvYQKrIr', 'EoazkBynsexgaiNnmUrS', 'vtelxkOnZVTaihhmmCYY', 'WcKpxbehtegQEnKaJNKL', 'VZpLcBGMhNlohVowaQOz', 'FksXtcvVUqobhZkTiCsB', 'QKulaSixMnaZHZxazsNn', 'TolpCDanDjmuqhwyiKch'}, {'hMaIjkiJNijpKbSAzMHR', 'jmOvQuQkctmUPomvcmki', 'cSwpXftJGPnOiagZRCNP', 'uuIYLMlfHsXPcpaSOUNK', 'HQVTWrpNfViVBrUPzPvd', 'ZdTavzFJdvGCUrTUIbrw', 'ixOjKoYldaAaybyXbgPc', 'lArSYktVkFxGyhxXzqtD', 'XpmPqMlbivsHAyDSQQph', 'XSWjNaDDQURgTbDGJLRj', 'dosPBKYJcxSQgViRoqpq', 'jtmUpbbPCkPvklgEqNEz', 'zlPOQlShMTGLIKNJBCfn', 'hyGSvUtHHmAqDXRdEeJj', 'VteveiUJNbgwVYBYOjmm', 'KJzCaDJObiJQHYMzuYuC', 'oQpurVQdLixnUmAbcnfn', 'oMLfiyWumEEiMJgXGDXV', 'MyQUprVyQkWOvWBcEApC', 'jeDGQlLicvFEUWjZoIiQ', 'LpAKTsRgyElrlJCeaBiF', 'NqGbdnNminDiKeBORpvH'}, {'FBOpeUmkazFoAbdSGpXy', 'lWhFkhopxOlxrfqsWHMV', 'dKCKhmcvyIWQKJxKTqUu', 'ollroajPxPLxFXExCGGX', 'GmflIRjvTImIZExeMRgX', 'nJyUNCvtEXRztjJYeAdN', 'rpvwJDUvqwnbIMtlRlFG', 'xPLaxnsEgFZqmqniIkEe', 'DrmWGBhfizgRskJhpjgm', 'XHsPXEdqvhaVMUpDhCAm', 'ELTilVDterVbXOsjHiHO', 'aecnNcbMGYYCGXdSbXfE', 'hCbbBAqiDUKZDBHbRpYo', 'rlDKJqVhXzAqGbTgRyVY', 'HJBWwpPodWFInkzPmBuy', 'VgqfEToUhSAOsiUYwqbQ', 'DoOVKQZecshQkByrpjBx', 'yWqSJAPETUvfnKlCrGnH', 'FlSbtYVTxDoTFgEaTKVo', 'AgSeasGZFFSOgIxHqQVf', 'WEqemqRXRAPaHUDQdgKH', 'UfbYyiupbbmMnVstSnXw'}, {'tOHONVipBWlKZfLmAPzw', 'oxyRHnVDjhXGowXeXdDr', 'EAfajLbWiFOxDssPedxa', 'lyuXsfWKUWuaLVMrTkcG', 'iDLlkytmVRfeBYjRLEhl', 'SRxlymFYgOaukyKOgYua', 'KKufOjeoprAPMGfmiAcT', 'qWnWkmKlOAXRHBacJyxo', 'IcZVipwuBfmdvrRLLtlP', 'HtTymjJoLaePZhOvDGpi', 'ywucEAaqcoffDDExScud', 'gJDPtfbchIwAQAMtBvRk', 'VeOhbuSZQgQaxYgaJCnz', 'DrLJUesuubDVGJLmVaPs', 'fQLYgeCNFRfOlwGkspuv', 'luYzIDbXRulcQfrcHAxf', 'FLzUWuhIvjtWKNYSJCjw', 'AySypHGCXzWPBgwkDEuj', 'BWJeocymHdtaysHSGUye', 'qtnWaoZWHkyfBSWTWOcI', 'FcFvZdRsgriWlpGbPspY', 'BRdibWXuirxqpKjeYHuj'}, {'dsSWrBqkzMapPtXGqtHq', 'UoSGkZovlunDTGVTibXw', 'FyCtafqopugFwSbgBfgT', 'FtIboHgRrTxEhPbyEduT', 'CuDEGkkFRlLFqFzSScdR', 'PXrPcYrDcsRXfByWxRdX', 'EOZSckGLPGviAkNBdLLg', 'OVpudfrqXWqoopaOjrBE', 'iAeRotjGgiFdksPPUfbJ', 'jRMGOKRXRnfHRHmTAAEH', 'bxpZScRskGoDUVqVvAXH', 'ziDbbssihThHYMibiiov', 'rJMjRqJlrcZdZGMApasd', 'UmKgIzvggaMnLwoqIKkh', 'QOSDgcnDrPLeksfGhKpz', 'lfCDJQttnlvsRzKZhzkO', 'ywcYdCetXfBHMjMUdnWH', 'YBdtQqphaDIuWMVSagnO', 'jrJJcgpjdFGHtuZmPISp', 'ruPQmOvWotlGtEKKOOyB', 'EHIBUpdOlNSRdwsgkeTq', 'HtjxpEoWdtLuayfBspHa'}, {'fxaEZnpcGlfhjZsFFqrX', 'xdKiantINKwOWDCEsATR', 'oEbrTCKKqopNXFKoBEFP', 'dKZswfByxFThxywyWWje', 'dfvQQLGOoCRqtTIebBtX', 'hUJySYXmUrzwbyZkRpPD', 'emqfSPjackNslJzGwTZR', 'owAnkbYUETwOFJbRgPsS', 'BUKYGvsLFLHqClOBejtc', 'RyGpKYUfZdmYtpBqYflV', 'teiGAlKMvUrZqGriBjza', 'TiMZErfNhsjIhXerkOfI', 'rPgRtzbtIsEksbbyYPcR', 'tOPPADQPZhKeMLsjdJiq', 'gDWJYfFmHYPxHkqXbGxi', 'LSIamfyZWMzcfaaNlzbm', 'WmbokfhpQOIVeotitkrE', 'UoVXmpOpoyjxfkXngFju', 'dHwJNyuTfqugMbMLgzzz', 'DCrCfuEdOxqFXvlSmwvt', 'hdFqfpVfKirsNuFCZOvr', 'IiLWDxBoGviTjRiDsDXh'}, {'zLfGCCUibJsKqoMUudiE', 'MPqHAtbCQerkhxfzCjSI', 'ZPCaDjfUUufhDemoPhcV', 'riqrFzFgOemmwLxpfueT', 'khDGCILmaWPvpArTHOXd', 'DopSusIbGqTdfiVMkCDa', 'yLKoQfWzVDIutxviuyFv', 'qUdIlfEClguGltJSUNby', 'pXNoEFNWQEkMcnmDWYMQ', 'kpxiqvrAiLTNNjezByqs', 'lPRdqdixJSHdBaXxoUDh', 'GtCBTtQikMFwzAmElUMj', 'SouBghXZiXPikMqeqfzP', 'yRnSMUlAnusabPrIwONc', 'YarzZhNtfnuccBKmJmNf', 'DbSxjXXBBcBMCqQgBQhQ', 'LqrZQBYRLfBCbMQMYTme', 'OgoqXWzjlwJZRrUCIKrS', 'MOJWOmZQsfKptDZYKoMd', 'lxhMySSyksvPeVfhZmHk', 'XaqimivtMqnOlWZMsDah'}, {'MUdkSFqqwjzfiHjrQVxl', 'QKPFsrcLTizmEvdgaQLJ', 'ikYvoFRSjfqOAbZNRQwV', 'RhNEMIWgSKoWPNsrPEps', 'UdiLHPQzJxRqLxYDsMBG', 'inikDaVaUPokdSYShCml', 'VnkWBzLGGoiSQXFhVHdh', 'pTGbhmrWADJhhSgvaQoo', 'kGlNNlpxPqsPNMphyijw', 'BObufPsusIhIEwLbnxrR', 'ZkZhjutXYLSapSkFAIXi', 'lidvobMqfnidLGEAAiRM', 'dLPqpCrjgNCtmddpNxWS', 'nYAYVSZgwVtfySYorjHF', 'OUeglstgBDqQVWSuDxXp', 'wdzOdLbUbIQSWUSvHluD', 'ZEwesdSTzHRXKettHJzP', 'FXSteYDxLmBwIEZDCpXg', 'EnWkvxUxLHYMwwqDvOIY', 'kSUIglGToyAOFWjRTnSw', 'GvbwoiMGahBHKHRQFWFk'}, {'QpClbxNTZmGeXLGDEWHS', 'DMCnSTptzTIIcpesYFES', 'DdeDZGZUiuAJCXYeptwq', 'FdiFsrZphCkrUHiDYJAo', 'aUwURfzDITHfPklPFTWv', 'kmjpdMzMpCOjvlxCRezs', 'joxVxLBswHdelhaAggYm', 'fqfFKmxzYgHTCPTZdJuh', 'MJjSXeNocrHMSHpGToPs', 'iOYUeLMMbuFzKrePLOKZ', 'vdMPxxGDQotXpChviDBT', 'UUdsUFlcGRQEFmYQtxVO', 'QohFdREMSHHEDtwNfXnK', 'NUPeyelLBBSVyHsUMDGX', 'cxVuDmqNXSJONngbPWMn', 'orwRdCfvYZJLEWvdSGyO', 'krotlvWGjDNOSNoEultK', 'boYmlwXrHtbTyRwodoNS', 'FttCNPSaJgvdPyTblVgo', 'rJcFqNIQfXNUFMvSDwSF', 'fQXSrOYFjtpIAKjxCrSj'}, {'sOHtlhuRVnDkjpadSBxh', 'zhZqgjgbyVgaXGXBFCvR', 'gPdvRoccKhcFoaOBvknX', 'acjPTRPRNOgDsshXQBYq', 'LMKrFDnwNGDkZXoIYqOd', 'AjbQRhmQPrVYUJRCkbkb', 'DgbrQeDhOqlivDRLPhuf', 'WtulThDJWvpzaKZOzWHp', 'hUSqPKDzsNLKSRAzTFnD', 'vFuyQkzxzJNvKWNLNlWP', 'lAWPJgCZjWwYTlYCPWat', 'rKUHoQNrUEOMMiUDergE', 'ukodLDITIXNgrxuNtMKv', 'wUMghKdFPOmlOUqDoSal', 'XsuirXCRJsrYaoAWUzEv', 'CWYwXapeLjDzPLQkluUO', 'vDEoOsNxMOzSxvnEMKTW', 'SfnFdwnaKuIrMFSLzZKE', 'IuVBpvjAlEOoXAeahSKp', 'BCsYEtPWVpwJgPxfELsV', 'mzIhvOQiqrvkTOCtpqfz'}, {'DWCqNCwTVCrJcXORhtBb', 'qOqoqhUSfueaQZAWxUgw', 'GMLUwkQqXANukWsbWsUp', 'YUGFoSKhnlcbfnzfqehh', 'tGWqyUoaBbspRQBTfbIK', 'pbwiKJHfrMNGspEyFweZ', 'jcWaZLrUsbmUuEpHJrAP', 'LsHCoaCioLJMMkoFTlsM', 'eZdbnacIFKMMzOyXfWQq', 'QlIJOtWrtRnwzhBQZGnE', 'dXJWdevqScCEAdUaZcBj', 'diQtrRATLovnuWNJTQQl', 'jgEPKbcpvfCdWPRVuTiH', 'gZlZVEowWgUUxIkWmguD', 'WDlGrCQyEzaPAPLjluQs', 'lxNhgdpqBQUTavCBrpmI', 'lZgGUrXAWNhHKypyneMs', 'GPuwpZrFdhHLDbLNCBKa', 'oDMknWmoNmYMWfVErYyN', 'WVzAgbPBWcFaDctgeqsI', 'USwxOKoHLGEUVwSRrLxw'}, {'gpmcHMSJxPwNvHmDaNWv', 'JphaoVPWHtQDWfcrMuuY', 'wfTcrPaDEnLDisWtzrMQ', 'dAXoRtYJWdzQGsUzmKjs', 'tzJkOnKtPBHlvXIufdGW', 'lUyVdBDqUVLzdKjvXivg', 'QYvpelzBBQjzwOxhADne', 'YVUdUepkajtBpnChxkWe', 'wIiueFaoeCQsYJhYLBWz', 'cNIezaofMDkDGuLGAqAs', 'qvTsgJLyRdyruCGTpCTJ', 'EfRndqEWcOLHsueHdGmr', 'jyYmcHFamZqQjYUhUJfl', 'wEzVsoYfTjMHhgNXoOvQ', 'gxrWChhHXsjVQADRjmfK', 'GMSYRKQOEyTkArwVgqhP', 'swWbFwYfZZAVadEBxMXt', 'JtofFrYPuMTBIFzrjNQb', 'QcuLtvVVowUpRMVuxvjY', 'nXZnuMaYswSLNghhPUdM', 'cqOYRFDkmCIEkRbarmpQ'}, {'AjDPcKueMIpSwgAubTQu', 'hAezPJJophOjMDPamjrW', 'oZmjwJqfCXvSzxbTDScO', 'FLlVOpvagboyQiNubghv', 'MxZxWmrNZGFJsNJHPvCu', 'mlnvlrMmqNRNcchViznS', 'VNKuRzrzRjFQIVUDrHOX', 'XuejGsCcEEjqkgJwxryr', 'OrpqvkvniDXuVBTMdyoO', 'fSEAlBDbkKSoQuHHWobJ', 'kxySXlAgsMGiAAiQYtay', 'YNxrTZLzoZBmuPJLYXmF', 'SHEsjPRzrWpQgKheppMz', 'KFEnguVQhcaFauShOSVa', 'ynEbWYcOQDjVNpTwbSfp', 'dwYWfUvwBakiGFKOYEZb', 'LoBUzVCoyXOAiQnJuPLS', 'hxmGliIUaRyLPWRtVqIb', 'CvmAQriaBDeCoxAonrey', 'xAGfCafDIxGcUQADKoEr', 'rbkFztEzYEyyaNNSzzSF'}, {'SLwVNPdAMEmrxHDfazJt', 'MUefnaFitzeHjyomYrIj', 'XHvqKNEpxTXviTnzgiSv', 'pkpNodSmJYEjSmXlqQHR', 'vtNrbjnnAqUKQSgoKsZk', 'aszIQaRGOhaeJiMIAdWx', 'VJOfOQGvZeHjZhUTdvyE', 'lyiuLIEiDljPNSsClyCc', 'dQJKXUTqIJPVBkYFlQlb', 'TvQzNzYtXxJCnSesLynT', 'DMITSpILElIRWZAXsmyZ', 'MHHcTaudgnRSZCpHIBtI', 'tjxWPtKUuOcNKbziTrLx', 'SapdpcYWLtrzLqXSdmmM', 'isoZzxkUoglXQXvDpKGe', 'LScrBwFFuUSLgJHZCotB', 'BITUZWEsKxAQBuOgWpxB', 'DMlnhqaiQlffzXqUuJDG', 'nIuHXYrTeyXvyIonndbe', 'ZZRjUOyJWtjLgvxzQFeV', 'zvoybnGjWrZYDbmAqLtw'}, {'wQuSzYXPjiKoNdTFxaCs', 'BRCGJVcEQOPoMLcYfIZm', 'vKtAsUvrCYkkOqWpOyQM', 'BsqdjugaAhDsRVSlrEdj', 'XunIltxBUSUEVZWkBuXh', 'roFWABfthtSgIODCLhuN', 'ywcbPuPsOQmLMaMPZRay', 'lJmcnerygyNMObbcqFej', 'zmCFbVECCffUVIuKWMfn', 'hIcROuRxBnanXDhsdCwj', 'mSmQjsxxUqExZkKKBdsg', 'lMHeubwUqMYxsSbqnoij', 'PAhCSwUBzYNrjYQiopaM', 'VjBHyZckWIFWQwYJDgWZ', 'kGAtfKatqdxOyuRFWGAL', 'tcDNflGxrbhtobiCHTmU', 'XKiJNQuwyepzmvXrKIGU', 'KVxrBjXBkkNnvELAdpuh', 'PrWAceZrUaMXvuEYVKQX', 'nUoOZstxszBlCNuaTvbq', 'vyDDgCzmzzdzfYwoQAwR'}, {'wsClghcHqBQgsjvwTQzZ', 'KoqBxHiBvyhOFygqvYXT', 'AvTwPcQOwcfkCAVsYdyz', 'huxHoUnwPVwUAlibBSue', 'qcuIJVklhZTeHxqmQGRF', 'dxjuOUFmYBUoxLsNCiVB', 'vRSGarrLtXRyJEenapkC', 'fDOdBLzhUQVyUvqQjJcC', 'EhMCvJNmExXTTDkFGiGY', 'iKOOUVhtZgMjXQvNPRyh', 'nQYlTYIMCGFMDCCCyEGr', 'ZNZWrBiDiCcNNggNFqAv', 'mBBLYeyMCzZyPXZWHFUX', 'HSdsFDKWYYAfmDIyrCOh', 'nTaMnTxKzGUSLdZurwgf', 'TuMLSAeRLvibkQcbvAmC', 'xZHKtiAOUGbjjHXgGUep', 'QZOcTyjefcGlLVlLyQiv', 'QDNpfKSVjQbMxRDFiTOm', 'TGvvbvDuXHDQdGgbEOoR', 'RykRhXHuDDGKRCVLBcvI'}, {'TPRXIUeCrlygUPlPeaSI', 'yAXeDqJDDLMjhnYXQUQu', 'irBODJgXRlLpifLEmWGL', 'JCuZUKNSpLjDrzYHUyYJ', 'SqOvrCrAOYiNQIfdjjnT', 'sZqYjBZJYSTlpyrujFqb', 'VuqrDNJUbbrqZYXCYoUa', 'voXDkQXeGkIprslPuzsY', 'vPgRvbUaokQyLKfVbvre', 'jBuwMhdEimUdGAGpEGYy', 'TmGPXwYJMZnVUzHuIkfF', 'xQViyobfFjrRkqmxUhSy', 'EFbaFIbHKaLrgRDiIyQz', 'DTYwyaEUQtUriVCehSYl', 'VnGevzggeqrHyzKVcpit', 'PwZPIXPaqsRurJYEFflt', 'esuvPuMLsGkQyIEBLyav', 'WHQGOrBSteuxtyobNtdE', 'iEoaHUobCzQRDyYUzkFw', 'aCIIiklkrEewLBdgzzPn', 'ErjBtdONWMJuqwliAyvf'}, {'JhZmolBDcjYzTArUbUHK', 'gwNIlFrqtRaYnIZyDYcB', 'nnjUacFUArYlffrgzvMu', 'cJDMVpNkcMgjREOjXoEs', 'OlHdMugFXdGYTrRMSrMt', 'bJLSjvblUCGFrAKbCcFI', 'OqVGLlXfdNeiZvhZzYEa', 'rYtOVdvYRioWQEhHwdmJ', 'BTSXDOpqtCTuiOjceqOi', 'DfdlRybTDLSIMtYEqsnh', 'hcBuDPawZFOwjYArJOqu', 'vQjifQwMazhSoVUTggDC', 'GyEYAzzcnBoIXfZbPkKH', 'bJgZYOBpmbDmTYmzHksJ', 'ICdPVfcIoBslLAydSzWv', 'UvDHzRdnKilLJZIeNdXK', 'RKmVYPzjKLuArPAXqcLf', 'sXYWShSYdFZWVTReuFKq', 'MRFntOvWuxZuiLyiskcu', 'IUtTxxRWMxWpJrsNPkSh'}, {'ogrIPawDWagCyWlJqsBj', 'ofbAuhPxFqEctSSiBurC', 'fgawDyfEiTbFTCPGfMkx', 'czXthAmnHsnmTwOfdyZn', 'LnOpwVDEquuSCrnvSaew', 'gikYcCIHzFBfryRhQyOU', 'NweySCjtfPdwdTUnjygt', 'kuEezbJqFTGZgKdBIpxc', 'lLfXrHPQefeUooMrdrqf', 'ijTxLXvYxNZpPkMhelkz', 'KCmmDIfVfoIQGqhkZQEb', 'jfcMuZOeDjzntwCfbJHV', 'HuDMCuedgsnKmDKoJgrh', 'ZLewfbIRpzMQsIOpAEtl', 'wngKJmrLynlfzZHUgkUv', 'uRrXDtHVPjmmWNqwCuQa', 'pUBuZSvkpUAVhWRwswJe', 'oLZWLJXHKOIAbYkUPXUg', 'ImnVUKyikevYKwJNIjPT', 'lFHDVdVSdiuztQNoxrmb'}, {'GOGacoQkArvQsZAnqLjN', 'VjRYNSjLBLUDMeKMVbJT', 'WTPJMbhjXuNQUJoCoPaj', 'laZouGDqxHMHlmhPVGAj', 'bzZJzmkeQGNMOeioPYvp', 'hZhVIINVZunYUxKPKYqq', 'AWSShWkOtRcizuwuLmCf', 'lskfrHyEGthUtBVaBsNa', 'NtyfctLiQLvwHXhMGHEK', 'cYizHjMqWOyYAbDBlvAR', 'akXkyvHgmfhDvtisTENx', 'ORqhtYrdFgxMRSDzBiTp', 'KHaEjvwJwpZPiyTqeMbs', 'kaXDTOsxwRnIkWLxEEMs', 'PWtIFTJVIUBDMuZwOWkX', 'DSFZEjoqLJdgFxDgAcsk', 'SxsZUlVOjRHsKZsZKKEQ', 'doLZitkdOpjDptiZhIBI', 'hEOrTACTsxakbWvIpotr', 'AoxsUtiSqkFyXQEZFseX'}, {'qFpDhvsAoxuwOFXScWNx', 'RqzQpWqrbwNNfSWSWYtv', 'MJIpQQPtPFeFHqBuVTgT', 'JDdayIFtSTyumiVDBSiR', 'BtBjMqiWRNsNgYreOaLc', 'velxkxFSaqGTwQNakTWO', 'GQwfupAUVxVUVVzzwpOC', 'upbPQzJZOFkXHjexHfan', 'TnutQqwoHQBgNzFyharQ', 'ILGdkfKyKxGbBIMSBrCk', 'LzQRLIrUUyGmlfVpeBrO', 'prCeXKtICPKzFKOltYLa', 'SEVFIrUAogPCtGXblRiQ', 'ahtvgbZEjefyBLLKcvAv', 'WbGdBhfgSGALKuREqdfm', 'pznXSnjkSBrgUrGzHHMY', 'xvWDuIEPCRdMjWwuIELI', 'MXevhNFlVSGjTargonJh', 'JtcpExrAbJRaYxJzcAeS', 'PYBIuZvvhlXstdvNMoTp'}, {'joXrzjFXZtrSHwyEvhJH', 'yGxFRlphQjqKksLkUXRz', 'LlXrJHCbBKUnTFfgXdeb', 'FMDttyPRuHpJKfDCwNQl', 'QqoachDaXJLfBDAxMnAe', 'NDqTPkXFotxltQwrWkhJ', 'SfaFzybalVdhSSjqInjv', 'fbCafwgSVbONmjlEdfRe', 'XAXFczuErSiGqtMaiHLH', 'hKFLtBlMCERcCBWEYkjE', 'BLbZbMTnXUwsnQNMyFCQ', 'hUnaAHUqaeskLAlxakdk', 'GDMUKoXaNAywqgQAIFiG', 'avRWwSgUljEMzWzJTAaH', 'RNlXUnJqxEnOJcTXkjQQ', 'DggvtsIuYKZDCqdyhkVt', 'ewHrxRqSPkJJrbKZejHC', 'NuZfKErGtaoKZgykfUtO', 'yUDUsLhmNKHwTVMQWynV', 'JDcqMoHBKZsoRzLdqwRl'}, {'ZvixDfqYuoIZDwPxuUoX', 'poGGONrmIjMtOegULDvW', 'ovKjaVedEStuINUedovv', 'juElwVBmiXJdNjTEBoWy', 'yRguxkXkIDOWJzYKxtrg', 'ZSTRPxiJXbwVWFdAFTDI', 'voBjEyeFExjIknDPMXLx', 'GJKJRHvibPjKZfllkQiR', 'RezXBisIPUombhTRoAfg', 'hCmBFHhgHMpoBfbmgGed', 'OCsxMnqRdzWoNZVqPqtw', 'UCktxZyEtSGBKSnZchcJ', 'boQoAbGAVnrNtkSTgPvX', 'CMDbNVRBrfygBATsYqbO', 'zWXIIBvZwURecpHExWMo', 'XkKxMlvwzGZwWtixQGYS', 'ocFWGoYTMhNaXevkdVev', 'upuFGwXpGBcTxrpqmBGY', 'ecbdNqoUJAVcZNpMNZQJ', 'DKSfaxoTqPuUWpSlhQwl'}, {'SWoiaoHbOxZGBBXCYuJh', 'BmpPoTncfMVlzKnCZzMi', 'MgcYDCFrOKtXrcKhXgrK', 'pjwDKFMVWoTEalfJSNrK', 'bqlAmIwITfaGBTjAzBdA', 'GGkhOfsdxdSamQdfpYJZ', 'ayorIsRftPELTZpNLehN', 'ixvKzTQGuSJJTfBloZkV', 'tquNqrOBgByPLGXNGDHO', 'YOnjEtERhJezlXyAXoKf', 'ROsaptWhQoRDIdtuUXmy', 'NpHckJZzNyKsRJtZJsxB', 'VEZNfPJXSsNyJSDdeBMD', 'ffAgxgOWWEJahsFkfAQw', 'gcdENmDRsDrnYrtVHrOL', 'TBcNNaMLqtEldhmARgcG', 'sGajONqxEAHthUMYgZoT', 'fbUjmaQdNlsJnHKiNXwN', 'NiPdJZQkaFNeJABUZHEn', 'TsQqYaYUnWucdjYaprZE'}, {'PwJUCzPPcRQVkofAQbsO', 'aTITRpWUqQDjmodwVNTn', 'zPDUVgQgxwvECQyvEZfs', 'PEmcWPjTusrVzmNUGfRl', 'ETTlNQiXJWAYFKeCPEvJ', 'uLlZZpefyoZZbuyCYBYb', 'DzgIRvoOkHUfKjUoMUbj', 'QHOtNsrcjvGoDPBrOViO', 'oryJDtOBIiKKbbXDhqlT', 'hYOaLCVtAZvpLoNNCpdl', 'cbdIOQepXdlntzTrcYrF', 'aQgEcKQFdysWAYJNrgtg', 'eqnJfecuiyJkAlDbWpNi', 'nTJZxPvfhrhxhdbZXudU', 'PIVlrNSkKTCoBOjUzGsa', 'FdaNjxSsrZFpYcmTtXVH', 'pQhjwvChVFmGokydnsvd', 'txbvGKQDTFYuCRXBbysY', 'AFWxCTIDlIUePSOZNJkb', 'XAGQQlOTpnvXeXlpQjxg'}, {'pRyUwuctoVpnAbsEyatq', 'PfXUAmPLeafgtjrvCzab', 'hEgYmgnYoDTKcvGsKRyx', 'oeJIpjXpAFgOHiLGkJqP', 'RkbgWLIswDdbWMvSjpmj', 'CzSHspSvcHUIeOqHCjEZ', 'fnhfTXHhiwTmUfDmHexF', 'LTSEPmwNNjpqrsTHIylp', 'AXxtEbpDBpuQCbHiZOKm', 'ZlDvFjRXyEQrodNEjhsK', 'TqnZfCSjYQHXxFPbrQTo', 'CzIQGJvuvYEhqKOknsXZ', 'bmKJkFvCpozwcqyQnivh', 'GgXYbbjbpdduJouPIeso', 'jDGcwCnkTGeJoUAjgGaa', 'JWbxQODmkTvIpiXInHwu', 'whPgIHxMmffZQEEABNQK', 'GQKvCHJwfYJdNhdUUYAb', 'gnRwWngKuXhhERnGyOWq', 'uomJEaUZkvZogyzESMhv'}, {'lJGjGixFwJjyvOtNnxNg', 'PDvAWbUknwKCMkuCSELs', 'TwAWRGCLFLKZPXxJcWsD', 'FxgIhYuUbpDmUIYqPhcP', 'GpmXQZTsPfyleHjqmGjQ', 'BFxbwMMTOPStTHyIYTnM', 'tyTlOWHVlIALQHuzzgkI', 'VTbpLirhoxoDuYMUvrEo', 'fZAXAgTBEClTbcSbUHqT', 'plfNZEwWFruFaXIMyRaZ', 'AmKGaOSIXOXwgMlvSgzL', 'KtZDsKEEPKdwGCHLhBRT', 'SJAzNqvhILEDaERbMIWP', 'lIxTSGhbbxmCRWbcDuPB', 'XPLIaqAbiBJdTHjjcQhG', 'EapIfnDmBGJRpLKUjsVv', 'XkCekXkMSnMDumgGWZFB', 'saATlQKGAyFyqRajeIOv', 'RkizWPzWIzfVATIYuHDP', 'hRBgDDYQtGlAkfMtjLMi'}, {'JVzujkzUFpOTUMUTrYZA', 'xkDLxpXAAhTCyFUlRorX', 'TJUlJyyfQfFavdMLVyjm', 'TCxQmikOUbMrOSacWyKT', 'ivfvhwqHwUHAxmQtxMUP', 'HIatXDBJjOpqOWDnXYDk', 'YkHXuOxqmJrgRyaWIYRl', 'ooMOJiivFzskhBHazFKJ', 'dSkIMhxkaARCUUfOOXpU', 'mbshfxlEDDFJaiOUsFmz', 'bmnOALhImMRoIDDkcxEM', 'ezXiSSixUISFdaqODLml', 'CwCXGVPiQNHfAmYEZuMV', 'YnzVUZpBBdSXVxjGUlPT', 'OChAjmiIikDWTFaiMCtq', 'nTLMOLyBKpSZQpPWDFWG', 'CUoJvxfNzaGSnQXeCoDX', 'tZCdSWzFhIvufEyUcipB', 'giFwKpSyJoaxjSUCZlIT', 'ihPmYjDoXQUCfAEEClKF'}, {'JLVAhBVtnDRbWeXgKoIQ', 'awVXeMNHRDghfJwzHKyM', 'oJODzlGMpCYUUdvUzoIb', 'BxZVdKintuagyPyKagLg', 'YtFsEFnWnXStXYrFyeMI', 'ThRWMHtrRJqCzsiIYiXU', 'qyADSQvDYENrHxjWjCkg', 'qmKIcwBAizGtnfuldpvD', 'zAGkaUpIoqvNPlkLJoVN', 'eWmLUAyyucJnhVSAizul', 'EDpdvvrCSSvzIiLSmtGg', 'KQzphLSTNskNAITInLcN', 'YdnnmMcEmfJTzkISGNaF', 'ALPIpcQngnipqVxIObzc', 'HLSmScwJXHzdbkxzppbK', 'LDsEbDPLhamkvpjpKMPF', 'sRPTppOjRBvCBsvZnYzZ', 'kYPWTPKYuFyqhLEOTDnJ', 'vUvkIldpCOhYzfKDACtt', 'cuClQIsLcNMvXKtmvgSu'}, {'mkvbLJeTBfwEJRdcOvil', 'DnwNJsDaKeGhKJauAfRs', 'kJBgFOhFVSezGTOQgwFf', 'xcQFKlHDUDPPCNjgzmjO', 'ZCagciMRiSkmnIyHmONi', 'lJfVbMgqAluGJECvsfxV', 'eMeqgncIIqwIkGNpIzME', 'wWMpbcIeOQCRvxQJZGLk', 'xSxrffdcjCnxlxSCdNAp', 'TPifmPaXIdiTEGLeFKXY', 'UlDMTMinwlICNIhmJsZt', 'sIsIVTJHebVAaVIqUpNK', 'TEXafuMYyRSLQCpWTFhW', 'ZptpRiCRKlpnpMCfXhay', 'CTlMOimImERarYGRwIqS', 'ylgfgHDmJJZhVvYtQJaB', 'HgSjeMEkujILWtqHdiiq', 'PndqTPflhEvqasarrdOW', 'FbgUdJyurpLfWGwGbwGM', 'yfevbfyKAsaeagTpQcmO'}, {'bjZdMkkJpBSqkAaylORU', 'dkvYGMlyumjrkNBuRPcu', 'KpCtXskxKKNxVbZrpfgY', 'lOKzckRQxsWggXkjsOmH', 'aMwLzUaydDuigWcQZMBg', 'DtMoTQVyptGOSuOWiaZB', 'REeoIHzaDVWxVSZBcOcg', 'pArxvHbfJEEGiCVMFbei', 'yzdiDQcnLnCuytQNfPRp', 'ZiGoGxjBclkGsAqqpGEq', 'XJZmZuOGOpLHdQPoITNr', 'qFNYtRYQkJlGsMwEAWbM', 'SDtqsSbndnDNFqGLNPxd', 'PLhmwnfMbXtgKlgNWYqC', 'UPhwljqiEkECOUGxXUvF', 'cxWDtujlSaxMTkQNbfYw', 'msvleGRRUhZYKmFfrCdS', 'JbGvfdPcCmrvqfXjVGTp', 'KbuiCgSoTHkbgzlTEgvu'}, {'FWehIWgZzApPceSxKYEK', 'ciGnhLXNQVaaqFlhxGEB', 'RkhoHrHKjmxqUWOPCJla', 'IruMnblYLpqeVKIJeqxX', 'xRQqdZdQKTQuqgBoXhux', 'emvicdPfeaGlNvphcuzH', 'CoDxYIMkGNtXdHFbvpWv', 'CPUOnWlkPjtrNccTCRnb', 'pHyAdydMVfyQUjLCGaGT', 'yUoXRRKubHXzJzqqwGhe', 'yALPeatxKOWPFntPjmix', 'avSUNBlDnpNRVXtReKJU', 'spvqYPkJnGwfnqTPLEYi', 'HJSmfcLzvXMBEMwNUshP', 'xoqaEGeGGkPJPlwMtYyA', 'CqLbgRFMKaaciRIxJAhl', 'WvoqOjbFItESoJyvxgdo', 'AgoGAJAwbGwvgfMjgsRE', 'QjoHLqnWWobDQkoTdyli'}, {'XyqYjMZoFIISkHpzJGHI', 'DUvCoCyrqjbNsOaIjiav', 'SKrDHbpGkeMesqcfiWvU', 'SdnBuSpsntMOqODDXXcx', 'kQoypwXTTJfqNuHqwkMT', 'yeMNFriAWNhLISJNDcyO', 'WYqNChGosEPJdIntBcFS', 'TOETNhzwoUFqQRVtObfb', 'JVhMVCWeNjRsMeYNdyUP', 'QoUFGIWMdHOCviNJXMFr', 'IuncJGKkMkSWKDZlNsFe', 'cRTJnLWNfOJoSrZHSbfa', 'jBvwKLaCtOthsvcnPaIH', 'CKGNpyPSrKjHrENucDHs', 'VjlbKZOvkFWjqjjETvnQ', 'nOituYTbrkkqPdGCYnKZ', 'ODvSJNkdlkiSOLDEJVGl', 'xUjGgVDrxeqigLJRbDPO', 'uXnIDuvFiYPMAsxSCuNG'}, {'MQeFdILHMLeKgxUHWesu', 'NanpXUdhzwhTKBfKhVgd', 'vCAOIUwAxpluqYEciZmM', 'OKGKSLfoGFBMaEqJwIaZ', 'GJzpngGkNnegIdlHbufr', 'aeblrhElLwhXxtuImSjl', 'POiqonayUghedEIyLpjO', 'qpiEFPRhXSONASzBaCNq', 'uCtdeBfewVZEPcIkdSvb', 'yriIaycuhENVLWNprCPM', 'kUFPTeXoFishMPsETDaZ', 'fMEyMBxGVssliSREYkvN', 'NSDvzdDBqCRslVjJcEIK', 'ebDzWLPXlDouMiGcpYGN', 'yrFzbSsPjrrhuwtSSDFG', 'dcKVDjCvKIbDmDIbJgAW', 'QHCWtsthDFMZIaFNWhCQ', 'sSwXLQjBWMuuifhcZpWt', 'sKqZvlyIzBAruCRMbsnt'}, {'HGjakZZnWgJHrlPETcIX', 'pQqKwfnAONYkynRxHGfS', 'mCzjUURfHCkGFpscnbRZ', 'NfYuEbWaonZhaRroNTlX', 'ThhEbLQKJZbkGxtTPRtU', 'jQmIxBnJChbqvPOMNQwc', 'WpkPfSmIuDBVVCQKpJtS', 'iVFfQSqolWbwXuPNurFg', 'OraAZbazKxAHxubtuKpk', 'BkemSdrREmoLdjrsFXDC', 'oxerYgSIQzMkTykFViYl', 'oeXKrdrHuGkWhWVVqFAQ', 'tqDsudjezacoWRwGyxEf', 'adMXmvlHWUXmQJFbYhVT', 'ObpVDsjOgfVFqmknWUXi', 'qdxpUxvhFLszjijksdRT', 'TUBLgwZSOGEVKzPANadB', 'fRPJJKmzZytPnQlBIgAB', 'xRjBNxfzUfsEJvnAHEGE'}, {'TTToobYpiLpJsnIwxMAv', 'fUAXFxiXlYOpSsWXZSrO', 'ooslLnJytTqSWQxMnKPp', 'FydAZSXEHHQAfPVnRmFr', 'GJWEqTiuRXVvUyYBxyAt', 'gRzyltDguDDiMoWARzzB', 'ebpSqHwDgghhwdrGqMoD', 'GLshGOsnzOmDwXPaPeKJ', 'MpQgECJdNdJUzkeHPyrf', 'MuGNxXGKytwQRucnSBqV', 'FtoZWyJjQkPqNvOkVkYh', 'IvtudabUzQYNBnwYrBWi', 'WulVpjTmpGcAueMCNivJ', 'ZlzRImiUJHXhFQofUkLe', 'tNPuLqNouGnqJmwGDxgt', 'TeLTXIOQISCPzVHyxFZn', 'JqXMaxhxsNRlxztQNnZj', 'MVzegfvWNeStoZBfHYrb', 'DcadBlyFFEhYTwNMdnXG'}, {'dTEFWYpsunxliNNDfdoZ', 'uNwCjTeqwtDsNJSmQzLY', 'zgATFOtmOrTemtJFbcyY', 'rvsQgvCgURSEICVCmbVX', 'lWKvNxgYKzJpzGbuLcSX', 'gzAvGDhSqqGVMPZeexaD', 'KOFcuMpOMNouFwOGfKrj', 'exhztXORTSxTJeQoeykw', 'yWFhhnummgDsvxMAGYtJ', 'jBdBNCuGdiyCLlYWRxMd', 'jcwqCfrGeKepngSPuNna', 'oliHvvoADAfIEoQXRCsf', 'qjUaHgcOCCFaHkbaygpF', 'ZqiQBxmGygYqnXoukmuO', 'KSrEkgNkHibUJjQGXQAL', 'GQRtaZFlJAVrITfUzPnX', 'YshhXbBubQkUFDuqzfaZ', 'OfiFcWMdEuFpZItdPByE', 'tCOBrxpoIZZRZrCnhzwT'}, {'BZGRkBpuBGpLJkJgNvKw', 'oSEwQvuXtXMAHibtoOdV', 'cqfhxpifujohHYWnsMOh', 'YnalRzjTWswPDxgQnNWB', 'BkPzlcJnvoJvfJWHbQSL', 'IbSLfzKKyVBmZnREjsmg', 'oVOBdWTUBcRQGuGfaUzR', 'ZTEGGvwweeHsvyhjoRkI', 'TUWsiWBICpFZKUJqxTiU', 'XXQFEqFbVDHkVekBGvPF', 'JWQAqZxOZjLFAhVLPjAz', 'tiyYvqkWJTWCAJstBBKe', 'QUaaqEbYMlTwNtAywrbE', 'mRcSnzwGOOGjPCuIzKCs', 'EtHNbMsAxzSoKipgkCnw', 'kcwBQsjQaAwefqPHpIwB', 'cPYOdXselkakAyLUFUmt', 'NpoNBSmYHiwhxOvrfZfd', 'tPzOVcWiEUeDFzlOfKol'}, {'hHvpciULcCXXJdodnJSP', 'NGliaIwwAHTGtzVoIgVj', 'HEHMuGCQtVceafBMwyzj', 'ryheasuwtZDVYSWXoGyo', 'YMwsYpUaWbILphiqkYKF', 'PaNHXgylUCSwKEQjeNmu', 'lGcyzdOznmNnrCxJUyoR', 'fWIKEsfJkcfNDCAEigil', 'JVsZctQYKwVamScyQwYa', 'oiTsKJLaLmCxYATHCJOw', 'yZmCUDNaswTdVYZIQuKE', 'DfVFsxUKwSuhyNoWcVBk', 'herMiLAhnDcfjWMIzkaV', 'KFonChLEgpxTMQCismUm', 'gLdpEwJMLmQPhAWhYfXp', 'zfMYIUujkDxaFQDWXYMq', 'GvojgWUzdqaKXiajoAoz', 'tNxWXBzuMECwfFOCQcWp'}, {'sCXtMHNEzBODCJYCyGnE', 'YnUVCaGhPYhhseeIyTXx', 'qtJbgUjUysiRsyfcABAZ', 'vzatjIYQHgOYglgETMjk', 'cRrnLDDUwRJmNKUrHuOV', 'GfCvTHuubwaHxBeHpwID', 'RdUBRVHTXcMxuAJMLaQV', 'WMrlHjAgaEgcFStrqMov', 'iMLnaAFSwCIjuYKmDqFw', 'PaxGBRZtJleTvAslgbXD', 'ocRYDBcmhZwxmYmeNMjk', 'qYBjMxYGAioHhHfMNeSt', 'HUSczMgOsBAFMkUIWYgG', 'TuETRbddBRCXFdVNGfoh', 'osKMupcrKMxCsfhEzlPE', 'kaPuVmOtkDuutrsMtGVi', 'GZSXAUiqdFDHSjvVZMjw', 'HuPgevTcjpOUYQnfjJFg'}, {'RbgzIOdztdsylmubtdnU', 'ALzuBSdYPnZNuvMdmdfM', 'NbPzRrFNlgXKctelOBwV', 'rRTHiAeMDZPxfMyTKONd', 'pucpWjijCzOXvqpuDSAH', 'ciWkIBlAFaSAwljGzmCi', 'EtrrCFIWDqoMDmLevzAW', 'jBBEhfufkdSSSBamOAch', 'qXEwoOTBoZjIpKQpYdwU', 'vHKuNGqSrUlBfPXVbpAQ', 'rtonfkIrNIoXCIBXMLud', 'FdrmmuMALswsFSuiyzBV', 'EVEHNqQAEpMacXmuxICZ', 'NHnkSBSaZJKjboCECWzv', 'qyGYiobckHcHTLuhWtXv', 'WbPRSUGimXBVVxHjhCoX', 'KqVxiIbibSXkTxYzzCxF'}, {'BGrFuksCRAcPyPMnHMKF', 'yhkFPUenwtcbLZSRawOm', 'lqXWjeaLItLJgofGzTKZ', 'SmXOhjsGQeazYdEhvGDH', 'OVKNFZRdRkAjgIeZotUD', 'vlnCMiWbhZOrbQzKVlOG', 'ymtZudDEAWMkYBjkUMZM', 'wUWRhfhKHTNMmGmQDBeS', 'qWFAnZtViRYFxKPMcrEb', 'YcFRmPtBgMKsHVsrfiNi', 'aHgxLNUcqVZwXrVvVePA', 'sziPayfIwqPUcUVynMpM', 'HoLjhhcagSeIGBPiFaqE', 'GJQVoKaUtrXSfFEaqEfv', 'AOSGGxWEldoRSSqGtIqU', 'nzNhxexVoAwUqRICWpFh', 'ioXfFTuDGsqEabCCrjNi'}, {'khFVBYCKMNwYPHGlrKxy', 'aurfactfmfIXCITpiNMs', 'YWlMDTlCmCikZkAGgXMq', 'mAMvLfaQZwNeKAlXnZcs', 'GIWONrnrOVbXJhzcQcaa', 'vzbcbuSMUeQNhfCTIjHT', 'OJrmqwVKdPaarWqrZmrY', 'JSgsNMtqWWyzhBzwmOQG', 'tEBSCHzjMDJozCAdMMcL', 'GnlokABwjOmrIiNnrNQE', 'oYdsfbeTLjPnxqflBXse', 'ojhQRNPHVREVmjUqQuAE', 'mvLgMOooywUIcXMgfOuU', 'BoEshVnJSbhXqnawlCcB', 'evIzRLHIRJSneCVNkrkv', 'AwYKakCrhnqDSOgrtYvr', 'phEYwjWOsjpEkzcfAhyV'}, {'lTIfLmxbgJOGRsqMjvOt', 'rCmFoRVhYJwJQfQZVgLE', 'gqYfkExouUaIhkZTrhPy', 'ogQDtqPZMdlKrySXFiql', 'qKjUTHLDwPtKnbawLfsI', 'kVjtQOzYTowLSkgImCSv', 'KzcsPnrgvbqoYvkpUzAU', 'EjolUcphlVKWAyOnOptb', 'RmjrQyQBFYoqJFIGvqRJ', 'CpDdKSUnFtWVWvIuPaof', 'rsrAmTLReTrHvffWNgWX', 'JldxXleylEMEIApmnfrl', 'lUfuSMlWNSkkCtGPgJRV', 'IaSrXfsVfJwixWGsSzCE', 'EVJKXJJuvLCtHddmFoOf', 'cyKAQVlOmrlTkEoylJYk', 'JVfnjQyNLXLDgmTdnAco'}, {'GgDDFHjMIDrscvzuSsyQ', 'wdcWCOBQdCeUkwXhRuMq', 'bpYDjeJWbRwLowNMqUnY', 'YtjPYpOgvzLksEQQDiXp', 'GQlIPtOFGVgKXDTBWBpj', 'SpxUbRBkqQXSFQlpuuPN', 'vlTCYzPbkEXBHOakwqjE', 'gWBOcAkvsjxUzQMCEGUe', 'tvALGpmiGXqPIgLPahHh', 'nxnhuJjcXhrJavuOsyws', 'ZesjFtykgZKeTgEZsXZj', 'AhYWXzkdsvfigyEGZmwS', 'xHvblrjbtHFIxMUHecGA', 'QoxHjHnkGpITHOHAMiaJ', 'ofssPoyMvjkrWJpcEvRa', 'xKQmjYMjvvLZmbTClKVJ'}, {'DWHNkwigfJlAwmIUPWyJ', 'KhJnhBQRTcLnJilQgHIt', 'xrYjWJjcrtEMChBqcfIt', 'JsXaQJwcqIRUGEDqmQTk', 'WpfCBYmPolWWozgRUWhu', 'MatWvszbAbzcIbdhwvZl', 'qSVWZuxVrMJjHGXkxjvh', 'OghZGtnVfHaqJpsXvpfp', 'sppqTIIjZKSufMUmztHQ', 'vgJowgHUvLxsTNYkFkZc', 'lwlVdgegBmBtTApzxpGJ', 'aWzpxugsUNphnqixDsGV', 'FSvxYYheVULdCkPLIEzj', 'inRXpjFAkmVeqgsFrxhf', 'WoWEgSrEosxcqfdnpvma', 'AucDHqdFbQTEyvReabht'}, {'IQRainbyPDFaGgNWIJnE', 'VZZirjRqLffgBfsMEkBL', 'pdLGVwwavdzEhQjUCXdR', 'mYPAwQRllTpdFTpqDQDQ', 'NoIoZIjmIiLddbEiiklo', 'pWWccsIYTfBMFSktphPT', 'PKzeIGPptBXCiMoBPbQm', 'NFSPjcChhjsUMigpRjGn', 'TKZxDpoORjGhjzEvDEiC', 'SvFmbQubjBLbfxTcbvbF', 'ZvJFJpiYkkkDwIusNVqw', 'MynrbmIEbzlLEZfasGGm', 'HfUrIhwzfPIDLwsVoWRI', 'AzDxDwbhAaCxjgpBrtHg', 'lIDRghjzoNpTJkSZuGNV', 'xMniCOFspUMgLVrXWSdT'}, {'YxIiwrpiPXzHniKkrVaQ', 'pWLohZyOZFnFmLYvgLsu', 'dhplKadRRErfNPSuaOML', 'OsbByveoXsvZgHbQpZUW', 'pkNnlwuPCWCvszFVnPFT', 'hgqBftyeUmISKsLGPYsq', 'JqvXZTwpcTupZybtdiGd', 'uTssGNhNpurugWydvvxc', 'miSuTRymiQYURXPpDghU', 'PZXBVSliWZHBelWAxgGQ', 'SIRdmPlShLNAZTWeACTM', 'EXiVAXfPVOhmNvmujeOa', 'FlzEzlcCJoBhnUonaqBE', 'IijCueIsizgubslYptKq', 'CldOpStLpFMTTUIdkFCG', 'YkQgQTAuXZQyDKybnDoj'}, {'CLqYdVHzabrIGCLmxiBj', 'JjPeBFEHsUwjKdMKoNbN', 'JIYVOICLydqlNpYheTvH', 'VkmjCMBjpTQXtiIeZoTD', 'DseyuozHiUeDfWSBdUpd', 'nHxZtwhEQzTmtpRfgCHY', 'aEDcnvRJAQnBfFnEKxwn', 'OhIsAkNfqmxWYWMzUKeE', 'FvbQApUpAkdmwuOnoztE', 'sKILQQcuQyFDguMqKmpN', 'HPVJPbWqBAwtavViUlAy', 'mfAKbVSrQqyYmROcCZfS', 'wKjpPOyOuFGvGDvmBPao', 'PLFVuhPUziRXUbAIBBfP', 'TriHxGNKSZgbNTZQXDng', 'DROlQFWfgccViruEwgeO'}, {'WaLAdRBqGsfRiAxUHttv', 'QCCUaYRhZJFLObCYclkn', 'eYpupdDOoegOZSdCpwQK', 'HenUXprOBpbkVdyzkFAv', 'bwFrGTSjZjayWbmZUEro', 'wbXHmWtBaITEPDTJGRpt', 'pNGmTBCrjFcufxfopIoN', 'WgiUNdWiFkSAajXGaMpR', 'aDzLYvOoSsIRDyubqyAO', 'UbarSZqtXVpHVcnhqKnk', 'dDirpwCevrFHdVKWoZPF', 'pmFyHNrbbcpbwtGLeiRL', 'FjoKeOUDDpLOhZcAuryj', 'xIZhBwIYPbIeaArHaGDU', 'PdMkQiHCEwoIxpnsZQfo'}, {'zdOCilheClNmtegawgxa', 'jvrgTmhWnglSrcQuotSF', 'usvAVqTxplvUmSOHaRnB', 'pvRiLkkBJlBJZcLjwBiU', 'gTLzgiaHtyzgEqSasFhe', 'NQbGWdTwSNtGAlwdMIMa', 'hnYPvKELaQBqNQetDEpD', 'eLFZUkBenVUmqKhmwTCv', 'hnHtvWKYStVPaDoLDDtr', 'iIgMTzaCadbxtCNKNSci', 'zEJkhJUIwCnSmceEsPAv', 'fiPWfFKpoJWlnTHuZzBT', 'MGCnxRJNObxeEOUHDmnr', 'PqTDPmOmyMDhaRUVFDtc', 'RwDoKyRjhjjcPEsIbpWj'}, {'dSHgYIxzcVxDlxwgvZTN', 'ewSizmpKjXedTVhWUNDc', 'kclfToNjfHMuODXjMyWW', 'GisDuedUiWNrzNDhKWWj', 'yHhuGWLEiTEJIbrggPVW', 'SpeLvJPsNEFdjKFwmnqr', 'bsqIGkQvlPzpDwcefNVa', 'ozWkZihKUrEyMqgdARvP', 'RIkxLphVNnGwDCGMfnop', 'cMrHzKduzLBkKKAZEXkf', 'ZOYpTskELZaqAYOonJcT', 'qOvcKBaFFulaBtTEtNZI', 'tNjEOGBQAByOrxywIVTB', 'ZINWuVcSIXXexXwmTXyu', 'aoNVQSdQIXYsWGZUxISs'}, {'LIGCpxsbVapzMomLCEWY', 'MTtqmojRZmJGZBhVikZl', 'XaBDAbyZhUrfZFFOaiJx', 'pWjqVoLgTEDawtHxZoLF', 'CavvqRzJmTyhhRUwpcbQ', 'bvJvVnQKWMLPELxSSTZw', 'zYwJcDPDNjHnSdAdZkxX', 'HPChQJCtEyIphSKYyXHH', 'JhMRjdViffIeNoxImAXV', 'gMzXYoOPQrKQXXNabJFz', 'fYWOMLYiDpDCaGiyvstr', 'RmCLRFSeSnjLokbpXtDV', 'EWqlmxAcWGNWqLlIguLF', 'EhQXUqDgWLpTjHRyhQsV', 'wufwhjJyIyTYWRiPJteL'}, {'AzIOUrHSmEYbOIQfcTmV', 'WwKDjhZvqjpVAzkAZDKI', 'dORJAgRyCsDsCuzDcjTb', 'RzbsDIbxelRRxrdIZniI', 'ymrVwCCZOqdbdmpiESOS', 'azSMMlLfKNUGereJuLdC', 'wFRbHumWtVtmDsxmsZwU', 'wHTbZXILruUNuHjTVSFf', 'FejukEOpDSlxMDMARGXE', 'cdkvVmufeuQfHWwXdxVE', 'dJQvNSDSVNkrPFYNTPKm', 'vZsfROtMvLNAlwVbYzHm', 'KVwvbaQIvmMGhRCKyPoH'}, {'VHsCjOizTGTHNArxIOuN', 'LdQUcUfxJOtOFKjcQntL', 'vfzdgxzglEoMhocEbVyI', 'DnlRgVoRDOskLHVmDzSb', 'WJOZLUUQaxHzEGQtjSbL', 'CDChjnsHcBXcQyUEElwA', 'WKffuyGaOFnfQWSMOiMV', 'eKCNuWewEsojRcMqJJKA', 'LSBBwSBzUAGYsOQThjxh', 'CcOGetolJXZPtJSbDdLb', 'cGnpeUxxPqJOlFUJRwEz', 'FszsyvXBvbYDSYZVZHnQ', 'uyzwwpMLZfeeGtRNNWLp'}, {'PdnErCTfiLFRfyVBEexT', 'ngCsyGcEMhMkQQwuQTjU', 'dnkiHPAIVyuxoRuZkcey', 'wFVnDPBnPGtnUVZVIjhO', 'KGahZIvZDvPsZIfyxqiB', 'VDMPizGUyuvsJqwWsrAF', 'VYIuyiVejzPHYtcXJyZE', 'BnyNOKCbKmwRJWVcxLQM', 'sGFeiOyZORsienyITzTe', 'dedYwqgZOjUnnshOjVoP', 'mrmNMvieiOIebfGxdolG', 'xReMCVfnDZdGCitklrvJ'}, {'rpKEWfTyzMJaMAUgvXbJ', 'cMfgQzFUUAwaynAqPtdG', 'yOJkHvyoHIaHtZqEYizr', 'UxJlEZqarHoCrjDGJuDz', 'hwpckCLKdqGgtpopjyVz', 'aluzAIvHIQrhWAWddBIn', 'KhEZbUcyInkmLeevjFsa', 'EKSZAxBVlROWNoRpEtto', 'cluqAATHgyrcfGJliBJt', 'EGFghnsyVkaqKFFBFLhk', 'rMIDarXnmuxJyFoPHISn'}, {'OzmXPjOmgPddfKLBFCsZ', 'PWwlemZiNizJVPuOLDwk', 'WPBsaftdVofHoKdKhYvx', 'hblULaFUZvGCMrNeKGNP', 'iuLGQFWoLHeAfxoXlnob', 'UuZMmBAVJUXRdtBjOYDJ', 'cvwDqZyWCZDCRlJnagtc', 'kLLpZEMkEiVzGAwpxSWf', 'zRIdhScZluTSuTnLrYpS', 'RRWLKxAOcCCsSVYsJTnc', 'xhZCVoYwfefXZiwcnpkv'}, {'aVIovwYroqMFXbihpcaI', 'kJKOEysDkRqJSImMxJGn', 'czcFIipPniGYfdldiZhT', 'mLysfunEzjXbHjQPYmrG', 'hqlivoLSPwdIDDzjjPuc', 'HxKcMDaYesWYBPwpDhGs', 'XlencnDnVYfCOkjvPjrB', 'WPAPHEYhvdWPWvgvoxBq', 'suTOQDLhOwgDtxhEfJAd', 'hdDFhBGLFLUhJFAxNLdG', 'qCXOrqLvUmlHQwRSPESU'}, {'nFDCKAMHpeaNvkUurcIY', 'KSRDwdAdCIxGzqzoyrZE', 'xMbdqHJAqfATLzoALcZK', 'lXDQLPXCuBKYfvfldDfN', 'tsPFRYpPopXGzMeYAiGb', 'HmKaEmqYauMruqANttlq', 'OwuSdGgiPkXhgklVwCbi', 'wESMxmWArtyBrCPdTTlC', 'FqRjHVcAcxCQprXKRdjN', 'zEkdGWPxkyNxYSqYQtaY', 'dPaYsWeOwYgUrjsKsSfM'}, {'PhoiXMjrPmNiYZTbVDvH', 'mmggBStPHfAwDMoDxTLk', 'skbwAuLmdigmwtriuGZq', 'rPsvvsfosxZLfljKUZen', 'kdiqDasBzWtonidIktsh', 'vPYIRBZCOQmtAWmSmKzc', 'GvabJHPPBqzeJRQINmUx', 'fUVrNssWTBkSTJzaKBXN', 'dEMPKAqFbhRzzvprMzwM', 'FLNMEeYmZHvtzpJcCoyB', 'bDeHvLISZQRhEuzISjQk'}, {'upbhhhrPXhYIdKmnKXPd', 'vjbqoCFMVyAxIKueeGHW', 'KxpUZEKjNPyTKsnqGjIT', 'WfwzChpQnqDSBjjpbWxh', 'iwFVuBGvGkhXExFiyksU', 'IPthTrRKVTbGsroBEdrZ', 'iCldesEZSGzVolywJbIN', 'CElBUDSnXEMWgDfTbBtz', 'KbNBdhPsnKOfMrTLSHuW'}, {'HyKxdxhrydqYikUvRpVO', 'oYaVxJKunQfVcNyiaFuQ', 'opHoGwtACPahpOYRBlGS', 'rcHCcNAitqLXkawwJFWE', 'iYHzzDKhFUpZdLscUhwE', 'JUzFvmruWENdwbBejijv', 'UvlUQyjleGOveGOVwjCj', 'rCiViiJxZimEruMjWGmD'}, {'ydimBegtbELklwWvzVPV', 'SJjkbhgXKWVBIWEWCBlO', 'nNJElvsCvSnfmpfIAPEp', 'bxFdKCsTXqqxaHbJiPok', 'JyrxSGOkIiIYaiCsWrew', 'sFnGDGGbCZXPjXnAzWIT', 'GezvmBEDZKJYhOXKXTDh'}, {'iRjwKmGcaDrSXQMFUvsK', 'VwGsAeuraggyMFfFipfH', 'odyFklizRNuPyujsGmVY', 'qyvOAdrciPJroHNhCfKq', 'hZpQMzrvSFooRbMKGOTE', 'VTbMYbOKldUMssTCfEAW', 'mOOefkjkARaVJtHwEolZ'}, {'zTAbopWRXKLXAOdAHAwM', 'IVsxypkrzgsSWRlDnAzB', 'mjRGyqvtvgRbJOnRjHUI', 'kZSSkRTwBNOQnaTsHMKa', 'AueuIPxvJZBbuyICYSve'}, {'tgmTSptNItVHZHCluJNL', 'rmOONjKDNOkspDwLWpIG', 'lUPiiIQYHjcxNthdJyeC', 'bksMwHrmjCqeuRdQJoKr'}, {'SeYOvvGMPpLdkMrXhzHP', 'JyzlKONGBqkpsaDkmfhT', 'wmEjBMrrXpPpqIbYTWZt', 'eRQLhACyNVwFoBNywmOr'}, {'xntEenjIXdoaCeOZVbSB', 'ZZhVGDugMofUdUstFTTn', 'rPUoFTTWtlmXvjQnGRpS', 'MAUeaouPrawwoiaQrmpD'}, {'WiFGPJYrpKwqtQYLkYfp', 'dssqMNmkdLCWGkcUWXJG', 'QlCZPpPTEHgPmTRLznEo', 'heIepyHfrmjWhcpZZJdP'}, {'QMKMWGQBvhUywLQwrBiU', 'oDAAMTZvnhxlcilePvOM', 'nOeBCLqZTjVcPdyvkQiR', 'AbJxtrXevrHfGkuqPqSf'}, {'HCyMfqnhyrQsqKpKolHe', 'EAmAvNDJiEvukyCUXeub', 'SlUJpVKTXLecZSSzTqeu'}, {'aQIefGckaJEUxQHwFHKC', 'ZsllnAXmdYPQuibyWpyW', 'dYgNZZsQRqQudzNDEdVv'}, {'sLnGCKiKkILfLQnjbHzQ', 'WImLMVEpqrBFLsRukbIP', 'pAzTmtympLHlzoESLhuG'}, {'lurYotewuqEFXGYeHpJe', 'MwgIUUeCuPZdWhnHeiZK'}, {'JkImOzSuboauUOssNJuv', 'xMQzQpPCFFCiiTEetbeU'}, {'tMciBEqCGdjnGYuWNlsd', 'qFujFsYCjIfQHqXwyCmq'}, {'YQtLmOXCwKzDbmFVyqqF', 'lnJqISetXpZkSsMHLvVE'}]\n"
          ],
          "name": "stdout"
        }
      ]
    },
    {
      "cell_type": "markdown",
      "metadata": {
        "id": "N2HXrBC_S3S_"
      },
      "source": [
        "# Measurement"
      ]
    },
    {
      "cell_type": "code",
      "metadata": {
        "colab": {
          "base_uri": "https://localhost:8080/"
        },
        "id": "cxZZ1sk1YqhK",
        "outputId": "54798ca5-4a3f-4086-bdee-db1c2a67d6f4"
      },
      "source": [
        "\"\"\"\n",
        "Precision: How much percentage of the grouped ids are really from one group\n",
        "\"\"\"\n",
        "\n",
        "DEBUG = True\n",
        "walker_ids = list(set(df_walks_connected['walker_id'].tolist()))\n",
        "real_ids = list(set(df_walks_connected['real_id'].tolist()))\n",
        "\n",
        "matrix = [[0] * len(real_ids) for _ in range(len(walker_ids))]\n",
        "\n",
        "if DEBUG: print(len(walker_ids))\n",
        "    \n",
        "for i, walker_id in enumerate(walker_ids):\n",
        "    id_list = df_walks_connected.loc[df_walks_connected['walker_id'] == walker_id]['real_id'].tolist()\n",
        "    dic = collections.Counter(id_list)\n",
        "    \n",
        "    for j, real_id in enumerate(real_ids):\n",
        "      matrix[i][j] = -dic[real_id] if real_id in dic else 0\n",
        "    \n",
        "matrix = np.array(matrix)\n",
        "row_ind, col_ind = linear_sum_assignment(matrix) \n",
        "print(len(walker_ids), len(real_ids), len(row_ind), len(col_ind))  \n",
        "\n",
        "correct = -matrix[row_ind, col_ind].sum()\n",
        "total = df_walks_connected.shape[0]\n",
        "\n",
        "walker_acc = 0\n",
        "for i, r in enumerate(row_ind):\n",
        "  walker_acc += matrix[r][col_ind[i]] / sum(matrix[r])\n",
        "\n",
        "real_acc = 0\n",
        "accept_num = 0\n",
        "for i, c in enumerate(col_ind):\n",
        "  rate = matrix[row_ind[i]][c] / sum([matrix[j][c] for j in range(len(walker_ids))])\n",
        "  real_acc += rate\n",
        "  accept_num += 1 if rate > 0.6 else 0\n",
        "# print(f'correct/tried: {correct}/{tried} {correct/tried*100}%') \n",
        "print(f'correct/total: {correct}/{total} {correct/total*100}%')\n",
        "print(f'accuracy: {walker_acc/len(walker_ids)*100}')\n",
        "print(f'precision: {real_acc/len(real_ids)*100}')\n",
        "print(f'accept rate: {accept_num/len(real_ids)*100}')"
      ],
      "execution_count": null,
      "outputs": [
        {
          "output_type": "stream",
          "text": [
            "145\n",
            "145 100 100 100\n",
            "correct/total: 14792/19727 74.98352511785878%\n",
            "accuracy: 53.01609236752425\n",
            "precision: 75.0235090807734\n",
            "accept rate: 76.0\n"
          ],
          "name": "stdout"
        }
      ]
    },
    {
      "cell_type": "code",
      "metadata": {
        "colab": {
          "base_uri": "https://localhost:8080/",
          "height": 688
        },
        "id": "amLccBMwiBIq",
        "outputId": "1ca7ff98-3e3c-46df-9249-05690afbba98"
      },
      "source": [
        "import seaborn as sns; sns.set_theme()\n",
        "sns.set(rc={'figure.figsize':(11.7,11.7)})\n",
        "\n",
        "assign_matrix = matrix\n",
        "for i, j in zip(row_ind, col_ind):\n",
        "  assign_matrix[i][j] = -matrix[i][j]\n",
        "    \n",
        "ax = sns.heatmap(assign_matrix)"
      ],
      "execution_count": null,
      "outputs": [
        {
          "output_type": "display_data",
          "data": {
            "image/png": "[encoded data removed]",
            "text/plain": [
              "<Figure size 842.4x842.4 with 2 Axes>"
            ]
          },
          "metadata": {
            "tags": []
          }
        }
      ]
    },
    {
      "cell_type": "markdown",
      "metadata": {
        "id": "12Mx-QTv5RHM"
      },
      "source": [
        "e600_bi_regre.pkl  \n",
        "Method2   \n",
        "209 100 100 100  \n",
        "correct/total: 23047/30188 76.34490526036835%  \n",
        "accuracy: 38.491943604250295  \n",
        "precision: 74.72309661447825  \n",
        "accept rate: 72.0  \n",
        "Method1  \n",
        "213 100 100 100  \n",
        "correct/total: 22902/30188 75.86458195309395%  \n",
        "accuracy: 37.87986569569403  \n",
        "precision: 73.81822461125425  \n",
        "accept rate: 70.0  \n",
        "\n",
        "e700_regre  \n",
        "Method2  \n",
        "209 100 100 100  \n",
        "correct/total: 23048/30188 76.34821783490129%  \n",
        "accuracy: 38.8330983798389  \n",
        "precision: 75.03086731473734  \n",
        "accept rate: 71.0  \n",
        "Method1  \n",
        "213 100 100 100  \n",
        "correct/total: 22568/30188 74.75818205909633%  \n",
        "accuracy: 37.734853537063614  \n",
        "precision: 73.18178885235189  \n",
        "accept rate: 68.0  "
      ]
    },
    {
      "cell_type": "markdown",
      "metadata": {
        "id": "gZ1JkcTDC-L_"
      },
      "source": [
        "e400_bi_regre_2.pkl\n",
        "Method2    \n",
        "145 100 100 100  \n",
        "correct/total: 15173/19727 76.91488822426116%  \n",
        "accuracy: 54.137741910621514  \n",
        "precision: 76.75477183848903  \n",
        "accept rate: 78.0 \n",
        "\n",
        "e950_regre_2.pkl  \n",
        "Method2  \n",
        "145 100 100 100  \n",
        "correct/total: 14775/19727 74.89734881127389%  \n",
        "accuracy: 53.63339798744716  \n",
        "precision: 74.81218519998812  \n",
        "accept rate: 75.0  "
      ]
    },
    {
      "cell_type": "code",
      "metadata": {
        "id": "TwR4OjSCMkNq",
        "colab": {
          "base_uri": "https://localhost:8080/"
        },
        "outputId": "ded67249-d234-453b-bc7f-b32355bcb27f"
      },
      "source": [
        "\"\"\"\n",
        "Precision: How much percentage of the grouped ids are really from one group\n",
        "\"\"\"\n",
        "\n",
        "DEBUG = True\n",
        "walker_ids = set(df_walks_connected['walker_id'].tolist())\n",
        "correct, total = 0, 0\n",
        "if DEBUG: print(len(walker_ids))\n",
        "    \n",
        "for walker_id in walker_ids:\n",
        "    id_list = df_walks_connected.loc[df_walks_connected['walker_id'] == walker_id].sort_values('walk_time')['real_id'].tolist()\n",
        "    dic = collections.Counter(id_list)\n",
        "    \n",
        "    l = max(dic.values())\n",
        "    key = [k for k,v in dic.items() if v == l]\n",
        "    \n",
        "    correct += l\n",
        "    total += sum(dic.values())\n",
        "\n",
        "# print(f'correct/tried: {correct}/{tried} {correct/tried*100}%') \n",
        "print(f'correct/total: {correct}/{total} {correct/total*100}%')"
      ],
      "execution_count": null,
      "outputs": [
        {
          "output_type": "stream",
          "text": [
            "145\n",
            "correct/total: 15741/19727 79.79419070309729%\n"
          ],
          "name": "stdout"
        }
      ]
    },
    {
      "cell_type": "code",
      "metadata": {
        "id": "p_Cixd1fMkNr",
        "colab": {
          "base_uri": "https://localhost:8080/"
        },
        "outputId": "8b945993-5c7d-4c92-c092-0a05dfb9e58c"
      },
      "source": [
        "\"\"\"\n",
        "Accuracy: How much percentage of one group is correctly grouped together (only consider the largest sub-group of grouped ids)\n",
        "\"\"\"\n",
        "\n",
        "DEBUG = False\n",
        "real_ids = set(df_walks_connected['real_id'].tolist())\n",
        "correct, total = 0, 0\n",
        "for real_id in real_ids:\n",
        "    id_list = df_walks_connected.loc[df_walks_connected['real_id'] == real_id].sort_values('walk_time')['walker_id'].tolist()\n",
        "    dic = collections.Counter(id_list)\n",
        "    if DEBUG: print(id_list)\n",
        "    \n",
        "    l = max(dic.values())\n",
        "    key = [k for k,v in dic.items() if v == l]\n",
        "    \n",
        "    correct += l\n",
        "    total += sum([v for v in dic.values()])\n",
        "#     df_walks_connected = df_walks_connected.replace({'walker_id': {key[0]: real_id}})\n",
        "# print(f'base: {total - (150 / 10 - 1) * 10}/{total} {(total - (150 / 10 - 1) * 10)/total*100}')\n",
        "# print(f'correct/tried: {correct}/{tried} {correct/tried*100}%') \n",
        "print(f'correct/total: {correct}/{total} {correct/total*100}%')"
      ],
      "execution_count": null,
      "outputs": [
        {
          "output_type": "stream",
          "text": [
            "correct/total: 17019/19727 86.27262128047853%\n"
          ],
          "name": "stdout"
        }
      ]
    },
    {
      "cell_type": "code",
      "metadata": {
        "colab": {
          "base_uri": "https://localhost:8080/"
        },
        "id": "OWieMhqRY96J",
        "outputId": "ca39db23-d8dd-40ef-fe5e-4325d058a168"
      },
      "source": [
        "DEBUG = False\n",
        "real_ids = set(df_walks_connected['real_id'].tolist())\n",
        "correct, total = 0, 0\n",
        "visited = set()\n",
        "for real_id in real_ids:\n",
        "    id_list = df_walks_connected.loc[df_walks_connected['real_id'] == real_id].sort_values('walk_time')['walker_id'].tolist()\n",
        "    dic = collections.Counter(id_list)\n",
        "    if DEBUG: print(id_list)\n",
        "    \n",
        "    l = max(dic.values())\n",
        "    p = [v for k,v in dic.items() if v == l][0] / sum(dic.values())\n",
        "    if p > 0.6:\n",
        "      correct += 1\n",
        "    \n",
        "#     df_walks_connected = df_walks_connected.replace({'walker_id': {key[0]: real_id}})\n",
        "# print(f'base: {total - (150 / 10 - 1) * 10}/{total} {(total - (150 / 10 - 1) * 10)/total*100}')\n",
        "# print(f'correct/tried: {correct}/{tried} {correct/tried*100}%') \n",
        "print(f'correct/total: {correct}/{len(real_ids)} {correct/len(real_ids)*100}%')"
      ],
      "execution_count": null,
      "outputs": [
        {
          "output_type": "stream",
          "text": [
            "correct/total: 88/100 88.0%\n"
          ],
          "name": "stdout"
        }
      ]
    },
    {
      "cell_type": "code",
      "metadata": {
        "id": "xXx8r3EKMkNr"
      },
      "source": [
        "cnx.execute('DROP TABLE IF EXISTS walks_attached')\n",
        "df_walks_connected.to_sql('walks_attached', con=cnx)"
      ],
      "execution_count": null,
      "outputs": []
    },
    {
      "cell_type": "markdown",
      "metadata": {
        "id": "tEc1KRLnMkNr"
      },
      "source": [
        "# Compute Other Info"
      ]
    },
    {
      "cell_type": "code",
      "metadata": {
        "id": "fuqw6NTGMkNr"
      },
      "source": [
        "id = '1tmp'\n",
        "path = df_walks_connected.loc[df_walks_connected['walker_id'] == id].sort_values('walk_time')"
      ],
      "execution_count": null,
      "outputs": []
    },
    {
      "cell_type": "code",
      "metadata": {
        "id": "ozDE2RUmMkNr"
      },
      "source": [
        "for (indx1,row1),(indx2,row2) in zip(path[:-1].iterrows(),path[1:].iterrows()):\n",
        "    jsondict1, jsondict2 = json.loads(row1['json']), json.loads(row2['json'])\n",
        "    agent_id1, agent_id2 = pos_to_id[(jsondict1['position']['x'], jsondict1['position']['y'])], \n",
        "    pos_to_id[(jsondict2['position']['x'], jsondict2['position']['y'])]\n",
        "    "
      ],
      "execution_count": null,
      "outputs": []
    },
    {
      "cell_type": "code",
      "metadata": {
        "id": "UTN_v-OoMkNs"
      },
      "source": [
        ""
      ],
      "execution_count": null,
      "outputs": []
    }
  ]
}